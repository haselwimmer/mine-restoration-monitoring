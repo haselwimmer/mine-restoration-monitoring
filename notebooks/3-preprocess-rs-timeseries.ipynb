{
 "cells": [
  {
   "cell_type": "markdown",
   "id": "described-combine",
   "metadata": {},
   "source": [
    "# 3 - Pre-process remote sensing time series\n",
    "This notebook applies reinterpolation and smoothing to time series"
   ]
  },
  {
   "cell_type": "markdown",
   "id": "speaking-cooper",
   "metadata": {},
   "source": [
    "## Setup"
   ]
  },
  {
   "cell_type": "code",
   "execution_count": 22,
   "id": "victorian-representative",
   "metadata": {},
   "outputs": [],
   "source": [
    "# Import libraries\n",
    "import os\n",
    "import datetime\n",
    "\n",
    "import pandas as pd\n",
    "import numpy as np\n",
    "import matplotlib.pyplot as plt"
   ]
  },
  {
   "cell_type": "code",
   "execution_count": 23,
   "id": "found-alliance",
   "metadata": {},
   "outputs": [],
   "source": [
    "# Set working directory\n",
    "os.chdir(os.path.join('E:/',\n",
    "                      'McKinley'))"
   ]
  },
  {
   "cell_type": "markdown",
   "id": "oriented-posting",
   "metadata": {},
   "source": [
    "## Restore RS time series data"
   ]
  },
  {
   "cell_type": "code",
   "execution_count": 24,
   "id": "precise-consensus",
   "metadata": {},
   "outputs": [
    {
     "data": {
      "text/html": [
       "<div>\n",
       "<style scoped>\n",
       "    .dataframe tbody tr th:only-of-type {\n",
       "        vertical-align: middle;\n",
       "    }\n",
       "\n",
       "    .dataframe tbody tr th {\n",
       "        vertical-align: top;\n",
       "    }\n",
       "\n",
       "    .dataframe thead th {\n",
       "        text-align: right;\n",
       "    }\n",
       "</style>\n",
       "<table border=\"1\" class=\"dataframe\">\n",
       "  <thead>\n",
       "    <tr style=\"text-align: right;\">\n",
       "      <th></th>\n",
       "      <th>SuId</th>\n",
       "      <th>MeanNdvi</th>\n",
       "    </tr>\n",
       "    <tr>\n",
       "      <th>date</th>\n",
       "      <th></th>\n",
       "      <th></th>\n",
       "    </tr>\n",
       "  </thead>\n",
       "  <tbody>\n",
       "    <tr>\n",
       "      <th>2013-05-03</th>\n",
       "      <td>172</td>\n",
       "      <td>0.062723</td>\n",
       "    </tr>\n",
       "    <tr>\n",
       "      <th>2013-05-03</th>\n",
       "      <td>2599</td>\n",
       "      <td>0.151249</td>\n",
       "    </tr>\n",
       "    <tr>\n",
       "      <th>2013-05-03</th>\n",
       "      <td>2600</td>\n",
       "      <td>0.190379</td>\n",
       "    </tr>\n",
       "    <tr>\n",
       "      <th>2013-05-03</th>\n",
       "      <td>2601</td>\n",
       "      <td>0.169873</td>\n",
       "    </tr>\n",
       "    <tr>\n",
       "      <th>2013-05-03</th>\n",
       "      <td>816</td>\n",
       "      <td>0.135345</td>\n",
       "    </tr>\n",
       "    <tr>\n",
       "      <th>...</th>\n",
       "      <td>...</td>\n",
       "      <td>...</td>\n",
       "    </tr>\n",
       "    <tr>\n",
       "      <th>2021-05-25</th>\n",
       "      <td>2621</td>\n",
       "      <td>0.144343</td>\n",
       "    </tr>\n",
       "    <tr>\n",
       "      <th>2021-05-25</th>\n",
       "      <td>1558</td>\n",
       "      <td>0.154674</td>\n",
       "    </tr>\n",
       "    <tr>\n",
       "      <th>2021-05-25</th>\n",
       "      <td>2648</td>\n",
       "      <td>0.142814</td>\n",
       "    </tr>\n",
       "    <tr>\n",
       "      <th>2021-05-25</th>\n",
       "      <td>2622</td>\n",
       "      <td>0.141052</td>\n",
       "    </tr>\n",
       "    <tr>\n",
       "      <th>2021-05-25</th>\n",
       "      <td>2650</td>\n",
       "      <td>0.153262</td>\n",
       "    </tr>\n",
       "  </tbody>\n",
       "</table>\n",
       "<p>2821 rows × 2 columns</p>\n",
       "</div>"
      ],
      "text/plain": [
       "            SuId  MeanNdvi\n",
       "date                      \n",
       "2013-05-03   172  0.062723\n",
       "2013-05-03  2599  0.151249\n",
       "2013-05-03  2600  0.190379\n",
       "2013-05-03  2601  0.169873\n",
       "2013-05-03   816  0.135345\n",
       "...          ...       ...\n",
       "2021-05-25  2621  0.144343\n",
       "2021-05-25  1558  0.154674\n",
       "2021-05-25  2648  0.142814\n",
       "2021-05-25  2622  0.141052\n",
       "2021-05-25  2650  0.153262\n",
       "\n",
       "[2821 rows x 2 columns]"
      ]
     },
     "execution_count": 24,
     "metadata": {},
     "output_type": "execute_result"
    }
   ],
   "source": [
    "# Open the saved DF\n",
    "%store -r landsat_8_time_series\n",
    "\n",
    "# Convert index to date-time\n",
    "landsat_8_time_series.index = pd.to_datetime(landsat_8_time_series.index)\n",
    "\n",
    "# Select a single SU for testing purposes\n",
    "#seeding_unit = 816\n",
    "#landsat_8_time_series_subset = landsat_8_time_series[landsat_8_time_series['SuId']==seeding_unit]\n",
    "\n",
    "# Sort the DF by date\n",
    "landsat_8_time_series.sort_index(inplace=True)\n",
    "landsat_8_time_series"
   ]
  },
  {
   "cell_type": "markdown",
   "id": "strong-feature",
   "metadata": {},
   "source": [
    "## Resample data to consistent temporal sampling"
   ]
  },
  {
   "cell_type": "code",
   "execution_count": 28,
   "id": "italic-contamination",
   "metadata": {},
   "outputs": [
    {
     "data": {
      "text/html": [
       "<div>\n",
       "<style scoped>\n",
       "    .dataframe tbody tr th:only-of-type {\n",
       "        vertical-align: middle;\n",
       "    }\n",
       "\n",
       "    .dataframe tbody tr th {\n",
       "        vertical-align: top;\n",
       "    }\n",
       "\n",
       "    .dataframe thead th {\n",
       "        text-align: right;\n",
       "    }\n",
       "</style>\n",
       "<table border=\"1\" class=\"dataframe\">\n",
       "  <thead>\n",
       "    <tr style=\"text-align: right;\">\n",
       "      <th></th>\n",
       "      <th></th>\n",
       "      <th>MeanNdvi</th>\n",
       "    </tr>\n",
       "    <tr>\n",
       "      <th>SuId</th>\n",
       "      <th>date</th>\n",
       "      <th></th>\n",
       "    </tr>\n",
       "  </thead>\n",
       "  <tbody>\n",
       "    <tr>\n",
       "      <th rowspan=\"5\" valign=\"top\">172</th>\n",
       "      <th>2013-05-31</th>\n",
       "      <td>0.062723</td>\n",
       "    </tr>\n",
       "    <tr>\n",
       "      <th>2013-06-30</th>\n",
       "      <td>0.084139</td>\n",
       "    </tr>\n",
       "    <tr>\n",
       "      <th>2013-07-31</th>\n",
       "      <td>0.172309</td>\n",
       "    </tr>\n",
       "    <tr>\n",
       "      <th>2013-08-31</th>\n",
       "      <td>0.169243</td>\n",
       "    </tr>\n",
       "    <tr>\n",
       "      <th>2013-09-30</th>\n",
       "      <td>0.166178</td>\n",
       "    </tr>\n",
       "    <tr>\n",
       "      <th>...</th>\n",
       "      <th>...</th>\n",
       "      <td>...</td>\n",
       "    </tr>\n",
       "    <tr>\n",
       "      <th rowspan=\"5\" valign=\"top\">2650</th>\n",
       "      <th>2021-01-31</th>\n",
       "      <td>0.143415</td>\n",
       "    </tr>\n",
       "    <tr>\n",
       "      <th>2021-02-28</th>\n",
       "      <td>0.138436</td>\n",
       "    </tr>\n",
       "    <tr>\n",
       "      <th>2021-03-31</th>\n",
       "      <td>0.133458</td>\n",
       "    </tr>\n",
       "    <tr>\n",
       "      <th>2021-04-30</th>\n",
       "      <td>0.128479</td>\n",
       "    </tr>\n",
       "    <tr>\n",
       "      <th>2021-05-31</th>\n",
       "      <td>0.153262</td>\n",
       "    </tr>\n",
       "  </tbody>\n",
       "</table>\n",
       "<p>4074 rows × 1 columns</p>\n",
       "</div>"
      ],
      "text/plain": [
       "                 MeanNdvi\n",
       "SuId date                \n",
       "172  2013-05-31  0.062723\n",
       "     2013-06-30  0.084139\n",
       "     2013-07-31  0.172309\n",
       "     2013-08-31  0.169243\n",
       "     2013-09-30  0.166178\n",
       "...                   ...\n",
       "2650 2021-01-31  0.143415\n",
       "     2021-02-28  0.138436\n",
       "     2021-03-31  0.133458\n",
       "     2021-04-30  0.128479\n",
       "     2021-05-31  0.153262\n",
       "\n",
       "[4074 rows x 1 columns]"
      ]
     },
     "execution_count": 28,
     "metadata": {},
     "output_type": "execute_result"
    }
   ],
   "source": [
    "# Resample the data\n",
    "landsat_8_time_series_interpol = landsat_8_time_series.groupby('SuId').resample('M').mean()\n",
    "\n",
    "# Interpolate the missing values\n",
    "landsat_8_time_series_interpol['MeanNdvi'] = landsat_8_time_series_interpol['MeanNdvi'].interpolate()\n",
    "\n",
    "# Drop the SuId column\n",
    "landsat_8_time_series_interpol.drop(columns=['SuId'], inplace=True)\n",
    "landsat_8_time_series_interpol"
   ]
  },
  {
   "cell_type": "markdown",
   "id": "packed-installation",
   "metadata": {},
   "source": [
    "## Smooth the data with moving windows"
   ]
  },
  {
   "cell_type": "code",
   "execution_count": 26,
   "id": "chinese-cincinnati",
   "metadata": {},
   "outputs": [],
   "source": [
    "# Moving window over 2 years\n",
    "landsat_8_time_series_rlmean = landsat_8_time_series_interpol.rolling(24, min_periods=1).mean()"
   ]
  },
  {
   "cell_type": "markdown",
   "id": "faced-eight",
   "metadata": {},
   "source": [
    "## Save the DF for use in subsequent notebooks"
   ]
  },
  {
   "cell_type": "code",
   "execution_count": 27,
   "id": "exciting-cooler",
   "metadata": {},
   "outputs": [
    {
     "name": "stdout",
     "output_type": "stream",
     "text": [
      "Stored 'landsat_8_time_series_rlmean' (DataFrame)\n",
      "Stored 'landsat_8_time_series_interpol' (DataFrame)\n"
     ]
    }
   ],
   "source": [
    "%store landsat_8_time_series_rlmean\n",
    "%store landsat_8_time_series_interpol"
   ]
  },
  {
   "cell_type": "markdown",
   "id": "protected-kingdom",
   "metadata": {},
   "source": [
    "## Plot an example"
   ]
  },
  {
   "cell_type": "code",
   "execution_count": 20,
   "id": "ordinary-regard",
   "metadata": {
    "scrolled": false
   },
   "outputs": [
    {
     "data": {
      "image/png": "[encoded data removed]",
      "text/plain": [
       "<Figure size 1080x720 with 1 Axes>"
      ]
     },
     "metadata": {
      "needs_background": "light"
     },
     "output_type": "display_data"
    }
   ],
   "source": [
    "# Plot original and smoothed curves for one SuId on a single plot\n",
    "fig, ax = plt.subplots(figsize=(15, 10))\n",
    "\n",
    "suid = 2614\n",
    "\n",
    "# Build list of unique seeding units for legend\n",
    "seeding_units = [2614, 2614]\n",
    "\n",
    "# Plot the original curve\n",
    "landsat_8_time_series = landsat_8_time_series[(landsat_8_time_series['SuId'] == suid)]\n",
    "\n",
    "landsat_8_time_series.reset_index().groupby(\n",
    "    'SuId').plot(x='date', y='MeanNdvi', ax=ax)\n",
    "\n",
    "# Plot the 2 year smoothed curve\n",
    "landsat_8_time_series_rlmean = landsat_8_time_series_rlmean.reset_index()\n",
    "landsat_8_time_series_rlmean = landsat_8_time_series_rlmean.set_index('date')\n",
    "landsat_8_time_series_rlmean = landsat_8_time_series_rlmean[(landsat_8_time_series_rlmean['SuId'] == suid)]\n",
    "\n",
    "landsat_8_time_series_rlmean.groupby(\n",
    "    'SuId').plot(y='MeanNdvi', ax=ax, use_index=True)\n",
    "\n",
    "plt.xlabel(\"Date\", fontsize=20)\n",
    "plt.ylabel(\"NDVI\", fontsize=20)\n",
    "plt.xlim([datetime.date(2013,1,1), datetime.date(2021,6,29)])\n",
    "\n",
    "ax.set_title(\n",
    "    \"Landsat 8 NDVI time series\", fontsize=20)\n",
    "\n",
    "plt.setp(ax.get_xticklabels(), rotation=90, horizontalalignment='right')\n",
    "ax.legend(seeding_units)\n",
    "plt.show()"
   ]
  }
 ],
 "metadata": {
  "kernelspec": {
   "display_name": "Python 3",
   "language": "python",
   "name": "python3"
  },
  "language_info": {
   "codemirror_mode": {
    "name": "ipython",
    "version": 3
   },
   "file_extension": ".py",
   "mimetype": "text/x-python",
   "name": "python",
   "nbconvert_exporter": "python",
   "pygments_lexer": "ipython3",
   "version": "3.7.6"
  }
 },
 "nbformat": 4,
 "nbformat_minor": 5
}

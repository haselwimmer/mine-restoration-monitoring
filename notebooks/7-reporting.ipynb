{
 "cells": [
  {
   "cell_type": "markdown",
   "id": "acquired-simon",
   "metadata": {},
   "source": [
    "# 7 - Reporting\n",
    "This notebook is used to plot a variety of results"
   ]
  },
  {
   "cell_type": "markdown",
   "id": "foreign-wheel",
   "metadata": {},
   "source": [
    "## Setup"
   ]
  },
  {
   "cell_type": "code",
   "execution_count": 165,
   "id": "guilty-syntax",
   "metadata": {},
   "outputs": [],
   "source": [
    "# Import libraries\n",
    "import os\n",
    "import datetime\n",
    "from math import *\n",
    "\n",
    "import pandas as pd\n",
    "import plotly.io as pio\n",
    "import plotly.express as px\n",
    "import plotly.graph_objects as go\n",
    "import numpy as np"
   ]
  },
  {
   "cell_type": "code",
   "execution_count": 166,
   "id": "heavy-definition",
   "metadata": {},
   "outputs": [],
   "source": [
    "# Set working directory\n",
    "os.chdir(os.path.join('E:/',\n",
    "                      'McKinley'))\n",
    "\n",
    "# Directory to store downloaded Landsat 8 data\n",
    "figure_dir = os.path.join('figures')\n",
    "\n",
    "# Check if directory exists\n",
    "if not os.path.exists(figure_dir):\n",
    "    os.makedirs(figure_dir)\n",
    "    \n",
    "# Set Plotly Express template\n",
    "pio.templates.default = \"seaborn\""
   ]
  },
  {
   "cell_type": "markdown",
   "id": "damaged-syndicate",
   "metadata": {},
   "source": [
    "## Restore datasets"
   ]
  },
  {
   "cell_type": "code",
   "execution_count": 167,
   "id": "protecting-despite",
   "metadata": {},
   "outputs": [],
   "source": [
    "# Seeding unit NDVI metrics\n",
    "%store -r su_ndvi_annual_change_df\n",
    "\n",
    "# Seeding unit data\n",
    "%store -r mckinley_seeding_subset\n",
    "\n",
    "# Met data\n",
    "%store -r met_data_mckinley_df_annual"
   ]
  },
  {
   "cell_type": "markdown",
   "id": "recognized-socket",
   "metadata": {},
   "source": [
    "## Create plots"
   ]
  },
  {
   "cell_type": "markdown",
   "id": "exciting-briefing",
   "metadata": {},
   "source": [
    "### Plot 1 - Annual precipitation"
   ]
  },
  {
   "cell_type": "code",
   "execution_count": 173,
   "id": "proprietary-grass",
   "metadata": {
    "code_folding": []
   },
   "outputs": [
    {
     "data": {
      "application/vnd.plotly.v1+json": {
       "config": {
        "plotlyServerURL": "https://plot.ly"
       },
       "data": [
        {
         "hovertemplate": "Year=%{x}<br>Precipitation (mm)=%{y}<extra></extra>",
         "legendgroup": "",
         "line": {
          "color": "rgb(76,114,176)",
          "dash": "solid"
         },
         "mode": "lines",
         "name": "",
         "showlegend": false,
         "type": "scatter",
         "x": [
          2013,
          2014,
          2015,
          2016,
          2017,
          2018,
          2019,
          2020
         ],
         "xaxis": "x",
         "y": [
          294.02933743596077,
          211.29819747805595,
          342.7775985598564,
          274.4563195705414,
          246.70000022649765,
          233.29999881982803,
          283.49999874830246,
          192.70000049471855
         ],
         "yaxis": "y"
        }
       ],
       "layout": {
        "annotations": [
         {
          "showarrow": false,
          "text": "Source: gridMET",
          "x": 0.01,
          "xref": "paper",
          "y": 0.01,
          "yref": "paper"
         }
        ],
        "legend": {
         "tracegroupgap": 0
        },
        "showlegend": false,
        "template": {
         "data": {
          "bar": [
           {
            "error_x": {
             "color": "rgb(36,36,36)"
            },
            "error_y": {
             "color": "rgb(36,36,36)"
            },
            "marker": {
             "line": {
              "color": "rgb(234,234,242)",
              "width": 0.5
             }
            },
            "type": "bar"
           }
          ],
          "barpolar": [
           {
            "marker": {
             "line": {
              "color": "rgb(234,234,242)",
              "width": 0.5
             }
            },
            "type": "barpolar"
           }
          ],
          "carpet": [
           {
            "aaxis": {
             "endlinecolor": "rgb(36,36,36)",
             "gridcolor": "white",
             "linecolor": "white",
             "minorgridcolor": "white",
             "startlinecolor": "rgb(36,36,36)"
            },
            "baxis": {
             "endlinecolor": "rgb(36,36,36)",
             "gridcolor": "white",
             "linecolor": "white",
             "minorgridcolor": "white",
             "startlinecolor": "rgb(36,36,36)"
            },
            "type": "carpet"
           }
          ],
          "choropleth": [
           {
            "colorbar": {
             "outlinewidth": 0,
             "tickcolor": "rgb(36,36,36)",
             "ticklen": 8,
             "ticks": "outside",
             "tickwidth": 2
            },
            "type": "choropleth"
           }
          ],
          "contour": [
           {
            "colorbar": {
             "outlinewidth": 0,
             "tickcolor": "rgb(36,36,36)",
             "ticklen": 8,
             "ticks": "outside",
             "tickwidth": 2
            },
            "colorscale": [
             [
              0,
              "rgb(2,4,25)"
             ],
             [
              0.06274509803921569,
              "rgb(24,15,41)"
             ],
             [
              0.12549019607843137,
              "rgb(47,23,57)"
             ],
             [
              0.18823529411764706,
              "rgb(71,28,72)"
             ],
             [
              0.25098039215686274,
              "rgb(97,30,82)"
             ],
             [
              0.3137254901960784,
              "rgb(123,30,89)"
             ],
             [
              0.3764705882352941,
              "rgb(150,27,91)"
             ],
             [
              0.4392156862745098,
              "rgb(177,22,88)"
             ],
             [
              0.5019607843137255,
              "rgb(203,26,79)"
             ],
             [
              0.5647058823529412,
              "rgb(223,47,67)"
             ],
             [
              0.6274509803921569,
              "rgb(236,76,61)"
             ],
             [
              0.6901960784313725,
              "rgb(242,107,73)"
             ],
             [
              0.7529411764705882,
              "rgb(244,135,95)"
             ],
             [
              0.8156862745098039,
              "rgb(245,162,122)"
             ],
             [
              0.8784313725490196,
              "rgb(246,188,153)"
             ],
             [
              0.9411764705882353,
              "rgb(247,212,187)"
             ],
             [
              1,
              "rgb(250,234,220)"
             ]
            ],
            "type": "contour"
           }
          ],
          "contourcarpet": [
           {
            "colorbar": {
             "outlinewidth": 0,
             "tickcolor": "rgb(36,36,36)",
             "ticklen": 8,
             "ticks": "outside",
             "tickwidth": 2
            },
            "type": "contourcarpet"
           }
          ],
          "heatmap": [
           {
            "colorbar": {
             "outlinewidth": 0,
             "tickcolor": "rgb(36,36,36)",
             "ticklen": 8,
             "ticks": "outside",
             "tickwidth": 2
            },
            "colorscale": [
             [
              0,
              "rgb(2,4,25)"
             ],
             [
              0.06274509803921569,
              "rgb(24,15,41)"
             ],
             [
              0.12549019607843137,
              "rgb(47,23,57)"
             ],
             [
              0.18823529411764706,
              "rgb(71,28,72)"
             ],
             [
              0.25098039215686274,
              "rgb(97,30,82)"
             ],
             [
              0.3137254901960784,
              "rgb(123,30,89)"
             ],
             [
              0.3764705882352941,
              "rgb(150,27,91)"
             ],
             [
              0.4392156862745098,
              "rgb(177,22,88)"
             ],
             [
              0.5019607843137255,
              "rgb(203,26,79)"
             ],
             [
              0.5647058823529412,
              "rgb(223,47,67)"
             ],
             [
              0.6274509803921569,
              "rgb(236,76,61)"
             ],
             [
              0.6901960784313725,
              "rgb(242,107,73)"
             ],
             [
              0.7529411764705882,
              "rgb(244,135,95)"
             ],
             [
              0.8156862745098039,
              "rgb(245,162,122)"
             ],
             [
              0.8784313725490196,
              "rgb(246,188,153)"
             ],
             [
              0.9411764705882353,
              "rgb(247,212,187)"
             ],
             [
              1,
              "rgb(250,234,220)"
             ]
            ],
            "type": "heatmap"
           }
          ],
          "heatmapgl": [
           {
            "colorbar": {
             "outlinewidth": 0,
             "tickcolor": "rgb(36,36,36)",
             "ticklen": 8,
             "ticks": "outside",
             "tickwidth": 2
            },
            "colorscale": [
             [
              0,
              "rgb(2,4,25)"
             ],
             [
              0.06274509803921569,
              "rgb(24,15,41)"
             ],
             [
              0.12549019607843137,
              "rgb(47,23,57)"
             ],
             [
              0.18823529411764706,
              "rgb(71,28,72)"
             ],
             [
              0.25098039215686274,
              "rgb(97,30,82)"
             ],
             [
              0.3137254901960784,
              "rgb(123,30,89)"
             ],
             [
              0.3764705882352941,
              "rgb(150,27,91)"
             ],
             [
              0.4392156862745098,
              "rgb(177,22,88)"
             ],
             [
              0.5019607843137255,
              "rgb(203,26,79)"
             ],
             [
              0.5647058823529412,
              "rgb(223,47,67)"
             ],
             [
              0.6274509803921569,
              "rgb(236,76,61)"
             ],
             [
              0.6901960784313725,
              "rgb(242,107,73)"
             ],
             [
              0.7529411764705882,
              "rgb(244,135,95)"
             ],
             [
              0.8156862745098039,
              "rgb(245,162,122)"
             ],
             [
              0.8784313725490196,
              "rgb(246,188,153)"
             ],
             [
              0.9411764705882353,
              "rgb(247,212,187)"
             ],
             [
              1,
              "rgb(250,234,220)"
             ]
            ],
            "type": "heatmapgl"
           }
          ],
          "histogram": [
           {
            "marker": {
             "colorbar": {
              "outlinewidth": 0,
              "tickcolor": "rgb(36,36,36)",
              "ticklen": 8,
              "ticks": "outside",
              "tickwidth": 2
             }
            },
            "type": "histogram"
           }
          ],
          "histogram2d": [
           {
            "colorbar": {
             "outlinewidth": 0,
             "tickcolor": "rgb(36,36,36)",
             "ticklen": 8,
             "ticks": "outside",
             "tickwidth": 2
            },
            "colorscale": [
             [
              0,
              "rgb(2,4,25)"
             ],
             [
              0.06274509803921569,
              "rgb(24,15,41)"
             ],
             [
              0.12549019607843137,
              "rgb(47,23,57)"
             ],
             [
              0.18823529411764706,
              "rgb(71,28,72)"
             ],
             [
              0.25098039215686274,
              "rgb(97,30,82)"
             ],
             [
              0.3137254901960784,
              "rgb(123,30,89)"
             ],
             [
              0.3764705882352941,
              "rgb(150,27,91)"
             ],
             [
              0.4392156862745098,
              "rgb(177,22,88)"
             ],
             [
              0.5019607843137255,
              "rgb(203,26,79)"
             ],
             [
              0.5647058823529412,
              "rgb(223,47,67)"
             ],
             [
              0.6274509803921569,
              "rgb(236,76,61)"
             ],
             [
              0.6901960784313725,
              "rgb(242,107,73)"
             ],
             [
              0.7529411764705882,
              "rgb(244,135,95)"
             ],
             [
              0.8156862745098039,
              "rgb(245,162,122)"
             ],
             [
              0.8784313725490196,
              "rgb(246,188,153)"
             ],
             [
              0.9411764705882353,
              "rgb(247,212,187)"
             ],
             [
              1,
              "rgb(250,234,220)"
             ]
            ],
            "type": "histogram2d"
           }
          ],
          "histogram2dcontour": [
           {
            "colorbar": {
             "outlinewidth": 0,
             "tickcolor": "rgb(36,36,36)",
             "ticklen": 8,
             "ticks": "outside",
             "tickwidth": 2
            },
            "colorscale": [
             [
              0,
              "rgb(2,4,25)"
             ],
             [
              0.06274509803921569,
              "rgb(24,15,41)"
             ],
             [
              0.12549019607843137,
              "rgb(47,23,57)"
             ],
             [
              0.18823529411764706,
              "rgb(71,28,72)"
             ],
             [
              0.25098039215686274,
              "rgb(97,30,82)"
             ],
             [
              0.3137254901960784,
              "rgb(123,30,89)"
             ],
             [
              0.3764705882352941,
              "rgb(150,27,91)"
             ],
             [
              0.4392156862745098,
              "rgb(177,22,88)"
             ],
             [
              0.5019607843137255,
              "rgb(203,26,79)"
             ],
             [
              0.5647058823529412,
              "rgb(223,47,67)"
             ],
             [
              0.6274509803921569,
              "rgb(236,76,61)"
             ],
             [
              0.6901960784313725,
              "rgb(242,107,73)"
             ],
             [
              0.7529411764705882,
              "rgb(244,135,95)"
             ],
             [
              0.8156862745098039,
              "rgb(245,162,122)"
             ],
             [
              0.8784313725490196,
              "rgb(246,188,153)"
             ],
             [
              0.9411764705882353,
              "rgb(247,212,187)"
             ],
             [
              1,
              "rgb(250,234,220)"
             ]
            ],
            "type": "histogram2dcontour"
           }
          ],
          "mesh3d": [
           {
            "colorbar": {
             "outlinewidth": 0,
             "tickcolor": "rgb(36,36,36)",
             "ticklen": 8,
             "ticks": "outside",
             "tickwidth": 2
            },
            "type": "mesh3d"
           }
          ],
          "parcoords": [
           {
            "line": {
             "colorbar": {
              "outlinewidth": 0,
              "tickcolor": "rgb(36,36,36)",
              "ticklen": 8,
              "ticks": "outside",
              "tickwidth": 2
             }
            },
            "type": "parcoords"
           }
          ],
          "pie": [
           {
            "automargin": true,
            "type": "pie"
           }
          ],
          "scatter": [
           {
            "marker": {
             "colorbar": {
              "outlinewidth": 0,
              "tickcolor": "rgb(36,36,36)",
              "ticklen": 8,
              "ticks": "outside",
              "tickwidth": 2
             }
            },
            "type": "scatter"
           }
          ],
          "scatter3d": [
           {
            "line": {
             "colorbar": {
              "outlinewidth": 0,
              "tickcolor": "rgb(36,36,36)",
              "ticklen": 8,
              "ticks": "outside",
              "tickwidth": 2
             }
            },
            "marker": {
             "colorbar": {
              "outlinewidth": 0,
              "tickcolor": "rgb(36,36,36)",
              "ticklen": 8,
              "ticks": "outside",
              "tickwidth": 2
             }
            },
            "type": "scatter3d"
           }
          ],
          "scattercarpet": [
           {
            "marker": {
             "colorbar": {
              "outlinewidth": 0,
              "tickcolor": "rgb(36,36,36)",
              "ticklen": 8,
              "ticks": "outside",
              "tickwidth": 2
             }
            },
            "type": "scattercarpet"
           }
          ],
          "scattergeo": [
           {
            "marker": {
             "colorbar": {
              "outlinewidth": 0,
              "tickcolor": "rgb(36,36,36)",
              "ticklen": 8,
              "ticks": "outside",
              "tickwidth": 2
             }
            },
            "type": "scattergeo"
           }
          ],
          "scattergl": [
           {
            "marker": {
             "colorbar": {
              "outlinewidth": 0,
              "tickcolor": "rgb(36,36,36)",
              "ticklen": 8,
              "ticks": "outside",
              "tickwidth": 2
             }
            },
            "type": "scattergl"
           }
          ],
          "scattermapbox": [
           {
            "marker": {
             "colorbar": {
              "outlinewidth": 0,
              "tickcolor": "rgb(36,36,36)",
              "ticklen": 8,
              "ticks": "outside",
              "tickwidth": 2
             }
            },
            "type": "scattermapbox"
           }
          ],
          "scatterpolar": [
           {
            "marker": {
             "colorbar": {
              "outlinewidth": 0,
              "tickcolor": "rgb(36,36,36)",
              "ticklen": 8,
              "ticks": "outside",
              "tickwidth": 2
             }
            },
            "type": "scatterpolar"
           }
          ],
          "scatterpolargl": [
           {
            "marker": {
             "colorbar": {
              "outlinewidth": 0,
              "tickcolor": "rgb(36,36,36)",
              "ticklen": 8,
              "ticks": "outside",
              "tickwidth": 2
             }
            },
            "type": "scatterpolargl"
           }
          ],
          "scatterternary": [
           {
            "marker": {
             "colorbar": {
              "outlinewidth": 0,
              "tickcolor": "rgb(36,36,36)",
              "ticklen": 8,
              "ticks": "outside",
              "tickwidth": 2
             }
            },
            "type": "scatterternary"
           }
          ],
          "surface": [
           {
            "colorbar": {
             "outlinewidth": 0,
             "tickcolor": "rgb(36,36,36)",
             "ticklen": 8,
             "ticks": "outside",
             "tickwidth": 2
            },
            "colorscale": [
             [
              0,
              "rgb(2,4,25)"
             ],
             [
              0.06274509803921569,
              "rgb(24,15,41)"
             ],
             [
              0.12549019607843137,
              "rgb(47,23,57)"
             ],
             [
              0.18823529411764706,
              "rgb(71,28,72)"
             ],
             [
              0.25098039215686274,
              "rgb(97,30,82)"
             ],
             [
              0.3137254901960784,
              "rgb(123,30,89)"
             ],
             [
              0.3764705882352941,
              "rgb(150,27,91)"
             ],
             [
              0.4392156862745098,
              "rgb(177,22,88)"
             ],
             [
              0.5019607843137255,
              "rgb(203,26,79)"
             ],
             [
              0.5647058823529412,
              "rgb(223,47,67)"
             ],
             [
              0.6274509803921569,
              "rgb(236,76,61)"
             ],
             [
              0.6901960784313725,
              "rgb(242,107,73)"
             ],
             [
              0.7529411764705882,
              "rgb(244,135,95)"
             ],
             [
              0.8156862745098039,
              "rgb(245,162,122)"
             ],
             [
              0.8784313725490196,
              "rgb(246,188,153)"
             ],
             [
              0.9411764705882353,
              "rgb(247,212,187)"
             ],
             [
              1,
              "rgb(250,234,220)"
             ]
            ],
            "type": "surface"
           }
          ],
          "table": [
           {
            "cells": {
             "fill": {
              "color": "rgb(231,231,240)"
             },
             "line": {
              "color": "white"
             }
            },
            "header": {
             "fill": {
              "color": "rgb(183,183,191)"
             },
             "line": {
              "color": "white"
             }
            },
            "type": "table"
           }
          ]
         },
         "layout": {
          "annotationdefaults": {
           "arrowcolor": "rgb(67,103,167)"
          },
          "coloraxis": {
           "colorbar": {
            "outlinewidth": 0,
            "tickcolor": "rgb(36,36,36)",
            "ticklen": 8,
            "ticks": "outside",
            "tickwidth": 2
           }
          },
          "colorscale": {
           "sequential": [
            [
             0,
             "rgb(2,4,25)"
            ],
            [
             0.06274509803921569,
             "rgb(24,15,41)"
            ],
            [
             0.12549019607843137,
             "rgb(47,23,57)"
            ],
            [
             0.18823529411764706,
             "rgb(71,28,72)"
            ],
            [
             0.25098039215686274,
             "rgb(97,30,82)"
            ],
            [
             0.3137254901960784,
             "rgb(123,30,89)"
            ],
            [
             0.3764705882352941,
             "rgb(150,27,91)"
            ],
            [
             0.4392156862745098,
             "rgb(177,22,88)"
            ],
            [
             0.5019607843137255,
             "rgb(203,26,79)"
            ],
            [
             0.5647058823529412,
             "rgb(223,47,67)"
            ],
            [
             0.6274509803921569,
             "rgb(236,76,61)"
            ],
            [
             0.6901960784313725,
             "rgb(242,107,73)"
            ],
            [
             0.7529411764705882,
             "rgb(244,135,95)"
            ],
            [
             0.8156862745098039,
             "rgb(245,162,122)"
            ],
            [
             0.8784313725490196,
             "rgb(246,188,153)"
            ],
            [
             0.9411764705882353,
             "rgb(247,212,187)"
            ],
            [
             1,
             "rgb(250,234,220)"
            ]
           ],
           "sequentialminus": [
            [
             0,
             "rgb(2,4,25)"
            ],
            [
             0.06274509803921569,
             "rgb(24,15,41)"
            ],
            [
             0.12549019607843137,
             "rgb(47,23,57)"
            ],
            [
             0.18823529411764706,
             "rgb(71,28,72)"
            ],
            [
             0.25098039215686274,
             "rgb(97,30,82)"
            ],
            [
             0.3137254901960784,
             "rgb(123,30,89)"
            ],
            [
             0.3764705882352941,
             "rgb(150,27,91)"
            ],
            [
             0.4392156862745098,
             "rgb(177,22,88)"
            ],
            [
             0.5019607843137255,
             "rgb(203,26,79)"
            ],
            [
             0.5647058823529412,
             "rgb(223,47,67)"
            ],
            [
             0.6274509803921569,
             "rgb(236,76,61)"
            ],
            [
             0.6901960784313725,
             "rgb(242,107,73)"
            ],
            [
             0.7529411764705882,
             "rgb(244,135,95)"
            ],
            [
             0.8156862745098039,
             "rgb(245,162,122)"
            ],
            [
             0.8784313725490196,
             "rgb(246,188,153)"
            ],
            [
             0.9411764705882353,
             "rgb(247,212,187)"
            ],
            [
             1,
             "rgb(250,234,220)"
            ]
           ]
          },
          "colorway": [
           "rgb(76,114,176)",
           "rgb(221,132,82)",
           "rgb(85,168,104)",
           "rgb(196,78,82)",
           "rgb(129,114,179)",
           "rgb(147,120,96)",
           "rgb(218,139,195)",
           "rgb(140,140,140)",
           "rgb(204,185,116)",
           "rgb(100,181,205)"
          ],
          "font": {
           "color": "rgb(36,36,36)"
          },
          "geo": {
           "bgcolor": "white",
           "lakecolor": "white",
           "landcolor": "rgb(234,234,242)",
           "showlakes": true,
           "showland": true,
           "subunitcolor": "white"
          },
          "hoverlabel": {
           "align": "left"
          },
          "hovermode": "closest",
          "paper_bgcolor": "white",
          "plot_bgcolor": "rgb(234,234,242)",
          "polar": {
           "angularaxis": {
            "gridcolor": "white",
            "linecolor": "white",
            "showgrid": true,
            "ticks": ""
           },
           "bgcolor": "rgb(234,234,242)",
           "radialaxis": {
            "gridcolor": "white",
            "linecolor": "white",
            "showgrid": true,
            "ticks": ""
           }
          },
          "scene": {
           "xaxis": {
            "backgroundcolor": "rgb(234,234,242)",
            "gridcolor": "white",
            "gridwidth": 2,
            "linecolor": "white",
            "showbackground": true,
            "showgrid": true,
            "ticks": "",
            "zerolinecolor": "white"
           },
           "yaxis": {
            "backgroundcolor": "rgb(234,234,242)",
            "gridcolor": "white",
            "gridwidth": 2,
            "linecolor": "white",
            "showbackground": true,
            "showgrid": true,
            "ticks": "",
            "zerolinecolor": "white"
           },
           "zaxis": {
            "backgroundcolor": "rgb(234,234,242)",
            "gridcolor": "white",
            "gridwidth": 2,
            "linecolor": "white",
            "showbackground": true,
            "showgrid": true,
            "ticks": "",
            "zerolinecolor": "white"
           }
          },
          "shapedefaults": {
           "fillcolor": "rgb(67,103,167)",
           "line": {
            "width": 0
           },
           "opacity": 0.5
          },
          "ternary": {
           "aaxis": {
            "gridcolor": "white",
            "linecolor": "white",
            "showgrid": true,
            "ticks": ""
           },
           "baxis": {
            "gridcolor": "white",
            "linecolor": "white",
            "showgrid": true,
            "ticks": ""
           },
           "bgcolor": "rgb(234,234,242)",
           "caxis": {
            "gridcolor": "white",
            "linecolor": "white",
            "showgrid": true,
            "ticks": ""
           }
          },
          "xaxis": {
           "automargin": true,
           "gridcolor": "white",
           "linecolor": "white",
           "showgrid": true,
           "ticks": "",
           "title": {
            "standoff": 15
           },
           "zerolinecolor": "white"
          },
          "yaxis": {
           "automargin": true,
           "gridcolor": "white",
           "linecolor": "white",
           "showgrid": true,
           "ticks": "",
           "title": {
            "standoff": 15
           },
           "zerolinecolor": "white"
          }
         }
        },
        "title": {
         "text": "Plot 1 - Annual precipitation for McKinley Mine"
        },
        "xaxis": {
         "anchor": "y",
         "domain": [
          0,
          1
         ],
         "title": {
          "text": "Year"
         }
        },
        "yaxis": {
         "anchor": "x",
         "domain": [
          0,
          1
         ],
         "title": {
          "text": "Precipitation (mm)"
         }
        }
       }
      },
      "text/html": [
       "<div>\n",
       "        \n",
       "        \n",
       "            <div id=\"43772a7c-3bde-463a-b0ab-1b2339ff55ba\" class=\"plotly-graph-div\" style=\"height:525px; width:100%;\"></div>\n",
       "            <script type=\"text/javascript\">\n",
       "                require([\"plotly\"], function(Plotly) {\n",
       "                    window.PLOTLYENV=window.PLOTLYENV || {};\n",
       "                    \n",
       "                if (document.getElementById(\"43772a7c-3bde-463a-b0ab-1b2339ff55ba\")) {\n",
       "                    Plotly.newPlot(\n",
       "                        '43772a7c-3bde-463a-b0ab-1b2339ff55ba',\n",
       "                        [{\"hovertemplate\": \"Year=%{x}<br>Precipitation (mm)=%{y}<extra></extra>\", \"legendgroup\": \"\", \"line\": {\"color\": \"rgb(76,114,176)\", \"dash\": \"solid\"}, \"mode\": \"lines\", \"name\": \"\", \"showlegend\": false, \"type\": \"scatter\", \"x\": [2013, 2014, 2015, 2016, 2017, 2018, 2019, 2020], \"xaxis\": \"x\", \"y\": [294.02933743596077, 211.29819747805595, 342.7775985598564, 274.4563195705414, 246.70000022649765, 233.29999881982803, 283.49999874830246, 192.70000049471855], \"yaxis\": \"y\"}],\n",
       "                        {\"annotations\": [{\"showarrow\": false, \"text\": \"Source: gridMET\", \"x\": 0.01, \"xref\": \"paper\", \"y\": 0.01, \"yref\": \"paper\"}], \"legend\": {\"tracegroupgap\": 0}, \"showlegend\": false, \"template\": {\"data\": {\"bar\": [{\"error_x\": {\"color\": \"rgb(36,36,36)\"}, \"error_y\": {\"color\": \"rgb(36,36,36)\"}, \"marker\": {\"line\": {\"color\": \"rgb(234,234,242)\", \"width\": 0.5}}, \"type\": \"bar\"}], \"barpolar\": [{\"marker\": {\"line\": {\"color\": \"rgb(234,234,242)\", \"width\": 0.5}}, \"type\": \"barpolar\"}], \"carpet\": [{\"aaxis\": {\"endlinecolor\": \"rgb(36,36,36)\", \"gridcolor\": \"white\", \"linecolor\": \"white\", \"minorgridcolor\": \"white\", \"startlinecolor\": \"rgb(36,36,36)\"}, \"baxis\": {\"endlinecolor\": \"rgb(36,36,36)\", \"gridcolor\": \"white\", \"linecolor\": \"white\", \"minorgridcolor\": \"white\", \"startlinecolor\": \"rgb(36,36,36)\"}, \"type\": \"carpet\"}], \"choropleth\": [{\"colorbar\": {\"outlinewidth\": 0, \"tickcolor\": \"rgb(36,36,36)\", \"ticklen\": 8, \"ticks\": \"outside\", \"tickwidth\": 2}, \"type\": \"choropleth\"}], \"contour\": [{\"colorbar\": {\"outlinewidth\": 0, \"tickcolor\": \"rgb(36,36,36)\", \"ticklen\": 8, \"ticks\": \"outside\", \"tickwidth\": 2}, \"colorscale\": [[0.0, \"rgb(2,4,25)\"], [0.06274509803921569, \"rgb(24,15,41)\"], [0.12549019607843137, \"rgb(47,23,57)\"], [0.18823529411764706, \"rgb(71,28,72)\"], [0.25098039215686274, \"rgb(97,30,82)\"], [0.3137254901960784, \"rgb(123,30,89)\"], [0.3764705882352941, \"rgb(150,27,91)\"], [0.4392156862745098, \"rgb(177,22,88)\"], [0.5019607843137255, \"rgb(203,26,79)\"], [0.5647058823529412, \"rgb(223,47,67)\"], [0.6274509803921569, \"rgb(236,76,61)\"], [0.6901960784313725, \"rgb(242,107,73)\"], [0.7529411764705882, \"rgb(244,135,95)\"], [0.8156862745098039, \"rgb(245,162,122)\"], [0.8784313725490196, \"rgb(246,188,153)\"], [0.9411764705882353, \"rgb(247,212,187)\"], [1.0, \"rgb(250,234,220)\"]], \"type\": \"contour\"}], \"contourcarpet\": [{\"colorbar\": {\"outlinewidth\": 0, \"tickcolor\": \"rgb(36,36,36)\", \"ticklen\": 8, \"ticks\": \"outside\", \"tickwidth\": 2}, \"type\": \"contourcarpet\"}], \"heatmap\": [{\"colorbar\": {\"outlinewidth\": 0, \"tickcolor\": \"rgb(36,36,36)\", \"ticklen\": 8, \"ticks\": \"outside\", \"tickwidth\": 2}, \"colorscale\": [[0.0, \"rgb(2,4,25)\"], [0.06274509803921569, \"rgb(24,15,41)\"], [0.12549019607843137, \"rgb(47,23,57)\"], [0.18823529411764706, \"rgb(71,28,72)\"], [0.25098039215686274, \"rgb(97,30,82)\"], [0.3137254901960784, \"rgb(123,30,89)\"], [0.3764705882352941, \"rgb(150,27,91)\"], [0.4392156862745098, \"rgb(177,22,88)\"], [0.5019607843137255, \"rgb(203,26,79)\"], [0.5647058823529412, \"rgb(223,47,67)\"], [0.6274509803921569, \"rgb(236,76,61)\"], [0.6901960784313725, \"rgb(242,107,73)\"], [0.7529411764705882, \"rgb(244,135,95)\"], [0.8156862745098039, \"rgb(245,162,122)\"], [0.8784313725490196, \"rgb(246,188,153)\"], [0.9411764705882353, \"rgb(247,212,187)\"], [1.0, \"rgb(250,234,220)\"]], \"type\": \"heatmap\"}], \"heatmapgl\": [{\"colorbar\": {\"outlinewidth\": 0, \"tickcolor\": \"rgb(36,36,36)\", \"ticklen\": 8, \"ticks\": \"outside\", \"tickwidth\": 2}, \"colorscale\": [[0.0, \"rgb(2,4,25)\"], [0.06274509803921569, \"rgb(24,15,41)\"], [0.12549019607843137, \"rgb(47,23,57)\"], [0.18823529411764706, \"rgb(71,28,72)\"], [0.25098039215686274, \"rgb(97,30,82)\"], [0.3137254901960784, \"rgb(123,30,89)\"], [0.3764705882352941, \"rgb(150,27,91)\"], [0.4392156862745098, \"rgb(177,22,88)\"], [0.5019607843137255, \"rgb(203,26,79)\"], [0.5647058823529412, \"rgb(223,47,67)\"], [0.6274509803921569, \"rgb(236,76,61)\"], [0.6901960784313725, \"rgb(242,107,73)\"], [0.7529411764705882, \"rgb(244,135,95)\"], [0.8156862745098039, \"rgb(245,162,122)\"], [0.8784313725490196, \"rgb(246,188,153)\"], [0.9411764705882353, \"rgb(247,212,187)\"], [1.0, \"rgb(250,234,220)\"]], \"type\": \"heatmapgl\"}], \"histogram\": [{\"marker\": {\"colorbar\": {\"outlinewidth\": 0, \"tickcolor\": \"rgb(36,36,36)\", \"ticklen\": 8, \"ticks\": \"outside\", \"tickwidth\": 2}}, \"type\": \"histogram\"}], \"histogram2d\": [{\"colorbar\": {\"outlinewidth\": 0, \"tickcolor\": \"rgb(36,36,36)\", \"ticklen\": 8, \"ticks\": \"outside\", \"tickwidth\": 2}, \"colorscale\": [[0.0, \"rgb(2,4,25)\"], [0.06274509803921569, \"rgb(24,15,41)\"], [0.12549019607843137, \"rgb(47,23,57)\"], [0.18823529411764706, \"rgb(71,28,72)\"], [0.25098039215686274, \"rgb(97,30,82)\"], [0.3137254901960784, \"rgb(123,30,89)\"], [0.3764705882352941, \"rgb(150,27,91)\"], [0.4392156862745098, \"rgb(177,22,88)\"], [0.5019607843137255, \"rgb(203,26,79)\"], [0.5647058823529412, \"rgb(223,47,67)\"], [0.6274509803921569, \"rgb(236,76,61)\"], [0.6901960784313725, \"rgb(242,107,73)\"], [0.7529411764705882, \"rgb(244,135,95)\"], [0.8156862745098039, \"rgb(245,162,122)\"], [0.8784313725490196, \"rgb(246,188,153)\"], [0.9411764705882353, \"rgb(247,212,187)\"], [1.0, \"rgb(250,234,220)\"]], \"type\": \"histogram2d\"}], \"histogram2dcontour\": [{\"colorbar\": {\"outlinewidth\": 0, \"tickcolor\": \"rgb(36,36,36)\", \"ticklen\": 8, \"ticks\": \"outside\", \"tickwidth\": 2}, \"colorscale\": [[0.0, \"rgb(2,4,25)\"], [0.06274509803921569, \"rgb(24,15,41)\"], [0.12549019607843137, \"rgb(47,23,57)\"], [0.18823529411764706, \"rgb(71,28,72)\"], [0.25098039215686274, \"rgb(97,30,82)\"], [0.3137254901960784, \"rgb(123,30,89)\"], [0.3764705882352941, \"rgb(150,27,91)\"], [0.4392156862745098, \"rgb(177,22,88)\"], [0.5019607843137255, \"rgb(203,26,79)\"], [0.5647058823529412, \"rgb(223,47,67)\"], [0.6274509803921569, \"rgb(236,76,61)\"], [0.6901960784313725, \"rgb(242,107,73)\"], [0.7529411764705882, \"rgb(244,135,95)\"], [0.8156862745098039, \"rgb(245,162,122)\"], [0.8784313725490196, \"rgb(246,188,153)\"], [0.9411764705882353, \"rgb(247,212,187)\"], [1.0, \"rgb(250,234,220)\"]], \"type\": \"histogram2dcontour\"}], \"mesh3d\": [{\"colorbar\": {\"outlinewidth\": 0, \"tickcolor\": \"rgb(36,36,36)\", \"ticklen\": 8, \"ticks\": \"outside\", \"tickwidth\": 2}, \"type\": \"mesh3d\"}], \"parcoords\": [{\"line\": {\"colorbar\": {\"outlinewidth\": 0, \"tickcolor\": \"rgb(36,36,36)\", \"ticklen\": 8, \"ticks\": \"outside\", \"tickwidth\": 2}}, \"type\": \"parcoords\"}], \"pie\": [{\"automargin\": true, \"type\": \"pie\"}], \"scatter\": [{\"marker\": {\"colorbar\": {\"outlinewidth\": 0, \"tickcolor\": \"rgb(36,36,36)\", \"ticklen\": 8, \"ticks\": \"outside\", \"tickwidth\": 2}}, \"type\": \"scatter\"}], \"scatter3d\": [{\"line\": {\"colorbar\": {\"outlinewidth\": 0, \"tickcolor\": \"rgb(36,36,36)\", \"ticklen\": 8, \"ticks\": \"outside\", \"tickwidth\": 2}}, \"marker\": {\"colorbar\": {\"outlinewidth\": 0, \"tickcolor\": \"rgb(36,36,36)\", \"ticklen\": 8, \"ticks\": \"outside\", \"tickwidth\": 2}}, \"type\": \"scatter3d\"}], \"scattercarpet\": [{\"marker\": {\"colorbar\": {\"outlinewidth\": 0, \"tickcolor\": \"rgb(36,36,36)\", \"ticklen\": 8, \"ticks\": \"outside\", \"tickwidth\": 2}}, \"type\": \"scattercarpet\"}], \"scattergeo\": [{\"marker\": {\"colorbar\": {\"outlinewidth\": 0, \"tickcolor\": \"rgb(36,36,36)\", \"ticklen\": 8, \"ticks\": \"outside\", \"tickwidth\": 2}}, \"type\": \"scattergeo\"}], \"scattergl\": [{\"marker\": {\"colorbar\": {\"outlinewidth\": 0, \"tickcolor\": \"rgb(36,36,36)\", \"ticklen\": 8, \"ticks\": \"outside\", \"tickwidth\": 2}}, \"type\": \"scattergl\"}], \"scattermapbox\": [{\"marker\": {\"colorbar\": {\"outlinewidth\": 0, \"tickcolor\": \"rgb(36,36,36)\", \"ticklen\": 8, \"ticks\": \"outside\", \"tickwidth\": 2}}, \"type\": \"scattermapbox\"}], \"scatterpolar\": [{\"marker\": {\"colorbar\": {\"outlinewidth\": 0, \"tickcolor\": \"rgb(36,36,36)\", \"ticklen\": 8, \"ticks\": \"outside\", \"tickwidth\": 2}}, \"type\": \"scatterpolar\"}], \"scatterpolargl\": [{\"marker\": {\"colorbar\": {\"outlinewidth\": 0, \"tickcolor\": \"rgb(36,36,36)\", \"ticklen\": 8, \"ticks\": \"outside\", \"tickwidth\": 2}}, \"type\": \"scatterpolargl\"}], \"scatterternary\": [{\"marker\": {\"colorbar\": {\"outlinewidth\": 0, \"tickcolor\": \"rgb(36,36,36)\", \"ticklen\": 8, \"ticks\": \"outside\", \"tickwidth\": 2}}, \"type\": \"scatterternary\"}], \"surface\": [{\"colorbar\": {\"outlinewidth\": 0, \"tickcolor\": \"rgb(36,36,36)\", \"ticklen\": 8, \"ticks\": \"outside\", \"tickwidth\": 2}, \"colorscale\": [[0.0, \"rgb(2,4,25)\"], [0.06274509803921569, \"rgb(24,15,41)\"], [0.12549019607843137, \"rgb(47,23,57)\"], [0.18823529411764706, \"rgb(71,28,72)\"], [0.25098039215686274, \"rgb(97,30,82)\"], [0.3137254901960784, \"rgb(123,30,89)\"], [0.3764705882352941, \"rgb(150,27,91)\"], [0.4392156862745098, \"rgb(177,22,88)\"], [0.5019607843137255, \"rgb(203,26,79)\"], [0.5647058823529412, \"rgb(223,47,67)\"], [0.6274509803921569, \"rgb(236,76,61)\"], [0.6901960784313725, \"rgb(242,107,73)\"], [0.7529411764705882, \"rgb(244,135,95)\"], [0.8156862745098039, \"rgb(245,162,122)\"], [0.8784313725490196, \"rgb(246,188,153)\"], [0.9411764705882353, \"rgb(247,212,187)\"], [1.0, \"rgb(250,234,220)\"]], \"type\": \"surface\"}], \"table\": [{\"cells\": {\"fill\": {\"color\": \"rgb(231,231,240)\"}, \"line\": {\"color\": \"white\"}}, \"header\": {\"fill\": {\"color\": \"rgb(183,183,191)\"}, \"line\": {\"color\": \"white\"}}, \"type\": \"table\"}]}, \"layout\": {\"annotationdefaults\": {\"arrowcolor\": \"rgb(67,103,167)\"}, \"coloraxis\": {\"colorbar\": {\"outlinewidth\": 0, \"tickcolor\": \"rgb(36,36,36)\", \"ticklen\": 8, \"ticks\": \"outside\", \"tickwidth\": 2}}, \"colorscale\": {\"sequential\": [[0.0, \"rgb(2,4,25)\"], [0.06274509803921569, \"rgb(24,15,41)\"], [0.12549019607843137, \"rgb(47,23,57)\"], [0.18823529411764706, \"rgb(71,28,72)\"], [0.25098039215686274, \"rgb(97,30,82)\"], [0.3137254901960784, \"rgb(123,30,89)\"], [0.3764705882352941, \"rgb(150,27,91)\"], [0.4392156862745098, \"rgb(177,22,88)\"], [0.5019607843137255, \"rgb(203,26,79)\"], [0.5647058823529412, \"rgb(223,47,67)\"], [0.6274509803921569, \"rgb(236,76,61)\"], [0.6901960784313725, \"rgb(242,107,73)\"], [0.7529411764705882, \"rgb(244,135,95)\"], [0.8156862745098039, \"rgb(245,162,122)\"], [0.8784313725490196, \"rgb(246,188,153)\"], [0.9411764705882353, \"rgb(247,212,187)\"], [1.0, \"rgb(250,234,220)\"]], \"sequentialminus\": [[0.0, \"rgb(2,4,25)\"], [0.06274509803921569, \"rgb(24,15,41)\"], [0.12549019607843137, \"rgb(47,23,57)\"], [0.18823529411764706, \"rgb(71,28,72)\"], [0.25098039215686274, \"rgb(97,30,82)\"], [0.3137254901960784, \"rgb(123,30,89)\"], [0.3764705882352941, \"rgb(150,27,91)\"], [0.4392156862745098, \"rgb(177,22,88)\"], [0.5019607843137255, \"rgb(203,26,79)\"], [0.5647058823529412, \"rgb(223,47,67)\"], [0.6274509803921569, \"rgb(236,76,61)\"], [0.6901960784313725, \"rgb(242,107,73)\"], [0.7529411764705882, \"rgb(244,135,95)\"], [0.8156862745098039, \"rgb(245,162,122)\"], [0.8784313725490196, \"rgb(246,188,153)\"], [0.9411764705882353, \"rgb(247,212,187)\"], [1.0, \"rgb(250,234,220)\"]]}, \"colorway\": [\"rgb(76,114,176)\", \"rgb(221,132,82)\", \"rgb(85,168,104)\", \"rgb(196,78,82)\", \"rgb(129,114,179)\", \"rgb(147,120,96)\", \"rgb(218,139,195)\", \"rgb(140,140,140)\", \"rgb(204,185,116)\", \"rgb(100,181,205)\"], \"font\": {\"color\": \"rgb(36,36,36)\"}, \"geo\": {\"bgcolor\": \"white\", \"lakecolor\": \"white\", \"landcolor\": \"rgb(234,234,242)\", \"showlakes\": true, \"showland\": true, \"subunitcolor\": \"white\"}, \"hoverlabel\": {\"align\": \"left\"}, \"hovermode\": \"closest\", \"paper_bgcolor\": \"white\", \"plot_bgcolor\": \"rgb(234,234,242)\", \"polar\": {\"angularaxis\": {\"gridcolor\": \"white\", \"linecolor\": \"white\", \"showgrid\": true, \"ticks\": \"\"}, \"bgcolor\": \"rgb(234,234,242)\", \"radialaxis\": {\"gridcolor\": \"white\", \"linecolor\": \"white\", \"showgrid\": true, \"ticks\": \"\"}}, \"scene\": {\"xaxis\": {\"backgroundcolor\": \"rgb(234,234,242)\", \"gridcolor\": \"white\", \"gridwidth\": 2, \"linecolor\": \"white\", \"showbackground\": true, \"showgrid\": true, \"ticks\": \"\", \"zerolinecolor\": \"white\"}, \"yaxis\": {\"backgroundcolor\": \"rgb(234,234,242)\", \"gridcolor\": \"white\", \"gridwidth\": 2, \"linecolor\": \"white\", \"showbackground\": true, \"showgrid\": true, \"ticks\": \"\", \"zerolinecolor\": \"white\"}, \"zaxis\": {\"backgroundcolor\": \"rgb(234,234,242)\", \"gridcolor\": \"white\", \"gridwidth\": 2, \"linecolor\": \"white\", \"showbackground\": true, \"showgrid\": true, \"ticks\": \"\", \"zerolinecolor\": \"white\"}}, \"shapedefaults\": {\"fillcolor\": \"rgb(67,103,167)\", \"line\": {\"width\": 0}, \"opacity\": 0.5}, \"ternary\": {\"aaxis\": {\"gridcolor\": \"white\", \"linecolor\": \"white\", \"showgrid\": true, \"ticks\": \"\"}, \"baxis\": {\"gridcolor\": \"white\", \"linecolor\": \"white\", \"showgrid\": true, \"ticks\": \"\"}, \"bgcolor\": \"rgb(234,234,242)\", \"caxis\": {\"gridcolor\": \"white\", \"linecolor\": \"white\", \"showgrid\": true, \"ticks\": \"\"}}, \"xaxis\": {\"automargin\": true, \"gridcolor\": \"white\", \"linecolor\": \"white\", \"showgrid\": true, \"ticks\": \"\", \"title\": {\"standoff\": 15}, \"zerolinecolor\": \"white\"}, \"yaxis\": {\"automargin\": true, \"gridcolor\": \"white\", \"linecolor\": \"white\", \"showgrid\": true, \"ticks\": \"\", \"title\": {\"standoff\": 15}, \"zerolinecolor\": \"white\"}}}, \"title\": {\"text\": \"Plot 1 - Annual precipitation for McKinley Mine\"}, \"xaxis\": {\"anchor\": \"y\", \"domain\": [0.0, 1.0], \"title\": {\"text\": \"Year\"}}, \"yaxis\": {\"anchor\": \"x\", \"domain\": [0.0, 1.0], \"title\": {\"text\": \"Precipitation (mm)\"}}},\n",
       "                        {\"responsive\": true}\n",
       "                    ).then(function(){\n",
       "                            \n",
       "var gd = document.getElementById('43772a7c-3bde-463a-b0ab-1b2339ff55ba');\n",
       "var x = new MutationObserver(function (mutations, observer) {{\n",
       "        var display = window.getComputedStyle(gd).display;\n",
       "        if (!display || display === 'none') {{\n",
       "            console.log([gd, 'removed!']);\n",
       "            Plotly.purge(gd);\n",
       "            observer.disconnect();\n",
       "        }}\n",
       "}});\n",
       "\n",
       "// Listen for the removal of the full notebook cells\n",
       "var notebookContainer = gd.closest('#notebook-container');\n",
       "if (notebookContainer) {{\n",
       "    x.observe(notebookContainer, {childList: true});\n",
       "}}\n",
       "\n",
       "// Listen for the clearing of the current output cell\n",
       "var outputEl = gd.closest('.output');\n",
       "if (outputEl) {{\n",
       "    x.observe(outputEl, {childList: true});\n",
       "}}\n",
       "\n",
       "                        })\n",
       "                };\n",
       "                });\n",
       "            </script>\n",
       "        </div>"
      ]
     },
     "metadata": {},
     "output_type": "display_data"
    }
   ],
   "source": [
    "fig = px.line(met_data_mckinley_df_annual, x='Year', y='pr',\n",
    "              labels={\n",
    "                  \"Year\": \"Year\",\n",
    "                  \"pr\": \"Precipitation (mm)\"\n",
    "              },\n",
    "              title='Plot 1 - Annual precipitation for McKinley Mine')\n",
    "\n",
    "# Credit\n",
    "fig.add_annotation(text=\"Source: gridMET\",\n",
    "                   showarrow=False,\n",
    "                   xref=\"paper\", yref=\"paper\",\n",
    "                   x=0.01, y=0.01)\n",
    "\n",
    "fig.update_layout(showlegend=False)\n",
    "fig.show()"
   ]
  },
  {
   "cell_type": "markdown",
   "id": "wired-bathroom",
   "metadata": {},
   "source": [
    "### Plot 2 - Annual NDVI vs precipitation for the different seeding units"
   ]
  },
  {
   "cell_type": "code",
   "execution_count": 175,
   "id": "finnish-integral",
   "metadata": {
    "code_folding": []
   },
   "outputs": [
    {
     "data": {
      "application/vnd.plotly.v1+json": {
       "config": {
        "plotlyServerURL": "https://plot.ly"
       },
       "data": [
        {
         "customdata": [
          [
           0.003429338113346614
          ],
          [
           0.014249780753258778
          ],
          [
           0.027376621611377508
          ],
          [
           0.027373524438977864
          ],
          [
           0.0012208596613880185
          ],
          [
           -0.008651282685964129
          ],
          [
           -0.0037381564630935282
          ],
          [
           0.0045107644950853065
          ],
          [
           -0.007930984668899327
          ],
          [
           0.003969974131788956
          ],
          [
           0.03118038558318381
          ],
          [
           0.009743212215292008
          ],
          [
           -0.006413136007700659
          ],
          [
           -0.012376386633409314
          ],
          [
           -0.006772024994679632
          ],
          [
           0.010114266321127108
          ],
          [
           -0.0160042183855032
          ],
          [
           -0.015470449450793289
          ],
          [
           0.013261524378101602
          ],
          [
           0.0007714130615759096
          ],
          [
           -0.010597826409509459
          ],
          [
           -0.011855936981814086
          ],
          [
           -0.006370975526482442
          ],
          [
           0.01164239696014599
          ],
          [
           -0.005351208498698468
          ],
          [
           -0.0017493463927010233
          ],
          [
           0.032686490823272685
          ],
          [
           0.008953566671157931
          ],
          [
           -0.01576276232775012
          ],
          [
           -0.010274437563613237
          ],
          [
           -0.0028290462901051916
          ],
          [
           0.005943562981720274
          ],
          [
           0.02195643143133033
          ],
          [
           -0.0004928493635648623
          ],
          [
           0.00980654208141618
          ],
          [
           0.004099827880660795
          ],
          [
           -0.015479396714245863
          ],
          [
           -0.011154901555648827
          ],
          [
           -0.0038202743601145894
          ],
          [
           0.013501587882982946
          ],
          [
           0.0006317463063925388
          ],
          [
           -0.007407819709156993
          ],
          [
           0.023721749706606343
          ],
          [
           0.004152625087176204
          ],
          [
           -0.014367152201835487
          ],
          [
           -0.014803169653248044
          ],
          [
           0.006899653037762132
          ],
          [
           0.015539309495864462
          ],
          [
           -0.008754079731171566
          ],
          [
           -0.000586941489564563
          ],
          [
           0.025103091463168803
          ],
          [
           0.0011399772456137658
          ],
          [
           -0.004317441896453167
          ],
          [
           -0.008118571370658106
          ],
          [
           0.001319635904648342
          ],
          [
           0.01447575203261034
          ],
          [
           -0.016174624082656797
          ],
          [
           0.005140653728515188
          ],
          [
           0.00948539574178317
          ],
          [
           -0.006370387553307433
          ],
          [
           -0.012422695738433687
          ],
          [
           -0.005025815181133708
          ],
          [
           0.009787387893064547
          ],
          [
           -0.007084293995315877
          ],
          [
           0.011301576013875408
          ],
          [
           0.0038172660836129357
          ],
          [
           -0.010271143052587695
          ],
          [
           -0.010929286404715521
          ],
          [
           -0.0023548739247949424
          ],
          [
           0.009412448043098737
          ],
          [
           0.0031782455266888276
          ],
          [
           0.023016017631609736
          ],
          [
           0.004869955672635401
          ],
          [
           -0.005959015782043914
          ],
          [
           -0.01672633656072528
          ],
          [
           -0.003239994751956826
          ],
          [
           0.01278608064229228
          ],
          [
           -0.005555685345862732
          ],
          [
           0.014140652548606247
          ],
          [
           0.00953743819283559
          ],
          [
           0.015972124701930268
          ],
          [
           -0.00317775202336526
          ],
          [
           -0.0025474862618879712
          ],
          [
           0.0037264575970987757
          ],
          [
           -0.01245427742347302
          ],
          [
           0.040500007267878446
          ],
          [
           0.02851130671633384
          ],
          [
           -0.005943828396177048
          ],
          [
           -0.012593538552406441
          ],
          [
           -0.0031679803844069376
          ],
          [
           0.005178097997336789
          ],
          [
           -0.027257533420715463
          ],
          [
           0.006812150221682356
          ],
          [
           0.00480221524916466
          ],
          [
           -0.005779705382236849
          ],
          [
           -0.009768809819231894
          ],
          [
           -0.0008371216374346291
          ],
          [
           0.00992173435063004
          ],
          [
           0.011053005184136155
          ],
          [
           0.011071824161424604
          ],
          [
           0.004015181402792195
          ],
          [
           -0.004037300772809754
          ],
          [
           -0.009707208452164218
          ],
          [
           -0.004210690572896636
          ],
          [
           0.010551860479366348
          ],
          [
           -0.02153042071861111
          ],
          [
           0.005074470439339396
          ],
          [
           0.00766753786010671
          ],
          [
           0.02097871413856167
          ],
          [
           -0.0028191203041476876
          ],
          [
           -0.003626307700851983
          ],
          [
           0.0035682440799314763
          ],
          [
           0.0416006740854499
          ],
          [
           0.029913888508043107
          ],
          [
           -0.00014631365636538773
          ],
          [
           -0.005046313801791463
          ],
          [
           0.014215369925035914
          ],
          [
           0.016293338749424707
          ],
          [
           -0.004317441896453167
          ],
          [
           -0.008118571370658106
          ],
          [
           0.0013196359046483142
          ],
          [
           0.014475752032610312
          ],
          [
           0.00042072029412733303
          ],
          [
           0.028012550361877844
          ],
          [
           0.02855537980065842
          ],
          [
           -0.015289078280680046
          ],
          [
           -0.00562440689132529
          ],
          [
           0.015699946081979388
          ],
          [
           -0.005206701741074543
          ],
          [
           -0.002121998881522702
          ],
          [
           0.015605240390666741
          ],
          [
           -0.010082999137245113
          ],
          [
           -0.00647867048255879
          ],
          [
           0.010885382318893133
          ],
          [
           -0.007955627321886483
          ],
          [
           -0.002839706748805959
          ],
          [
           0.005540865358498265
          ],
          [
           -0.00875803615895615
          ],
          [
           0.0020684960806701125
          ],
          [
           0.008962493313090791
          ],
          [
           -0.08157971690248819
          ],
          [
           -0.024208085931895773
          ],
          [
           0.050521072022723545
          ],
          [
           -0.0006761432763327246
          ],
          [
           0.012885483073783482
          ],
          [
           0.004123967839404913
          ],
          [
           0.012331909016876252
          ],
          [
           -0.000651437742198363
          ],
          [
           0.010920544738658305
          ],
          [
           0.0025018684314808692
          ],
          [
           0.014435528094365602
          ],
          [
           -0.0058285020613333405
          ],
          [
           0.00991090972323913
          ],
          [
           -0.003678025406964547
          ],
          [
           0.007706328117147887
          ],
          [
           -0.004748002985459715
          ],
          [
           0.008524362394063345
          ],
          [
           -0.007179307649316707
          ],
          [
           0.01044471831669283
          ],
          [
           -0.006152504909771234
          ],
          [
           0.007696639091958779
          ],
          [
           -0.00566437782612883
          ],
          [
           0.007203962442706463
          ],
          [
           -0.002016812009514979
          ],
          [
           0.008448685893502728
          ],
          [
           0.004075190255234867
          ],
          [
           0.011528580707046404
          ],
          [
           0.002033253205202812
          ],
          [
           0.011797137151006554
          ],
          [
           -0.00689487217326018
          ],
          [
           0.012703303788285547
          ],
          [
           -0.009171329171115933
          ],
          [
           0.00581068789497724
          ],
          [
           -0.010371096627500714
          ],
          [
           0.01327696350283225
          ],
          [
           -0.010438181835905336
          ],
          [
           0.013396050477041954
          ]
         ],
         "hovertemplate": "<b>%{hovertext}</b><br><br>Precipitation (mm)=%{x}<br>Smoothed NDVI=%{customdata[0]}<extra></extra>",
         "hovertext": [
          172,
          172,
          172,
          172,
          816,
          816,
          816,
          816,
          816,
          816,
          816,
          816,
          913,
          913,
          913,
          913,
          913,
          913,
          913,
          913,
          916,
          916,
          916,
          916,
          916,
          916,
          916,
          916,
          1265,
          1265,
          1265,
          1265,
          1265,
          1265,
          1265,
          1265,
          1314,
          1314,
          1314,
          1314,
          1314,
          1314,
          1314,
          1314,
          1319,
          1319,
          1319,
          1319,
          1319,
          1319,
          1319,
          1319,
          1558,
          1558,
          1558,
          1558,
          1558,
          1558,
          1558,
          1588,
          1588,
          1588,
          1588,
          1588,
          1588,
          1588,
          1589,
          1589,
          1589,
          1589,
          1589,
          1589,
          1589,
          1590,
          1590,
          1590,
          1590,
          1590,
          1590,
          1590,
          1594,
          1594,
          1594,
          1594,
          1594,
          1594,
          1594,
          1601,
          1601,
          1601,
          1601,
          1601,
          1601,
          1601,
          1608,
          1608,
          1608,
          1608,
          1608,
          1608,
          1608,
          1655,
          1655,
          1655,
          1655,
          1655,
          1655,
          1655,
          2335,
          2335,
          2335,
          2335,
          2335,
          2335,
          2569,
          2569,
          2569,
          2569,
          2577,
          2577,
          2577,
          2577,
          2581,
          2581,
          2581,
          2586,
          2586,
          2586,
          2587,
          2587,
          2587,
          2599,
          2599,
          2599,
          2600,
          2600,
          2600,
          2601,
          2601,
          2601,
          2604,
          2604,
          2604,
          2609,
          2609,
          2614,
          2614,
          2615,
          2615,
          2620,
          2620,
          2621,
          2621,
          2622,
          2622,
          2623,
          2623,
          2624,
          2624,
          2626,
          2626,
          2627,
          2627,
          2628,
          2628,
          2633,
          2633,
          2634,
          2634,
          2645,
          2645,
          2646,
          2646,
          2648,
          2648,
          2650,
          2650
         ],
         "legendgroup": "",
         "marker": {
          "color": "rgb(76,114,176)",
          "symbol": "circle"
         },
         "mode": "markers",
         "name": "",
         "showlegend": false,
         "type": "scatter",
         "x": [
          246.70000022649765,
          233.29999881982803,
          283.49999874830246,
          192.70000049471855,
          246.70000022649765,
          233.29999881982803,
          283.49999874830246,
          192.70000049471855,
          294.02933743596077,
          211.29819747805595,
          342.7775985598564,
          274.4563195705414,
          246.70000022649765,
          233.29999881982803,
          283.49999874830246,
          192.70000049471855,
          294.02933743596077,
          211.29819747805595,
          342.7775985598564,
          274.4563195705414,
          246.70000022649765,
          233.29999881982803,
          283.49999874830246,
          192.70000049471855,
          294.02933743596077,
          211.29819747805595,
          342.7775985598564,
          274.4563195705414,
          246.70000022649765,
          233.29999881982803,
          283.49999874830246,
          192.70000049471855,
          294.02933743596077,
          211.29819747805595,
          342.7775985598564,
          274.4563195705414,
          246.70000022649765,
          233.29999881982803,
          283.49999874830246,
          192.70000049471855,
          294.02933743596077,
          211.29819747805595,
          342.7775985598564,
          274.4563195705414,
          246.70000022649765,
          233.29999881982803,
          283.49999874830246,
          192.70000049471855,
          294.02933743596077,
          211.29819747805595,
          342.7775985598564,
          274.4563195705414,
          246.70000022649765,
          233.29999881982803,
          283.49999874830246,
          192.70000049471855,
          211.29819747805595,
          342.7775985598564,
          274.4563195705414,
          246.70000022649765,
          233.29999881982803,
          283.49999874830246,
          192.70000049471855,
          211.29819747805595,
          342.7775985598564,
          274.4563195705414,
          246.70000022649765,
          233.29999881982803,
          283.49999874830246,
          192.70000049471855,
          211.29819747805595,
          342.7775985598564,
          274.4563195705414,
          246.70000022649765,
          233.29999881982803,
          283.49999874830246,
          192.70000049471855,
          211.29819747805595,
          342.7775985598564,
          274.4563195705414,
          246.70000022649765,
          233.29999881982803,
          283.49999874830246,
          192.70000049471855,
          211.29819747805595,
          342.7775985598564,
          274.4563195705414,
          246.70000022649765,
          233.29999881982803,
          283.49999874830246,
          192.70000049471855,
          211.29819747805595,
          342.7775985598564,
          274.4563195705414,
          246.70000022649765,
          233.29999881982803,
          283.49999874830246,
          192.70000049471855,
          211.29819747805595,
          342.7775985598564,
          274.4563195705414,
          246.70000022649765,
          233.29999881982803,
          283.49999874830246,
          192.70000049471855,
          211.29819747805595,
          342.7775985598564,
          274.4563195705414,
          246.70000022649765,
          233.29999881982803,
          283.49999874830246,
          192.70000049471855,
          342.7775985598564,
          274.4563195705414,
          246.70000022649765,
          233.29999881982803,
          283.49999874830246,
          192.70000049471855,
          246.70000022649765,
          233.29999881982803,
          283.49999874830246,
          192.70000049471855,
          233.29999881982803,
          283.49999874830246,
          192.70000049471855,
          233.29999881982803,
          283.49999874830246,
          192.70000049471855,
          233.29999881982803,
          283.49999874830246,
          192.70000049471855,
          233.29999881982803,
          283.49999874830246,
          192.70000049471855,
          233.29999881982803,
          283.49999874830246,
          192.70000049471855,
          233.29999881982803,
          283.49999874830246,
          192.70000049471855,
          233.29999881982803,
          283.49999874830246,
          192.70000049471855,
          283.49999874830246,
          192.70000049471855,
          283.49999874830246,
          192.70000049471855,
          283.49999874830246,
          192.70000049471855,
          283.49999874830246,
          192.70000049471855,
          283.49999874830246,
          192.70000049471855,
          283.49999874830246,
          192.70000049471855,
          283.49999874830246,
          192.70000049471855,
          283.49999874830246,
          192.70000049471855,
          283.49999874830246,
          192.70000049471855,
          283.49999874830246,
          192.70000049471855,
          283.49999874830246,
          192.70000049471855,
          283.49999874830246,
          192.70000049471855,
          283.49999874830246,
          192.70000049471855,
          283.49999874830246,
          192.70000049471855,
          283.49999874830246,
          192.70000049471855,
          283.49999874830246,
          192.70000049471855,
          283.49999874830246,
          192.70000049471855
         ],
         "xaxis": "x",
         "y": [
          0.003429338113346614,
          0.014249780753258778,
          0.027376621611377508,
          0.027373524438977864,
          0.0012208596613880185,
          -0.008651282685964129,
          -0.0037381564630935282,
          0.0045107644950853065,
          -0.007930984668899327,
          0.003969974131788956,
          0.03118038558318381,
          0.009743212215292008,
          -0.006413136007700659,
          -0.012376386633409314,
          -0.006772024994679632,
          0.010114266321127108,
          -0.0160042183855032,
          -0.015470449450793289,
          0.013261524378101602,
          0.0007714130615759096,
          -0.010597826409509459,
          -0.011855936981814086,
          -0.006370975526482442,
          0.01164239696014599,
          -0.005351208498698468,
          -0.0017493463927010233,
          0.032686490823272685,
          0.008953566671157931,
          -0.01576276232775012,
          -0.010274437563613237,
          -0.0028290462901051916,
          0.005943562981720274,
          0.02195643143133033,
          -0.0004928493635648623,
          0.00980654208141618,
          0.004099827880660795,
          -0.015479396714245863,
          -0.011154901555648827,
          -0.0038202743601145894,
          0.013501587882982946,
          0.0006317463063925388,
          -0.007407819709156993,
          0.023721749706606343,
          0.004152625087176204,
          -0.014367152201835487,
          -0.014803169653248044,
          0.006899653037762132,
          0.015539309495864462,
          -0.008754079731171566,
          -0.000586941489564563,
          0.025103091463168803,
          0.0011399772456137658,
          -0.004317441896453167,
          -0.008118571370658106,
          0.001319635904648342,
          0.01447575203261034,
          -0.016174624082656797,
          0.005140653728515188,
          0.00948539574178317,
          -0.006370387553307433,
          -0.012422695738433687,
          -0.005025815181133708,
          0.009787387893064547,
          -0.007084293995315877,
          0.011301576013875408,
          0.0038172660836129357,
          -0.010271143052587695,
          -0.010929286404715521,
          -0.0023548739247949424,
          0.009412448043098737,
          0.0031782455266888276,
          0.023016017631609736,
          0.004869955672635401,
          -0.005959015782043914,
          -0.01672633656072528,
          -0.003239994751956826,
          0.01278608064229228,
          -0.005555685345862732,
          0.014140652548606247,
          0.00953743819283559,
          0.015972124701930268,
          -0.00317775202336526,
          -0.0025474862618879712,
          0.0037264575970987757,
          -0.01245427742347302,
          0.040500007267878446,
          0.02851130671633384,
          -0.005943828396177048,
          -0.012593538552406441,
          -0.0031679803844069376,
          0.005178097997336789,
          -0.027257533420715463,
          0.006812150221682356,
          0.00480221524916466,
          -0.005779705382236849,
          -0.009768809819231894,
          -0.0008371216374346291,
          0.00992173435063004,
          0.011053005184136155,
          0.011071824161424604,
          0.004015181402792195,
          -0.004037300772809754,
          -0.009707208452164218,
          -0.004210690572896636,
          0.010551860479366348,
          -0.02153042071861111,
          0.005074470439339396,
          0.00766753786010671,
          0.02097871413856167,
          -0.0028191203041476876,
          -0.003626307700851983,
          0.0035682440799314763,
          0.0416006740854499,
          0.029913888508043107,
          -0.00014631365636538773,
          -0.005046313801791463,
          0.014215369925035914,
          0.016293338749424707,
          -0.004317441896453167,
          -0.008118571370658106,
          0.0013196359046483142,
          0.014475752032610312,
          0.00042072029412733303,
          0.028012550361877844,
          0.02855537980065842,
          -0.015289078280680046,
          -0.00562440689132529,
          0.015699946081979388,
          -0.005206701741074543,
          -0.002121998881522702,
          0.015605240390666741,
          -0.010082999137245113,
          -0.00647867048255879,
          0.010885382318893133,
          -0.007955627321886483,
          -0.002839706748805959,
          0.005540865358498265,
          -0.00875803615895615,
          0.0020684960806701125,
          0.008962493313090791,
          -0.08157971690248819,
          -0.024208085931895773,
          0.050521072022723545,
          -0.0006761432763327246,
          0.012885483073783482,
          0.004123967839404913,
          0.012331909016876252,
          -0.000651437742198363,
          0.010920544738658305,
          0.0025018684314808692,
          0.014435528094365602,
          -0.0058285020613333405,
          0.00991090972323913,
          -0.003678025406964547,
          0.007706328117147887,
          -0.004748002985459715,
          0.008524362394063345,
          -0.007179307649316707,
          0.01044471831669283,
          -0.006152504909771234,
          0.007696639091958779,
          -0.00566437782612883,
          0.007203962442706463,
          -0.002016812009514979,
          0.008448685893502728,
          0.004075190255234867,
          0.011528580707046404,
          0.002033253205202812,
          0.011797137151006554,
          -0.00689487217326018,
          0.012703303788285547,
          -0.009171329171115933,
          0.00581068789497724,
          -0.010371096627500714,
          0.01327696350283225,
          -0.010438181835905336,
          0.013396050477041954
         ],
         "yaxis": "y"
        },
        {
         "hovertemplate": "<b>OLS trendline</b><br>NDVI_delta = 1.877e-05 * precip + -0.00239786<br>R<sup>2</sup>=0.003598<br><br>Precipitation (mm)=%{x}<br>Smoothed NDVI=%{y} <b>(trend)</b><extra></extra>",
         "legendgroup": "",
         "marker": {
          "color": "rgb(76,114,176)",
          "symbol": "circle"
         },
         "mode": "lines",
         "name": "",
         "showlegend": false,
         "type": "scatter",
         "x": [
          192.70000049471855,
          192.70000049471855,
          192.70000049471855,
          192.70000049471855,
          192.70000049471855,
          192.70000049471855,
          192.70000049471855,
          192.70000049471855,
          192.70000049471855,
          192.70000049471855,
          192.70000049471855,
          192.70000049471855,
          192.70000049471855,
          192.70000049471855,
          192.70000049471855,
          192.70000049471855,
          192.70000049471855,
          192.70000049471855,
          192.70000049471855,
          192.70000049471855,
          192.70000049471855,
          192.70000049471855,
          192.70000049471855,
          192.70000049471855,
          192.70000049471855,
          192.70000049471855,
          192.70000049471855,
          192.70000049471855,
          192.70000049471855,
          192.70000049471855,
          192.70000049471855,
          192.70000049471855,
          192.70000049471855,
          192.70000049471855,
          192.70000049471855,
          192.70000049471855,
          192.70000049471855,
          192.70000049471855,
          192.70000049471855,
          192.70000049471855,
          192.70000049471855,
          192.70000049471855,
          211.29819747805595,
          211.29819747805595,
          211.29819747805595,
          211.29819747805595,
          211.29819747805595,
          211.29819747805595,
          211.29819747805595,
          211.29819747805595,
          211.29819747805595,
          211.29819747805595,
          211.29819747805595,
          211.29819747805595,
          211.29819747805595,
          211.29819747805595,
          233.29999881982803,
          233.29999881982803,
          233.29999881982803,
          233.29999881982803,
          233.29999881982803,
          233.29999881982803,
          233.29999881982803,
          233.29999881982803,
          233.29999881982803,
          233.29999881982803,
          233.29999881982803,
          233.29999881982803,
          233.29999881982803,
          233.29999881982803,
          233.29999881982803,
          233.29999881982803,
          233.29999881982803,
          233.29999881982803,
          233.29999881982803,
          233.29999881982803,
          233.29999881982803,
          233.29999881982803,
          233.29999881982803,
          233.29999881982803,
          233.29999881982803,
          246.70000022649765,
          246.70000022649765,
          246.70000022649765,
          246.70000022649765,
          246.70000022649765,
          246.70000022649765,
          246.70000022649765,
          246.70000022649765,
          246.70000022649765,
          246.70000022649765,
          246.70000022649765,
          246.70000022649765,
          246.70000022649765,
          246.70000022649765,
          246.70000022649765,
          246.70000022649765,
          246.70000022649765,
          246.70000022649765,
          274.4563195705414,
          274.4563195705414,
          274.4563195705414,
          274.4563195705414,
          274.4563195705414,
          274.4563195705414,
          274.4563195705414,
          274.4563195705414,
          274.4563195705414,
          274.4563195705414,
          274.4563195705414,
          274.4563195705414,
          274.4563195705414,
          274.4563195705414,
          274.4563195705414,
          283.49999874830246,
          283.49999874830246,
          283.49999874830246,
          283.49999874830246,
          283.49999874830246,
          283.49999874830246,
          283.49999874830246,
          283.49999874830246,
          283.49999874830246,
          283.49999874830246,
          283.49999874830246,
          283.49999874830246,
          283.49999874830246,
          283.49999874830246,
          283.49999874830246,
          283.49999874830246,
          283.49999874830246,
          283.49999874830246,
          283.49999874830246,
          283.49999874830246,
          283.49999874830246,
          283.49999874830246,
          283.49999874830246,
          283.49999874830246,
          283.49999874830246,
          283.49999874830246,
          283.49999874830246,
          283.49999874830246,
          283.49999874830246,
          283.49999874830246,
          283.49999874830246,
          283.49999874830246,
          283.49999874830246,
          283.49999874830246,
          283.49999874830246,
          283.49999874830246,
          283.49999874830246,
          283.49999874830246,
          283.49999874830246,
          283.49999874830246,
          283.49999874830246,
          283.49999874830246,
          294.02933743596077,
          294.02933743596077,
          294.02933743596077,
          294.02933743596077,
          294.02933743596077,
          294.02933743596077,
          342.7775985598564,
          342.7775985598564,
          342.7775985598564,
          342.7775985598564,
          342.7775985598564,
          342.7775985598564,
          342.7775985598564,
          342.7775985598564,
          342.7775985598564,
          342.7775985598564,
          342.7775985598564,
          342.7775985598564,
          342.7775985598564,
          342.7775985598564,
          342.7775985598564
         ],
         "xaxis": "x",
         "y": [
          0.0012191164605798643,
          0.0012191164605798643,
          0.0012191164605798643,
          0.0012191164605798643,
          0.0012191164605798643,
          0.0012191164605798643,
          0.0012191164605798643,
          0.0012191164605798643,
          0.0012191164605798643,
          0.0012191164605798643,
          0.0012191164605798643,
          0.0012191164605798643,
          0.0012191164605798643,
          0.0012191164605798643,
          0.0012191164605798643,
          0.0012191164605798643,
          0.0012191164605798643,
          0.0012191164605798643,
          0.0012191164605798643,
          0.0012191164605798643,
          0.0012191164605798643,
          0.0012191164605798643,
          0.0012191164605798643,
          0.0012191164605798643,
          0.0012191164605798643,
          0.0012191164605798643,
          0.0012191164605798643,
          0.0012191164605798643,
          0.0012191164605798643,
          0.0012191164605798643,
          0.0012191164605798643,
          0.0012191164605798643,
          0.0012191164605798643,
          0.0012191164605798643,
          0.0012191164605798643,
          0.0012191164605798643,
          0.0012191164605798643,
          0.0012191164605798643,
          0.0012191164605798643,
          0.0012191164605798643,
          0.0012191164605798643,
          0.0012191164605798643,
          0.0015682039022468786,
          0.0015682039022468786,
          0.0015682039022468786,
          0.0015682039022468786,
          0.0015682039022468786,
          0.0015682039022468786,
          0.0015682039022468786,
          0.0015682039022468786,
          0.0015682039022468786,
          0.0015682039022468786,
          0.0015682039022468786,
          0.0015682039022468786,
          0.0015682039022468786,
          0.0015682039022468786,
          0.001981176866741571,
          0.001981176866741571,
          0.001981176866741571,
          0.001981176866741571,
          0.001981176866741571,
          0.001981176866741571,
          0.001981176866741571,
          0.001981176866741571,
          0.001981176866741571,
          0.001981176866741571,
          0.001981176866741571,
          0.001981176866741571,
          0.001981176866741571,
          0.001981176866741571,
          0.001981176866741571,
          0.001981176866741571,
          0.001981176866741571,
          0.001981176866741571,
          0.001981176866741571,
          0.001981176866741571,
          0.001981176866741571,
          0.001981176866741571,
          0.001981176866741571,
          0.001981176866741571,
          0.001981176866741571,
          0.002232694377475521,
          0.002232694377475521,
          0.002232694377475521,
          0.002232694377475521,
          0.002232694377475521,
          0.002232694377475521,
          0.002232694377475521,
          0.002232694377475521,
          0.002232694377475521,
          0.002232694377475521,
          0.002232694377475521,
          0.002232694377475521,
          0.002232694377475521,
          0.002232694377475521,
          0.002232694377475521,
          0.002232694377475521,
          0.002232694377475521,
          0.002232694377475521,
          0.002753679423423031,
          0.002753679423423031,
          0.002753679423423031,
          0.002753679423423031,
          0.002753679423423031,
          0.002753679423423031,
          0.002753679423423031,
          0.002753679423423031,
          0.002753679423423031,
          0.002753679423423031,
          0.002753679423423031,
          0.002753679423423031,
          0.002753679423423031,
          0.002753679423423031,
          0.002753679423423031,
          0.0029234289335637363,
          0.0029234289335637363,
          0.0029234289335637363,
          0.0029234289335637363,
          0.0029234289335637363,
          0.0029234289335637363,
          0.0029234289335637363,
          0.0029234289335637363,
          0.0029234289335637363,
          0.0029234289335637363,
          0.0029234289335637363,
          0.0029234289335637363,
          0.0029234289335637363,
          0.0029234289335637363,
          0.0029234289335637363,
          0.0029234289335637363,
          0.0029234289335637363,
          0.0029234289335637363,
          0.0029234289335637363,
          0.0029234289335637363,
          0.0029234289335637363,
          0.0029234289335637363,
          0.0029234289335637363,
          0.0029234289335637363,
          0.0029234289335637363,
          0.0029234289335637363,
          0.0029234289335637363,
          0.0029234289335637363,
          0.0029234289335637363,
          0.0029234289335637363,
          0.0029234289335637363,
          0.0029234289335637363,
          0.0029234289335637363,
          0.0029234289335637363,
          0.0029234289335637363,
          0.0029234289335637363,
          0.0029234289335637363,
          0.0029234289335637363,
          0.0029234289335637363,
          0.0029234289335637363,
          0.0029234289335637363,
          0.0029234289335637363,
          0.0031210642155329116,
          0.0031210642155329116,
          0.0031210642155329116,
          0.0031210642155329116,
          0.0031210642155329116,
          0.0031210642155329116,
          0.004036067200860071,
          0.004036067200860071,
          0.004036067200860071,
          0.004036067200860071,
          0.004036067200860071,
          0.004036067200860071,
          0.004036067200860071,
          0.004036067200860071,
          0.004036067200860071,
          0.004036067200860071,
          0.004036067200860071,
          0.004036067200860071,
          0.004036067200860071,
          0.004036067200860071,
          0.004036067200860071
         ],
         "yaxis": "y"
        }
       ],
       "layout": {
        "annotations": [
         {
          "showarrow": false,
          "text": "Source: Landsat 8 data from USGS, meteorological data from gridMET",
          "x": 0.01,
          "xref": "paper",
          "y": 0.01,
          "yref": "paper"
         }
        ],
        "height": 700,
        "legend": {
         "tracegroupgap": 0
        },
        "showlegend": false,
        "template": {
         "data": {
          "bar": [
           {
            "error_x": {
             "color": "rgb(36,36,36)"
            },
            "error_y": {
             "color": "rgb(36,36,36)"
            },
            "marker": {
             "line": {
              "color": "rgb(234,234,242)",
              "width": 0.5
             }
            },
            "type": "bar"
           }
          ],
          "barpolar": [
           {
            "marker": {
             "line": {
              "color": "rgb(234,234,242)",
              "width": 0.5
             }
            },
            "type": "barpolar"
           }
          ],
          "carpet": [
           {
            "aaxis": {
             "endlinecolor": "rgb(36,36,36)",
             "gridcolor": "white",
             "linecolor": "white",
             "minorgridcolor": "white",
             "startlinecolor": "rgb(36,36,36)"
            },
            "baxis": {
             "endlinecolor": "rgb(36,36,36)",
             "gridcolor": "white",
             "linecolor": "white",
             "minorgridcolor": "white",
             "startlinecolor": "rgb(36,36,36)"
            },
            "type": "carpet"
           }
          ],
          "choropleth": [
           {
            "colorbar": {
             "outlinewidth": 0,
             "tickcolor": "rgb(36,36,36)",
             "ticklen": 8,
             "ticks": "outside",
             "tickwidth": 2
            },
            "type": "choropleth"
           }
          ],
          "contour": [
           {
            "colorbar": {
             "outlinewidth": 0,
             "tickcolor": "rgb(36,36,36)",
             "ticklen": 8,
             "ticks": "outside",
             "tickwidth": 2
            },
            "colorscale": [
             [
              0,
              "rgb(2,4,25)"
             ],
             [
              0.06274509803921569,
              "rgb(24,15,41)"
             ],
             [
              0.12549019607843137,
              "rgb(47,23,57)"
             ],
             [
              0.18823529411764706,
              "rgb(71,28,72)"
             ],
             [
              0.25098039215686274,
              "rgb(97,30,82)"
             ],
             [
              0.3137254901960784,
              "rgb(123,30,89)"
             ],
             [
              0.3764705882352941,
              "rgb(150,27,91)"
             ],
             [
              0.4392156862745098,
              "rgb(177,22,88)"
             ],
             [
              0.5019607843137255,
              "rgb(203,26,79)"
             ],
             [
              0.5647058823529412,
              "rgb(223,47,67)"
             ],
             [
              0.6274509803921569,
              "rgb(236,76,61)"
             ],
             [
              0.6901960784313725,
              "rgb(242,107,73)"
             ],
             [
              0.7529411764705882,
              "rgb(244,135,95)"
             ],
             [
              0.8156862745098039,
              "rgb(245,162,122)"
             ],
             [
              0.8784313725490196,
              "rgb(246,188,153)"
             ],
             [
              0.9411764705882353,
              "rgb(247,212,187)"
             ],
             [
              1,
              "rgb(250,234,220)"
             ]
            ],
            "type": "contour"
           }
          ],
          "contourcarpet": [
           {
            "colorbar": {
             "outlinewidth": 0,
             "tickcolor": "rgb(36,36,36)",
             "ticklen": 8,
             "ticks": "outside",
             "tickwidth": 2
            },
            "type": "contourcarpet"
           }
          ],
          "heatmap": [
           {
            "colorbar": {
             "outlinewidth": 0,
             "tickcolor": "rgb(36,36,36)",
             "ticklen": 8,
             "ticks": "outside",
             "tickwidth": 2
            },
            "colorscale": [
             [
              0,
              "rgb(2,4,25)"
             ],
             [
              0.06274509803921569,
              "rgb(24,15,41)"
             ],
             [
              0.12549019607843137,
              "rgb(47,23,57)"
             ],
             [
              0.18823529411764706,
              "rgb(71,28,72)"
             ],
             [
              0.25098039215686274,
              "rgb(97,30,82)"
             ],
             [
              0.3137254901960784,
              "rgb(123,30,89)"
             ],
             [
              0.3764705882352941,
              "rgb(150,27,91)"
             ],
             [
              0.4392156862745098,
              "rgb(177,22,88)"
             ],
             [
              0.5019607843137255,
              "rgb(203,26,79)"
             ],
             [
              0.5647058823529412,
              "rgb(223,47,67)"
             ],
             [
              0.6274509803921569,
              "rgb(236,76,61)"
             ],
             [
              0.6901960784313725,
              "rgb(242,107,73)"
             ],
             [
              0.7529411764705882,
              "rgb(244,135,95)"
             ],
             [
              0.8156862745098039,
              "rgb(245,162,122)"
             ],
             [
              0.8784313725490196,
              "rgb(246,188,153)"
             ],
             [
              0.9411764705882353,
              "rgb(247,212,187)"
             ],
             [
              1,
              "rgb(250,234,220)"
             ]
            ],
            "type": "heatmap"
           }
          ],
          "heatmapgl": [
           {
            "colorbar": {
             "outlinewidth": 0,
             "tickcolor": "rgb(36,36,36)",
             "ticklen": 8,
             "ticks": "outside",
             "tickwidth": 2
            },
            "colorscale": [
             [
              0,
              "rgb(2,4,25)"
             ],
             [
              0.06274509803921569,
              "rgb(24,15,41)"
             ],
             [
              0.12549019607843137,
              "rgb(47,23,57)"
             ],
             [
              0.18823529411764706,
              "rgb(71,28,72)"
             ],
             [
              0.25098039215686274,
              "rgb(97,30,82)"
             ],
             [
              0.3137254901960784,
              "rgb(123,30,89)"
             ],
             [
              0.3764705882352941,
              "rgb(150,27,91)"
             ],
             [
              0.4392156862745098,
              "rgb(177,22,88)"
             ],
             [
              0.5019607843137255,
              "rgb(203,26,79)"
             ],
             [
              0.5647058823529412,
              "rgb(223,47,67)"
             ],
             [
              0.6274509803921569,
              "rgb(236,76,61)"
             ],
             [
              0.6901960784313725,
              "rgb(242,107,73)"
             ],
             [
              0.7529411764705882,
              "rgb(244,135,95)"
             ],
             [
              0.8156862745098039,
              "rgb(245,162,122)"
             ],
             [
              0.8784313725490196,
              "rgb(246,188,153)"
             ],
             [
              0.9411764705882353,
              "rgb(247,212,187)"
             ],
             [
              1,
              "rgb(250,234,220)"
             ]
            ],
            "type": "heatmapgl"
           }
          ],
          "histogram": [
           {
            "marker": {
             "colorbar": {
              "outlinewidth": 0,
              "tickcolor": "rgb(36,36,36)",
              "ticklen": 8,
              "ticks": "outside",
              "tickwidth": 2
             }
            },
            "type": "histogram"
           }
          ],
          "histogram2d": [
           {
            "colorbar": {
             "outlinewidth": 0,
             "tickcolor": "rgb(36,36,36)",
             "ticklen": 8,
             "ticks": "outside",
             "tickwidth": 2
            },
            "colorscale": [
             [
              0,
              "rgb(2,4,25)"
             ],
             [
              0.06274509803921569,
              "rgb(24,15,41)"
             ],
             [
              0.12549019607843137,
              "rgb(47,23,57)"
             ],
             [
              0.18823529411764706,
              "rgb(71,28,72)"
             ],
             [
              0.25098039215686274,
              "rgb(97,30,82)"
             ],
             [
              0.3137254901960784,
              "rgb(123,30,89)"
             ],
             [
              0.3764705882352941,
              "rgb(150,27,91)"
             ],
             [
              0.4392156862745098,
              "rgb(177,22,88)"
             ],
             [
              0.5019607843137255,
              "rgb(203,26,79)"
             ],
             [
              0.5647058823529412,
              "rgb(223,47,67)"
             ],
             [
              0.6274509803921569,
              "rgb(236,76,61)"
             ],
             [
              0.6901960784313725,
              "rgb(242,107,73)"
             ],
             [
              0.7529411764705882,
              "rgb(244,135,95)"
             ],
             [
              0.8156862745098039,
              "rgb(245,162,122)"
             ],
             [
              0.8784313725490196,
              "rgb(246,188,153)"
             ],
             [
              0.9411764705882353,
              "rgb(247,212,187)"
             ],
             [
              1,
              "rgb(250,234,220)"
             ]
            ],
            "type": "histogram2d"
           }
          ],
          "histogram2dcontour": [
           {
            "colorbar": {
             "outlinewidth": 0,
             "tickcolor": "rgb(36,36,36)",
             "ticklen": 8,
             "ticks": "outside",
             "tickwidth": 2
            },
            "colorscale": [
             [
              0,
              "rgb(2,4,25)"
             ],
             [
              0.06274509803921569,
              "rgb(24,15,41)"
             ],
             [
              0.12549019607843137,
              "rgb(47,23,57)"
             ],
             [
              0.18823529411764706,
              "rgb(71,28,72)"
             ],
             [
              0.25098039215686274,
              "rgb(97,30,82)"
             ],
             [
              0.3137254901960784,
              "rgb(123,30,89)"
             ],
             [
              0.3764705882352941,
              "rgb(150,27,91)"
             ],
             [
              0.4392156862745098,
              "rgb(177,22,88)"
             ],
             [
              0.5019607843137255,
              "rgb(203,26,79)"
             ],
             [
              0.5647058823529412,
              "rgb(223,47,67)"
             ],
             [
              0.6274509803921569,
              "rgb(236,76,61)"
             ],
             [
              0.6901960784313725,
              "rgb(242,107,73)"
             ],
             [
              0.7529411764705882,
              "rgb(244,135,95)"
             ],
             [
              0.8156862745098039,
              "rgb(245,162,122)"
             ],
             [
              0.8784313725490196,
              "rgb(246,188,153)"
             ],
             [
              0.9411764705882353,
              "rgb(247,212,187)"
             ],
             [
              1,
              "rgb(250,234,220)"
             ]
            ],
            "type": "histogram2dcontour"
           }
          ],
          "mesh3d": [
           {
            "colorbar": {
             "outlinewidth": 0,
             "tickcolor": "rgb(36,36,36)",
             "ticklen": 8,
             "ticks": "outside",
             "tickwidth": 2
            },
            "type": "mesh3d"
           }
          ],
          "parcoords": [
           {
            "line": {
             "colorbar": {
              "outlinewidth": 0,
              "tickcolor": "rgb(36,36,36)",
              "ticklen": 8,
              "ticks": "outside",
              "tickwidth": 2
             }
            },
            "type": "parcoords"
           }
          ],
          "pie": [
           {
            "automargin": true,
            "type": "pie"
           }
          ],
          "scatter": [
           {
            "marker": {
             "colorbar": {
              "outlinewidth": 0,
              "tickcolor": "rgb(36,36,36)",
              "ticklen": 8,
              "ticks": "outside",
              "tickwidth": 2
             }
            },
            "type": "scatter"
           }
          ],
          "scatter3d": [
           {
            "line": {
             "colorbar": {
              "outlinewidth": 0,
              "tickcolor": "rgb(36,36,36)",
              "ticklen": 8,
              "ticks": "outside",
              "tickwidth": 2
             }
            },
            "marker": {
             "colorbar": {
              "outlinewidth": 0,
              "tickcolor": "rgb(36,36,36)",
              "ticklen": 8,
              "ticks": "outside",
              "tickwidth": 2
             }
            },
            "type": "scatter3d"
           }
          ],
          "scattercarpet": [
           {
            "marker": {
             "colorbar": {
              "outlinewidth": 0,
              "tickcolor": "rgb(36,36,36)",
              "ticklen": 8,
              "ticks": "outside",
              "tickwidth": 2
             }
            },
            "type": "scattercarpet"
           }
          ],
          "scattergeo": [
           {
            "marker": {
             "colorbar": {
              "outlinewidth": 0,
              "tickcolor": "rgb(36,36,36)",
              "ticklen": 8,
              "ticks": "outside",
              "tickwidth": 2
             }
            },
            "type": "scattergeo"
           }
          ],
          "scattergl": [
           {
            "marker": {
             "colorbar": {
              "outlinewidth": 0,
              "tickcolor": "rgb(36,36,36)",
              "ticklen": 8,
              "ticks": "outside",
              "tickwidth": 2
             }
            },
            "type": "scattergl"
           }
          ],
          "scattermapbox": [
           {
            "marker": {
             "colorbar": {
              "outlinewidth": 0,
              "tickcolor": "rgb(36,36,36)",
              "ticklen": 8,
              "ticks": "outside",
              "tickwidth": 2
             }
            },
            "type": "scattermapbox"
           }
          ],
          "scatterpolar": [
           {
            "marker": {
             "colorbar": {
              "outlinewidth": 0,
              "tickcolor": "rgb(36,36,36)",
              "ticklen": 8,
              "ticks": "outside",
              "tickwidth": 2
             }
            },
            "type": "scatterpolar"
           }
          ],
          "scatterpolargl": [
           {
            "marker": {
             "colorbar": {
              "outlinewidth": 0,
              "tickcolor": "rgb(36,36,36)",
              "ticklen": 8,
              "ticks": "outside",
              "tickwidth": 2
             }
            },
            "type": "scatterpolargl"
           }
          ],
          "scatterternary": [
           {
            "marker": {
             "colorbar": {
              "outlinewidth": 0,
              "tickcolor": "rgb(36,36,36)",
              "ticklen": 8,
              "ticks": "outside",
              "tickwidth": 2
             }
            },
            "type": "scatterternary"
           }
          ],
          "surface": [
           {
            "colorbar": {
             "outlinewidth": 0,
             "tickcolor": "rgb(36,36,36)",
             "ticklen": 8,
             "ticks": "outside",
             "tickwidth": 2
            },
            "colorscale": [
             [
              0,
              "rgb(2,4,25)"
             ],
             [
              0.06274509803921569,
              "rgb(24,15,41)"
             ],
             [
              0.12549019607843137,
              "rgb(47,23,57)"
             ],
             [
              0.18823529411764706,
              "rgb(71,28,72)"
             ],
             [
              0.25098039215686274,
              "rgb(97,30,82)"
             ],
             [
              0.3137254901960784,
              "rgb(123,30,89)"
             ],
             [
              0.3764705882352941,
              "rgb(150,27,91)"
             ],
             [
              0.4392156862745098,
              "rgb(177,22,88)"
             ],
             [
              0.5019607843137255,
              "rgb(203,26,79)"
             ],
             [
              0.5647058823529412,
              "rgb(223,47,67)"
             ],
             [
              0.6274509803921569,
              "rgb(236,76,61)"
             ],
             [
              0.6901960784313725,
              "rgb(242,107,73)"
             ],
             [
              0.7529411764705882,
              "rgb(244,135,95)"
             ],
             [
              0.8156862745098039,
              "rgb(245,162,122)"
             ],
             [
              0.8784313725490196,
              "rgb(246,188,153)"
             ],
             [
              0.9411764705882353,
              "rgb(247,212,187)"
             ],
             [
              1,
              "rgb(250,234,220)"
             ]
            ],
            "type": "surface"
           }
          ],
          "table": [
           {
            "cells": {
             "fill": {
              "color": "rgb(231,231,240)"
             },
             "line": {
              "color": "white"
             }
            },
            "header": {
             "fill": {
              "color": "rgb(183,183,191)"
             },
             "line": {
              "color": "white"
             }
            },
            "type": "table"
           }
          ]
         },
         "layout": {
          "annotationdefaults": {
           "arrowcolor": "rgb(67,103,167)"
          },
          "coloraxis": {
           "colorbar": {
            "outlinewidth": 0,
            "tickcolor": "rgb(36,36,36)",
            "ticklen": 8,
            "ticks": "outside",
            "tickwidth": 2
           }
          },
          "colorscale": {
           "sequential": [
            [
             0,
             "rgb(2,4,25)"
            ],
            [
             0.06274509803921569,
             "rgb(24,15,41)"
            ],
            [
             0.12549019607843137,
             "rgb(47,23,57)"
            ],
            [
             0.18823529411764706,
             "rgb(71,28,72)"
            ],
            [
             0.25098039215686274,
             "rgb(97,30,82)"
            ],
            [
             0.3137254901960784,
             "rgb(123,30,89)"
            ],
            [
             0.3764705882352941,
             "rgb(150,27,91)"
            ],
            [
             0.4392156862745098,
             "rgb(177,22,88)"
            ],
            [
             0.5019607843137255,
             "rgb(203,26,79)"
            ],
            [
             0.5647058823529412,
             "rgb(223,47,67)"
            ],
            [
             0.6274509803921569,
             "rgb(236,76,61)"
            ],
            [
             0.6901960784313725,
             "rgb(242,107,73)"
            ],
            [
             0.7529411764705882,
             "rgb(244,135,95)"
            ],
            [
             0.8156862745098039,
             "rgb(245,162,122)"
            ],
            [
             0.8784313725490196,
             "rgb(246,188,153)"
            ],
            [
             0.9411764705882353,
             "rgb(247,212,187)"
            ],
            [
             1,
             "rgb(250,234,220)"
            ]
           ],
           "sequentialminus": [
            [
             0,
             "rgb(2,4,25)"
            ],
            [
             0.06274509803921569,
             "rgb(24,15,41)"
            ],
            [
             0.12549019607843137,
             "rgb(47,23,57)"
            ],
            [
             0.18823529411764706,
             "rgb(71,28,72)"
            ],
            [
             0.25098039215686274,
             "rgb(97,30,82)"
            ],
            [
             0.3137254901960784,
             "rgb(123,30,89)"
            ],
            [
             0.3764705882352941,
             "rgb(150,27,91)"
            ],
            [
             0.4392156862745098,
             "rgb(177,22,88)"
            ],
            [
             0.5019607843137255,
             "rgb(203,26,79)"
            ],
            [
             0.5647058823529412,
             "rgb(223,47,67)"
            ],
            [
             0.6274509803921569,
             "rgb(236,76,61)"
            ],
            [
             0.6901960784313725,
             "rgb(242,107,73)"
            ],
            [
             0.7529411764705882,
             "rgb(244,135,95)"
            ],
            [
             0.8156862745098039,
             "rgb(245,162,122)"
            ],
            [
             0.8784313725490196,
             "rgb(246,188,153)"
            ],
            [
             0.9411764705882353,
             "rgb(247,212,187)"
            ],
            [
             1,
             "rgb(250,234,220)"
            ]
           ]
          },
          "colorway": [
           "rgb(76,114,176)",
           "rgb(221,132,82)",
           "rgb(85,168,104)",
           "rgb(196,78,82)",
           "rgb(129,114,179)",
           "rgb(147,120,96)",
           "rgb(218,139,195)",
           "rgb(140,140,140)",
           "rgb(204,185,116)",
           "rgb(100,181,205)"
          ],
          "font": {
           "color": "rgb(36,36,36)"
          },
          "geo": {
           "bgcolor": "white",
           "lakecolor": "white",
           "landcolor": "rgb(234,234,242)",
           "showlakes": true,
           "showland": true,
           "subunitcolor": "white"
          },
          "hoverlabel": {
           "align": "left"
          },
          "hovermode": "closest",
          "paper_bgcolor": "white",
          "plot_bgcolor": "rgb(234,234,242)",
          "polar": {
           "angularaxis": {
            "gridcolor": "white",
            "linecolor": "white",
            "showgrid": true,
            "ticks": ""
           },
           "bgcolor": "rgb(234,234,242)",
           "radialaxis": {
            "gridcolor": "white",
            "linecolor": "white",
            "showgrid": true,
            "ticks": ""
           }
          },
          "scene": {
           "xaxis": {
            "backgroundcolor": "rgb(234,234,242)",
            "gridcolor": "white",
            "gridwidth": 2,
            "linecolor": "white",
            "showbackground": true,
            "showgrid": true,
            "ticks": "",
            "zerolinecolor": "white"
           },
           "yaxis": {
            "backgroundcolor": "rgb(234,234,242)",
            "gridcolor": "white",
            "gridwidth": 2,
            "linecolor": "white",
            "showbackground": true,
            "showgrid": true,
            "ticks": "",
            "zerolinecolor": "white"
           },
           "zaxis": {
            "backgroundcolor": "rgb(234,234,242)",
            "gridcolor": "white",
            "gridwidth": 2,
            "linecolor": "white",
            "showbackground": true,
            "showgrid": true,
            "ticks": "",
            "zerolinecolor": "white"
           }
          },
          "shapedefaults": {
           "fillcolor": "rgb(67,103,167)",
           "line": {
            "width": 0
           },
           "opacity": 0.5
          },
          "ternary": {
           "aaxis": {
            "gridcolor": "white",
            "linecolor": "white",
            "showgrid": true,
            "ticks": ""
           },
           "baxis": {
            "gridcolor": "white",
            "linecolor": "white",
            "showgrid": true,
            "ticks": ""
           },
           "bgcolor": "rgb(234,234,242)",
           "caxis": {
            "gridcolor": "white",
            "linecolor": "white",
            "showgrid": true,
            "ticks": ""
           }
          },
          "xaxis": {
           "automargin": true,
           "gridcolor": "white",
           "linecolor": "white",
           "showgrid": true,
           "ticks": "",
           "title": {
            "standoff": 15
           },
           "zerolinecolor": "white"
          },
          "yaxis": {
           "automargin": true,
           "gridcolor": "white",
           "linecolor": "white",
           "showgrid": true,
           "ticks": "",
           "title": {
            "standoff": 15
           },
           "zerolinecolor": "white"
          }
         }
        },
        "title": {
         "text": "Plot 2 - Annual change in NDVI vs annual precipitation for the seeding units"
        },
        "width": 900,
        "xaxis": {
         "anchor": "y",
         "domain": [
          0,
          1
         ],
         "title": {
          "text": "Precipitation (mm)"
         }
        },
        "yaxis": {
         "anchor": "x",
         "domain": [
          0,
          1
         ],
         "title": {
          "text": "Smoothed NDVI"
         }
        }
       }
      },
      "text/html": [
       "<div>\n",
       "        \n",
       "        \n",
       "            <div id=\"10bca92e-c990-46d1-9421-d51e339bd12a\" class=\"plotly-graph-div\" style=\"height:700px; width:900px;\"></div>\n",
       "            <script type=\"text/javascript\">\n",
       "                require([\"plotly\"], function(Plotly) {\n",
       "                    window.PLOTLYENV=window.PLOTLYENV || {};\n",
       "                    \n",
       "                if (document.getElementById(\"10bca92e-c990-46d1-9421-d51e339bd12a\")) {\n",
       "                    Plotly.newPlot(\n",
       "                        '10bca92e-c990-46d1-9421-d51e339bd12a',\n",
       "                        [{\"customdata\": [[0.003429338113346614], [0.014249780753258778], [0.027376621611377508], [0.027373524438977864], [0.0012208596613880185], [-0.008651282685964129], [-0.0037381564630935282], [0.0045107644950853065], [-0.007930984668899327], [0.003969974131788956], [0.03118038558318381], [0.009743212215292008], [-0.006413136007700659], [-0.012376386633409314], [-0.006772024994679632], [0.010114266321127108], [-0.0160042183855032], [-0.015470449450793289], [0.013261524378101602], [0.0007714130615759096], [-0.010597826409509459], [-0.011855936981814086], [-0.006370975526482442], [0.01164239696014599], [-0.005351208498698468], [-0.0017493463927010233], [0.032686490823272685], [0.008953566671157931], [-0.01576276232775012], [-0.010274437563613237], [-0.0028290462901051916], [0.005943562981720274], [0.02195643143133033], [-0.0004928493635648623], [0.00980654208141618], [0.004099827880660795], [-0.015479396714245863], [-0.011154901555648827], [-0.0038202743601145894], [0.013501587882982946], [0.0006317463063925388], [-0.007407819709156993], [0.023721749706606343], [0.004152625087176204], [-0.014367152201835487], [-0.014803169653248044], [0.006899653037762132], [0.015539309495864462], [-0.008754079731171566], [-0.000586941489564563], [0.025103091463168803], [0.0011399772456137658], [-0.004317441896453167], [-0.008118571370658106], [0.001319635904648342], [0.01447575203261034], [-0.016174624082656797], [0.005140653728515188], [0.00948539574178317], [-0.006370387553307433], [-0.012422695738433687], [-0.005025815181133708], [0.009787387893064547], [-0.007084293995315877], [0.011301576013875408], [0.0038172660836129357], [-0.010271143052587695], [-0.010929286404715521], [-0.0023548739247949424], [0.009412448043098737], [0.0031782455266888276], [0.023016017631609736], [0.004869955672635401], [-0.005959015782043914], [-0.01672633656072528], [-0.003239994751956826], [0.01278608064229228], [-0.005555685345862732], [0.014140652548606247], [0.00953743819283559], [0.015972124701930268], [-0.00317775202336526], [-0.0025474862618879712], [0.0037264575970987757], [-0.01245427742347302], [0.040500007267878446], [0.02851130671633384], [-0.005943828396177048], [-0.012593538552406441], [-0.0031679803844069376], [0.005178097997336789], [-0.027257533420715463], [0.006812150221682356], [0.00480221524916466], [-0.005779705382236849], [-0.009768809819231894], [-0.0008371216374346291], [0.00992173435063004], [0.011053005184136155], [0.011071824161424604], [0.004015181402792195], [-0.004037300772809754], [-0.009707208452164218], [-0.004210690572896636], [0.010551860479366348], [-0.02153042071861111], [0.005074470439339396], [0.00766753786010671], [0.02097871413856167], [-0.0028191203041476876], [-0.003626307700851983], [0.0035682440799314763], [0.0416006740854499], [0.029913888508043107], [-0.00014631365636538773], [-0.005046313801791463], [0.014215369925035914], [0.016293338749424707], [-0.004317441896453167], [-0.008118571370658106], [0.0013196359046483142], [0.014475752032610312], [0.00042072029412733303], [0.028012550361877844], [0.02855537980065842], [-0.015289078280680046], [-0.00562440689132529], [0.015699946081979388], [-0.005206701741074543], [-0.002121998881522702], [0.015605240390666741], [-0.010082999137245113], [-0.00647867048255879], [0.010885382318893133], [-0.007955627321886483], [-0.002839706748805959], [0.005540865358498265], [-0.00875803615895615], [0.0020684960806701125], [0.008962493313090791], [-0.08157971690248819], [-0.024208085931895773], [0.050521072022723545], [-0.0006761432763327246], [0.012885483073783482], [0.004123967839404913], [0.012331909016876252], [-0.000651437742198363], [0.010920544738658305], [0.0025018684314808692], [0.014435528094365602], [-0.0058285020613333405], [0.00991090972323913], [-0.003678025406964547], [0.007706328117147887], [-0.004748002985459715], [0.008524362394063345], [-0.007179307649316707], [0.01044471831669283], [-0.006152504909771234], [0.007696639091958779], [-0.00566437782612883], [0.007203962442706463], [-0.002016812009514979], [0.008448685893502728], [0.004075190255234867], [0.011528580707046404], [0.002033253205202812], [0.011797137151006554], [-0.00689487217326018], [0.012703303788285547], [-0.009171329171115933], [0.00581068789497724], [-0.010371096627500714], [0.01327696350283225], [-0.010438181835905336], [0.013396050477041954]], \"hovertemplate\": \"<b>%{hovertext}</b><br><br>Precipitation (mm)=%{x}<br>Smoothed NDVI=%{customdata[0]}<extra></extra>\", \"hovertext\": [172.0, 172.0, 172.0, 172.0, 816.0, 816.0, 816.0, 816.0, 816.0, 816.0, 816.0, 816.0, 913.0, 913.0, 913.0, 913.0, 913.0, 913.0, 913.0, 913.0, 916.0, 916.0, 916.0, 916.0, 916.0, 916.0, 916.0, 916.0, 1265.0, 1265.0, 1265.0, 1265.0, 1265.0, 1265.0, 1265.0, 1265.0, 1314.0, 1314.0, 1314.0, 1314.0, 1314.0, 1314.0, 1314.0, 1314.0, 1319.0, 1319.0, 1319.0, 1319.0, 1319.0, 1319.0, 1319.0, 1319.0, 1558.0, 1558.0, 1558.0, 1558.0, 1558.0, 1558.0, 1558.0, 1588.0, 1588.0, 1588.0, 1588.0, 1588.0, 1588.0, 1588.0, 1589.0, 1589.0, 1589.0, 1589.0, 1589.0, 1589.0, 1589.0, 1590.0, 1590.0, 1590.0, 1590.0, 1590.0, 1590.0, 1590.0, 1594.0, 1594.0, 1594.0, 1594.0, 1594.0, 1594.0, 1594.0, 1601.0, 1601.0, 1601.0, 1601.0, 1601.0, 1601.0, 1601.0, 1608.0, 1608.0, 1608.0, 1608.0, 1608.0, 1608.0, 1608.0, 1655.0, 1655.0, 1655.0, 1655.0, 1655.0, 1655.0, 1655.0, 2335.0, 2335.0, 2335.0, 2335.0, 2335.0, 2335.0, 2569.0, 2569.0, 2569.0, 2569.0, 2577.0, 2577.0, 2577.0, 2577.0, 2581.0, 2581.0, 2581.0, 2586.0, 2586.0, 2586.0, 2587.0, 2587.0, 2587.0, 2599.0, 2599.0, 2599.0, 2600.0, 2600.0, 2600.0, 2601.0, 2601.0, 2601.0, 2604.0, 2604.0, 2604.0, 2609.0, 2609.0, 2614.0, 2614.0, 2615.0, 2615.0, 2620.0, 2620.0, 2621.0, 2621.0, 2622.0, 2622.0, 2623.0, 2623.0, 2624.0, 2624.0, 2626.0, 2626.0, 2627.0, 2627.0, 2628.0, 2628.0, 2633.0, 2633.0, 2634.0, 2634.0, 2645.0, 2645.0, 2646.0, 2646.0, 2648.0, 2648.0, 2650.0, 2650.0], \"legendgroup\": \"\", \"marker\": {\"color\": \"rgb(76,114,176)\", \"symbol\": \"circle\"}, \"mode\": \"markers\", \"name\": \"\", \"showlegend\": false, \"type\": \"scatter\", \"x\": [246.70000022649765, 233.29999881982803, 283.49999874830246, 192.70000049471855, 246.70000022649765, 233.29999881982803, 283.49999874830246, 192.70000049471855, 294.02933743596077, 211.29819747805595, 342.7775985598564, 274.4563195705414, 246.70000022649765, 233.29999881982803, 283.49999874830246, 192.70000049471855, 294.02933743596077, 211.29819747805595, 342.7775985598564, 274.4563195705414, 246.70000022649765, 233.29999881982803, 283.49999874830246, 192.70000049471855, 294.02933743596077, 211.29819747805595, 342.7775985598564, 274.4563195705414, 246.70000022649765, 233.29999881982803, 283.49999874830246, 192.70000049471855, 294.02933743596077, 211.29819747805595, 342.7775985598564, 274.4563195705414, 246.70000022649765, 233.29999881982803, 283.49999874830246, 192.70000049471855, 294.02933743596077, 211.29819747805595, 342.7775985598564, 274.4563195705414, 246.70000022649765, 233.29999881982803, 283.49999874830246, 192.70000049471855, 294.02933743596077, 211.29819747805595, 342.7775985598564, 274.4563195705414, 246.70000022649765, 233.29999881982803, 283.49999874830246, 192.70000049471855, 211.29819747805595, 342.7775985598564, 274.4563195705414, 246.70000022649765, 233.29999881982803, 283.49999874830246, 192.70000049471855, 211.29819747805595, 342.7775985598564, 274.4563195705414, 246.70000022649765, 233.29999881982803, 283.49999874830246, 192.70000049471855, 211.29819747805595, 342.7775985598564, 274.4563195705414, 246.70000022649765, 233.29999881982803, 283.49999874830246, 192.70000049471855, 211.29819747805595, 342.7775985598564, 274.4563195705414, 246.70000022649765, 233.29999881982803, 283.49999874830246, 192.70000049471855, 211.29819747805595, 342.7775985598564, 274.4563195705414, 246.70000022649765, 233.29999881982803, 283.49999874830246, 192.70000049471855, 211.29819747805595, 342.7775985598564, 274.4563195705414, 246.70000022649765, 233.29999881982803, 283.49999874830246, 192.70000049471855, 211.29819747805595, 342.7775985598564, 274.4563195705414, 246.70000022649765, 233.29999881982803, 283.49999874830246, 192.70000049471855, 211.29819747805595, 342.7775985598564, 274.4563195705414, 246.70000022649765, 233.29999881982803, 283.49999874830246, 192.70000049471855, 342.7775985598564, 274.4563195705414, 246.70000022649765, 233.29999881982803, 283.49999874830246, 192.70000049471855, 246.70000022649765, 233.29999881982803, 283.49999874830246, 192.70000049471855, 233.29999881982803, 283.49999874830246, 192.70000049471855, 233.29999881982803, 283.49999874830246, 192.70000049471855, 233.29999881982803, 283.49999874830246, 192.70000049471855, 233.29999881982803, 283.49999874830246, 192.70000049471855, 233.29999881982803, 283.49999874830246, 192.70000049471855, 233.29999881982803, 283.49999874830246, 192.70000049471855, 233.29999881982803, 283.49999874830246, 192.70000049471855, 283.49999874830246, 192.70000049471855, 283.49999874830246, 192.70000049471855, 283.49999874830246, 192.70000049471855, 283.49999874830246, 192.70000049471855, 283.49999874830246, 192.70000049471855, 283.49999874830246, 192.70000049471855, 283.49999874830246, 192.70000049471855, 283.49999874830246, 192.70000049471855, 283.49999874830246, 192.70000049471855, 283.49999874830246, 192.70000049471855, 283.49999874830246, 192.70000049471855, 283.49999874830246, 192.70000049471855, 283.49999874830246, 192.70000049471855, 283.49999874830246, 192.70000049471855, 283.49999874830246, 192.70000049471855, 283.49999874830246, 192.70000049471855, 283.49999874830246, 192.70000049471855], \"xaxis\": \"x\", \"y\": [0.003429338113346614, 0.014249780753258778, 0.027376621611377508, 0.027373524438977864, 0.0012208596613880185, -0.008651282685964129, -0.0037381564630935282, 0.0045107644950853065, -0.007930984668899327, 0.003969974131788956, 0.03118038558318381, 0.009743212215292008, -0.006413136007700659, -0.012376386633409314, -0.006772024994679632, 0.010114266321127108, -0.0160042183855032, -0.015470449450793289, 0.013261524378101602, 0.0007714130615759096, -0.010597826409509459, -0.011855936981814086, -0.006370975526482442, 0.01164239696014599, -0.005351208498698468, -0.0017493463927010233, 0.032686490823272685, 0.008953566671157931, -0.01576276232775012, -0.010274437563613237, -0.0028290462901051916, 0.005943562981720274, 0.02195643143133033, -0.0004928493635648623, 0.00980654208141618, 0.004099827880660795, -0.015479396714245863, -0.011154901555648827, -0.0038202743601145894, 0.013501587882982946, 0.0006317463063925388, -0.007407819709156993, 0.023721749706606343, 0.004152625087176204, -0.014367152201835487, -0.014803169653248044, 0.006899653037762132, 0.015539309495864462, -0.008754079731171566, -0.000586941489564563, 0.025103091463168803, 0.0011399772456137658, -0.004317441896453167, -0.008118571370658106, 0.001319635904648342, 0.01447575203261034, -0.016174624082656797, 0.005140653728515188, 0.00948539574178317, -0.006370387553307433, -0.012422695738433687, -0.005025815181133708, 0.009787387893064547, -0.007084293995315877, 0.011301576013875408, 0.0038172660836129357, -0.010271143052587695, -0.010929286404715521, -0.0023548739247949424, 0.009412448043098737, 0.0031782455266888276, 0.023016017631609736, 0.004869955672635401, -0.005959015782043914, -0.01672633656072528, -0.003239994751956826, 0.01278608064229228, -0.005555685345862732, 0.014140652548606247, 0.00953743819283559, 0.015972124701930268, -0.00317775202336526, -0.0025474862618879712, 0.0037264575970987757, -0.01245427742347302, 0.040500007267878446, 0.02851130671633384, -0.005943828396177048, -0.012593538552406441, -0.0031679803844069376, 0.005178097997336789, -0.027257533420715463, 0.006812150221682356, 0.00480221524916466, -0.005779705382236849, -0.009768809819231894, -0.0008371216374346291, 0.00992173435063004, 0.011053005184136155, 0.011071824161424604, 0.004015181402792195, -0.004037300772809754, -0.009707208452164218, -0.004210690572896636, 0.010551860479366348, -0.02153042071861111, 0.005074470439339396, 0.00766753786010671, 0.02097871413856167, -0.0028191203041476876, -0.003626307700851983, 0.0035682440799314763, 0.0416006740854499, 0.029913888508043107, -0.00014631365636538773, -0.005046313801791463, 0.014215369925035914, 0.016293338749424707, -0.004317441896453167, -0.008118571370658106, 0.0013196359046483142, 0.014475752032610312, 0.00042072029412733303, 0.028012550361877844, 0.02855537980065842, -0.015289078280680046, -0.00562440689132529, 0.015699946081979388, -0.005206701741074543, -0.002121998881522702, 0.015605240390666741, -0.010082999137245113, -0.00647867048255879, 0.010885382318893133, -0.007955627321886483, -0.002839706748805959, 0.005540865358498265, -0.00875803615895615, 0.0020684960806701125, 0.008962493313090791, -0.08157971690248819, -0.024208085931895773, 0.050521072022723545, -0.0006761432763327246, 0.012885483073783482, 0.004123967839404913, 0.012331909016876252, -0.000651437742198363, 0.010920544738658305, 0.0025018684314808692, 0.014435528094365602, -0.0058285020613333405, 0.00991090972323913, -0.003678025406964547, 0.007706328117147887, -0.004748002985459715, 0.008524362394063345, -0.007179307649316707, 0.01044471831669283, -0.006152504909771234, 0.007696639091958779, -0.00566437782612883, 0.007203962442706463, -0.002016812009514979, 0.008448685893502728, 0.004075190255234867, 0.011528580707046404, 0.002033253205202812, 0.011797137151006554, -0.00689487217326018, 0.012703303788285547, -0.009171329171115933, 0.00581068789497724, -0.010371096627500714, 0.01327696350283225, -0.010438181835905336, 0.013396050477041954], \"yaxis\": \"y\"}, {\"hovertemplate\": \"<b>OLS trendline</b><br>NDVI_delta = 1.877e-05 * precip + -0.00239786<br>R<sup>2</sup>=0.003598<br><br>Precipitation (mm)=%{x}<br>Smoothed NDVI=%{y} <b>(trend)</b><extra></extra>\", \"legendgroup\": \"\", \"marker\": {\"color\": \"rgb(76,114,176)\", \"symbol\": \"circle\"}, \"mode\": \"lines\", \"name\": \"\", \"showlegend\": false, \"type\": \"scatter\", \"x\": [192.70000049471855, 192.70000049471855, 192.70000049471855, 192.70000049471855, 192.70000049471855, 192.70000049471855, 192.70000049471855, 192.70000049471855, 192.70000049471855, 192.70000049471855, 192.70000049471855, 192.70000049471855, 192.70000049471855, 192.70000049471855, 192.70000049471855, 192.70000049471855, 192.70000049471855, 192.70000049471855, 192.70000049471855, 192.70000049471855, 192.70000049471855, 192.70000049471855, 192.70000049471855, 192.70000049471855, 192.70000049471855, 192.70000049471855, 192.70000049471855, 192.70000049471855, 192.70000049471855, 192.70000049471855, 192.70000049471855, 192.70000049471855, 192.70000049471855, 192.70000049471855, 192.70000049471855, 192.70000049471855, 192.70000049471855, 192.70000049471855, 192.70000049471855, 192.70000049471855, 192.70000049471855, 192.70000049471855, 211.29819747805595, 211.29819747805595, 211.29819747805595, 211.29819747805595, 211.29819747805595, 211.29819747805595, 211.29819747805595, 211.29819747805595, 211.29819747805595, 211.29819747805595, 211.29819747805595, 211.29819747805595, 211.29819747805595, 211.29819747805595, 233.29999881982803, 233.29999881982803, 233.29999881982803, 233.29999881982803, 233.29999881982803, 233.29999881982803, 233.29999881982803, 233.29999881982803, 233.29999881982803, 233.29999881982803, 233.29999881982803, 233.29999881982803, 233.29999881982803, 233.29999881982803, 233.29999881982803, 233.29999881982803, 233.29999881982803, 233.29999881982803, 233.29999881982803, 233.29999881982803, 233.29999881982803, 233.29999881982803, 233.29999881982803, 233.29999881982803, 233.29999881982803, 246.70000022649765, 246.70000022649765, 246.70000022649765, 246.70000022649765, 246.70000022649765, 246.70000022649765, 246.70000022649765, 246.70000022649765, 246.70000022649765, 246.70000022649765, 246.70000022649765, 246.70000022649765, 246.70000022649765, 246.70000022649765, 246.70000022649765, 246.70000022649765, 246.70000022649765, 246.70000022649765, 274.4563195705414, 274.4563195705414, 274.4563195705414, 274.4563195705414, 274.4563195705414, 274.4563195705414, 274.4563195705414, 274.4563195705414, 274.4563195705414, 274.4563195705414, 274.4563195705414, 274.4563195705414, 274.4563195705414, 274.4563195705414, 274.4563195705414, 283.49999874830246, 283.49999874830246, 283.49999874830246, 283.49999874830246, 283.49999874830246, 283.49999874830246, 283.49999874830246, 283.49999874830246, 283.49999874830246, 283.49999874830246, 283.49999874830246, 283.49999874830246, 283.49999874830246, 283.49999874830246, 283.49999874830246, 283.49999874830246, 283.49999874830246, 283.49999874830246, 283.49999874830246, 283.49999874830246, 283.49999874830246, 283.49999874830246, 283.49999874830246, 283.49999874830246, 283.49999874830246, 283.49999874830246, 283.49999874830246, 283.49999874830246, 283.49999874830246, 283.49999874830246, 283.49999874830246, 283.49999874830246, 283.49999874830246, 283.49999874830246, 283.49999874830246, 283.49999874830246, 283.49999874830246, 283.49999874830246, 283.49999874830246, 283.49999874830246, 283.49999874830246, 283.49999874830246, 294.02933743596077, 294.02933743596077, 294.02933743596077, 294.02933743596077, 294.02933743596077, 294.02933743596077, 342.7775985598564, 342.7775985598564, 342.7775985598564, 342.7775985598564, 342.7775985598564, 342.7775985598564, 342.7775985598564, 342.7775985598564, 342.7775985598564, 342.7775985598564, 342.7775985598564, 342.7775985598564, 342.7775985598564, 342.7775985598564, 342.7775985598564], \"xaxis\": \"x\", \"y\": [0.0012191164605798643, 0.0012191164605798643, 0.0012191164605798643, 0.0012191164605798643, 0.0012191164605798643, 0.0012191164605798643, 0.0012191164605798643, 0.0012191164605798643, 0.0012191164605798643, 0.0012191164605798643, 0.0012191164605798643, 0.0012191164605798643, 0.0012191164605798643, 0.0012191164605798643, 0.0012191164605798643, 0.0012191164605798643, 0.0012191164605798643, 0.0012191164605798643, 0.0012191164605798643, 0.0012191164605798643, 0.0012191164605798643, 0.0012191164605798643, 0.0012191164605798643, 0.0012191164605798643, 0.0012191164605798643, 0.0012191164605798643, 0.0012191164605798643, 0.0012191164605798643, 0.0012191164605798643, 0.0012191164605798643, 0.0012191164605798643, 0.0012191164605798643, 0.0012191164605798643, 0.0012191164605798643, 0.0012191164605798643, 0.0012191164605798643, 0.0012191164605798643, 0.0012191164605798643, 0.0012191164605798643, 0.0012191164605798643, 0.0012191164605798643, 0.0012191164605798643, 0.0015682039022468786, 0.0015682039022468786, 0.0015682039022468786, 0.0015682039022468786, 0.0015682039022468786, 0.0015682039022468786, 0.0015682039022468786, 0.0015682039022468786, 0.0015682039022468786, 0.0015682039022468786, 0.0015682039022468786, 0.0015682039022468786, 0.0015682039022468786, 0.0015682039022468786, 0.001981176866741571, 0.001981176866741571, 0.001981176866741571, 0.001981176866741571, 0.001981176866741571, 0.001981176866741571, 0.001981176866741571, 0.001981176866741571, 0.001981176866741571, 0.001981176866741571, 0.001981176866741571, 0.001981176866741571, 0.001981176866741571, 0.001981176866741571, 0.001981176866741571, 0.001981176866741571, 0.001981176866741571, 0.001981176866741571, 0.001981176866741571, 0.001981176866741571, 0.001981176866741571, 0.001981176866741571, 0.001981176866741571, 0.001981176866741571, 0.001981176866741571, 0.002232694377475521, 0.002232694377475521, 0.002232694377475521, 0.002232694377475521, 0.002232694377475521, 0.002232694377475521, 0.002232694377475521, 0.002232694377475521, 0.002232694377475521, 0.002232694377475521, 0.002232694377475521, 0.002232694377475521, 0.002232694377475521, 0.002232694377475521, 0.002232694377475521, 0.002232694377475521, 0.002232694377475521, 0.002232694377475521, 0.002753679423423031, 0.002753679423423031, 0.002753679423423031, 0.002753679423423031, 0.002753679423423031, 0.002753679423423031, 0.002753679423423031, 0.002753679423423031, 0.002753679423423031, 0.002753679423423031, 0.002753679423423031, 0.002753679423423031, 0.002753679423423031, 0.002753679423423031, 0.002753679423423031, 0.0029234289335637363, 0.0029234289335637363, 0.0029234289335637363, 0.0029234289335637363, 0.0029234289335637363, 0.0029234289335637363, 0.0029234289335637363, 0.0029234289335637363, 0.0029234289335637363, 0.0029234289335637363, 0.0029234289335637363, 0.0029234289335637363, 0.0029234289335637363, 0.0029234289335637363, 0.0029234289335637363, 0.0029234289335637363, 0.0029234289335637363, 0.0029234289335637363, 0.0029234289335637363, 0.0029234289335637363, 0.0029234289335637363, 0.0029234289335637363, 0.0029234289335637363, 0.0029234289335637363, 0.0029234289335637363, 0.0029234289335637363, 0.0029234289335637363, 0.0029234289335637363, 0.0029234289335637363, 0.0029234289335637363, 0.0029234289335637363, 0.0029234289335637363, 0.0029234289335637363, 0.0029234289335637363, 0.0029234289335637363, 0.0029234289335637363, 0.0029234289335637363, 0.0029234289335637363, 0.0029234289335637363, 0.0029234289335637363, 0.0029234289335637363, 0.0029234289335637363, 0.0031210642155329116, 0.0031210642155329116, 0.0031210642155329116, 0.0031210642155329116, 0.0031210642155329116, 0.0031210642155329116, 0.004036067200860071, 0.004036067200860071, 0.004036067200860071, 0.004036067200860071, 0.004036067200860071, 0.004036067200860071, 0.004036067200860071, 0.004036067200860071, 0.004036067200860071, 0.004036067200860071, 0.004036067200860071, 0.004036067200860071, 0.004036067200860071, 0.004036067200860071, 0.004036067200860071], \"yaxis\": \"y\"}],\n",
       "                        {\"annotations\": [{\"showarrow\": false, \"text\": \"Source: Landsat 8 data from USGS, meteorological data from gridMET\", \"x\": 0.01, \"xref\": \"paper\", \"y\": 0.01, \"yref\": \"paper\"}], \"height\": 700, \"legend\": {\"tracegroupgap\": 0}, \"showlegend\": false, \"template\": {\"data\": {\"bar\": [{\"error_x\": {\"color\": \"rgb(36,36,36)\"}, \"error_y\": {\"color\": \"rgb(36,36,36)\"}, \"marker\": {\"line\": {\"color\": \"rgb(234,234,242)\", \"width\": 0.5}}, \"type\": \"bar\"}], \"barpolar\": [{\"marker\": {\"line\": {\"color\": \"rgb(234,234,242)\", \"width\": 0.5}}, \"type\": \"barpolar\"}], \"carpet\": [{\"aaxis\": {\"endlinecolor\": \"rgb(36,36,36)\", \"gridcolor\": \"white\", \"linecolor\": \"white\", \"minorgridcolor\": \"white\", \"startlinecolor\": \"rgb(36,36,36)\"}, \"baxis\": {\"endlinecolor\": \"rgb(36,36,36)\", \"gridcolor\": \"white\", \"linecolor\": \"white\", \"minorgridcolor\": \"white\", \"startlinecolor\": \"rgb(36,36,36)\"}, \"type\": \"carpet\"}], \"choropleth\": [{\"colorbar\": {\"outlinewidth\": 0, \"tickcolor\": \"rgb(36,36,36)\", \"ticklen\": 8, \"ticks\": \"outside\", \"tickwidth\": 2}, \"type\": \"choropleth\"}], \"contour\": [{\"colorbar\": {\"outlinewidth\": 0, \"tickcolor\": \"rgb(36,36,36)\", \"ticklen\": 8, \"ticks\": \"outside\", \"tickwidth\": 2}, \"colorscale\": [[0.0, \"rgb(2,4,25)\"], [0.06274509803921569, \"rgb(24,15,41)\"], [0.12549019607843137, \"rgb(47,23,57)\"], [0.18823529411764706, \"rgb(71,28,72)\"], [0.25098039215686274, \"rgb(97,30,82)\"], [0.3137254901960784, \"rgb(123,30,89)\"], [0.3764705882352941, \"rgb(150,27,91)\"], [0.4392156862745098, \"rgb(177,22,88)\"], [0.5019607843137255, \"rgb(203,26,79)\"], [0.5647058823529412, \"rgb(223,47,67)\"], [0.6274509803921569, \"rgb(236,76,61)\"], [0.6901960784313725, \"rgb(242,107,73)\"], [0.7529411764705882, \"rgb(244,135,95)\"], [0.8156862745098039, \"rgb(245,162,122)\"], [0.8784313725490196, \"rgb(246,188,153)\"], [0.9411764705882353, \"rgb(247,212,187)\"], [1.0, \"rgb(250,234,220)\"]], \"type\": \"contour\"}], \"contourcarpet\": [{\"colorbar\": {\"outlinewidth\": 0, \"tickcolor\": \"rgb(36,36,36)\", \"ticklen\": 8, \"ticks\": \"outside\", \"tickwidth\": 2}, \"type\": \"contourcarpet\"}], \"heatmap\": [{\"colorbar\": {\"outlinewidth\": 0, \"tickcolor\": \"rgb(36,36,36)\", \"ticklen\": 8, \"ticks\": \"outside\", \"tickwidth\": 2}, \"colorscale\": [[0.0, \"rgb(2,4,25)\"], [0.06274509803921569, \"rgb(24,15,41)\"], [0.12549019607843137, \"rgb(47,23,57)\"], [0.18823529411764706, \"rgb(71,28,72)\"], [0.25098039215686274, \"rgb(97,30,82)\"], [0.3137254901960784, \"rgb(123,30,89)\"], [0.3764705882352941, \"rgb(150,27,91)\"], [0.4392156862745098, \"rgb(177,22,88)\"], [0.5019607843137255, \"rgb(203,26,79)\"], [0.5647058823529412, \"rgb(223,47,67)\"], [0.6274509803921569, \"rgb(236,76,61)\"], [0.6901960784313725, \"rgb(242,107,73)\"], [0.7529411764705882, \"rgb(244,135,95)\"], [0.8156862745098039, \"rgb(245,162,122)\"], [0.8784313725490196, \"rgb(246,188,153)\"], [0.9411764705882353, \"rgb(247,212,187)\"], [1.0, \"rgb(250,234,220)\"]], \"type\": \"heatmap\"}], \"heatmapgl\": [{\"colorbar\": {\"outlinewidth\": 0, \"tickcolor\": \"rgb(36,36,36)\", \"ticklen\": 8, \"ticks\": \"outside\", \"tickwidth\": 2}, \"colorscale\": [[0.0, \"rgb(2,4,25)\"], [0.06274509803921569, \"rgb(24,15,41)\"], [0.12549019607843137, \"rgb(47,23,57)\"], [0.18823529411764706, \"rgb(71,28,72)\"], [0.25098039215686274, \"rgb(97,30,82)\"], [0.3137254901960784, \"rgb(123,30,89)\"], [0.3764705882352941, \"rgb(150,27,91)\"], [0.4392156862745098, \"rgb(177,22,88)\"], [0.5019607843137255, \"rgb(203,26,79)\"], [0.5647058823529412, \"rgb(223,47,67)\"], [0.6274509803921569, \"rgb(236,76,61)\"], [0.6901960784313725, \"rgb(242,107,73)\"], [0.7529411764705882, \"rgb(244,135,95)\"], [0.8156862745098039, \"rgb(245,162,122)\"], [0.8784313725490196, \"rgb(246,188,153)\"], [0.9411764705882353, \"rgb(247,212,187)\"], [1.0, \"rgb(250,234,220)\"]], \"type\": \"heatmapgl\"}], \"histogram\": [{\"marker\": {\"colorbar\": {\"outlinewidth\": 0, \"tickcolor\": \"rgb(36,36,36)\", \"ticklen\": 8, \"ticks\": \"outside\", \"tickwidth\": 2}}, \"type\": \"histogram\"}], \"histogram2d\": [{\"colorbar\": {\"outlinewidth\": 0, \"tickcolor\": \"rgb(36,36,36)\", \"ticklen\": 8, \"ticks\": \"outside\", \"tickwidth\": 2}, \"colorscale\": [[0.0, \"rgb(2,4,25)\"], [0.06274509803921569, \"rgb(24,15,41)\"], [0.12549019607843137, \"rgb(47,23,57)\"], [0.18823529411764706, \"rgb(71,28,72)\"], [0.25098039215686274, \"rgb(97,30,82)\"], [0.3137254901960784, \"rgb(123,30,89)\"], [0.3764705882352941, \"rgb(150,27,91)\"], [0.4392156862745098, \"rgb(177,22,88)\"], [0.5019607843137255, \"rgb(203,26,79)\"], [0.5647058823529412, \"rgb(223,47,67)\"], [0.6274509803921569, \"rgb(236,76,61)\"], [0.6901960784313725, \"rgb(242,107,73)\"], [0.7529411764705882, \"rgb(244,135,95)\"], [0.8156862745098039, \"rgb(245,162,122)\"], [0.8784313725490196, \"rgb(246,188,153)\"], [0.9411764705882353, \"rgb(247,212,187)\"], [1.0, \"rgb(250,234,220)\"]], \"type\": \"histogram2d\"}], \"histogram2dcontour\": [{\"colorbar\": {\"outlinewidth\": 0, \"tickcolor\": \"rgb(36,36,36)\", \"ticklen\": 8, \"ticks\": \"outside\", \"tickwidth\": 2}, \"colorscale\": [[0.0, \"rgb(2,4,25)\"], [0.06274509803921569, \"rgb(24,15,41)\"], [0.12549019607843137, \"rgb(47,23,57)\"], [0.18823529411764706, \"rgb(71,28,72)\"], [0.25098039215686274, \"rgb(97,30,82)\"], [0.3137254901960784, \"rgb(123,30,89)\"], [0.3764705882352941, \"rgb(150,27,91)\"], [0.4392156862745098, \"rgb(177,22,88)\"], [0.5019607843137255, \"rgb(203,26,79)\"], [0.5647058823529412, \"rgb(223,47,67)\"], [0.6274509803921569, \"rgb(236,76,61)\"], [0.6901960784313725, \"rgb(242,107,73)\"], [0.7529411764705882, \"rgb(244,135,95)\"], [0.8156862745098039, \"rgb(245,162,122)\"], [0.8784313725490196, \"rgb(246,188,153)\"], [0.9411764705882353, \"rgb(247,212,187)\"], [1.0, \"rgb(250,234,220)\"]], \"type\": \"histogram2dcontour\"}], \"mesh3d\": [{\"colorbar\": {\"outlinewidth\": 0, \"tickcolor\": \"rgb(36,36,36)\", \"ticklen\": 8, \"ticks\": \"outside\", \"tickwidth\": 2}, \"type\": \"mesh3d\"}], \"parcoords\": [{\"line\": {\"colorbar\": {\"outlinewidth\": 0, \"tickcolor\": \"rgb(36,36,36)\", \"ticklen\": 8, \"ticks\": \"outside\", \"tickwidth\": 2}}, \"type\": \"parcoords\"}], \"pie\": [{\"automargin\": true, \"type\": \"pie\"}], \"scatter\": [{\"marker\": {\"colorbar\": {\"outlinewidth\": 0, \"tickcolor\": \"rgb(36,36,36)\", \"ticklen\": 8, \"ticks\": \"outside\", \"tickwidth\": 2}}, \"type\": \"scatter\"}], \"scatter3d\": [{\"line\": {\"colorbar\": {\"outlinewidth\": 0, \"tickcolor\": \"rgb(36,36,36)\", \"ticklen\": 8, \"ticks\": \"outside\", \"tickwidth\": 2}}, \"marker\": {\"colorbar\": {\"outlinewidth\": 0, \"tickcolor\": \"rgb(36,36,36)\", \"ticklen\": 8, \"ticks\": \"outside\", \"tickwidth\": 2}}, \"type\": \"scatter3d\"}], \"scattercarpet\": [{\"marker\": {\"colorbar\": {\"outlinewidth\": 0, \"tickcolor\": \"rgb(36,36,36)\", \"ticklen\": 8, \"ticks\": \"outside\", \"tickwidth\": 2}}, \"type\": \"scattercarpet\"}], \"scattergeo\": [{\"marker\": {\"colorbar\": {\"outlinewidth\": 0, \"tickcolor\": \"rgb(36,36,36)\", \"ticklen\": 8, \"ticks\": \"outside\", \"tickwidth\": 2}}, \"type\": \"scattergeo\"}], \"scattergl\": [{\"marker\": {\"colorbar\": {\"outlinewidth\": 0, \"tickcolor\": \"rgb(36,36,36)\", \"ticklen\": 8, \"ticks\": \"outside\", \"tickwidth\": 2}}, \"type\": \"scattergl\"}], \"scattermapbox\": [{\"marker\": {\"colorbar\": {\"outlinewidth\": 0, \"tickcolor\": \"rgb(36,36,36)\", \"ticklen\": 8, \"ticks\": \"outside\", \"tickwidth\": 2}}, \"type\": \"scattermapbox\"}], \"scatterpolar\": [{\"marker\": {\"colorbar\": {\"outlinewidth\": 0, \"tickcolor\": \"rgb(36,36,36)\", \"ticklen\": 8, \"ticks\": \"outside\", \"tickwidth\": 2}}, \"type\": \"scatterpolar\"}], \"scatterpolargl\": [{\"marker\": {\"colorbar\": {\"outlinewidth\": 0, \"tickcolor\": \"rgb(36,36,36)\", \"ticklen\": 8, \"ticks\": \"outside\", \"tickwidth\": 2}}, \"type\": \"scatterpolargl\"}], \"scatterternary\": [{\"marker\": {\"colorbar\": {\"outlinewidth\": 0, \"tickcolor\": \"rgb(36,36,36)\", \"ticklen\": 8, \"ticks\": \"outside\", \"tickwidth\": 2}}, \"type\": \"scatterternary\"}], \"surface\": [{\"colorbar\": {\"outlinewidth\": 0, \"tickcolor\": \"rgb(36,36,36)\", \"ticklen\": 8, \"ticks\": \"outside\", \"tickwidth\": 2}, \"colorscale\": [[0.0, \"rgb(2,4,25)\"], [0.06274509803921569, \"rgb(24,15,41)\"], [0.12549019607843137, \"rgb(47,23,57)\"], [0.18823529411764706, \"rgb(71,28,72)\"], [0.25098039215686274, \"rgb(97,30,82)\"], [0.3137254901960784, \"rgb(123,30,89)\"], [0.3764705882352941, \"rgb(150,27,91)\"], [0.4392156862745098, \"rgb(177,22,88)\"], [0.5019607843137255, \"rgb(203,26,79)\"], [0.5647058823529412, \"rgb(223,47,67)\"], [0.6274509803921569, \"rgb(236,76,61)\"], [0.6901960784313725, \"rgb(242,107,73)\"], [0.7529411764705882, \"rgb(244,135,95)\"], [0.8156862745098039, \"rgb(245,162,122)\"], [0.8784313725490196, \"rgb(246,188,153)\"], [0.9411764705882353, \"rgb(247,212,187)\"], [1.0, \"rgb(250,234,220)\"]], \"type\": \"surface\"}], \"table\": [{\"cells\": {\"fill\": {\"color\": \"rgb(231,231,240)\"}, \"line\": {\"color\": \"white\"}}, \"header\": {\"fill\": {\"color\": \"rgb(183,183,191)\"}, \"line\": {\"color\": \"white\"}}, \"type\": \"table\"}]}, \"layout\": {\"annotationdefaults\": {\"arrowcolor\": \"rgb(67,103,167)\"}, \"coloraxis\": {\"colorbar\": {\"outlinewidth\": 0, \"tickcolor\": \"rgb(36,36,36)\", \"ticklen\": 8, \"ticks\": \"outside\", \"tickwidth\": 2}}, \"colorscale\": {\"sequential\": [[0.0, \"rgb(2,4,25)\"], [0.06274509803921569, \"rgb(24,15,41)\"], [0.12549019607843137, \"rgb(47,23,57)\"], [0.18823529411764706, \"rgb(71,28,72)\"], [0.25098039215686274, \"rgb(97,30,82)\"], [0.3137254901960784, \"rgb(123,30,89)\"], [0.3764705882352941, \"rgb(150,27,91)\"], [0.4392156862745098, \"rgb(177,22,88)\"], [0.5019607843137255, \"rgb(203,26,79)\"], [0.5647058823529412, \"rgb(223,47,67)\"], [0.6274509803921569, \"rgb(236,76,61)\"], [0.6901960784313725, \"rgb(242,107,73)\"], [0.7529411764705882, \"rgb(244,135,95)\"], [0.8156862745098039, \"rgb(245,162,122)\"], [0.8784313725490196, \"rgb(246,188,153)\"], [0.9411764705882353, \"rgb(247,212,187)\"], [1.0, \"rgb(250,234,220)\"]], \"sequentialminus\": [[0.0, \"rgb(2,4,25)\"], [0.06274509803921569, \"rgb(24,15,41)\"], [0.12549019607843137, \"rgb(47,23,57)\"], [0.18823529411764706, \"rgb(71,28,72)\"], [0.25098039215686274, \"rgb(97,30,82)\"], [0.3137254901960784, \"rgb(123,30,89)\"], [0.3764705882352941, \"rgb(150,27,91)\"], [0.4392156862745098, \"rgb(177,22,88)\"], [0.5019607843137255, \"rgb(203,26,79)\"], [0.5647058823529412, \"rgb(223,47,67)\"], [0.6274509803921569, \"rgb(236,76,61)\"], [0.6901960784313725, \"rgb(242,107,73)\"], [0.7529411764705882, \"rgb(244,135,95)\"], [0.8156862745098039, \"rgb(245,162,122)\"], [0.8784313725490196, \"rgb(246,188,153)\"], [0.9411764705882353, \"rgb(247,212,187)\"], [1.0, \"rgb(250,234,220)\"]]}, \"colorway\": [\"rgb(76,114,176)\", \"rgb(221,132,82)\", \"rgb(85,168,104)\", \"rgb(196,78,82)\", \"rgb(129,114,179)\", \"rgb(147,120,96)\", \"rgb(218,139,195)\", \"rgb(140,140,140)\", \"rgb(204,185,116)\", \"rgb(100,181,205)\"], \"font\": {\"color\": \"rgb(36,36,36)\"}, \"geo\": {\"bgcolor\": \"white\", \"lakecolor\": \"white\", \"landcolor\": \"rgb(234,234,242)\", \"showlakes\": true, \"showland\": true, \"subunitcolor\": \"white\"}, \"hoverlabel\": {\"align\": \"left\"}, \"hovermode\": \"closest\", \"paper_bgcolor\": \"white\", \"plot_bgcolor\": \"rgb(234,234,242)\", \"polar\": {\"angularaxis\": {\"gridcolor\": \"white\", \"linecolor\": \"white\", \"showgrid\": true, \"ticks\": \"\"}, \"bgcolor\": \"rgb(234,234,242)\", \"radialaxis\": {\"gridcolor\": \"white\", \"linecolor\": \"white\", \"showgrid\": true, \"ticks\": \"\"}}, \"scene\": {\"xaxis\": {\"backgroundcolor\": \"rgb(234,234,242)\", \"gridcolor\": \"white\", \"gridwidth\": 2, \"linecolor\": \"white\", \"showbackground\": true, \"showgrid\": true, \"ticks\": \"\", \"zerolinecolor\": \"white\"}, \"yaxis\": {\"backgroundcolor\": \"rgb(234,234,242)\", \"gridcolor\": \"white\", \"gridwidth\": 2, \"linecolor\": \"white\", \"showbackground\": true, \"showgrid\": true, \"ticks\": \"\", \"zerolinecolor\": \"white\"}, \"zaxis\": {\"backgroundcolor\": \"rgb(234,234,242)\", \"gridcolor\": \"white\", \"gridwidth\": 2, \"linecolor\": \"white\", \"showbackground\": true, \"showgrid\": true, \"ticks\": \"\", \"zerolinecolor\": \"white\"}}, \"shapedefaults\": {\"fillcolor\": \"rgb(67,103,167)\", \"line\": {\"width\": 0}, \"opacity\": 0.5}, \"ternary\": {\"aaxis\": {\"gridcolor\": \"white\", \"linecolor\": \"white\", \"showgrid\": true, \"ticks\": \"\"}, \"baxis\": {\"gridcolor\": \"white\", \"linecolor\": \"white\", \"showgrid\": true, \"ticks\": \"\"}, \"bgcolor\": \"rgb(234,234,242)\", \"caxis\": {\"gridcolor\": \"white\", \"linecolor\": \"white\", \"showgrid\": true, \"ticks\": \"\"}}, \"xaxis\": {\"automargin\": true, \"gridcolor\": \"white\", \"linecolor\": \"white\", \"showgrid\": true, \"ticks\": \"\", \"title\": {\"standoff\": 15}, \"zerolinecolor\": \"white\"}, \"yaxis\": {\"automargin\": true, \"gridcolor\": \"white\", \"linecolor\": \"white\", \"showgrid\": true, \"ticks\": \"\", \"title\": {\"standoff\": 15}, \"zerolinecolor\": \"white\"}}}, \"title\": {\"text\": \"Plot 2 - Annual change in NDVI vs annual precipitation for the seeding units\"}, \"width\": 900, \"xaxis\": {\"anchor\": \"y\", \"domain\": [0.0, 1.0], \"title\": {\"text\": \"Precipitation (mm)\"}}, \"yaxis\": {\"anchor\": \"x\", \"domain\": [0.0, 1.0], \"title\": {\"text\": \"Smoothed NDVI\"}}},\n",
       "                        {\"responsive\": true}\n",
       "                    ).then(function(){\n",
       "                            \n",
       "var gd = document.getElementById('10bca92e-c990-46d1-9421-d51e339bd12a');\n",
       "var x = new MutationObserver(function (mutations, observer) {{\n",
       "        var display = window.getComputedStyle(gd).display;\n",
       "        if (!display || display === 'none') {{\n",
       "            console.log([gd, 'removed!']);\n",
       "            Plotly.purge(gd);\n",
       "            observer.disconnect();\n",
       "        }}\n",
       "}});\n",
       "\n",
       "// Listen for the removal of the full notebook cells\n",
       "var notebookContainer = gd.closest('#notebook-container');\n",
       "if (notebookContainer) {{\n",
       "    x.observe(notebookContainer, {childList: true});\n",
       "}}\n",
       "\n",
       "// Listen for the clearing of the current output cell\n",
       "var outputEl = gd.closest('.output');\n",
       "if (outputEl) {{\n",
       "    x.observe(outputEl, {childList: true});\n",
       "}}\n",
       "\n",
       "                        })\n",
       "                };\n",
       "                });\n",
       "            </script>\n",
       "        </div>"
      ]
     },
     "metadata": {},
     "output_type": "display_data"
    }
   ],
   "source": [
    "fig = px.scatter(su_ndvi_annual_change_df, x='precip', y='NDVI_delta',\n",
    "                 labels={\n",
    "                     \"NDVI_delta\": \"Smoothed NDVI\",\n",
    "                     \"precip\": \"Precipitation (mm)\"\n",
    "                 },\n",
    "                 title='Plot 2 - Annual change in NDVI vs annual precipitation for the seeding units',\n",
    "                 width=900, height=700,\n",
    "                 hover_name=\"SuId\", hover_data=[\"NDVI_delta\"],\n",
    "                 trendline=\"ols\")\n",
    "\n",
    "# Credit\n",
    "fig.add_annotation(text=\"Source: Landsat 8 data from USGS, meteorological data from gridMET\",\n",
    "                   showarrow=False,\n",
    "                   xref=\"paper\", yref=\"paper\",\n",
    "                   x=0.01, y=0.01)\n",
    "\n",
    "fig.update_layout(showlegend=False)\n",
    "fig.show()"
   ]
  },
  {
   "cell_type": "markdown",
   "id": "sexual-spanish",
   "metadata": {},
   "source": [
    "### Plot 3 - Annual NDVI change vs year for the seeding units"
   ]
  },
  {
   "cell_type": "code",
   "execution_count": 93,
   "id": "invisible-bumper",
   "metadata": {},
   "outputs": [
    {
     "data": {
      "application/vnd.plotly.v1+json": {
       "config": {
        "plotlyServerURL": "https://plot.ly"
       },
       "data": [
        {
         "customdata": [
          [
           0.003429338113346614
          ],
          [
           0.014249780753258778
          ],
          [
           0.027376621611377508
          ],
          [
           0.027373524438977864
          ],
          [
           -0.007930984668899327
          ],
          [
           0.003969974131788956
          ],
          [
           0.03118038558318381
          ],
          [
           0.009743212215292008
          ],
          [
           0.0012208596613880185
          ],
          [
           -0.008651282685964129
          ],
          [
           -0.0037381564630935282
          ],
          [
           0.0045107644950853065
          ],
          [
           -0.0160042183855032
          ],
          [
           -0.015470449450793289
          ],
          [
           0.013261524378101602
          ],
          [
           0.0007714130615759096
          ],
          [
           -0.006413136007700659
          ],
          [
           -0.012376386633409314
          ],
          [
           -0.006772024994679632
          ],
          [
           0.010114266321127108
          ],
          [
           -0.005351208498698468
          ],
          [
           -0.0017493463927010233
          ],
          [
           0.032686490823272685
          ],
          [
           0.008953566671157931
          ],
          [
           -0.010597826409509459
          ],
          [
           -0.011855936981814086
          ],
          [
           -0.006370975526482442
          ],
          [
           0.01164239696014599
          ],
          [
           0.02195643143133033
          ],
          [
           -0.0004928493635648623
          ],
          [
           0.00980654208141618
          ],
          [
           0.004099827880660795
          ],
          [
           -0.01576276232775012
          ],
          [
           -0.010274437563613237
          ],
          [
           -0.0028290462901051916
          ],
          [
           0.005943562981720274
          ],
          [
           0.0006317463063925388
          ],
          [
           -0.007407819709156993
          ],
          [
           0.023721749706606343
          ],
          [
           0.004152625087176204
          ],
          [
           -0.015479396714245863
          ],
          [
           -0.011154901555648827
          ],
          [
           -0.0038202743601145894
          ],
          [
           0.013501587882982946
          ],
          [
           -0.008754079731171566
          ],
          [
           -0.000586941489564563
          ],
          [
           0.025103091463168803
          ],
          [
           0.0011399772456137658
          ],
          [
           -0.014367152201835487
          ],
          [
           -0.014803169653248044
          ],
          [
           0.006899653037762132
          ],
          [
           0.015539309495864462
          ],
          [
           -0.016174624082656797
          ],
          [
           0.005140653728515188
          ],
          [
           0.00948539574178317
          ],
          [
           -0.004317441896453167
          ],
          [
           -0.008118571370658106
          ],
          [
           0.001319635904648342
          ],
          [
           0.01447575203261034
          ],
          [
           -0.007084293995315877
          ],
          [
           0.011301576013875408
          ],
          [
           0.0038172660836129357
          ],
          [
           -0.006370387553307433
          ],
          [
           -0.012422695738433687
          ],
          [
           -0.005025815181133708
          ],
          [
           0.009787387893064547
          ],
          [
           0.0031782455266888276
          ],
          [
           0.023016017631609736
          ],
          [
           0.004869955672635401
          ],
          [
           -0.010271143052587695
          ],
          [
           -0.010929286404715521
          ],
          [
           -0.0023548739247949424
          ],
          [
           0.009412448043098737
          ],
          [
           -0.005555685345862732
          ],
          [
           0.014140652548606247
          ],
          [
           0.00953743819283559
          ],
          [
           -0.005959015782043914
          ],
          [
           -0.01672633656072528
          ],
          [
           -0.003239994751956826
          ],
          [
           0.01278608064229228
          ],
          [
           -0.01245427742347302
          ],
          [
           0.040500007267878446
          ],
          [
           0.02851130671633384
          ],
          [
           0.015972124701930268
          ],
          [
           -0.00317775202336526
          ],
          [
           -0.0025474862618879712
          ],
          [
           0.0037264575970987757
          ],
          [
           -0.027257533420715463
          ],
          [
           0.006812150221682356
          ],
          [
           0.00480221524916466
          ],
          [
           -0.005943828396177048
          ],
          [
           -0.012593538552406441
          ],
          [
           -0.0031679803844069376
          ],
          [
           0.005178097997336789
          ],
          [
           0.011053005184136155
          ],
          [
           0.011071824161424604
          ],
          [
           0.004015181402792195
          ],
          [
           -0.005779705382236849
          ],
          [
           -0.009768809819231894
          ],
          [
           -0.0008371216374346291
          ],
          [
           0.00992173435063004
          ],
          [
           -0.02153042071861111
          ],
          [
           0.005074470439339396
          ],
          [
           0.00766753786010671
          ],
          [
           -0.004037300772809754
          ],
          [
           -0.009707208452164218
          ],
          [
           -0.004210690572896636
          ],
          [
           0.010551860479366348
          ],
          [
           0.0416006740854499
          ],
          [
           0.029913888508043107
          ],
          [
           0.02097871413856167
          ],
          [
           -0.0028191203041476876
          ],
          [
           -0.003626307700851983
          ],
          [
           0.0035682440799314763
          ],
          [
           -0.00014631365636538773
          ],
          [
           -0.005046313801791463
          ],
          [
           0.014215369925035914
          ],
          [
           0.016293338749424707
          ],
          [
           -0.004317441896453167
          ],
          [
           -0.008118571370658106
          ],
          [
           0.0013196359046483142
          ],
          [
           0.014475752032610312
          ],
          [
           0.00042072029412733303
          ],
          [
           0.028012550361877844
          ],
          [
           0.02855537980065842
          ],
          [
           -0.015289078280680046
          ],
          [
           -0.00562440689132529
          ],
          [
           0.015699946081979388
          ],
          [
           -0.005206701741074543
          ],
          [
           -0.002121998881522702
          ],
          [
           0.015605240390666741
          ],
          [
           -0.010082999137245113
          ],
          [
           -0.00647867048255879
          ],
          [
           0.010885382318893133
          ],
          [
           -0.007955627321886483
          ],
          [
           -0.002839706748805959
          ],
          [
           0.005540865358498265
          ],
          [
           -0.00875803615895615
          ],
          [
           0.0020684960806701125
          ],
          [
           0.008962493313090791
          ],
          [
           -0.08157971690248819
          ],
          [
           -0.024208085931895773
          ],
          [
           0.050521072022723545
          ],
          [
           -0.0006761432763327246
          ],
          [
           0.012885483073783482
          ],
          [
           0.004123967839404913
          ],
          [
           0.012331909016876252
          ],
          [
           -0.000651437742198363
          ],
          [
           0.010920544738658305
          ],
          [
           0.0025018684314808692
          ],
          [
           0.014435528094365602
          ],
          [
           -0.0058285020613333405
          ],
          [
           0.00991090972323913
          ],
          [
           -0.003678025406964547
          ],
          [
           0.007706328117147887
          ],
          [
           -0.004748002985459715
          ],
          [
           0.008524362394063345
          ],
          [
           -0.007179307649316707
          ],
          [
           0.01044471831669283
          ],
          [
           -0.006152504909771234
          ],
          [
           0.007696639091958779
          ],
          [
           -0.00566437782612883
          ],
          [
           0.007203962442706463
          ],
          [
           -0.002016812009514979
          ],
          [
           0.008448685893502728
          ],
          [
           0.004075190255234867
          ],
          [
           0.011528580707046404
          ],
          [
           0.002033253205202812
          ],
          [
           0.011797137151006554
          ],
          [
           -0.00689487217326018
          ],
          [
           0.012703303788285547
          ],
          [
           -0.009171329171115933
          ],
          [
           0.00581068789497724
          ],
          [
           -0.010371096627500714
          ],
          [
           0.01327696350283225
          ],
          [
           -0.010438181835905336
          ],
          [
           0.013396050477041954
          ]
         ],
         "hovertemplate": "<b>%{hovertext}</b><br><br>Year=%{x}<br>Smoothed NDVI=%{customdata[0]}<extra></extra>",
         "hovertext": [
          172,
          172,
          172,
          172,
          816,
          816,
          816,
          816,
          816,
          816,
          816,
          816,
          913,
          913,
          913,
          913,
          913,
          913,
          913,
          913,
          916,
          916,
          916,
          916,
          916,
          916,
          916,
          916,
          1265,
          1265,
          1265,
          1265,
          1265,
          1265,
          1265,
          1265,
          1314,
          1314,
          1314,
          1314,
          1314,
          1314,
          1314,
          1314,
          1319,
          1319,
          1319,
          1319,
          1319,
          1319,
          1319,
          1319,
          1558,
          1558,
          1558,
          1558,
          1558,
          1558,
          1558,
          1588,
          1588,
          1588,
          1588,
          1588,
          1588,
          1588,
          1589,
          1589,
          1589,
          1589,
          1589,
          1589,
          1589,
          1590,
          1590,
          1590,
          1590,
          1590,
          1590,
          1590,
          1594,
          1594,
          1594,
          1594,
          1594,
          1594,
          1594,
          1601,
          1601,
          1601,
          1601,
          1601,
          1601,
          1601,
          1608,
          1608,
          1608,
          1608,
          1608,
          1608,
          1608,
          1655,
          1655,
          1655,
          1655,
          1655,
          1655,
          1655,
          2335,
          2335,
          2335,
          2335,
          2335,
          2335,
          2569,
          2569,
          2569,
          2569,
          2577,
          2577,
          2577,
          2577,
          2581,
          2581,
          2581,
          2586,
          2586,
          2586,
          2587,
          2587,
          2587,
          2599,
          2599,
          2599,
          2600,
          2600,
          2600,
          2601,
          2601,
          2601,
          2604,
          2604,
          2604,
          2609,
          2609,
          2614,
          2614,
          2615,
          2615,
          2620,
          2620,
          2621,
          2621,
          2622,
          2622,
          2623,
          2623,
          2624,
          2624,
          2626,
          2626,
          2627,
          2627,
          2628,
          2628,
          2633,
          2633,
          2634,
          2634,
          2645,
          2645,
          2646,
          2646,
          2648,
          2648,
          2650,
          2650
         ],
         "legendgroup": "",
         "marker": {
          "color": "rgb(76,114,176)",
          "symbol": "circle"
         },
         "mode": "markers",
         "name": "",
         "showlegend": false,
         "type": "scatter",
         "x": [
          2017,
          2018,
          2019,
          2020,
          2013,
          2014,
          2015,
          2016,
          2017,
          2018,
          2019,
          2020,
          2013,
          2014,
          2015,
          2016,
          2017,
          2018,
          2019,
          2020,
          2013,
          2014,
          2015,
          2016,
          2017,
          2018,
          2019,
          2020,
          2013,
          2014,
          2015,
          2016,
          2017,
          2018,
          2019,
          2020,
          2013,
          2014,
          2015,
          2016,
          2017,
          2018,
          2019,
          2020,
          2013,
          2014,
          2015,
          2016,
          2017,
          2018,
          2019,
          2020,
          2014,
          2015,
          2016,
          2017,
          2018,
          2019,
          2020,
          2014,
          2015,
          2016,
          2017,
          2018,
          2019,
          2020,
          2014,
          2015,
          2016,
          2017,
          2018,
          2019,
          2020,
          2014,
          2015,
          2016,
          2017,
          2018,
          2019,
          2020,
          2014,
          2015,
          2016,
          2017,
          2018,
          2019,
          2020,
          2014,
          2015,
          2016,
          2017,
          2018,
          2019,
          2020,
          2014,
          2015,
          2016,
          2017,
          2018,
          2019,
          2020,
          2014,
          2015,
          2016,
          2017,
          2018,
          2019,
          2020,
          2015,
          2016,
          2017,
          2018,
          2019,
          2020,
          2017,
          2018,
          2019,
          2020,
          2017,
          2018,
          2019,
          2020,
          2018,
          2019,
          2020,
          2018,
          2019,
          2020,
          2018,
          2019,
          2020,
          2018,
          2019,
          2020,
          2018,
          2019,
          2020,
          2018,
          2019,
          2020,
          2018,
          2019,
          2020,
          2019,
          2020,
          2019,
          2020,
          2019,
          2020,
          2019,
          2020,
          2019,
          2020,
          2019,
          2020,
          2019,
          2020,
          2019,
          2020,
          2019,
          2020,
          2019,
          2020,
          2019,
          2020,
          2019,
          2020,
          2019,
          2020,
          2019,
          2020,
          2019,
          2020,
          2019,
          2020,
          2019,
          2020
         ],
         "xaxis": "x",
         "y": [
          0.003429338113346614,
          0.014249780753258778,
          0.027376621611377508,
          0.027373524438977864,
          -0.007930984668899327,
          0.003969974131788956,
          0.03118038558318381,
          0.009743212215292008,
          0.0012208596613880185,
          -0.008651282685964129,
          -0.0037381564630935282,
          0.0045107644950853065,
          -0.0160042183855032,
          -0.015470449450793289,
          0.013261524378101602,
          0.0007714130615759096,
          -0.006413136007700659,
          -0.012376386633409314,
          -0.006772024994679632,
          0.010114266321127108,
          -0.005351208498698468,
          -0.0017493463927010233,
          0.032686490823272685,
          0.008953566671157931,
          -0.010597826409509459,
          -0.011855936981814086,
          -0.006370975526482442,
          0.01164239696014599,
          0.02195643143133033,
          -0.0004928493635648623,
          0.00980654208141618,
          0.004099827880660795,
          -0.01576276232775012,
          -0.010274437563613237,
          -0.0028290462901051916,
          0.005943562981720274,
          0.0006317463063925388,
          -0.007407819709156993,
          0.023721749706606343,
          0.004152625087176204,
          -0.015479396714245863,
          -0.011154901555648827,
          -0.0038202743601145894,
          0.013501587882982946,
          -0.008754079731171566,
          -0.000586941489564563,
          0.025103091463168803,
          0.0011399772456137658,
          -0.014367152201835487,
          -0.014803169653248044,
          0.006899653037762132,
          0.015539309495864462,
          -0.016174624082656797,
          0.005140653728515188,
          0.00948539574178317,
          -0.004317441896453167,
          -0.008118571370658106,
          0.001319635904648342,
          0.01447575203261034,
          -0.007084293995315877,
          0.011301576013875408,
          0.0038172660836129357,
          -0.006370387553307433,
          -0.012422695738433687,
          -0.005025815181133708,
          0.009787387893064547,
          0.0031782455266888276,
          0.023016017631609736,
          0.004869955672635401,
          -0.010271143052587695,
          -0.010929286404715521,
          -0.0023548739247949424,
          0.009412448043098737,
          -0.005555685345862732,
          0.014140652548606247,
          0.00953743819283559,
          -0.005959015782043914,
          -0.01672633656072528,
          -0.003239994751956826,
          0.01278608064229228,
          -0.01245427742347302,
          0.040500007267878446,
          0.02851130671633384,
          0.015972124701930268,
          -0.00317775202336526,
          -0.0025474862618879712,
          0.0037264575970987757,
          -0.027257533420715463,
          0.006812150221682356,
          0.00480221524916466,
          -0.005943828396177048,
          -0.012593538552406441,
          -0.0031679803844069376,
          0.005178097997336789,
          0.011053005184136155,
          0.011071824161424604,
          0.004015181402792195,
          -0.005779705382236849,
          -0.009768809819231894,
          -0.0008371216374346291,
          0.00992173435063004,
          -0.02153042071861111,
          0.005074470439339396,
          0.00766753786010671,
          -0.004037300772809754,
          -0.009707208452164218,
          -0.004210690572896636,
          0.010551860479366348,
          0.0416006740854499,
          0.029913888508043107,
          0.02097871413856167,
          -0.0028191203041476876,
          -0.003626307700851983,
          0.0035682440799314763,
          -0.00014631365636538773,
          -0.005046313801791463,
          0.014215369925035914,
          0.016293338749424707,
          -0.004317441896453167,
          -0.008118571370658106,
          0.0013196359046483142,
          0.014475752032610312,
          0.00042072029412733303,
          0.028012550361877844,
          0.02855537980065842,
          -0.015289078280680046,
          -0.00562440689132529,
          0.015699946081979388,
          -0.005206701741074543,
          -0.002121998881522702,
          0.015605240390666741,
          -0.010082999137245113,
          -0.00647867048255879,
          0.010885382318893133,
          -0.007955627321886483,
          -0.002839706748805959,
          0.005540865358498265,
          -0.00875803615895615,
          0.0020684960806701125,
          0.008962493313090791,
          -0.08157971690248819,
          -0.024208085931895773,
          0.050521072022723545,
          -0.0006761432763327246,
          0.012885483073783482,
          0.004123967839404913,
          0.012331909016876252,
          -0.000651437742198363,
          0.010920544738658305,
          0.0025018684314808692,
          0.014435528094365602,
          -0.0058285020613333405,
          0.00991090972323913,
          -0.003678025406964547,
          0.007706328117147887,
          -0.004748002985459715,
          0.008524362394063345,
          -0.007179307649316707,
          0.01044471831669283,
          -0.006152504909771234,
          0.007696639091958779,
          -0.00566437782612883,
          0.007203962442706463,
          -0.002016812009514979,
          0.008448685893502728,
          0.004075190255234867,
          0.011528580707046404,
          0.002033253205202812,
          0.011797137151006554,
          -0.00689487217326018,
          0.012703303788285547,
          -0.009171329171115933,
          0.00581068789497724,
          -0.010371096627500714,
          0.01327696350283225,
          -0.010438181835905336,
          0.013396050477041954
         ],
         "yaxis": "y"
        },
        {
         "hovertemplate": "<b>OLS trendline</b><br>NDVI_delta = 0.000600351 * Year + -1.20903<br>R<sup>2</sup>=0.007922<br><br>Year=%{x}<br>Smoothed NDVI=%{y} <b>(trend)</b><extra></extra>",
         "legendgroup": "",
         "marker": {
          "color": "rgb(76,114,176)",
          "symbol": "circle"
         },
         "mode": "lines",
         "name": "",
         "showlegend": false,
         "type": "scatter",
         "x": [
          2013,
          2013,
          2013,
          2013,
          2013,
          2013,
          2014,
          2014,
          2014,
          2014,
          2014,
          2014,
          2014,
          2014,
          2014,
          2014,
          2014,
          2014,
          2014,
          2014,
          2015,
          2015,
          2015,
          2015,
          2015,
          2015,
          2015,
          2015,
          2015,
          2015,
          2015,
          2015,
          2015,
          2015,
          2015,
          2016,
          2016,
          2016,
          2016,
          2016,
          2016,
          2016,
          2016,
          2016,
          2016,
          2016,
          2016,
          2016,
          2016,
          2016,
          2017,
          2017,
          2017,
          2017,
          2017,
          2017,
          2017,
          2017,
          2017,
          2017,
          2017,
          2017,
          2017,
          2017,
          2017,
          2017,
          2017,
          2017,
          2018,
          2018,
          2018,
          2018,
          2018,
          2018,
          2018,
          2018,
          2018,
          2018,
          2018,
          2018,
          2018,
          2018,
          2018,
          2018,
          2018,
          2018,
          2018,
          2018,
          2018,
          2018,
          2018,
          2018,
          2018,
          2019,
          2019,
          2019,
          2019,
          2019,
          2019,
          2019,
          2019,
          2019,
          2019,
          2019,
          2019,
          2019,
          2019,
          2019,
          2019,
          2019,
          2019,
          2019,
          2019,
          2019,
          2019,
          2019,
          2019,
          2019,
          2019,
          2019,
          2019,
          2019,
          2019,
          2019,
          2019,
          2019,
          2019,
          2019,
          2019,
          2019,
          2019,
          2019,
          2019,
          2019,
          2019,
          2020,
          2020,
          2020,
          2020,
          2020,
          2020,
          2020,
          2020,
          2020,
          2020,
          2020,
          2020,
          2020,
          2020,
          2020,
          2020,
          2020,
          2020,
          2020,
          2020,
          2020,
          2020,
          2020,
          2020,
          2020,
          2020,
          2020,
          2020,
          2020,
          2020,
          2020,
          2020,
          2020,
          2020,
          2020,
          2020,
          2020,
          2020,
          2020,
          2020,
          2020,
          2020
         ],
         "xaxis": "x",
         "y": [
          -0.0005268909914624142,
          -0.0005268909914624142,
          -0.0005268909914624142,
          -0.0005268909914624142,
          -0.0005268909914624142,
          -0.0005268909914624142,
          7.345993617580149e-05,
          7.345993617580149e-05,
          7.345993617580149e-05,
          7.345993617580149e-05,
          7.345993617580149e-05,
          7.345993617580149e-05,
          7.345993617580149e-05,
          7.345993617580149e-05,
          7.345993617580149e-05,
          7.345993617580149e-05,
          7.345993617580149e-05,
          7.345993617580149e-05,
          7.345993617580149e-05,
          7.345993617580149e-05,
          0.0006738108638137952,
          0.0006738108638137952,
          0.0006738108638137952,
          0.0006738108638137952,
          0.0006738108638137952,
          0.0006738108638137952,
          0.0006738108638137952,
          0.0006738108638137952,
          0.0006738108638137952,
          0.0006738108638137952,
          0.0006738108638137952,
          0.0006738108638137952,
          0.0006738108638137952,
          0.0006738108638137952,
          0.0006738108638137952,
          0.001274161791452011,
          0.001274161791452011,
          0.001274161791452011,
          0.001274161791452011,
          0.001274161791452011,
          0.001274161791452011,
          0.001274161791452011,
          0.001274161791452011,
          0.001274161791452011,
          0.001274161791452011,
          0.001274161791452011,
          0.001274161791452011,
          0.001274161791452011,
          0.001274161791452011,
          0.001274161791452011,
          0.0018745127190900046,
          0.0018745127190900046,
          0.0018745127190900046,
          0.0018745127190900046,
          0.0018745127190900046,
          0.0018745127190900046,
          0.0018745127190900046,
          0.0018745127190900046,
          0.0018745127190900046,
          0.0018745127190900046,
          0.0018745127190900046,
          0.0018745127190900046,
          0.0018745127190900046,
          0.0018745127190900046,
          0.0018745127190900046,
          0.0018745127190900046,
          0.0018745127190900046,
          0.0018745127190900046,
          0.0024748636467279983,
          0.0024748636467279983,
          0.0024748636467279983,
          0.0024748636467279983,
          0.0024748636467279983,
          0.0024748636467279983,
          0.0024748636467279983,
          0.0024748636467279983,
          0.0024748636467279983,
          0.0024748636467279983,
          0.0024748636467279983,
          0.0024748636467279983,
          0.0024748636467279983,
          0.0024748636467279983,
          0.0024748636467279983,
          0.0024748636467279983,
          0.0024748636467279983,
          0.0024748636467279983,
          0.0024748636467279983,
          0.0024748636467279983,
          0.0024748636467279983,
          0.0024748636467279983,
          0.0024748636467279983,
          0.0024748636467279983,
          0.0024748636467279983,
          0.003075214574366214,
          0.003075214574366214,
          0.003075214574366214,
          0.003075214574366214,
          0.003075214574366214,
          0.003075214574366214,
          0.003075214574366214,
          0.003075214574366214,
          0.003075214574366214,
          0.003075214574366214,
          0.003075214574366214,
          0.003075214574366214,
          0.003075214574366214,
          0.003075214574366214,
          0.003075214574366214,
          0.003075214574366214,
          0.003075214574366214,
          0.003075214574366214,
          0.003075214574366214,
          0.003075214574366214,
          0.003075214574366214,
          0.003075214574366214,
          0.003075214574366214,
          0.003075214574366214,
          0.003075214574366214,
          0.003075214574366214,
          0.003075214574366214,
          0.003075214574366214,
          0.003075214574366214,
          0.003075214574366214,
          0.003075214574366214,
          0.003075214574366214,
          0.003075214574366214,
          0.003075214574366214,
          0.003075214574366214,
          0.003075214574366214,
          0.003075214574366214,
          0.003075214574366214,
          0.003075214574366214,
          0.003075214574366214,
          0.003075214574366214,
          0.003075214574366214,
          0.0036755655020042077,
          0.0036755655020042077,
          0.0036755655020042077,
          0.0036755655020042077,
          0.0036755655020042077,
          0.0036755655020042077,
          0.0036755655020042077,
          0.0036755655020042077,
          0.0036755655020042077,
          0.0036755655020042077,
          0.0036755655020042077,
          0.0036755655020042077,
          0.0036755655020042077,
          0.0036755655020042077,
          0.0036755655020042077,
          0.0036755655020042077,
          0.0036755655020042077,
          0.0036755655020042077,
          0.0036755655020042077,
          0.0036755655020042077,
          0.0036755655020042077,
          0.0036755655020042077,
          0.0036755655020042077,
          0.0036755655020042077,
          0.0036755655020042077,
          0.0036755655020042077,
          0.0036755655020042077,
          0.0036755655020042077,
          0.0036755655020042077,
          0.0036755655020042077,
          0.0036755655020042077,
          0.0036755655020042077,
          0.0036755655020042077,
          0.0036755655020042077,
          0.0036755655020042077,
          0.0036755655020042077,
          0.0036755655020042077,
          0.0036755655020042077,
          0.0036755655020042077,
          0.0036755655020042077,
          0.0036755655020042077,
          0.0036755655020042077
         ],
         "yaxis": "y"
        }
       ],
       "layout": {
        "annotations": [
         {
          "showarrow": false,
          "text": "Source: Landsat 8 data from USGS, meteorological data from gridMET",
          "x": 0.01,
          "xref": "paper",
          "y": 0.01,
          "yref": "paper"
         }
        ],
        "height": 700,
        "legend": {
         "tracegroupgap": 0
        },
        "showlegend": false,
        "template": {
         "data": {
          "bar": [
           {
            "error_x": {
             "color": "rgb(36,36,36)"
            },
            "error_y": {
             "color": "rgb(36,36,36)"
            },
            "marker": {
             "line": {
              "color": "rgb(234,234,242)",
              "width": 0.5
             }
            },
            "type": "bar"
           }
          ],
          "barpolar": [
           {
            "marker": {
             "line": {
              "color": "rgb(234,234,242)",
              "width": 0.5
             }
            },
            "type": "barpolar"
           }
          ],
          "carpet": [
           {
            "aaxis": {
             "endlinecolor": "rgb(36,36,36)",
             "gridcolor": "white",
             "linecolor": "white",
             "minorgridcolor": "white",
             "startlinecolor": "rgb(36,36,36)"
            },
            "baxis": {
             "endlinecolor": "rgb(36,36,36)",
             "gridcolor": "white",
             "linecolor": "white",
             "minorgridcolor": "white",
             "startlinecolor": "rgb(36,36,36)"
            },
            "type": "carpet"
           }
          ],
          "choropleth": [
           {
            "colorbar": {
             "outlinewidth": 0,
             "tickcolor": "rgb(36,36,36)",
             "ticklen": 8,
             "ticks": "outside",
             "tickwidth": 2
            },
            "type": "choropleth"
           }
          ],
          "contour": [
           {
            "colorbar": {
             "outlinewidth": 0,
             "tickcolor": "rgb(36,36,36)",
             "ticklen": 8,
             "ticks": "outside",
             "tickwidth": 2
            },
            "colorscale": [
             [
              0,
              "rgb(2,4,25)"
             ],
             [
              0.06274509803921569,
              "rgb(24,15,41)"
             ],
             [
              0.12549019607843137,
              "rgb(47,23,57)"
             ],
             [
              0.18823529411764706,
              "rgb(71,28,72)"
             ],
             [
              0.25098039215686274,
              "rgb(97,30,82)"
             ],
             [
              0.3137254901960784,
              "rgb(123,30,89)"
             ],
             [
              0.3764705882352941,
              "rgb(150,27,91)"
             ],
             [
              0.4392156862745098,
              "rgb(177,22,88)"
             ],
             [
              0.5019607843137255,
              "rgb(203,26,79)"
             ],
             [
              0.5647058823529412,
              "rgb(223,47,67)"
             ],
             [
              0.6274509803921569,
              "rgb(236,76,61)"
             ],
             [
              0.6901960784313725,
              "rgb(242,107,73)"
             ],
             [
              0.7529411764705882,
              "rgb(244,135,95)"
             ],
             [
              0.8156862745098039,
              "rgb(245,162,122)"
             ],
             [
              0.8784313725490196,
              "rgb(246,188,153)"
             ],
             [
              0.9411764705882353,
              "rgb(247,212,187)"
             ],
             [
              1,
              "rgb(250,234,220)"
             ]
            ],
            "type": "contour"
           }
          ],
          "contourcarpet": [
           {
            "colorbar": {
             "outlinewidth": 0,
             "tickcolor": "rgb(36,36,36)",
             "ticklen": 8,
             "ticks": "outside",
             "tickwidth": 2
            },
            "type": "contourcarpet"
           }
          ],
          "heatmap": [
           {
            "colorbar": {
             "outlinewidth": 0,
             "tickcolor": "rgb(36,36,36)",
             "ticklen": 8,
             "ticks": "outside",
             "tickwidth": 2
            },
            "colorscale": [
             [
              0,
              "rgb(2,4,25)"
             ],
             [
              0.06274509803921569,
              "rgb(24,15,41)"
             ],
             [
              0.12549019607843137,
              "rgb(47,23,57)"
             ],
             [
              0.18823529411764706,
              "rgb(71,28,72)"
             ],
             [
              0.25098039215686274,
              "rgb(97,30,82)"
             ],
             [
              0.3137254901960784,
              "rgb(123,30,89)"
             ],
             [
              0.3764705882352941,
              "rgb(150,27,91)"
             ],
             [
              0.4392156862745098,
              "rgb(177,22,88)"
             ],
             [
              0.5019607843137255,
              "rgb(203,26,79)"
             ],
             [
              0.5647058823529412,
              "rgb(223,47,67)"
             ],
             [
              0.6274509803921569,
              "rgb(236,76,61)"
             ],
             [
              0.6901960784313725,
              "rgb(242,107,73)"
             ],
             [
              0.7529411764705882,
              "rgb(244,135,95)"
             ],
             [
              0.8156862745098039,
              "rgb(245,162,122)"
             ],
             [
              0.8784313725490196,
              "rgb(246,188,153)"
             ],
             [
              0.9411764705882353,
              "rgb(247,212,187)"
             ],
             [
              1,
              "rgb(250,234,220)"
             ]
            ],
            "type": "heatmap"
           }
          ],
          "heatmapgl": [
           {
            "colorbar": {
             "outlinewidth": 0,
             "tickcolor": "rgb(36,36,36)",
             "ticklen": 8,
             "ticks": "outside",
             "tickwidth": 2
            },
            "colorscale": [
             [
              0,
              "rgb(2,4,25)"
             ],
             [
              0.06274509803921569,
              "rgb(24,15,41)"
             ],
             [
              0.12549019607843137,
              "rgb(47,23,57)"
             ],
             [
              0.18823529411764706,
              "rgb(71,28,72)"
             ],
             [
              0.25098039215686274,
              "rgb(97,30,82)"
             ],
             [
              0.3137254901960784,
              "rgb(123,30,89)"
             ],
             [
              0.3764705882352941,
              "rgb(150,27,91)"
             ],
             [
              0.4392156862745098,
              "rgb(177,22,88)"
             ],
             [
              0.5019607843137255,
              "rgb(203,26,79)"
             ],
             [
              0.5647058823529412,
              "rgb(223,47,67)"
             ],
             [
              0.6274509803921569,
              "rgb(236,76,61)"
             ],
             [
              0.6901960784313725,
              "rgb(242,107,73)"
             ],
             [
              0.7529411764705882,
              "rgb(244,135,95)"
             ],
             [
              0.8156862745098039,
              "rgb(245,162,122)"
             ],
             [
              0.8784313725490196,
              "rgb(246,188,153)"
             ],
             [
              0.9411764705882353,
              "rgb(247,212,187)"
             ],
             [
              1,
              "rgb(250,234,220)"
             ]
            ],
            "type": "heatmapgl"
           }
          ],
          "histogram": [
           {
            "marker": {
             "colorbar": {
              "outlinewidth": 0,
              "tickcolor": "rgb(36,36,36)",
              "ticklen": 8,
              "ticks": "outside",
              "tickwidth": 2
             }
            },
            "type": "histogram"
           }
          ],
          "histogram2d": [
           {
            "colorbar": {
             "outlinewidth": 0,
             "tickcolor": "rgb(36,36,36)",
             "ticklen": 8,
             "ticks": "outside",
             "tickwidth": 2
            },
            "colorscale": [
             [
              0,
              "rgb(2,4,25)"
             ],
             [
              0.06274509803921569,
              "rgb(24,15,41)"
             ],
             [
              0.12549019607843137,
              "rgb(47,23,57)"
             ],
             [
              0.18823529411764706,
              "rgb(71,28,72)"
             ],
             [
              0.25098039215686274,
              "rgb(97,30,82)"
             ],
             [
              0.3137254901960784,
              "rgb(123,30,89)"
             ],
             [
              0.3764705882352941,
              "rgb(150,27,91)"
             ],
             [
              0.4392156862745098,
              "rgb(177,22,88)"
             ],
             [
              0.5019607843137255,
              "rgb(203,26,79)"
             ],
             [
              0.5647058823529412,
              "rgb(223,47,67)"
             ],
             [
              0.6274509803921569,
              "rgb(236,76,61)"
             ],
             [
              0.6901960784313725,
              "rgb(242,107,73)"
             ],
             [
              0.7529411764705882,
              "rgb(244,135,95)"
             ],
             [
              0.8156862745098039,
              "rgb(245,162,122)"
             ],
             [
              0.8784313725490196,
              "rgb(246,188,153)"
             ],
             [
              0.9411764705882353,
              "rgb(247,212,187)"
             ],
             [
              1,
              "rgb(250,234,220)"
             ]
            ],
            "type": "histogram2d"
           }
          ],
          "histogram2dcontour": [
           {
            "colorbar": {
             "outlinewidth": 0,
             "tickcolor": "rgb(36,36,36)",
             "ticklen": 8,
             "ticks": "outside",
             "tickwidth": 2
            },
            "colorscale": [
             [
              0,
              "rgb(2,4,25)"
             ],
             [
              0.06274509803921569,
              "rgb(24,15,41)"
             ],
             [
              0.12549019607843137,
              "rgb(47,23,57)"
             ],
             [
              0.18823529411764706,
              "rgb(71,28,72)"
             ],
             [
              0.25098039215686274,
              "rgb(97,30,82)"
             ],
             [
              0.3137254901960784,
              "rgb(123,30,89)"
             ],
             [
              0.3764705882352941,
              "rgb(150,27,91)"
             ],
             [
              0.4392156862745098,
              "rgb(177,22,88)"
             ],
             [
              0.5019607843137255,
              "rgb(203,26,79)"
             ],
             [
              0.5647058823529412,
              "rgb(223,47,67)"
             ],
             [
              0.6274509803921569,
              "rgb(236,76,61)"
             ],
             [
              0.6901960784313725,
              "rgb(242,107,73)"
             ],
             [
              0.7529411764705882,
              "rgb(244,135,95)"
             ],
             [
              0.8156862745098039,
              "rgb(245,162,122)"
             ],
             [
              0.8784313725490196,
              "rgb(246,188,153)"
             ],
             [
              0.9411764705882353,
              "rgb(247,212,187)"
             ],
             [
              1,
              "rgb(250,234,220)"
             ]
            ],
            "type": "histogram2dcontour"
           }
          ],
          "mesh3d": [
           {
            "colorbar": {
             "outlinewidth": 0,
             "tickcolor": "rgb(36,36,36)",
             "ticklen": 8,
             "ticks": "outside",
             "tickwidth": 2
            },
            "type": "mesh3d"
           }
          ],
          "parcoords": [
           {
            "line": {
             "colorbar": {
              "outlinewidth": 0,
              "tickcolor": "rgb(36,36,36)",
              "ticklen": 8,
              "ticks": "outside",
              "tickwidth": 2
             }
            },
            "type": "parcoords"
           }
          ],
          "pie": [
           {
            "automargin": true,
            "type": "pie"
           }
          ],
          "scatter": [
           {
            "marker": {
             "colorbar": {
              "outlinewidth": 0,
              "tickcolor": "rgb(36,36,36)",
              "ticklen": 8,
              "ticks": "outside",
              "tickwidth": 2
             }
            },
            "type": "scatter"
           }
          ],
          "scatter3d": [
           {
            "line": {
             "colorbar": {
              "outlinewidth": 0,
              "tickcolor": "rgb(36,36,36)",
              "ticklen": 8,
              "ticks": "outside",
              "tickwidth": 2
             }
            },
            "marker": {
             "colorbar": {
              "outlinewidth": 0,
              "tickcolor": "rgb(36,36,36)",
              "ticklen": 8,
              "ticks": "outside",
              "tickwidth": 2
             }
            },
            "type": "scatter3d"
           }
          ],
          "scattercarpet": [
           {
            "marker": {
             "colorbar": {
              "outlinewidth": 0,
              "tickcolor": "rgb(36,36,36)",
              "ticklen": 8,
              "ticks": "outside",
              "tickwidth": 2
             }
            },
            "type": "scattercarpet"
           }
          ],
          "scattergeo": [
           {
            "marker": {
             "colorbar": {
              "outlinewidth": 0,
              "tickcolor": "rgb(36,36,36)",
              "ticklen": 8,
              "ticks": "outside",
              "tickwidth": 2
             }
            },
            "type": "scattergeo"
           }
          ],
          "scattergl": [
           {
            "marker": {
             "colorbar": {
              "outlinewidth": 0,
              "tickcolor": "rgb(36,36,36)",
              "ticklen": 8,
              "ticks": "outside",
              "tickwidth": 2
             }
            },
            "type": "scattergl"
           }
          ],
          "scattermapbox": [
           {
            "marker": {
             "colorbar": {
              "outlinewidth": 0,
              "tickcolor": "rgb(36,36,36)",
              "ticklen": 8,
              "ticks": "outside",
              "tickwidth": 2
             }
            },
            "type": "scattermapbox"
           }
          ],
          "scatterpolar": [
           {
            "marker": {
             "colorbar": {
              "outlinewidth": 0,
              "tickcolor": "rgb(36,36,36)",
              "ticklen": 8,
              "ticks": "outside",
              "tickwidth": 2
             }
            },
            "type": "scatterpolar"
           }
          ],
          "scatterpolargl": [
           {
            "marker": {
             "colorbar": {
              "outlinewidth": 0,
              "tickcolor": "rgb(36,36,36)",
              "ticklen": 8,
              "ticks": "outside",
              "tickwidth": 2
             }
            },
            "type": "scatterpolargl"
           }
          ],
          "scatterternary": [
           {
            "marker": {
             "colorbar": {
              "outlinewidth": 0,
              "tickcolor": "rgb(36,36,36)",
              "ticklen": 8,
              "ticks": "outside",
              "tickwidth": 2
             }
            },
            "type": "scatterternary"
           }
          ],
          "surface": [
           {
            "colorbar": {
             "outlinewidth": 0,
             "tickcolor": "rgb(36,36,36)",
             "ticklen": 8,
             "ticks": "outside",
             "tickwidth": 2
            },
            "colorscale": [
             [
              0,
              "rgb(2,4,25)"
             ],
             [
              0.06274509803921569,
              "rgb(24,15,41)"
             ],
             [
              0.12549019607843137,
              "rgb(47,23,57)"
             ],
             [
              0.18823529411764706,
              "rgb(71,28,72)"
             ],
             [
              0.25098039215686274,
              "rgb(97,30,82)"
             ],
             [
              0.3137254901960784,
              "rgb(123,30,89)"
             ],
             [
              0.3764705882352941,
              "rgb(150,27,91)"
             ],
             [
              0.4392156862745098,
              "rgb(177,22,88)"
             ],
             [
              0.5019607843137255,
              "rgb(203,26,79)"
             ],
             [
              0.5647058823529412,
              "rgb(223,47,67)"
             ],
             [
              0.6274509803921569,
              "rgb(236,76,61)"
             ],
             [
              0.6901960784313725,
              "rgb(242,107,73)"
             ],
             [
              0.7529411764705882,
              "rgb(244,135,95)"
             ],
             [
              0.8156862745098039,
              "rgb(245,162,122)"
             ],
             [
              0.8784313725490196,
              "rgb(246,188,153)"
             ],
             [
              0.9411764705882353,
              "rgb(247,212,187)"
             ],
             [
              1,
              "rgb(250,234,220)"
             ]
            ],
            "type": "surface"
           }
          ],
          "table": [
           {
            "cells": {
             "fill": {
              "color": "rgb(231,231,240)"
             },
             "line": {
              "color": "white"
             }
            },
            "header": {
             "fill": {
              "color": "rgb(183,183,191)"
             },
             "line": {
              "color": "white"
             }
            },
            "type": "table"
           }
          ]
         },
         "layout": {
          "annotationdefaults": {
           "arrowcolor": "rgb(67,103,167)"
          },
          "coloraxis": {
           "colorbar": {
            "outlinewidth": 0,
            "tickcolor": "rgb(36,36,36)",
            "ticklen": 8,
            "ticks": "outside",
            "tickwidth": 2
           }
          },
          "colorscale": {
           "sequential": [
            [
             0,
             "rgb(2,4,25)"
            ],
            [
             0.06274509803921569,
             "rgb(24,15,41)"
            ],
            [
             0.12549019607843137,
             "rgb(47,23,57)"
            ],
            [
             0.18823529411764706,
             "rgb(71,28,72)"
            ],
            [
             0.25098039215686274,
             "rgb(97,30,82)"
            ],
            [
             0.3137254901960784,
             "rgb(123,30,89)"
            ],
            [
             0.3764705882352941,
             "rgb(150,27,91)"
            ],
            [
             0.4392156862745098,
             "rgb(177,22,88)"
            ],
            [
             0.5019607843137255,
             "rgb(203,26,79)"
            ],
            [
             0.5647058823529412,
             "rgb(223,47,67)"
            ],
            [
             0.6274509803921569,
             "rgb(236,76,61)"
            ],
            [
             0.6901960784313725,
             "rgb(242,107,73)"
            ],
            [
             0.7529411764705882,
             "rgb(244,135,95)"
            ],
            [
             0.8156862745098039,
             "rgb(245,162,122)"
            ],
            [
             0.8784313725490196,
             "rgb(246,188,153)"
            ],
            [
             0.9411764705882353,
             "rgb(247,212,187)"
            ],
            [
             1,
             "rgb(250,234,220)"
            ]
           ],
           "sequentialminus": [
            [
             0,
             "rgb(2,4,25)"
            ],
            [
             0.06274509803921569,
             "rgb(24,15,41)"
            ],
            [
             0.12549019607843137,
             "rgb(47,23,57)"
            ],
            [
             0.18823529411764706,
             "rgb(71,28,72)"
            ],
            [
             0.25098039215686274,
             "rgb(97,30,82)"
            ],
            [
             0.3137254901960784,
             "rgb(123,30,89)"
            ],
            [
             0.3764705882352941,
             "rgb(150,27,91)"
            ],
            [
             0.4392156862745098,
             "rgb(177,22,88)"
            ],
            [
             0.5019607843137255,
             "rgb(203,26,79)"
            ],
            [
             0.5647058823529412,
             "rgb(223,47,67)"
            ],
            [
             0.6274509803921569,
             "rgb(236,76,61)"
            ],
            [
             0.6901960784313725,
             "rgb(242,107,73)"
            ],
            [
             0.7529411764705882,
             "rgb(244,135,95)"
            ],
            [
             0.8156862745098039,
             "rgb(245,162,122)"
            ],
            [
             0.8784313725490196,
             "rgb(246,188,153)"
            ],
            [
             0.9411764705882353,
             "rgb(247,212,187)"
            ],
            [
             1,
             "rgb(250,234,220)"
            ]
           ]
          },
          "colorway": [
           "rgb(76,114,176)",
           "rgb(221,132,82)",
           "rgb(85,168,104)",
           "rgb(196,78,82)",
           "rgb(129,114,179)",
           "rgb(147,120,96)",
           "rgb(218,139,195)",
           "rgb(140,140,140)",
           "rgb(204,185,116)",
           "rgb(100,181,205)"
          ],
          "font": {
           "color": "rgb(36,36,36)"
          },
          "geo": {
           "bgcolor": "white",
           "lakecolor": "white",
           "landcolor": "rgb(234,234,242)",
           "showlakes": true,
           "showland": true,
           "subunitcolor": "white"
          },
          "hoverlabel": {
           "align": "left"
          },
          "hovermode": "closest",
          "paper_bgcolor": "white",
          "plot_bgcolor": "rgb(234,234,242)",
          "polar": {
           "angularaxis": {
            "gridcolor": "white",
            "linecolor": "white",
            "showgrid": true,
            "ticks": ""
           },
           "bgcolor": "rgb(234,234,242)",
           "radialaxis": {
            "gridcolor": "white",
            "linecolor": "white",
            "showgrid": true,
            "ticks": ""
           }
          },
          "scene": {
           "xaxis": {
            "backgroundcolor": "rgb(234,234,242)",
            "gridcolor": "white",
            "gridwidth": 2,
            "linecolor": "white",
            "showbackground": true,
            "showgrid": true,
            "ticks": "",
            "zerolinecolor": "white"
           },
           "yaxis": {
            "backgroundcolor": "rgb(234,234,242)",
            "gridcolor": "white",
            "gridwidth": 2,
            "linecolor": "white",
            "showbackground": true,
            "showgrid": true,
            "ticks": "",
            "zerolinecolor": "white"
           },
           "zaxis": {
            "backgroundcolor": "rgb(234,234,242)",
            "gridcolor": "white",
            "gridwidth": 2,
            "linecolor": "white",
            "showbackground": true,
            "showgrid": true,
            "ticks": "",
            "zerolinecolor": "white"
           }
          },
          "shapedefaults": {
           "fillcolor": "rgb(67,103,167)",
           "line": {
            "width": 0
           },
           "opacity": 0.5
          },
          "ternary": {
           "aaxis": {
            "gridcolor": "white",
            "linecolor": "white",
            "showgrid": true,
            "ticks": ""
           },
           "baxis": {
            "gridcolor": "white",
            "linecolor": "white",
            "showgrid": true,
            "ticks": ""
           },
           "bgcolor": "rgb(234,234,242)",
           "caxis": {
            "gridcolor": "white",
            "linecolor": "white",
            "showgrid": true,
            "ticks": ""
           }
          },
          "xaxis": {
           "automargin": true,
           "gridcolor": "white",
           "linecolor": "white",
           "showgrid": true,
           "ticks": "",
           "title": {
            "standoff": 15
           },
           "zerolinecolor": "white"
          },
          "yaxis": {
           "automargin": true,
           "gridcolor": "white",
           "linecolor": "white",
           "showgrid": true,
           "ticks": "",
           "title": {
            "standoff": 15
           },
           "zerolinecolor": "white"
          }
         }
        },
        "title": {
         "text": "Plot 3 - Annual change in NDVI vs year for all seeding units"
        },
        "width": 900,
        "xaxis": {
         "anchor": "y",
         "domain": [
          0,
          1
         ],
         "title": {
          "text": "Year"
         }
        },
        "yaxis": {
         "anchor": "x",
         "domain": [
          0,
          1
         ],
         "title": {
          "text": "Smoothed NDVI"
         }
        }
       }
      },
      "text/html": [
       "<div>\n",
       "        \n",
       "        \n",
       "            <div id=\"62b8d8dd-d414-4b80-a980-52afd23e8714\" class=\"plotly-graph-div\" style=\"height:700px; width:900px;\"></div>\n",
       "            <script type=\"text/javascript\">\n",
       "                require([\"plotly\"], function(Plotly) {\n",
       "                    window.PLOTLYENV=window.PLOTLYENV || {};\n",
       "                    \n",
       "                if (document.getElementById(\"62b8d8dd-d414-4b80-a980-52afd23e8714\")) {\n",
       "                    Plotly.newPlot(\n",
       "                        '62b8d8dd-d414-4b80-a980-52afd23e8714',\n",
       "                        [{\"customdata\": [[0.003429338113346614], [0.014249780753258778], [0.027376621611377508], [0.027373524438977864], [-0.007930984668899327], [0.003969974131788956], [0.03118038558318381], [0.009743212215292008], [0.0012208596613880185], [-0.008651282685964129], [-0.0037381564630935282], [0.0045107644950853065], [-0.0160042183855032], [-0.015470449450793289], [0.013261524378101602], [0.0007714130615759096], [-0.006413136007700659], [-0.012376386633409314], [-0.006772024994679632], [0.010114266321127108], [-0.005351208498698468], [-0.0017493463927010233], [0.032686490823272685], [0.008953566671157931], [-0.010597826409509459], [-0.011855936981814086], [-0.006370975526482442], [0.01164239696014599], [0.02195643143133033], [-0.0004928493635648623], [0.00980654208141618], [0.004099827880660795], [-0.01576276232775012], [-0.010274437563613237], [-0.0028290462901051916], [0.005943562981720274], [0.0006317463063925388], [-0.007407819709156993], [0.023721749706606343], [0.004152625087176204], [-0.015479396714245863], [-0.011154901555648827], [-0.0038202743601145894], [0.013501587882982946], [-0.008754079731171566], [-0.000586941489564563], [0.025103091463168803], [0.0011399772456137658], [-0.014367152201835487], [-0.014803169653248044], [0.006899653037762132], [0.015539309495864462], [-0.016174624082656797], [0.005140653728515188], [0.00948539574178317], [-0.004317441896453167], [-0.008118571370658106], [0.001319635904648342], [0.01447575203261034], [-0.007084293995315877], [0.011301576013875408], [0.0038172660836129357], [-0.006370387553307433], [-0.012422695738433687], [-0.005025815181133708], [0.009787387893064547], [0.0031782455266888276], [0.023016017631609736], [0.004869955672635401], [-0.010271143052587695], [-0.010929286404715521], [-0.0023548739247949424], [0.009412448043098737], [-0.005555685345862732], [0.014140652548606247], [0.00953743819283559], [-0.005959015782043914], [-0.01672633656072528], [-0.003239994751956826], [0.01278608064229228], [-0.01245427742347302], [0.040500007267878446], [0.02851130671633384], [0.015972124701930268], [-0.00317775202336526], [-0.0025474862618879712], [0.0037264575970987757], [-0.027257533420715463], [0.006812150221682356], [0.00480221524916466], [-0.005943828396177048], [-0.012593538552406441], [-0.0031679803844069376], [0.005178097997336789], [0.011053005184136155], [0.011071824161424604], [0.004015181402792195], [-0.005779705382236849], [-0.009768809819231894], [-0.0008371216374346291], [0.00992173435063004], [-0.02153042071861111], [0.005074470439339396], [0.00766753786010671], [-0.004037300772809754], [-0.009707208452164218], [-0.004210690572896636], [0.010551860479366348], [0.0416006740854499], [0.029913888508043107], [0.02097871413856167], [-0.0028191203041476876], [-0.003626307700851983], [0.0035682440799314763], [-0.00014631365636538773], [-0.005046313801791463], [0.014215369925035914], [0.016293338749424707], [-0.004317441896453167], [-0.008118571370658106], [0.0013196359046483142], [0.014475752032610312], [0.00042072029412733303], [0.028012550361877844], [0.02855537980065842], [-0.015289078280680046], [-0.00562440689132529], [0.015699946081979388], [-0.005206701741074543], [-0.002121998881522702], [0.015605240390666741], [-0.010082999137245113], [-0.00647867048255879], [0.010885382318893133], [-0.007955627321886483], [-0.002839706748805959], [0.005540865358498265], [-0.00875803615895615], [0.0020684960806701125], [0.008962493313090791], [-0.08157971690248819], [-0.024208085931895773], [0.050521072022723545], [-0.0006761432763327246], [0.012885483073783482], [0.004123967839404913], [0.012331909016876252], [-0.000651437742198363], [0.010920544738658305], [0.0025018684314808692], [0.014435528094365602], [-0.0058285020613333405], [0.00991090972323913], [-0.003678025406964547], [0.007706328117147887], [-0.004748002985459715], [0.008524362394063345], [-0.007179307649316707], [0.01044471831669283], [-0.006152504909771234], [0.007696639091958779], [-0.00566437782612883], [0.007203962442706463], [-0.002016812009514979], [0.008448685893502728], [0.004075190255234867], [0.011528580707046404], [0.002033253205202812], [0.011797137151006554], [-0.00689487217326018], [0.012703303788285547], [-0.009171329171115933], [0.00581068789497724], [-0.010371096627500714], [0.01327696350283225], [-0.010438181835905336], [0.013396050477041954]], \"hovertemplate\": \"<b>%{hovertext}</b><br><br>Year=%{x}<br>Smoothed NDVI=%{customdata[0]}<extra></extra>\", \"hovertext\": [172.0, 172.0, 172.0, 172.0, 816.0, 816.0, 816.0, 816.0, 816.0, 816.0, 816.0, 816.0, 913.0, 913.0, 913.0, 913.0, 913.0, 913.0, 913.0, 913.0, 916.0, 916.0, 916.0, 916.0, 916.0, 916.0, 916.0, 916.0, 1265.0, 1265.0, 1265.0, 1265.0, 1265.0, 1265.0, 1265.0, 1265.0, 1314.0, 1314.0, 1314.0, 1314.0, 1314.0, 1314.0, 1314.0, 1314.0, 1319.0, 1319.0, 1319.0, 1319.0, 1319.0, 1319.0, 1319.0, 1319.0, 1558.0, 1558.0, 1558.0, 1558.0, 1558.0, 1558.0, 1558.0, 1588.0, 1588.0, 1588.0, 1588.0, 1588.0, 1588.0, 1588.0, 1589.0, 1589.0, 1589.0, 1589.0, 1589.0, 1589.0, 1589.0, 1590.0, 1590.0, 1590.0, 1590.0, 1590.0, 1590.0, 1590.0, 1594.0, 1594.0, 1594.0, 1594.0, 1594.0, 1594.0, 1594.0, 1601.0, 1601.0, 1601.0, 1601.0, 1601.0, 1601.0, 1601.0, 1608.0, 1608.0, 1608.0, 1608.0, 1608.0, 1608.0, 1608.0, 1655.0, 1655.0, 1655.0, 1655.0, 1655.0, 1655.0, 1655.0, 2335.0, 2335.0, 2335.0, 2335.0, 2335.0, 2335.0, 2569.0, 2569.0, 2569.0, 2569.0, 2577.0, 2577.0, 2577.0, 2577.0, 2581.0, 2581.0, 2581.0, 2586.0, 2586.0, 2586.0, 2587.0, 2587.0, 2587.0, 2599.0, 2599.0, 2599.0, 2600.0, 2600.0, 2600.0, 2601.0, 2601.0, 2601.0, 2604.0, 2604.0, 2604.0, 2609.0, 2609.0, 2614.0, 2614.0, 2615.0, 2615.0, 2620.0, 2620.0, 2621.0, 2621.0, 2622.0, 2622.0, 2623.0, 2623.0, 2624.0, 2624.0, 2626.0, 2626.0, 2627.0, 2627.0, 2628.0, 2628.0, 2633.0, 2633.0, 2634.0, 2634.0, 2645.0, 2645.0, 2646.0, 2646.0, 2648.0, 2648.0, 2650.0, 2650.0], \"legendgroup\": \"\", \"marker\": {\"color\": \"rgb(76,114,176)\", \"symbol\": \"circle\"}, \"mode\": \"markers\", \"name\": \"\", \"showlegend\": false, \"type\": \"scatter\", \"x\": [2017, 2018, 2019, 2020, 2013, 2014, 2015, 2016, 2017, 2018, 2019, 2020, 2013, 2014, 2015, 2016, 2017, 2018, 2019, 2020, 2013, 2014, 2015, 2016, 2017, 2018, 2019, 2020, 2013, 2014, 2015, 2016, 2017, 2018, 2019, 2020, 2013, 2014, 2015, 2016, 2017, 2018, 2019, 2020, 2013, 2014, 2015, 2016, 2017, 2018, 2019, 2020, 2014, 2015, 2016, 2017, 2018, 2019, 2020, 2014, 2015, 2016, 2017, 2018, 2019, 2020, 2014, 2015, 2016, 2017, 2018, 2019, 2020, 2014, 2015, 2016, 2017, 2018, 2019, 2020, 2014, 2015, 2016, 2017, 2018, 2019, 2020, 2014, 2015, 2016, 2017, 2018, 2019, 2020, 2014, 2015, 2016, 2017, 2018, 2019, 2020, 2014, 2015, 2016, 2017, 2018, 2019, 2020, 2015, 2016, 2017, 2018, 2019, 2020, 2017, 2018, 2019, 2020, 2017, 2018, 2019, 2020, 2018, 2019, 2020, 2018, 2019, 2020, 2018, 2019, 2020, 2018, 2019, 2020, 2018, 2019, 2020, 2018, 2019, 2020, 2018, 2019, 2020, 2019, 2020, 2019, 2020, 2019, 2020, 2019, 2020, 2019, 2020, 2019, 2020, 2019, 2020, 2019, 2020, 2019, 2020, 2019, 2020, 2019, 2020, 2019, 2020, 2019, 2020, 2019, 2020, 2019, 2020, 2019, 2020, 2019, 2020], \"xaxis\": \"x\", \"y\": [0.003429338113346614, 0.014249780753258778, 0.027376621611377508, 0.027373524438977864, -0.007930984668899327, 0.003969974131788956, 0.03118038558318381, 0.009743212215292008, 0.0012208596613880185, -0.008651282685964129, -0.0037381564630935282, 0.0045107644950853065, -0.0160042183855032, -0.015470449450793289, 0.013261524378101602, 0.0007714130615759096, -0.006413136007700659, -0.012376386633409314, -0.006772024994679632, 0.010114266321127108, -0.005351208498698468, -0.0017493463927010233, 0.032686490823272685, 0.008953566671157931, -0.010597826409509459, -0.011855936981814086, -0.006370975526482442, 0.01164239696014599, 0.02195643143133033, -0.0004928493635648623, 0.00980654208141618, 0.004099827880660795, -0.01576276232775012, -0.010274437563613237, -0.0028290462901051916, 0.005943562981720274, 0.0006317463063925388, -0.007407819709156993, 0.023721749706606343, 0.004152625087176204, -0.015479396714245863, -0.011154901555648827, -0.0038202743601145894, 0.013501587882982946, -0.008754079731171566, -0.000586941489564563, 0.025103091463168803, 0.0011399772456137658, -0.014367152201835487, -0.014803169653248044, 0.006899653037762132, 0.015539309495864462, -0.016174624082656797, 0.005140653728515188, 0.00948539574178317, -0.004317441896453167, -0.008118571370658106, 0.001319635904648342, 0.01447575203261034, -0.007084293995315877, 0.011301576013875408, 0.0038172660836129357, -0.006370387553307433, -0.012422695738433687, -0.005025815181133708, 0.009787387893064547, 0.0031782455266888276, 0.023016017631609736, 0.004869955672635401, -0.010271143052587695, -0.010929286404715521, -0.0023548739247949424, 0.009412448043098737, -0.005555685345862732, 0.014140652548606247, 0.00953743819283559, -0.005959015782043914, -0.01672633656072528, -0.003239994751956826, 0.01278608064229228, -0.01245427742347302, 0.040500007267878446, 0.02851130671633384, 0.015972124701930268, -0.00317775202336526, -0.0025474862618879712, 0.0037264575970987757, -0.027257533420715463, 0.006812150221682356, 0.00480221524916466, -0.005943828396177048, -0.012593538552406441, -0.0031679803844069376, 0.005178097997336789, 0.011053005184136155, 0.011071824161424604, 0.004015181402792195, -0.005779705382236849, -0.009768809819231894, -0.0008371216374346291, 0.00992173435063004, -0.02153042071861111, 0.005074470439339396, 0.00766753786010671, -0.004037300772809754, -0.009707208452164218, -0.004210690572896636, 0.010551860479366348, 0.0416006740854499, 0.029913888508043107, 0.02097871413856167, -0.0028191203041476876, -0.003626307700851983, 0.0035682440799314763, -0.00014631365636538773, -0.005046313801791463, 0.014215369925035914, 0.016293338749424707, -0.004317441896453167, -0.008118571370658106, 0.0013196359046483142, 0.014475752032610312, 0.00042072029412733303, 0.028012550361877844, 0.02855537980065842, -0.015289078280680046, -0.00562440689132529, 0.015699946081979388, -0.005206701741074543, -0.002121998881522702, 0.015605240390666741, -0.010082999137245113, -0.00647867048255879, 0.010885382318893133, -0.007955627321886483, -0.002839706748805959, 0.005540865358498265, -0.00875803615895615, 0.0020684960806701125, 0.008962493313090791, -0.08157971690248819, -0.024208085931895773, 0.050521072022723545, -0.0006761432763327246, 0.012885483073783482, 0.004123967839404913, 0.012331909016876252, -0.000651437742198363, 0.010920544738658305, 0.0025018684314808692, 0.014435528094365602, -0.0058285020613333405, 0.00991090972323913, -0.003678025406964547, 0.007706328117147887, -0.004748002985459715, 0.008524362394063345, -0.007179307649316707, 0.01044471831669283, -0.006152504909771234, 0.007696639091958779, -0.00566437782612883, 0.007203962442706463, -0.002016812009514979, 0.008448685893502728, 0.004075190255234867, 0.011528580707046404, 0.002033253205202812, 0.011797137151006554, -0.00689487217326018, 0.012703303788285547, -0.009171329171115933, 0.00581068789497724, -0.010371096627500714, 0.01327696350283225, -0.010438181835905336, 0.013396050477041954], \"yaxis\": \"y\"}, {\"hovertemplate\": \"<b>OLS trendline</b><br>NDVI_delta = 0.000600351 * Year + -1.20903<br>R<sup>2</sup>=0.007922<br><br>Year=%{x}<br>Smoothed NDVI=%{y} <b>(trend)</b><extra></extra>\", \"legendgroup\": \"\", \"marker\": {\"color\": \"rgb(76,114,176)\", \"symbol\": \"circle\"}, \"mode\": \"lines\", \"name\": \"\", \"showlegend\": false, \"type\": \"scatter\", \"x\": [2013, 2013, 2013, 2013, 2013, 2013, 2014, 2014, 2014, 2014, 2014, 2014, 2014, 2014, 2014, 2014, 2014, 2014, 2014, 2014, 2015, 2015, 2015, 2015, 2015, 2015, 2015, 2015, 2015, 2015, 2015, 2015, 2015, 2015, 2015, 2016, 2016, 2016, 2016, 2016, 2016, 2016, 2016, 2016, 2016, 2016, 2016, 2016, 2016, 2016, 2017, 2017, 2017, 2017, 2017, 2017, 2017, 2017, 2017, 2017, 2017, 2017, 2017, 2017, 2017, 2017, 2017, 2017, 2018, 2018, 2018, 2018, 2018, 2018, 2018, 2018, 2018, 2018, 2018, 2018, 2018, 2018, 2018, 2018, 2018, 2018, 2018, 2018, 2018, 2018, 2018, 2018, 2018, 2019, 2019, 2019, 2019, 2019, 2019, 2019, 2019, 2019, 2019, 2019, 2019, 2019, 2019, 2019, 2019, 2019, 2019, 2019, 2019, 2019, 2019, 2019, 2019, 2019, 2019, 2019, 2019, 2019, 2019, 2019, 2019, 2019, 2019, 2019, 2019, 2019, 2019, 2019, 2019, 2019, 2019, 2020, 2020, 2020, 2020, 2020, 2020, 2020, 2020, 2020, 2020, 2020, 2020, 2020, 2020, 2020, 2020, 2020, 2020, 2020, 2020, 2020, 2020, 2020, 2020, 2020, 2020, 2020, 2020, 2020, 2020, 2020, 2020, 2020, 2020, 2020, 2020, 2020, 2020, 2020, 2020, 2020, 2020], \"xaxis\": \"x\", \"y\": [-0.0005268909914624142, -0.0005268909914624142, -0.0005268909914624142, -0.0005268909914624142, -0.0005268909914624142, -0.0005268909914624142, 7.345993617580149e-05, 7.345993617580149e-05, 7.345993617580149e-05, 7.345993617580149e-05, 7.345993617580149e-05, 7.345993617580149e-05, 7.345993617580149e-05, 7.345993617580149e-05, 7.345993617580149e-05, 7.345993617580149e-05, 7.345993617580149e-05, 7.345993617580149e-05, 7.345993617580149e-05, 7.345993617580149e-05, 0.0006738108638137952, 0.0006738108638137952, 0.0006738108638137952, 0.0006738108638137952, 0.0006738108638137952, 0.0006738108638137952, 0.0006738108638137952, 0.0006738108638137952, 0.0006738108638137952, 0.0006738108638137952, 0.0006738108638137952, 0.0006738108638137952, 0.0006738108638137952, 0.0006738108638137952, 0.0006738108638137952, 0.001274161791452011, 0.001274161791452011, 0.001274161791452011, 0.001274161791452011, 0.001274161791452011, 0.001274161791452011, 0.001274161791452011, 0.001274161791452011, 0.001274161791452011, 0.001274161791452011, 0.001274161791452011, 0.001274161791452011, 0.001274161791452011, 0.001274161791452011, 0.001274161791452011, 0.0018745127190900046, 0.0018745127190900046, 0.0018745127190900046, 0.0018745127190900046, 0.0018745127190900046, 0.0018745127190900046, 0.0018745127190900046, 0.0018745127190900046, 0.0018745127190900046, 0.0018745127190900046, 0.0018745127190900046, 0.0018745127190900046, 0.0018745127190900046, 0.0018745127190900046, 0.0018745127190900046, 0.0018745127190900046, 0.0018745127190900046, 0.0018745127190900046, 0.0024748636467279983, 0.0024748636467279983, 0.0024748636467279983, 0.0024748636467279983, 0.0024748636467279983, 0.0024748636467279983, 0.0024748636467279983, 0.0024748636467279983, 0.0024748636467279983, 0.0024748636467279983, 0.0024748636467279983, 0.0024748636467279983, 0.0024748636467279983, 0.0024748636467279983, 0.0024748636467279983, 0.0024748636467279983, 0.0024748636467279983, 0.0024748636467279983, 0.0024748636467279983, 0.0024748636467279983, 0.0024748636467279983, 0.0024748636467279983, 0.0024748636467279983, 0.0024748636467279983, 0.0024748636467279983, 0.003075214574366214, 0.003075214574366214, 0.003075214574366214, 0.003075214574366214, 0.003075214574366214, 0.003075214574366214, 0.003075214574366214, 0.003075214574366214, 0.003075214574366214, 0.003075214574366214, 0.003075214574366214, 0.003075214574366214, 0.003075214574366214, 0.003075214574366214, 0.003075214574366214, 0.003075214574366214, 0.003075214574366214, 0.003075214574366214, 0.003075214574366214, 0.003075214574366214, 0.003075214574366214, 0.003075214574366214, 0.003075214574366214, 0.003075214574366214, 0.003075214574366214, 0.003075214574366214, 0.003075214574366214, 0.003075214574366214, 0.003075214574366214, 0.003075214574366214, 0.003075214574366214, 0.003075214574366214, 0.003075214574366214, 0.003075214574366214, 0.003075214574366214, 0.003075214574366214, 0.003075214574366214, 0.003075214574366214, 0.003075214574366214, 0.003075214574366214, 0.003075214574366214, 0.003075214574366214, 0.0036755655020042077, 0.0036755655020042077, 0.0036755655020042077, 0.0036755655020042077, 0.0036755655020042077, 0.0036755655020042077, 0.0036755655020042077, 0.0036755655020042077, 0.0036755655020042077, 0.0036755655020042077, 0.0036755655020042077, 0.0036755655020042077, 0.0036755655020042077, 0.0036755655020042077, 0.0036755655020042077, 0.0036755655020042077, 0.0036755655020042077, 0.0036755655020042077, 0.0036755655020042077, 0.0036755655020042077, 0.0036755655020042077, 0.0036755655020042077, 0.0036755655020042077, 0.0036755655020042077, 0.0036755655020042077, 0.0036755655020042077, 0.0036755655020042077, 0.0036755655020042077, 0.0036755655020042077, 0.0036755655020042077, 0.0036755655020042077, 0.0036755655020042077, 0.0036755655020042077, 0.0036755655020042077, 0.0036755655020042077, 0.0036755655020042077, 0.0036755655020042077, 0.0036755655020042077, 0.0036755655020042077, 0.0036755655020042077, 0.0036755655020042077, 0.0036755655020042077], \"yaxis\": \"y\"}],\n",
       "                        {\"annotations\": [{\"showarrow\": false, \"text\": \"Source: Landsat 8 data from USGS, meteorological data from gridMET\", \"x\": 0.01, \"xref\": \"paper\", \"y\": 0.01, \"yref\": \"paper\"}], \"height\": 700, \"legend\": {\"tracegroupgap\": 0}, \"showlegend\": false, \"template\": {\"data\": {\"bar\": [{\"error_x\": {\"color\": \"rgb(36,36,36)\"}, \"error_y\": {\"color\": \"rgb(36,36,36)\"}, \"marker\": {\"line\": {\"color\": \"rgb(234,234,242)\", \"width\": 0.5}}, \"type\": \"bar\"}], \"barpolar\": [{\"marker\": {\"line\": {\"color\": \"rgb(234,234,242)\", \"width\": 0.5}}, \"type\": \"barpolar\"}], \"carpet\": [{\"aaxis\": {\"endlinecolor\": \"rgb(36,36,36)\", \"gridcolor\": \"white\", \"linecolor\": \"white\", \"minorgridcolor\": \"white\", \"startlinecolor\": \"rgb(36,36,36)\"}, \"baxis\": {\"endlinecolor\": \"rgb(36,36,36)\", \"gridcolor\": \"white\", \"linecolor\": \"white\", \"minorgridcolor\": \"white\", \"startlinecolor\": \"rgb(36,36,36)\"}, \"type\": \"carpet\"}], \"choropleth\": [{\"colorbar\": {\"outlinewidth\": 0, \"tickcolor\": \"rgb(36,36,36)\", \"ticklen\": 8, \"ticks\": \"outside\", \"tickwidth\": 2}, \"type\": \"choropleth\"}], \"contour\": [{\"colorbar\": {\"outlinewidth\": 0, \"tickcolor\": \"rgb(36,36,36)\", \"ticklen\": 8, \"ticks\": \"outside\", \"tickwidth\": 2}, \"colorscale\": [[0.0, \"rgb(2,4,25)\"], [0.06274509803921569, \"rgb(24,15,41)\"], [0.12549019607843137, \"rgb(47,23,57)\"], [0.18823529411764706, \"rgb(71,28,72)\"], [0.25098039215686274, \"rgb(97,30,82)\"], [0.3137254901960784, \"rgb(123,30,89)\"], [0.3764705882352941, \"rgb(150,27,91)\"], [0.4392156862745098, \"rgb(177,22,88)\"], [0.5019607843137255, \"rgb(203,26,79)\"], [0.5647058823529412, \"rgb(223,47,67)\"], [0.6274509803921569, \"rgb(236,76,61)\"], [0.6901960784313725, \"rgb(242,107,73)\"], [0.7529411764705882, \"rgb(244,135,95)\"], [0.8156862745098039, \"rgb(245,162,122)\"], [0.8784313725490196, \"rgb(246,188,153)\"], [0.9411764705882353, \"rgb(247,212,187)\"], [1.0, \"rgb(250,234,220)\"]], \"type\": \"contour\"}], \"contourcarpet\": [{\"colorbar\": {\"outlinewidth\": 0, \"tickcolor\": \"rgb(36,36,36)\", \"ticklen\": 8, \"ticks\": \"outside\", \"tickwidth\": 2}, \"type\": \"contourcarpet\"}], \"heatmap\": [{\"colorbar\": {\"outlinewidth\": 0, \"tickcolor\": \"rgb(36,36,36)\", \"ticklen\": 8, \"ticks\": \"outside\", \"tickwidth\": 2}, \"colorscale\": [[0.0, \"rgb(2,4,25)\"], [0.06274509803921569, \"rgb(24,15,41)\"], [0.12549019607843137, \"rgb(47,23,57)\"], [0.18823529411764706, \"rgb(71,28,72)\"], [0.25098039215686274, \"rgb(97,30,82)\"], [0.3137254901960784, \"rgb(123,30,89)\"], [0.3764705882352941, \"rgb(150,27,91)\"], [0.4392156862745098, \"rgb(177,22,88)\"], [0.5019607843137255, \"rgb(203,26,79)\"], [0.5647058823529412, \"rgb(223,47,67)\"], [0.6274509803921569, \"rgb(236,76,61)\"], [0.6901960784313725, \"rgb(242,107,73)\"], [0.7529411764705882, \"rgb(244,135,95)\"], [0.8156862745098039, \"rgb(245,162,122)\"], [0.8784313725490196, \"rgb(246,188,153)\"], [0.9411764705882353, \"rgb(247,212,187)\"], [1.0, \"rgb(250,234,220)\"]], \"type\": \"heatmap\"}], \"heatmapgl\": [{\"colorbar\": {\"outlinewidth\": 0, \"tickcolor\": \"rgb(36,36,36)\", \"ticklen\": 8, \"ticks\": \"outside\", \"tickwidth\": 2}, \"colorscale\": [[0.0, \"rgb(2,4,25)\"], [0.06274509803921569, \"rgb(24,15,41)\"], [0.12549019607843137, \"rgb(47,23,57)\"], [0.18823529411764706, \"rgb(71,28,72)\"], [0.25098039215686274, \"rgb(97,30,82)\"], [0.3137254901960784, \"rgb(123,30,89)\"], [0.3764705882352941, \"rgb(150,27,91)\"], [0.4392156862745098, \"rgb(177,22,88)\"], [0.5019607843137255, \"rgb(203,26,79)\"], [0.5647058823529412, \"rgb(223,47,67)\"], [0.6274509803921569, \"rgb(236,76,61)\"], [0.6901960784313725, \"rgb(242,107,73)\"], [0.7529411764705882, \"rgb(244,135,95)\"], [0.8156862745098039, \"rgb(245,162,122)\"], [0.8784313725490196, \"rgb(246,188,153)\"], [0.9411764705882353, \"rgb(247,212,187)\"], [1.0, \"rgb(250,234,220)\"]], \"type\": \"heatmapgl\"}], \"histogram\": [{\"marker\": {\"colorbar\": {\"outlinewidth\": 0, \"tickcolor\": \"rgb(36,36,36)\", \"ticklen\": 8, \"ticks\": \"outside\", \"tickwidth\": 2}}, \"type\": \"histogram\"}], \"histogram2d\": [{\"colorbar\": {\"outlinewidth\": 0, \"tickcolor\": \"rgb(36,36,36)\", \"ticklen\": 8, \"ticks\": \"outside\", \"tickwidth\": 2}, \"colorscale\": [[0.0, \"rgb(2,4,25)\"], [0.06274509803921569, \"rgb(24,15,41)\"], [0.12549019607843137, \"rgb(47,23,57)\"], [0.18823529411764706, \"rgb(71,28,72)\"], [0.25098039215686274, \"rgb(97,30,82)\"], [0.3137254901960784, \"rgb(123,30,89)\"], [0.3764705882352941, \"rgb(150,27,91)\"], [0.4392156862745098, \"rgb(177,22,88)\"], [0.5019607843137255, \"rgb(203,26,79)\"], [0.5647058823529412, \"rgb(223,47,67)\"], [0.6274509803921569, \"rgb(236,76,61)\"], [0.6901960784313725, \"rgb(242,107,73)\"], [0.7529411764705882, \"rgb(244,135,95)\"], [0.8156862745098039, \"rgb(245,162,122)\"], [0.8784313725490196, \"rgb(246,188,153)\"], [0.9411764705882353, \"rgb(247,212,187)\"], [1.0, \"rgb(250,234,220)\"]], \"type\": \"histogram2d\"}], \"histogram2dcontour\": [{\"colorbar\": {\"outlinewidth\": 0, \"tickcolor\": \"rgb(36,36,36)\", \"ticklen\": 8, \"ticks\": \"outside\", \"tickwidth\": 2}, \"colorscale\": [[0.0, \"rgb(2,4,25)\"], [0.06274509803921569, \"rgb(24,15,41)\"], [0.12549019607843137, \"rgb(47,23,57)\"], [0.18823529411764706, \"rgb(71,28,72)\"], [0.25098039215686274, \"rgb(97,30,82)\"], [0.3137254901960784, \"rgb(123,30,89)\"], [0.3764705882352941, \"rgb(150,27,91)\"], [0.4392156862745098, \"rgb(177,22,88)\"], [0.5019607843137255, \"rgb(203,26,79)\"], [0.5647058823529412, \"rgb(223,47,67)\"], [0.6274509803921569, \"rgb(236,76,61)\"], [0.6901960784313725, \"rgb(242,107,73)\"], [0.7529411764705882, \"rgb(244,135,95)\"], [0.8156862745098039, \"rgb(245,162,122)\"], [0.8784313725490196, \"rgb(246,188,153)\"], [0.9411764705882353, \"rgb(247,212,187)\"], [1.0, \"rgb(250,234,220)\"]], \"type\": \"histogram2dcontour\"}], \"mesh3d\": [{\"colorbar\": {\"outlinewidth\": 0, \"tickcolor\": \"rgb(36,36,36)\", \"ticklen\": 8, \"ticks\": \"outside\", \"tickwidth\": 2}, \"type\": \"mesh3d\"}], \"parcoords\": [{\"line\": {\"colorbar\": {\"outlinewidth\": 0, \"tickcolor\": \"rgb(36,36,36)\", \"ticklen\": 8, \"ticks\": \"outside\", \"tickwidth\": 2}}, \"type\": \"parcoords\"}], \"pie\": [{\"automargin\": true, \"type\": \"pie\"}], \"scatter\": [{\"marker\": {\"colorbar\": {\"outlinewidth\": 0, \"tickcolor\": \"rgb(36,36,36)\", \"ticklen\": 8, \"ticks\": \"outside\", \"tickwidth\": 2}}, \"type\": \"scatter\"}], \"scatter3d\": [{\"line\": {\"colorbar\": {\"outlinewidth\": 0, \"tickcolor\": \"rgb(36,36,36)\", \"ticklen\": 8, \"ticks\": \"outside\", \"tickwidth\": 2}}, \"marker\": {\"colorbar\": {\"outlinewidth\": 0, \"tickcolor\": \"rgb(36,36,36)\", \"ticklen\": 8, \"ticks\": \"outside\", \"tickwidth\": 2}}, \"type\": \"scatter3d\"}], \"scattercarpet\": [{\"marker\": {\"colorbar\": {\"outlinewidth\": 0, \"tickcolor\": \"rgb(36,36,36)\", \"ticklen\": 8, \"ticks\": \"outside\", \"tickwidth\": 2}}, \"type\": \"scattercarpet\"}], \"scattergeo\": [{\"marker\": {\"colorbar\": {\"outlinewidth\": 0, \"tickcolor\": \"rgb(36,36,36)\", \"ticklen\": 8, \"ticks\": \"outside\", \"tickwidth\": 2}}, \"type\": \"scattergeo\"}], \"scattergl\": [{\"marker\": {\"colorbar\": {\"outlinewidth\": 0, \"tickcolor\": \"rgb(36,36,36)\", \"ticklen\": 8, \"ticks\": \"outside\", \"tickwidth\": 2}}, \"type\": \"scattergl\"}], \"scattermapbox\": [{\"marker\": {\"colorbar\": {\"outlinewidth\": 0, \"tickcolor\": \"rgb(36,36,36)\", \"ticklen\": 8, \"ticks\": \"outside\", \"tickwidth\": 2}}, \"type\": \"scattermapbox\"}], \"scatterpolar\": [{\"marker\": {\"colorbar\": {\"outlinewidth\": 0, \"tickcolor\": \"rgb(36,36,36)\", \"ticklen\": 8, \"ticks\": \"outside\", \"tickwidth\": 2}}, \"type\": \"scatterpolar\"}], \"scatterpolargl\": [{\"marker\": {\"colorbar\": {\"outlinewidth\": 0, \"tickcolor\": \"rgb(36,36,36)\", \"ticklen\": 8, \"ticks\": \"outside\", \"tickwidth\": 2}}, \"type\": \"scatterpolargl\"}], \"scatterternary\": [{\"marker\": {\"colorbar\": {\"outlinewidth\": 0, \"tickcolor\": \"rgb(36,36,36)\", \"ticklen\": 8, \"ticks\": \"outside\", \"tickwidth\": 2}}, \"type\": \"scatterternary\"}], \"surface\": [{\"colorbar\": {\"outlinewidth\": 0, \"tickcolor\": \"rgb(36,36,36)\", \"ticklen\": 8, \"ticks\": \"outside\", \"tickwidth\": 2}, \"colorscale\": [[0.0, \"rgb(2,4,25)\"], [0.06274509803921569, \"rgb(24,15,41)\"], [0.12549019607843137, \"rgb(47,23,57)\"], [0.18823529411764706, \"rgb(71,28,72)\"], [0.25098039215686274, \"rgb(97,30,82)\"], [0.3137254901960784, \"rgb(123,30,89)\"], [0.3764705882352941, \"rgb(150,27,91)\"], [0.4392156862745098, \"rgb(177,22,88)\"], [0.5019607843137255, \"rgb(203,26,79)\"], [0.5647058823529412, \"rgb(223,47,67)\"], [0.6274509803921569, \"rgb(236,76,61)\"], [0.6901960784313725, \"rgb(242,107,73)\"], [0.7529411764705882, \"rgb(244,135,95)\"], [0.8156862745098039, \"rgb(245,162,122)\"], [0.8784313725490196, \"rgb(246,188,153)\"], [0.9411764705882353, \"rgb(247,212,187)\"], [1.0, \"rgb(250,234,220)\"]], \"type\": \"surface\"}], \"table\": [{\"cells\": {\"fill\": {\"color\": \"rgb(231,231,240)\"}, \"line\": {\"color\": \"white\"}}, \"header\": {\"fill\": {\"color\": \"rgb(183,183,191)\"}, \"line\": {\"color\": \"white\"}}, \"type\": \"table\"}]}, \"layout\": {\"annotationdefaults\": {\"arrowcolor\": \"rgb(67,103,167)\"}, \"coloraxis\": {\"colorbar\": {\"outlinewidth\": 0, \"tickcolor\": \"rgb(36,36,36)\", \"ticklen\": 8, \"ticks\": \"outside\", \"tickwidth\": 2}}, \"colorscale\": {\"sequential\": [[0.0, \"rgb(2,4,25)\"], [0.06274509803921569, \"rgb(24,15,41)\"], [0.12549019607843137, \"rgb(47,23,57)\"], [0.18823529411764706, \"rgb(71,28,72)\"], [0.25098039215686274, \"rgb(97,30,82)\"], [0.3137254901960784, \"rgb(123,30,89)\"], [0.3764705882352941, \"rgb(150,27,91)\"], [0.4392156862745098, \"rgb(177,22,88)\"], [0.5019607843137255, \"rgb(203,26,79)\"], [0.5647058823529412, \"rgb(223,47,67)\"], [0.6274509803921569, \"rgb(236,76,61)\"], [0.6901960784313725, \"rgb(242,107,73)\"], [0.7529411764705882, \"rgb(244,135,95)\"], [0.8156862745098039, \"rgb(245,162,122)\"], [0.8784313725490196, \"rgb(246,188,153)\"], [0.9411764705882353, \"rgb(247,212,187)\"], [1.0, \"rgb(250,234,220)\"]], \"sequentialminus\": [[0.0, \"rgb(2,4,25)\"], [0.06274509803921569, \"rgb(24,15,41)\"], [0.12549019607843137, \"rgb(47,23,57)\"], [0.18823529411764706, \"rgb(71,28,72)\"], [0.25098039215686274, \"rgb(97,30,82)\"], [0.3137254901960784, \"rgb(123,30,89)\"], [0.3764705882352941, \"rgb(150,27,91)\"], [0.4392156862745098, \"rgb(177,22,88)\"], [0.5019607843137255, \"rgb(203,26,79)\"], [0.5647058823529412, \"rgb(223,47,67)\"], [0.6274509803921569, \"rgb(236,76,61)\"], [0.6901960784313725, \"rgb(242,107,73)\"], [0.7529411764705882, \"rgb(244,135,95)\"], [0.8156862745098039, \"rgb(245,162,122)\"], [0.8784313725490196, \"rgb(246,188,153)\"], [0.9411764705882353, \"rgb(247,212,187)\"], [1.0, \"rgb(250,234,220)\"]]}, \"colorway\": [\"rgb(76,114,176)\", \"rgb(221,132,82)\", \"rgb(85,168,104)\", \"rgb(196,78,82)\", \"rgb(129,114,179)\", \"rgb(147,120,96)\", \"rgb(218,139,195)\", \"rgb(140,140,140)\", \"rgb(204,185,116)\", \"rgb(100,181,205)\"], \"font\": {\"color\": \"rgb(36,36,36)\"}, \"geo\": {\"bgcolor\": \"white\", \"lakecolor\": \"white\", \"landcolor\": \"rgb(234,234,242)\", \"showlakes\": true, \"showland\": true, \"subunitcolor\": \"white\"}, \"hoverlabel\": {\"align\": \"left\"}, \"hovermode\": \"closest\", \"paper_bgcolor\": \"white\", \"plot_bgcolor\": \"rgb(234,234,242)\", \"polar\": {\"angularaxis\": {\"gridcolor\": \"white\", \"linecolor\": \"white\", \"showgrid\": true, \"ticks\": \"\"}, \"bgcolor\": \"rgb(234,234,242)\", \"radialaxis\": {\"gridcolor\": \"white\", \"linecolor\": \"white\", \"showgrid\": true, \"ticks\": \"\"}}, \"scene\": {\"xaxis\": {\"backgroundcolor\": \"rgb(234,234,242)\", \"gridcolor\": \"white\", \"gridwidth\": 2, \"linecolor\": \"white\", \"showbackground\": true, \"showgrid\": true, \"ticks\": \"\", \"zerolinecolor\": \"white\"}, \"yaxis\": {\"backgroundcolor\": \"rgb(234,234,242)\", \"gridcolor\": \"white\", \"gridwidth\": 2, \"linecolor\": \"white\", \"showbackground\": true, \"showgrid\": true, \"ticks\": \"\", \"zerolinecolor\": \"white\"}, \"zaxis\": {\"backgroundcolor\": \"rgb(234,234,242)\", \"gridcolor\": \"white\", \"gridwidth\": 2, \"linecolor\": \"white\", \"showbackground\": true, \"showgrid\": true, \"ticks\": \"\", \"zerolinecolor\": \"white\"}}, \"shapedefaults\": {\"fillcolor\": \"rgb(67,103,167)\", \"line\": {\"width\": 0}, \"opacity\": 0.5}, \"ternary\": {\"aaxis\": {\"gridcolor\": \"white\", \"linecolor\": \"white\", \"showgrid\": true, \"ticks\": \"\"}, \"baxis\": {\"gridcolor\": \"white\", \"linecolor\": \"white\", \"showgrid\": true, \"ticks\": \"\"}, \"bgcolor\": \"rgb(234,234,242)\", \"caxis\": {\"gridcolor\": \"white\", \"linecolor\": \"white\", \"showgrid\": true, \"ticks\": \"\"}}, \"xaxis\": {\"automargin\": true, \"gridcolor\": \"white\", \"linecolor\": \"white\", \"showgrid\": true, \"ticks\": \"\", \"title\": {\"standoff\": 15}, \"zerolinecolor\": \"white\"}, \"yaxis\": {\"automargin\": true, \"gridcolor\": \"white\", \"linecolor\": \"white\", \"showgrid\": true, \"ticks\": \"\", \"title\": {\"standoff\": 15}, \"zerolinecolor\": \"white\"}}}, \"title\": {\"text\": \"Plot 3 - Annual change in NDVI vs year for all seeding units\"}, \"width\": 900, \"xaxis\": {\"anchor\": \"y\", \"domain\": [0.0, 1.0], \"title\": {\"text\": \"Year\"}}, \"yaxis\": {\"anchor\": \"x\", \"domain\": [0.0, 1.0], \"title\": {\"text\": \"Smoothed NDVI\"}}},\n",
       "                        {\"responsive\": true}\n",
       "                    ).then(function(){\n",
       "                            \n",
       "var gd = document.getElementById('62b8d8dd-d414-4b80-a980-52afd23e8714');\n",
       "var x = new MutationObserver(function (mutations, observer) {{\n",
       "        var display = window.getComputedStyle(gd).display;\n",
       "        if (!display || display === 'none') {{\n",
       "            console.log([gd, 'removed!']);\n",
       "            Plotly.purge(gd);\n",
       "            observer.disconnect();\n",
       "        }}\n",
       "}});\n",
       "\n",
       "// Listen for the removal of the full notebook cells\n",
       "var notebookContainer = gd.closest('#notebook-container');\n",
       "if (notebookContainer) {{\n",
       "    x.observe(notebookContainer, {childList: true});\n",
       "}}\n",
       "\n",
       "// Listen for the clearing of the current output cell\n",
       "var outputEl = gd.closest('.output');\n",
       "if (outputEl) {{\n",
       "    x.observe(outputEl, {childList: true});\n",
       "}}\n",
       "\n",
       "                        })\n",
       "                };\n",
       "                });\n",
       "            </script>\n",
       "        </div>"
      ]
     },
     "metadata": {},
     "output_type": "display_data"
    }
   ],
   "source": [
    "fig = px.scatter(su_ndvi_annual_change_df, x='Year', y='NDVI_delta',\n",
    "                 labels={\n",
    "                     \"NDVI_delta\": \"Smoothed NDVI\",\n",
    "                     \"Year\": \"Year\"\n",
    "                 },\n",
    "                 title='Plot 3 - Annual change in NDVI vs year for all seeding units',\n",
    "                 width=900, height=700,\n",
    "                 hover_name=\"SuId\", hover_data=[\"NDVI_delta\"],\n",
    "                 trendline=\"ols\")\n",
    "\n",
    "# Credit\n",
    "fig.add_annotation(text=\"Source: Landsat 8 data from USGS, meteorological data from gridMET\",\n",
    "                   showarrow=False,\n",
    "                   xref=\"paper\", yref=\"paper\",\n",
    "                   x=0.01, y=0.01)\n",
    "\n",
    "fig.update_layout(showlegend=False)\n",
    "fig.show()"
   ]
  },
  {
   "cell_type": "markdown",
   "id": "instant-approval",
   "metadata": {},
   "source": [
    "### Plot 4 - Annual NDVI change vs intervention year for the seeding units"
   ]
  },
  {
   "cell_type": "code",
   "execution_count": 94,
   "id": "understood-spelling",
   "metadata": {
    "scrolled": false
   },
   "outputs": [
    {
     "data": {
      "application/vnd.plotly.v1+json": {
       "config": {
        "plotlyServerURL": "https://plot.ly"
       },
       "data": [
        {
         "customdata": [
          [
           0.003429338113346614,
           2017
          ],
          [
           0.014249780753258778,
           2018
          ],
          [
           0.027376621611377508,
           2019
          ],
          [
           0.027373524438977864,
           2020
          ],
          [
           -0.007930984668899327,
           2013
          ],
          [
           0.003969974131788956,
           2014
          ],
          [
           0.03118038558318381,
           2015
          ],
          [
           0.009743212215292008,
           2016
          ],
          [
           0.0012208596613880185,
           2017
          ],
          [
           -0.008651282685964129,
           2018
          ],
          [
           -0.0037381564630935282,
           2019
          ],
          [
           0.0045107644950853065,
           2020
          ],
          [
           -0.0160042183855032,
           2013
          ],
          [
           -0.015470449450793289,
           2014
          ],
          [
           0.013261524378101602,
           2015
          ],
          [
           0.0007714130615759096,
           2016
          ],
          [
           -0.006413136007700659,
           2017
          ],
          [
           -0.012376386633409314,
           2018
          ],
          [
           -0.006772024994679632,
           2019
          ],
          [
           0.010114266321127108,
           2020
          ],
          [
           -0.005351208498698468,
           2013
          ],
          [
           -0.0017493463927010233,
           2014
          ],
          [
           0.032686490823272685,
           2015
          ],
          [
           0.008953566671157931,
           2016
          ],
          [
           -0.010597826409509459,
           2017
          ],
          [
           -0.011855936981814086,
           2018
          ],
          [
           -0.006370975526482442,
           2019
          ],
          [
           0.01164239696014599,
           2020
          ],
          [
           0.02195643143133033,
           2013
          ],
          [
           -0.0004928493635648623,
           2014
          ],
          [
           0.00980654208141618,
           2015
          ],
          [
           0.004099827880660795,
           2016
          ],
          [
           -0.01576276232775012,
           2017
          ],
          [
           -0.010274437563613237,
           2018
          ],
          [
           -0.0028290462901051916,
           2019
          ],
          [
           0.005943562981720274,
           2020
          ],
          [
           0.0006317463063925388,
           2013
          ],
          [
           -0.007407819709156993,
           2014
          ],
          [
           0.023721749706606343,
           2015
          ],
          [
           0.004152625087176204,
           2016
          ],
          [
           -0.015479396714245863,
           2017
          ],
          [
           -0.011154901555648827,
           2018
          ],
          [
           -0.0038202743601145894,
           2019
          ],
          [
           0.013501587882982946,
           2020
          ],
          [
           -0.008754079731171566,
           2013
          ],
          [
           -0.000586941489564563,
           2014
          ],
          [
           0.025103091463168803,
           2015
          ],
          [
           0.0011399772456137658,
           2016
          ],
          [
           -0.014367152201835487,
           2017
          ],
          [
           -0.014803169653248044,
           2018
          ],
          [
           0.006899653037762132,
           2019
          ],
          [
           0.015539309495864462,
           2020
          ],
          [
           -0.016174624082656797,
           2014
          ],
          [
           0.005140653728515188,
           2015
          ],
          [
           0.00948539574178317,
           2016
          ],
          [
           -0.004317441896453167,
           2017
          ],
          [
           -0.008118571370658106,
           2018
          ],
          [
           0.001319635904648342,
           2019
          ],
          [
           0.01447575203261034,
           2020
          ],
          [
           -0.007084293995315877,
           2014
          ],
          [
           0.011301576013875408,
           2015
          ],
          [
           0.0038172660836129357,
           2016
          ],
          [
           -0.006370387553307433,
           2017
          ],
          [
           -0.012422695738433687,
           2018
          ],
          [
           -0.005025815181133708,
           2019
          ],
          [
           0.009787387893064547,
           2020
          ],
          [
           0.0031782455266888276,
           2014
          ],
          [
           0.023016017631609736,
           2015
          ],
          [
           0.004869955672635401,
           2016
          ],
          [
           -0.010271143052587695,
           2017
          ],
          [
           -0.010929286404715521,
           2018
          ],
          [
           -0.0023548739247949424,
           2019
          ],
          [
           0.009412448043098737,
           2020
          ],
          [
           -0.005555685345862732,
           2014
          ],
          [
           0.014140652548606247,
           2015
          ],
          [
           0.00953743819283559,
           2016
          ],
          [
           -0.005959015782043914,
           2017
          ],
          [
           -0.01672633656072528,
           2018
          ],
          [
           -0.003239994751956826,
           2019
          ],
          [
           0.01278608064229228,
           2020
          ],
          [
           -0.01245427742347302,
           2014
          ],
          [
           0.040500007267878446,
           2015
          ],
          [
           0.02851130671633384,
           2016
          ],
          [
           0.015972124701930268,
           2017
          ],
          [
           -0.00317775202336526,
           2018
          ],
          [
           -0.0025474862618879712,
           2019
          ],
          [
           0.0037264575970987757,
           2020
          ],
          [
           -0.027257533420715463,
           2014
          ],
          [
           0.006812150221682356,
           2015
          ],
          [
           0.00480221524916466,
           2016
          ],
          [
           -0.005943828396177048,
           2017
          ],
          [
           -0.012593538552406441,
           2018
          ],
          [
           -0.0031679803844069376,
           2019
          ],
          [
           0.005178097997336789,
           2020
          ],
          [
           0.011053005184136155,
           2014
          ],
          [
           0.011071824161424604,
           2015
          ],
          [
           0.004015181402792195,
           2016
          ],
          [
           -0.005779705382236849,
           2017
          ],
          [
           -0.009768809819231894,
           2018
          ],
          [
           -0.0008371216374346291,
           2019
          ],
          [
           0.00992173435063004,
           2020
          ],
          [
           -0.02153042071861111,
           2014
          ],
          [
           0.005074470439339396,
           2015
          ],
          [
           0.00766753786010671,
           2016
          ],
          [
           -0.004037300772809754,
           2017
          ],
          [
           -0.009707208452164218,
           2018
          ],
          [
           -0.004210690572896636,
           2019
          ],
          [
           0.010551860479366348,
           2020
          ],
          [
           0.0416006740854499,
           2015
          ],
          [
           0.029913888508043107,
           2016
          ],
          [
           0.02097871413856167,
           2017
          ],
          [
           -0.0028191203041476876,
           2018
          ],
          [
           -0.003626307700851983,
           2019
          ],
          [
           0.0035682440799314763,
           2020
          ],
          [
           -0.00014631365636538773,
           2017
          ],
          [
           -0.005046313801791463,
           2018
          ],
          [
           0.014215369925035914,
           2019
          ],
          [
           0.016293338749424707,
           2020
          ],
          [
           -0.004317441896453167,
           2017
          ],
          [
           -0.008118571370658106,
           2018
          ],
          [
           0.0013196359046483142,
           2019
          ],
          [
           0.014475752032610312,
           2020
          ],
          [
           0.00042072029412733303,
           2018
          ],
          [
           0.028012550361877844,
           2019
          ],
          [
           0.02855537980065842,
           2020
          ],
          [
           -0.015289078280680046,
           2018
          ],
          [
           -0.00562440689132529,
           2019
          ],
          [
           0.015699946081979388,
           2020
          ],
          [
           -0.005206701741074543,
           2018
          ],
          [
           -0.002121998881522702,
           2019
          ],
          [
           0.015605240390666741,
           2020
          ],
          [
           -0.010082999137245113,
           2018
          ],
          [
           -0.00647867048255879,
           2019
          ],
          [
           0.010885382318893133,
           2020
          ],
          [
           -0.007955627321886483,
           2018
          ],
          [
           -0.002839706748805959,
           2019
          ],
          [
           0.005540865358498265,
           2020
          ],
          [
           -0.00875803615895615,
           2018
          ],
          [
           0.0020684960806701125,
           2019
          ],
          [
           0.008962493313090791,
           2020
          ],
          [
           -0.08157971690248819,
           2018
          ],
          [
           -0.024208085931895773,
           2019
          ],
          [
           0.050521072022723545,
           2020
          ],
          [
           -0.0006761432763327246,
           2019
          ],
          [
           0.012885483073783482,
           2020
          ],
          [
           0.004123967839404913,
           2019
          ],
          [
           0.012331909016876252,
           2020
          ],
          [
           -0.000651437742198363,
           2019
          ],
          [
           0.010920544738658305,
           2020
          ],
          [
           0.0025018684314808692,
           2019
          ],
          [
           0.014435528094365602,
           2020
          ],
          [
           -0.0058285020613333405,
           2019
          ],
          [
           0.00991090972323913,
           2020
          ],
          [
           -0.003678025406964547,
           2019
          ],
          [
           0.007706328117147887,
           2020
          ],
          [
           -0.004748002985459715,
           2019
          ],
          [
           0.008524362394063345,
           2020
          ],
          [
           -0.007179307649316707,
           2019
          ],
          [
           0.01044471831669283,
           2020
          ],
          [
           -0.006152504909771234,
           2019
          ],
          [
           0.007696639091958779,
           2020
          ],
          [
           -0.00566437782612883,
           2019
          ],
          [
           0.007203962442706463,
           2020
          ],
          [
           -0.002016812009514979,
           2019
          ],
          [
           0.008448685893502728,
           2020
          ],
          [
           0.004075190255234867,
           2019
          ],
          [
           0.011528580707046404,
           2020
          ],
          [
           0.002033253205202812,
           2019
          ],
          [
           0.011797137151006554,
           2020
          ],
          [
           -0.00689487217326018,
           2019
          ],
          [
           0.012703303788285547,
           2020
          ],
          [
           -0.009171329171115933,
           2019
          ],
          [
           0.00581068789497724,
           2020
          ],
          [
           -0.010371096627500714,
           2019
          ],
          [
           0.01327696350283225,
           2020
          ],
          [
           -0.010438181835905336,
           2019
          ],
          [
           0.013396050477041954,
           2020
          ]
         ],
         "hovertemplate": "<b>%{hovertext}</b><br><br>Intervention Year=%{x}<br>Smoothed NDVI=%{customdata[0]}<br>Year=%{customdata[1]}<extra></extra>",
         "hovertext": [
          172,
          172,
          172,
          172,
          816,
          816,
          816,
          816,
          816,
          816,
          816,
          816,
          913,
          913,
          913,
          913,
          913,
          913,
          913,
          913,
          916,
          916,
          916,
          916,
          916,
          916,
          916,
          916,
          1265,
          1265,
          1265,
          1265,
          1265,
          1265,
          1265,
          1265,
          1314,
          1314,
          1314,
          1314,
          1314,
          1314,
          1314,
          1314,
          1319,
          1319,
          1319,
          1319,
          1319,
          1319,
          1319,
          1319,
          1558,
          1558,
          1558,
          1558,
          1558,
          1558,
          1558,
          1588,
          1588,
          1588,
          1588,
          1588,
          1588,
          1588,
          1589,
          1589,
          1589,
          1589,
          1589,
          1589,
          1589,
          1590,
          1590,
          1590,
          1590,
          1590,
          1590,
          1590,
          1594,
          1594,
          1594,
          1594,
          1594,
          1594,
          1594,
          1601,
          1601,
          1601,
          1601,
          1601,
          1601,
          1601,
          1608,
          1608,
          1608,
          1608,
          1608,
          1608,
          1608,
          1655,
          1655,
          1655,
          1655,
          1655,
          1655,
          1655,
          2335,
          2335,
          2335,
          2335,
          2335,
          2335,
          2569,
          2569,
          2569,
          2569,
          2577,
          2577,
          2577,
          2577,
          2581,
          2581,
          2581,
          2586,
          2586,
          2586,
          2587,
          2587,
          2587,
          2599,
          2599,
          2599,
          2600,
          2600,
          2600,
          2601,
          2601,
          2601,
          2604,
          2604,
          2604,
          2609,
          2609,
          2614,
          2614,
          2615,
          2615,
          2620,
          2620,
          2621,
          2621,
          2622,
          2622,
          2623,
          2623,
          2624,
          2624,
          2626,
          2626,
          2627,
          2627,
          2628,
          2628,
          2633,
          2633,
          2634,
          2634,
          2645,
          2645,
          2646,
          2646,
          2648,
          2648,
          2650,
          2650
         ],
         "legendgroup": "",
         "marker": {
          "color": "rgb(76,114,176)",
          "symbol": "circle"
         },
         "mode": "markers",
         "name": "",
         "showlegend": false,
         "type": "scatter",
         "x": [
          0,
          1,
          2,
          3,
          0,
          1,
          2,
          3,
          4,
          5,
          6,
          7,
          0,
          1,
          2,
          3,
          4,
          5,
          6,
          7,
          0,
          1,
          2,
          3,
          4,
          5,
          6,
          7,
          0,
          1,
          2,
          3,
          4,
          5,
          6,
          7,
          0,
          1,
          2,
          3,
          4,
          5,
          6,
          7,
          0,
          1,
          2,
          3,
          4,
          5,
          6,
          7,
          0,
          1,
          2,
          3,
          4,
          5,
          6,
          0,
          1,
          2,
          3,
          4,
          5,
          6,
          0,
          1,
          2,
          3,
          4,
          5,
          6,
          0,
          1,
          2,
          3,
          4,
          5,
          6,
          0,
          1,
          2,
          3,
          4,
          5,
          6,
          0,
          1,
          2,
          3,
          4,
          5,
          6,
          0,
          1,
          2,
          3,
          4,
          5,
          6,
          0,
          1,
          2,
          3,
          4,
          5,
          6,
          0,
          1,
          2,
          3,
          4,
          5,
          0,
          1,
          2,
          3,
          0,
          1,
          2,
          3,
          0,
          1,
          2,
          0,
          1,
          2,
          0,
          1,
          2,
          0,
          1,
          2,
          0,
          1,
          2,
          0,
          1,
          2,
          0,
          1,
          2,
          0,
          1,
          0,
          1,
          0,
          1,
          0,
          1,
          0,
          1,
          0,
          1,
          0,
          1,
          0,
          1,
          0,
          1,
          0,
          1,
          0,
          1,
          0,
          1,
          0,
          1,
          0,
          1,
          0,
          1,
          0,
          1,
          0,
          1
         ],
         "xaxis": "x",
         "y": [
          0.003429338113346614,
          0.014249780753258778,
          0.027376621611377508,
          0.027373524438977864,
          -0.007930984668899327,
          0.003969974131788956,
          0.03118038558318381,
          0.009743212215292008,
          0.0012208596613880185,
          -0.008651282685964129,
          -0.0037381564630935282,
          0.0045107644950853065,
          -0.0160042183855032,
          -0.015470449450793289,
          0.013261524378101602,
          0.0007714130615759096,
          -0.006413136007700659,
          -0.012376386633409314,
          -0.006772024994679632,
          0.010114266321127108,
          -0.005351208498698468,
          -0.0017493463927010233,
          0.032686490823272685,
          0.008953566671157931,
          -0.010597826409509459,
          -0.011855936981814086,
          -0.006370975526482442,
          0.01164239696014599,
          0.02195643143133033,
          -0.0004928493635648623,
          0.00980654208141618,
          0.004099827880660795,
          -0.01576276232775012,
          -0.010274437563613237,
          -0.0028290462901051916,
          0.005943562981720274,
          0.0006317463063925388,
          -0.007407819709156993,
          0.023721749706606343,
          0.004152625087176204,
          -0.015479396714245863,
          -0.011154901555648827,
          -0.0038202743601145894,
          0.013501587882982946,
          -0.008754079731171566,
          -0.000586941489564563,
          0.025103091463168803,
          0.0011399772456137658,
          -0.014367152201835487,
          -0.014803169653248044,
          0.006899653037762132,
          0.015539309495864462,
          -0.016174624082656797,
          0.005140653728515188,
          0.00948539574178317,
          -0.004317441896453167,
          -0.008118571370658106,
          0.001319635904648342,
          0.01447575203261034,
          -0.007084293995315877,
          0.011301576013875408,
          0.0038172660836129357,
          -0.006370387553307433,
          -0.012422695738433687,
          -0.005025815181133708,
          0.009787387893064547,
          0.0031782455266888276,
          0.023016017631609736,
          0.004869955672635401,
          -0.010271143052587695,
          -0.010929286404715521,
          -0.0023548739247949424,
          0.009412448043098737,
          -0.005555685345862732,
          0.014140652548606247,
          0.00953743819283559,
          -0.005959015782043914,
          -0.01672633656072528,
          -0.003239994751956826,
          0.01278608064229228,
          -0.01245427742347302,
          0.040500007267878446,
          0.02851130671633384,
          0.015972124701930268,
          -0.00317775202336526,
          -0.0025474862618879712,
          0.0037264575970987757,
          -0.027257533420715463,
          0.006812150221682356,
          0.00480221524916466,
          -0.005943828396177048,
          -0.012593538552406441,
          -0.0031679803844069376,
          0.005178097997336789,
          0.011053005184136155,
          0.011071824161424604,
          0.004015181402792195,
          -0.005779705382236849,
          -0.009768809819231894,
          -0.0008371216374346291,
          0.00992173435063004,
          -0.02153042071861111,
          0.005074470439339396,
          0.00766753786010671,
          -0.004037300772809754,
          -0.009707208452164218,
          -0.004210690572896636,
          0.010551860479366348,
          0.0416006740854499,
          0.029913888508043107,
          0.02097871413856167,
          -0.0028191203041476876,
          -0.003626307700851983,
          0.0035682440799314763,
          -0.00014631365636538773,
          -0.005046313801791463,
          0.014215369925035914,
          0.016293338749424707,
          -0.004317441896453167,
          -0.008118571370658106,
          0.0013196359046483142,
          0.014475752032610312,
          0.00042072029412733303,
          0.028012550361877844,
          0.02855537980065842,
          -0.015289078280680046,
          -0.00562440689132529,
          0.015699946081979388,
          -0.005206701741074543,
          -0.002121998881522702,
          0.015605240390666741,
          -0.010082999137245113,
          -0.00647867048255879,
          0.010885382318893133,
          -0.007955627321886483,
          -0.002839706748805959,
          0.005540865358498265,
          -0.00875803615895615,
          0.0020684960806701125,
          0.008962493313090791,
          -0.08157971690248819,
          -0.024208085931895773,
          0.050521072022723545,
          -0.0006761432763327246,
          0.012885483073783482,
          0.004123967839404913,
          0.012331909016876252,
          -0.000651437742198363,
          0.010920544738658305,
          0.0025018684314808692,
          0.014435528094365602,
          -0.0058285020613333405,
          0.00991090972323913,
          -0.003678025406964547,
          0.007706328117147887,
          -0.004748002985459715,
          0.008524362394063345,
          -0.007179307649316707,
          0.01044471831669283,
          -0.006152504909771234,
          0.007696639091958779,
          -0.00566437782612883,
          0.007203962442706463,
          -0.002016812009514979,
          0.008448685893502728,
          0.004075190255234867,
          0.011528580707046404,
          0.002033253205202812,
          0.011797137151006554,
          -0.00689487217326018,
          0.012703303788285547,
          -0.009171329171115933,
          0.00581068789497724,
          -0.010371096627500714,
          0.01327696350283225,
          -0.010438181835905336,
          0.013396050477041954
         ],
         "yaxis": "y"
        }
       ],
       "layout": {
        "annotations": [
         {
          "showarrow": false,
          "text": "Source: Landsat 8 data from USGS, meteorological data from gridMET",
          "x": 0.01,
          "xref": "paper",
          "y": 0.01,
          "yref": "paper"
         }
        ],
        "height": 700,
        "legend": {
         "tracegroupgap": 0
        },
        "showlegend": false,
        "template": {
         "data": {
          "bar": [
           {
            "error_x": {
             "color": "rgb(36,36,36)"
            },
            "error_y": {
             "color": "rgb(36,36,36)"
            },
            "marker": {
             "line": {
              "color": "rgb(234,234,242)",
              "width": 0.5
             }
            },
            "type": "bar"
           }
          ],
          "barpolar": [
           {
            "marker": {
             "line": {
              "color": "rgb(234,234,242)",
              "width": 0.5
             }
            },
            "type": "barpolar"
           }
          ],
          "carpet": [
           {
            "aaxis": {
             "endlinecolor": "rgb(36,36,36)",
             "gridcolor": "white",
             "linecolor": "white",
             "minorgridcolor": "white",
             "startlinecolor": "rgb(36,36,36)"
            },
            "baxis": {
             "endlinecolor": "rgb(36,36,36)",
             "gridcolor": "white",
             "linecolor": "white",
             "minorgridcolor": "white",
             "startlinecolor": "rgb(36,36,36)"
            },
            "type": "carpet"
           }
          ],
          "choropleth": [
           {
            "colorbar": {
             "outlinewidth": 0,
             "tickcolor": "rgb(36,36,36)",
             "ticklen": 8,
             "ticks": "outside",
             "tickwidth": 2
            },
            "type": "choropleth"
           }
          ],
          "contour": [
           {
            "colorbar": {
             "outlinewidth": 0,
             "tickcolor": "rgb(36,36,36)",
             "ticklen": 8,
             "ticks": "outside",
             "tickwidth": 2
            },
            "colorscale": [
             [
              0,
              "rgb(2,4,25)"
             ],
             [
              0.06274509803921569,
              "rgb(24,15,41)"
             ],
             [
              0.12549019607843137,
              "rgb(47,23,57)"
             ],
             [
              0.18823529411764706,
              "rgb(71,28,72)"
             ],
             [
              0.25098039215686274,
              "rgb(97,30,82)"
             ],
             [
              0.3137254901960784,
              "rgb(123,30,89)"
             ],
             [
              0.3764705882352941,
              "rgb(150,27,91)"
             ],
             [
              0.4392156862745098,
              "rgb(177,22,88)"
             ],
             [
              0.5019607843137255,
              "rgb(203,26,79)"
             ],
             [
              0.5647058823529412,
              "rgb(223,47,67)"
             ],
             [
              0.6274509803921569,
              "rgb(236,76,61)"
             ],
             [
              0.6901960784313725,
              "rgb(242,107,73)"
             ],
             [
              0.7529411764705882,
              "rgb(244,135,95)"
             ],
             [
              0.8156862745098039,
              "rgb(245,162,122)"
             ],
             [
              0.8784313725490196,
              "rgb(246,188,153)"
             ],
             [
              0.9411764705882353,
              "rgb(247,212,187)"
             ],
             [
              1,
              "rgb(250,234,220)"
             ]
            ],
            "type": "contour"
           }
          ],
          "contourcarpet": [
           {
            "colorbar": {
             "outlinewidth": 0,
             "tickcolor": "rgb(36,36,36)",
             "ticklen": 8,
             "ticks": "outside",
             "tickwidth": 2
            },
            "type": "contourcarpet"
           }
          ],
          "heatmap": [
           {
            "colorbar": {
             "outlinewidth": 0,
             "tickcolor": "rgb(36,36,36)",
             "ticklen": 8,
             "ticks": "outside",
             "tickwidth": 2
            },
            "colorscale": [
             [
              0,
              "rgb(2,4,25)"
             ],
             [
              0.06274509803921569,
              "rgb(24,15,41)"
             ],
             [
              0.12549019607843137,
              "rgb(47,23,57)"
             ],
             [
              0.18823529411764706,
              "rgb(71,28,72)"
             ],
             [
              0.25098039215686274,
              "rgb(97,30,82)"
             ],
             [
              0.3137254901960784,
              "rgb(123,30,89)"
             ],
             [
              0.3764705882352941,
              "rgb(150,27,91)"
             ],
             [
              0.4392156862745098,
              "rgb(177,22,88)"
             ],
             [
              0.5019607843137255,
              "rgb(203,26,79)"
             ],
             [
              0.5647058823529412,
              "rgb(223,47,67)"
             ],
             [
              0.6274509803921569,
              "rgb(236,76,61)"
             ],
             [
              0.6901960784313725,
              "rgb(242,107,73)"
             ],
             [
              0.7529411764705882,
              "rgb(244,135,95)"
             ],
             [
              0.8156862745098039,
              "rgb(245,162,122)"
             ],
             [
              0.8784313725490196,
              "rgb(246,188,153)"
             ],
             [
              0.9411764705882353,
              "rgb(247,212,187)"
             ],
             [
              1,
              "rgb(250,234,220)"
             ]
            ],
            "type": "heatmap"
           }
          ],
          "heatmapgl": [
           {
            "colorbar": {
             "outlinewidth": 0,
             "tickcolor": "rgb(36,36,36)",
             "ticklen": 8,
             "ticks": "outside",
             "tickwidth": 2
            },
            "colorscale": [
             [
              0,
              "rgb(2,4,25)"
             ],
             [
              0.06274509803921569,
              "rgb(24,15,41)"
             ],
             [
              0.12549019607843137,
              "rgb(47,23,57)"
             ],
             [
              0.18823529411764706,
              "rgb(71,28,72)"
             ],
             [
              0.25098039215686274,
              "rgb(97,30,82)"
             ],
             [
              0.3137254901960784,
              "rgb(123,30,89)"
             ],
             [
              0.3764705882352941,
              "rgb(150,27,91)"
             ],
             [
              0.4392156862745098,
              "rgb(177,22,88)"
             ],
             [
              0.5019607843137255,
              "rgb(203,26,79)"
             ],
             [
              0.5647058823529412,
              "rgb(223,47,67)"
             ],
             [
              0.6274509803921569,
              "rgb(236,76,61)"
             ],
             [
              0.6901960784313725,
              "rgb(242,107,73)"
             ],
             [
              0.7529411764705882,
              "rgb(244,135,95)"
             ],
             [
              0.8156862745098039,
              "rgb(245,162,122)"
             ],
             [
              0.8784313725490196,
              "rgb(246,188,153)"
             ],
             [
              0.9411764705882353,
              "rgb(247,212,187)"
             ],
             [
              1,
              "rgb(250,234,220)"
             ]
            ],
            "type": "heatmapgl"
           }
          ],
          "histogram": [
           {
            "marker": {
             "colorbar": {
              "outlinewidth": 0,
              "tickcolor": "rgb(36,36,36)",
              "ticklen": 8,
              "ticks": "outside",
              "tickwidth": 2
             }
            },
            "type": "histogram"
           }
          ],
          "histogram2d": [
           {
            "colorbar": {
             "outlinewidth": 0,
             "tickcolor": "rgb(36,36,36)",
             "ticklen": 8,
             "ticks": "outside",
             "tickwidth": 2
            },
            "colorscale": [
             [
              0,
              "rgb(2,4,25)"
             ],
             [
              0.06274509803921569,
              "rgb(24,15,41)"
             ],
             [
              0.12549019607843137,
              "rgb(47,23,57)"
             ],
             [
              0.18823529411764706,
              "rgb(71,28,72)"
             ],
             [
              0.25098039215686274,
              "rgb(97,30,82)"
             ],
             [
              0.3137254901960784,
              "rgb(123,30,89)"
             ],
             [
              0.3764705882352941,
              "rgb(150,27,91)"
             ],
             [
              0.4392156862745098,
              "rgb(177,22,88)"
             ],
             [
              0.5019607843137255,
              "rgb(203,26,79)"
             ],
             [
              0.5647058823529412,
              "rgb(223,47,67)"
             ],
             [
              0.6274509803921569,
              "rgb(236,76,61)"
             ],
             [
              0.6901960784313725,
              "rgb(242,107,73)"
             ],
             [
              0.7529411764705882,
              "rgb(244,135,95)"
             ],
             [
              0.8156862745098039,
              "rgb(245,162,122)"
             ],
             [
              0.8784313725490196,
              "rgb(246,188,153)"
             ],
             [
              0.9411764705882353,
              "rgb(247,212,187)"
             ],
             [
              1,
              "rgb(250,234,220)"
             ]
            ],
            "type": "histogram2d"
           }
          ],
          "histogram2dcontour": [
           {
            "colorbar": {
             "outlinewidth": 0,
             "tickcolor": "rgb(36,36,36)",
             "ticklen": 8,
             "ticks": "outside",
             "tickwidth": 2
            },
            "colorscale": [
             [
              0,
              "rgb(2,4,25)"
             ],
             [
              0.06274509803921569,
              "rgb(24,15,41)"
             ],
             [
              0.12549019607843137,
              "rgb(47,23,57)"
             ],
             [
              0.18823529411764706,
              "rgb(71,28,72)"
             ],
             [
              0.25098039215686274,
              "rgb(97,30,82)"
             ],
             [
              0.3137254901960784,
              "rgb(123,30,89)"
             ],
             [
              0.3764705882352941,
              "rgb(150,27,91)"
             ],
             [
              0.4392156862745098,
              "rgb(177,22,88)"
             ],
             [
              0.5019607843137255,
              "rgb(203,26,79)"
             ],
             [
              0.5647058823529412,
              "rgb(223,47,67)"
             ],
             [
              0.6274509803921569,
              "rgb(236,76,61)"
             ],
             [
              0.6901960784313725,
              "rgb(242,107,73)"
             ],
             [
              0.7529411764705882,
              "rgb(244,135,95)"
             ],
             [
              0.8156862745098039,
              "rgb(245,162,122)"
             ],
             [
              0.8784313725490196,
              "rgb(246,188,153)"
             ],
             [
              0.9411764705882353,
              "rgb(247,212,187)"
             ],
             [
              1,
              "rgb(250,234,220)"
             ]
            ],
            "type": "histogram2dcontour"
           }
          ],
          "mesh3d": [
           {
            "colorbar": {
             "outlinewidth": 0,
             "tickcolor": "rgb(36,36,36)",
             "ticklen": 8,
             "ticks": "outside",
             "tickwidth": 2
            },
            "type": "mesh3d"
           }
          ],
          "parcoords": [
           {
            "line": {
             "colorbar": {
              "outlinewidth": 0,
              "tickcolor": "rgb(36,36,36)",
              "ticklen": 8,
              "ticks": "outside",
              "tickwidth": 2
             }
            },
            "type": "parcoords"
           }
          ],
          "pie": [
           {
            "automargin": true,
            "type": "pie"
           }
          ],
          "scatter": [
           {
            "marker": {
             "colorbar": {
              "outlinewidth": 0,
              "tickcolor": "rgb(36,36,36)",
              "ticklen": 8,
              "ticks": "outside",
              "tickwidth": 2
             }
            },
            "type": "scatter"
           }
          ],
          "scatter3d": [
           {
            "line": {
             "colorbar": {
              "outlinewidth": 0,
              "tickcolor": "rgb(36,36,36)",
              "ticklen": 8,
              "ticks": "outside",
              "tickwidth": 2
             }
            },
            "marker": {
             "colorbar": {
              "outlinewidth": 0,
              "tickcolor": "rgb(36,36,36)",
              "ticklen": 8,
              "ticks": "outside",
              "tickwidth": 2
             }
            },
            "type": "scatter3d"
           }
          ],
          "scattercarpet": [
           {
            "marker": {
             "colorbar": {
              "outlinewidth": 0,
              "tickcolor": "rgb(36,36,36)",
              "ticklen": 8,
              "ticks": "outside",
              "tickwidth": 2
             }
            },
            "type": "scattercarpet"
           }
          ],
          "scattergeo": [
           {
            "marker": {
             "colorbar": {
              "outlinewidth": 0,
              "tickcolor": "rgb(36,36,36)",
              "ticklen": 8,
              "ticks": "outside",
              "tickwidth": 2
             }
            },
            "type": "scattergeo"
           }
          ],
          "scattergl": [
           {
            "marker": {
             "colorbar": {
              "outlinewidth": 0,
              "tickcolor": "rgb(36,36,36)",
              "ticklen": 8,
              "ticks": "outside",
              "tickwidth": 2
             }
            },
            "type": "scattergl"
           }
          ],
          "scattermapbox": [
           {
            "marker": {
             "colorbar": {
              "outlinewidth": 0,
              "tickcolor": "rgb(36,36,36)",
              "ticklen": 8,
              "ticks": "outside",
              "tickwidth": 2
             }
            },
            "type": "scattermapbox"
           }
          ],
          "scatterpolar": [
           {
            "marker": {
             "colorbar": {
              "outlinewidth": 0,
              "tickcolor": "rgb(36,36,36)",
              "ticklen": 8,
              "ticks": "outside",
              "tickwidth": 2
             }
            },
            "type": "scatterpolar"
           }
          ],
          "scatterpolargl": [
           {
            "marker": {
             "colorbar": {
              "outlinewidth": 0,
              "tickcolor": "rgb(36,36,36)",
              "ticklen": 8,
              "ticks": "outside",
              "tickwidth": 2
             }
            },
            "type": "scatterpolargl"
           }
          ],
          "scatterternary": [
           {
            "marker": {
             "colorbar": {
              "outlinewidth": 0,
              "tickcolor": "rgb(36,36,36)",
              "ticklen": 8,
              "ticks": "outside",
              "tickwidth": 2
             }
            },
            "type": "scatterternary"
           }
          ],
          "surface": [
           {
            "colorbar": {
             "outlinewidth": 0,
             "tickcolor": "rgb(36,36,36)",
             "ticklen": 8,
             "ticks": "outside",
             "tickwidth": 2
            },
            "colorscale": [
             [
              0,
              "rgb(2,4,25)"
             ],
             [
              0.06274509803921569,
              "rgb(24,15,41)"
             ],
             [
              0.12549019607843137,
              "rgb(47,23,57)"
             ],
             [
              0.18823529411764706,
              "rgb(71,28,72)"
             ],
             [
              0.25098039215686274,
              "rgb(97,30,82)"
             ],
             [
              0.3137254901960784,
              "rgb(123,30,89)"
             ],
             [
              0.3764705882352941,
              "rgb(150,27,91)"
             ],
             [
              0.4392156862745098,
              "rgb(177,22,88)"
             ],
             [
              0.5019607843137255,
              "rgb(203,26,79)"
             ],
             [
              0.5647058823529412,
              "rgb(223,47,67)"
             ],
             [
              0.6274509803921569,
              "rgb(236,76,61)"
             ],
             [
              0.6901960784313725,
              "rgb(242,107,73)"
             ],
             [
              0.7529411764705882,
              "rgb(244,135,95)"
             ],
             [
              0.8156862745098039,
              "rgb(245,162,122)"
             ],
             [
              0.8784313725490196,
              "rgb(246,188,153)"
             ],
             [
              0.9411764705882353,
              "rgb(247,212,187)"
             ],
             [
              1,
              "rgb(250,234,220)"
             ]
            ],
            "type": "surface"
           }
          ],
          "table": [
           {
            "cells": {
             "fill": {
              "color": "rgb(231,231,240)"
             },
             "line": {
              "color": "white"
             }
            },
            "header": {
             "fill": {
              "color": "rgb(183,183,191)"
             },
             "line": {
              "color": "white"
             }
            },
            "type": "table"
           }
          ]
         },
         "layout": {
          "annotationdefaults": {
           "arrowcolor": "rgb(67,103,167)"
          },
          "coloraxis": {
           "colorbar": {
            "outlinewidth": 0,
            "tickcolor": "rgb(36,36,36)",
            "ticklen": 8,
            "ticks": "outside",
            "tickwidth": 2
           }
          },
          "colorscale": {
           "sequential": [
            [
             0,
             "rgb(2,4,25)"
            ],
            [
             0.06274509803921569,
             "rgb(24,15,41)"
            ],
            [
             0.12549019607843137,
             "rgb(47,23,57)"
            ],
            [
             0.18823529411764706,
             "rgb(71,28,72)"
            ],
            [
             0.25098039215686274,
             "rgb(97,30,82)"
            ],
            [
             0.3137254901960784,
             "rgb(123,30,89)"
            ],
            [
             0.3764705882352941,
             "rgb(150,27,91)"
            ],
            [
             0.4392156862745098,
             "rgb(177,22,88)"
            ],
            [
             0.5019607843137255,
             "rgb(203,26,79)"
            ],
            [
             0.5647058823529412,
             "rgb(223,47,67)"
            ],
            [
             0.6274509803921569,
             "rgb(236,76,61)"
            ],
            [
             0.6901960784313725,
             "rgb(242,107,73)"
            ],
            [
             0.7529411764705882,
             "rgb(244,135,95)"
            ],
            [
             0.8156862745098039,
             "rgb(245,162,122)"
            ],
            [
             0.8784313725490196,
             "rgb(246,188,153)"
            ],
            [
             0.9411764705882353,
             "rgb(247,212,187)"
            ],
            [
             1,
             "rgb(250,234,220)"
            ]
           ],
           "sequentialminus": [
            [
             0,
             "rgb(2,4,25)"
            ],
            [
             0.06274509803921569,
             "rgb(24,15,41)"
            ],
            [
             0.12549019607843137,
             "rgb(47,23,57)"
            ],
            [
             0.18823529411764706,
             "rgb(71,28,72)"
            ],
            [
             0.25098039215686274,
             "rgb(97,30,82)"
            ],
            [
             0.3137254901960784,
             "rgb(123,30,89)"
            ],
            [
             0.3764705882352941,
             "rgb(150,27,91)"
            ],
            [
             0.4392156862745098,
             "rgb(177,22,88)"
            ],
            [
             0.5019607843137255,
             "rgb(203,26,79)"
            ],
            [
             0.5647058823529412,
             "rgb(223,47,67)"
            ],
            [
             0.6274509803921569,
             "rgb(236,76,61)"
            ],
            [
             0.6901960784313725,
             "rgb(242,107,73)"
            ],
            [
             0.7529411764705882,
             "rgb(244,135,95)"
            ],
            [
             0.8156862745098039,
             "rgb(245,162,122)"
            ],
            [
             0.8784313725490196,
             "rgb(246,188,153)"
            ],
            [
             0.9411764705882353,
             "rgb(247,212,187)"
            ],
            [
             1,
             "rgb(250,234,220)"
            ]
           ]
          },
          "colorway": [
           "rgb(76,114,176)",
           "rgb(221,132,82)",
           "rgb(85,168,104)",
           "rgb(196,78,82)",
           "rgb(129,114,179)",
           "rgb(147,120,96)",
           "rgb(218,139,195)",
           "rgb(140,140,140)",
           "rgb(204,185,116)",
           "rgb(100,181,205)"
          ],
          "font": {
           "color": "rgb(36,36,36)"
          },
          "geo": {
           "bgcolor": "white",
           "lakecolor": "white",
           "landcolor": "rgb(234,234,242)",
           "showlakes": true,
           "showland": true,
           "subunitcolor": "white"
          },
          "hoverlabel": {
           "align": "left"
          },
          "hovermode": "closest",
          "paper_bgcolor": "white",
          "plot_bgcolor": "rgb(234,234,242)",
          "polar": {
           "angularaxis": {
            "gridcolor": "white",
            "linecolor": "white",
            "showgrid": true,
            "ticks": ""
           },
           "bgcolor": "rgb(234,234,242)",
           "radialaxis": {
            "gridcolor": "white",
            "linecolor": "white",
            "showgrid": true,
            "ticks": ""
           }
          },
          "scene": {
           "xaxis": {
            "backgroundcolor": "rgb(234,234,242)",
            "gridcolor": "white",
            "gridwidth": 2,
            "linecolor": "white",
            "showbackground": true,
            "showgrid": true,
            "ticks": "",
            "zerolinecolor": "white"
           },
           "yaxis": {
            "backgroundcolor": "rgb(234,234,242)",
            "gridcolor": "white",
            "gridwidth": 2,
            "linecolor": "white",
            "showbackground": true,
            "showgrid": true,
            "ticks": "",
            "zerolinecolor": "white"
           },
           "zaxis": {
            "backgroundcolor": "rgb(234,234,242)",
            "gridcolor": "white",
            "gridwidth": 2,
            "linecolor": "white",
            "showbackground": true,
            "showgrid": true,
            "ticks": "",
            "zerolinecolor": "white"
           }
          },
          "shapedefaults": {
           "fillcolor": "rgb(67,103,167)",
           "line": {
            "width": 0
           },
           "opacity": 0.5
          },
          "ternary": {
           "aaxis": {
            "gridcolor": "white",
            "linecolor": "white",
            "showgrid": true,
            "ticks": ""
           },
           "baxis": {
            "gridcolor": "white",
            "linecolor": "white",
            "showgrid": true,
            "ticks": ""
           },
           "bgcolor": "rgb(234,234,242)",
           "caxis": {
            "gridcolor": "white",
            "linecolor": "white",
            "showgrid": true,
            "ticks": ""
           }
          },
          "xaxis": {
           "automargin": true,
           "gridcolor": "white",
           "linecolor": "white",
           "showgrid": true,
           "ticks": "",
           "title": {
            "standoff": 15
           },
           "zerolinecolor": "white"
          },
          "yaxis": {
           "automargin": true,
           "gridcolor": "white",
           "linecolor": "white",
           "showgrid": true,
           "ticks": "",
           "title": {
            "standoff": 15
           },
           "zerolinecolor": "white"
          }
         }
        },
        "title": {
         "text": "Plot 4 - Annual change in NDVI vs intervention year for seeding units"
        },
        "width": 900,
        "xaxis": {
         "anchor": "y",
         "domain": [
          0,
          1
         ],
         "title": {
          "text": "Intervention Year"
         }
        },
        "yaxis": {
         "anchor": "x",
         "domain": [
          0,
          1
         ],
         "title": {
          "text": "Smoothed NDVI"
         }
        }
       }
      },
      "text/html": [
       "<div>\n",
       "        \n",
       "        \n",
       "            <div id=\"eb08a79f-1b9d-4e07-a0d6-10e15305df24\" class=\"plotly-graph-div\" style=\"height:700px; width:900px;\"></div>\n",
       "            <script type=\"text/javascript\">\n",
       "                require([\"plotly\"], function(Plotly) {\n",
       "                    window.PLOTLYENV=window.PLOTLYENV || {};\n",
       "                    \n",
       "                if (document.getElementById(\"eb08a79f-1b9d-4e07-a0d6-10e15305df24\")) {\n",
       "                    Plotly.newPlot(\n",
       "                        'eb08a79f-1b9d-4e07-a0d6-10e15305df24',\n",
       "                        [{\"customdata\": [[0.003429338113346614, 2017.0], [0.014249780753258778, 2018.0], [0.027376621611377508, 2019.0], [0.027373524438977864, 2020.0], [-0.007930984668899327, 2013.0], [0.003969974131788956, 2014.0], [0.03118038558318381, 2015.0], [0.009743212215292008, 2016.0], [0.0012208596613880185, 2017.0], [-0.008651282685964129, 2018.0], [-0.0037381564630935282, 2019.0], [0.0045107644950853065, 2020.0], [-0.0160042183855032, 2013.0], [-0.015470449450793289, 2014.0], [0.013261524378101602, 2015.0], [0.0007714130615759096, 2016.0], [-0.006413136007700659, 2017.0], [-0.012376386633409314, 2018.0], [-0.006772024994679632, 2019.0], [0.010114266321127108, 2020.0], [-0.005351208498698468, 2013.0], [-0.0017493463927010233, 2014.0], [0.032686490823272685, 2015.0], [0.008953566671157931, 2016.0], [-0.010597826409509459, 2017.0], [-0.011855936981814086, 2018.0], [-0.006370975526482442, 2019.0], [0.01164239696014599, 2020.0], [0.02195643143133033, 2013.0], [-0.0004928493635648623, 2014.0], [0.00980654208141618, 2015.0], [0.004099827880660795, 2016.0], [-0.01576276232775012, 2017.0], [-0.010274437563613237, 2018.0], [-0.0028290462901051916, 2019.0], [0.005943562981720274, 2020.0], [0.0006317463063925388, 2013.0], [-0.007407819709156993, 2014.0], [0.023721749706606343, 2015.0], [0.004152625087176204, 2016.0], [-0.015479396714245863, 2017.0], [-0.011154901555648827, 2018.0], [-0.0038202743601145894, 2019.0], [0.013501587882982946, 2020.0], [-0.008754079731171566, 2013.0], [-0.000586941489564563, 2014.0], [0.025103091463168803, 2015.0], [0.0011399772456137658, 2016.0], [-0.014367152201835487, 2017.0], [-0.014803169653248044, 2018.0], [0.006899653037762132, 2019.0], [0.015539309495864462, 2020.0], [-0.016174624082656797, 2014.0], [0.005140653728515188, 2015.0], [0.00948539574178317, 2016.0], [-0.004317441896453167, 2017.0], [-0.008118571370658106, 2018.0], [0.001319635904648342, 2019.0], [0.01447575203261034, 2020.0], [-0.007084293995315877, 2014.0], [0.011301576013875408, 2015.0], [0.0038172660836129357, 2016.0], [-0.006370387553307433, 2017.0], [-0.012422695738433687, 2018.0], [-0.005025815181133708, 2019.0], [0.009787387893064547, 2020.0], [0.0031782455266888276, 2014.0], [0.023016017631609736, 2015.0], [0.004869955672635401, 2016.0], [-0.010271143052587695, 2017.0], [-0.010929286404715521, 2018.0], [-0.0023548739247949424, 2019.0], [0.009412448043098737, 2020.0], [-0.005555685345862732, 2014.0], [0.014140652548606247, 2015.0], [0.00953743819283559, 2016.0], [-0.005959015782043914, 2017.0], [-0.01672633656072528, 2018.0], [-0.003239994751956826, 2019.0], [0.01278608064229228, 2020.0], [-0.01245427742347302, 2014.0], [0.040500007267878446, 2015.0], [0.02851130671633384, 2016.0], [0.015972124701930268, 2017.0], [-0.00317775202336526, 2018.0], [-0.0025474862618879712, 2019.0], [0.0037264575970987757, 2020.0], [-0.027257533420715463, 2014.0], [0.006812150221682356, 2015.0], [0.00480221524916466, 2016.0], [-0.005943828396177048, 2017.0], [-0.012593538552406441, 2018.0], [-0.0031679803844069376, 2019.0], [0.005178097997336789, 2020.0], [0.011053005184136155, 2014.0], [0.011071824161424604, 2015.0], [0.004015181402792195, 2016.0], [-0.005779705382236849, 2017.0], [-0.009768809819231894, 2018.0], [-0.0008371216374346291, 2019.0], [0.00992173435063004, 2020.0], [-0.02153042071861111, 2014.0], [0.005074470439339396, 2015.0], [0.00766753786010671, 2016.0], [-0.004037300772809754, 2017.0], [-0.009707208452164218, 2018.0], [-0.004210690572896636, 2019.0], [0.010551860479366348, 2020.0], [0.0416006740854499, 2015.0], [0.029913888508043107, 2016.0], [0.02097871413856167, 2017.0], [-0.0028191203041476876, 2018.0], [-0.003626307700851983, 2019.0], [0.0035682440799314763, 2020.0], [-0.00014631365636538773, 2017.0], [-0.005046313801791463, 2018.0], [0.014215369925035914, 2019.0], [0.016293338749424707, 2020.0], [-0.004317441896453167, 2017.0], [-0.008118571370658106, 2018.0], [0.0013196359046483142, 2019.0], [0.014475752032610312, 2020.0], [0.00042072029412733303, 2018.0], [0.028012550361877844, 2019.0], [0.02855537980065842, 2020.0], [-0.015289078280680046, 2018.0], [-0.00562440689132529, 2019.0], [0.015699946081979388, 2020.0], [-0.005206701741074543, 2018.0], [-0.002121998881522702, 2019.0], [0.015605240390666741, 2020.0], [-0.010082999137245113, 2018.0], [-0.00647867048255879, 2019.0], [0.010885382318893133, 2020.0], [-0.007955627321886483, 2018.0], [-0.002839706748805959, 2019.0], [0.005540865358498265, 2020.0], [-0.00875803615895615, 2018.0], [0.0020684960806701125, 2019.0], [0.008962493313090791, 2020.0], [-0.08157971690248819, 2018.0], [-0.024208085931895773, 2019.0], [0.050521072022723545, 2020.0], [-0.0006761432763327246, 2019.0], [0.012885483073783482, 2020.0], [0.004123967839404913, 2019.0], [0.012331909016876252, 2020.0], [-0.000651437742198363, 2019.0], [0.010920544738658305, 2020.0], [0.0025018684314808692, 2019.0], [0.014435528094365602, 2020.0], [-0.0058285020613333405, 2019.0], [0.00991090972323913, 2020.0], [-0.003678025406964547, 2019.0], [0.007706328117147887, 2020.0], [-0.004748002985459715, 2019.0], [0.008524362394063345, 2020.0], [-0.007179307649316707, 2019.0], [0.01044471831669283, 2020.0], [-0.006152504909771234, 2019.0], [0.007696639091958779, 2020.0], [-0.00566437782612883, 2019.0], [0.007203962442706463, 2020.0], [-0.002016812009514979, 2019.0], [0.008448685893502728, 2020.0], [0.004075190255234867, 2019.0], [0.011528580707046404, 2020.0], [0.002033253205202812, 2019.0], [0.011797137151006554, 2020.0], [-0.00689487217326018, 2019.0], [0.012703303788285547, 2020.0], [-0.009171329171115933, 2019.0], [0.00581068789497724, 2020.0], [-0.010371096627500714, 2019.0], [0.01327696350283225, 2020.0], [-0.010438181835905336, 2019.0], [0.013396050477041954, 2020.0]], \"hovertemplate\": \"<b>%{hovertext}</b><br><br>Intervention Year=%{x}<br>Smoothed NDVI=%{customdata[0]}<br>Year=%{customdata[1]}<extra></extra>\", \"hovertext\": [172.0, 172.0, 172.0, 172.0, 816.0, 816.0, 816.0, 816.0, 816.0, 816.0, 816.0, 816.0, 913.0, 913.0, 913.0, 913.0, 913.0, 913.0, 913.0, 913.0, 916.0, 916.0, 916.0, 916.0, 916.0, 916.0, 916.0, 916.0, 1265.0, 1265.0, 1265.0, 1265.0, 1265.0, 1265.0, 1265.0, 1265.0, 1314.0, 1314.0, 1314.0, 1314.0, 1314.0, 1314.0, 1314.0, 1314.0, 1319.0, 1319.0, 1319.0, 1319.0, 1319.0, 1319.0, 1319.0, 1319.0, 1558.0, 1558.0, 1558.0, 1558.0, 1558.0, 1558.0, 1558.0, 1588.0, 1588.0, 1588.0, 1588.0, 1588.0, 1588.0, 1588.0, 1589.0, 1589.0, 1589.0, 1589.0, 1589.0, 1589.0, 1589.0, 1590.0, 1590.0, 1590.0, 1590.0, 1590.0, 1590.0, 1590.0, 1594.0, 1594.0, 1594.0, 1594.0, 1594.0, 1594.0, 1594.0, 1601.0, 1601.0, 1601.0, 1601.0, 1601.0, 1601.0, 1601.0, 1608.0, 1608.0, 1608.0, 1608.0, 1608.0, 1608.0, 1608.0, 1655.0, 1655.0, 1655.0, 1655.0, 1655.0, 1655.0, 1655.0, 2335.0, 2335.0, 2335.0, 2335.0, 2335.0, 2335.0, 2569.0, 2569.0, 2569.0, 2569.0, 2577.0, 2577.0, 2577.0, 2577.0, 2581.0, 2581.0, 2581.0, 2586.0, 2586.0, 2586.0, 2587.0, 2587.0, 2587.0, 2599.0, 2599.0, 2599.0, 2600.0, 2600.0, 2600.0, 2601.0, 2601.0, 2601.0, 2604.0, 2604.0, 2604.0, 2609.0, 2609.0, 2614.0, 2614.0, 2615.0, 2615.0, 2620.0, 2620.0, 2621.0, 2621.0, 2622.0, 2622.0, 2623.0, 2623.0, 2624.0, 2624.0, 2626.0, 2626.0, 2627.0, 2627.0, 2628.0, 2628.0, 2633.0, 2633.0, 2634.0, 2634.0, 2645.0, 2645.0, 2646.0, 2646.0, 2648.0, 2648.0, 2650.0, 2650.0], \"legendgroup\": \"\", \"marker\": {\"color\": \"rgb(76,114,176)\", \"symbol\": \"circle\"}, \"mode\": \"markers\", \"name\": \"\", \"showlegend\": false, \"type\": \"scatter\", \"x\": [0, 1, 2, 3, 0, 1, 2, 3, 4, 5, 6, 7, 0, 1, 2, 3, 4, 5, 6, 7, 0, 1, 2, 3, 4, 5, 6, 7, 0, 1, 2, 3, 4, 5, 6, 7, 0, 1, 2, 3, 4, 5, 6, 7, 0, 1, 2, 3, 4, 5, 6, 7, 0, 1, 2, 3, 4, 5, 6, 0, 1, 2, 3, 4, 5, 6, 0, 1, 2, 3, 4, 5, 6, 0, 1, 2, 3, 4, 5, 6, 0, 1, 2, 3, 4, 5, 6, 0, 1, 2, 3, 4, 5, 6, 0, 1, 2, 3, 4, 5, 6, 0, 1, 2, 3, 4, 5, 6, 0, 1, 2, 3, 4, 5, 0, 1, 2, 3, 0, 1, 2, 3, 0, 1, 2, 0, 1, 2, 0, 1, 2, 0, 1, 2, 0, 1, 2, 0, 1, 2, 0, 1, 2, 0, 1, 0, 1, 0, 1, 0, 1, 0, 1, 0, 1, 0, 1, 0, 1, 0, 1, 0, 1, 0, 1, 0, 1, 0, 1, 0, 1, 0, 1, 0, 1, 0, 1], \"xaxis\": \"x\", \"y\": [0.003429338113346614, 0.014249780753258778, 0.027376621611377508, 0.027373524438977864, -0.007930984668899327, 0.003969974131788956, 0.03118038558318381, 0.009743212215292008, 0.0012208596613880185, -0.008651282685964129, -0.0037381564630935282, 0.0045107644950853065, -0.0160042183855032, -0.015470449450793289, 0.013261524378101602, 0.0007714130615759096, -0.006413136007700659, -0.012376386633409314, -0.006772024994679632, 0.010114266321127108, -0.005351208498698468, -0.0017493463927010233, 0.032686490823272685, 0.008953566671157931, -0.010597826409509459, -0.011855936981814086, -0.006370975526482442, 0.01164239696014599, 0.02195643143133033, -0.0004928493635648623, 0.00980654208141618, 0.004099827880660795, -0.01576276232775012, -0.010274437563613237, -0.0028290462901051916, 0.005943562981720274, 0.0006317463063925388, -0.007407819709156993, 0.023721749706606343, 0.004152625087176204, -0.015479396714245863, -0.011154901555648827, -0.0038202743601145894, 0.013501587882982946, -0.008754079731171566, -0.000586941489564563, 0.025103091463168803, 0.0011399772456137658, -0.014367152201835487, -0.014803169653248044, 0.006899653037762132, 0.015539309495864462, -0.016174624082656797, 0.005140653728515188, 0.00948539574178317, -0.004317441896453167, -0.008118571370658106, 0.001319635904648342, 0.01447575203261034, -0.007084293995315877, 0.011301576013875408, 0.0038172660836129357, -0.006370387553307433, -0.012422695738433687, -0.005025815181133708, 0.009787387893064547, 0.0031782455266888276, 0.023016017631609736, 0.004869955672635401, -0.010271143052587695, -0.010929286404715521, -0.0023548739247949424, 0.009412448043098737, -0.005555685345862732, 0.014140652548606247, 0.00953743819283559, -0.005959015782043914, -0.01672633656072528, -0.003239994751956826, 0.01278608064229228, -0.01245427742347302, 0.040500007267878446, 0.02851130671633384, 0.015972124701930268, -0.00317775202336526, -0.0025474862618879712, 0.0037264575970987757, -0.027257533420715463, 0.006812150221682356, 0.00480221524916466, -0.005943828396177048, -0.012593538552406441, -0.0031679803844069376, 0.005178097997336789, 0.011053005184136155, 0.011071824161424604, 0.004015181402792195, -0.005779705382236849, -0.009768809819231894, -0.0008371216374346291, 0.00992173435063004, -0.02153042071861111, 0.005074470439339396, 0.00766753786010671, -0.004037300772809754, -0.009707208452164218, -0.004210690572896636, 0.010551860479366348, 0.0416006740854499, 0.029913888508043107, 0.02097871413856167, -0.0028191203041476876, -0.003626307700851983, 0.0035682440799314763, -0.00014631365636538773, -0.005046313801791463, 0.014215369925035914, 0.016293338749424707, -0.004317441896453167, -0.008118571370658106, 0.0013196359046483142, 0.014475752032610312, 0.00042072029412733303, 0.028012550361877844, 0.02855537980065842, -0.015289078280680046, -0.00562440689132529, 0.015699946081979388, -0.005206701741074543, -0.002121998881522702, 0.015605240390666741, -0.010082999137245113, -0.00647867048255879, 0.010885382318893133, -0.007955627321886483, -0.002839706748805959, 0.005540865358498265, -0.00875803615895615, 0.0020684960806701125, 0.008962493313090791, -0.08157971690248819, -0.024208085931895773, 0.050521072022723545, -0.0006761432763327246, 0.012885483073783482, 0.004123967839404913, 0.012331909016876252, -0.000651437742198363, 0.010920544738658305, 0.0025018684314808692, 0.014435528094365602, -0.0058285020613333405, 0.00991090972323913, -0.003678025406964547, 0.007706328117147887, -0.004748002985459715, 0.008524362394063345, -0.007179307649316707, 0.01044471831669283, -0.006152504909771234, 0.007696639091958779, -0.00566437782612883, 0.007203962442706463, -0.002016812009514979, 0.008448685893502728, 0.004075190255234867, 0.011528580707046404, 0.002033253205202812, 0.011797137151006554, -0.00689487217326018, 0.012703303788285547, -0.009171329171115933, 0.00581068789497724, -0.010371096627500714, 0.01327696350283225, -0.010438181835905336, 0.013396050477041954], \"yaxis\": \"y\"}],\n",
       "                        {\"annotations\": [{\"showarrow\": false, \"text\": \"Source: Landsat 8 data from USGS, meteorological data from gridMET\", \"x\": 0.01, \"xref\": \"paper\", \"y\": 0.01, \"yref\": \"paper\"}], \"height\": 700, \"legend\": {\"tracegroupgap\": 0}, \"showlegend\": false, \"template\": {\"data\": {\"bar\": [{\"error_x\": {\"color\": \"rgb(36,36,36)\"}, \"error_y\": {\"color\": \"rgb(36,36,36)\"}, \"marker\": {\"line\": {\"color\": \"rgb(234,234,242)\", \"width\": 0.5}}, \"type\": \"bar\"}], \"barpolar\": [{\"marker\": {\"line\": {\"color\": \"rgb(234,234,242)\", \"width\": 0.5}}, \"type\": \"barpolar\"}], \"carpet\": [{\"aaxis\": {\"endlinecolor\": \"rgb(36,36,36)\", \"gridcolor\": \"white\", \"linecolor\": \"white\", \"minorgridcolor\": \"white\", \"startlinecolor\": \"rgb(36,36,36)\"}, \"baxis\": {\"endlinecolor\": \"rgb(36,36,36)\", \"gridcolor\": \"white\", \"linecolor\": \"white\", \"minorgridcolor\": \"white\", \"startlinecolor\": \"rgb(36,36,36)\"}, \"type\": \"carpet\"}], \"choropleth\": [{\"colorbar\": {\"outlinewidth\": 0, \"tickcolor\": \"rgb(36,36,36)\", \"ticklen\": 8, \"ticks\": \"outside\", \"tickwidth\": 2}, \"type\": \"choropleth\"}], \"contour\": [{\"colorbar\": {\"outlinewidth\": 0, \"tickcolor\": \"rgb(36,36,36)\", \"ticklen\": 8, \"ticks\": \"outside\", \"tickwidth\": 2}, \"colorscale\": [[0.0, \"rgb(2,4,25)\"], [0.06274509803921569, \"rgb(24,15,41)\"], [0.12549019607843137, \"rgb(47,23,57)\"], [0.18823529411764706, \"rgb(71,28,72)\"], [0.25098039215686274, \"rgb(97,30,82)\"], [0.3137254901960784, \"rgb(123,30,89)\"], [0.3764705882352941, \"rgb(150,27,91)\"], [0.4392156862745098, \"rgb(177,22,88)\"], [0.5019607843137255, \"rgb(203,26,79)\"], [0.5647058823529412, \"rgb(223,47,67)\"], [0.6274509803921569, \"rgb(236,76,61)\"], [0.6901960784313725, \"rgb(242,107,73)\"], [0.7529411764705882, \"rgb(244,135,95)\"], [0.8156862745098039, \"rgb(245,162,122)\"], [0.8784313725490196, \"rgb(246,188,153)\"], [0.9411764705882353, \"rgb(247,212,187)\"], [1.0, \"rgb(250,234,220)\"]], \"type\": \"contour\"}], \"contourcarpet\": [{\"colorbar\": {\"outlinewidth\": 0, \"tickcolor\": \"rgb(36,36,36)\", \"ticklen\": 8, \"ticks\": \"outside\", \"tickwidth\": 2}, \"type\": \"contourcarpet\"}], \"heatmap\": [{\"colorbar\": {\"outlinewidth\": 0, \"tickcolor\": \"rgb(36,36,36)\", \"ticklen\": 8, \"ticks\": \"outside\", \"tickwidth\": 2}, \"colorscale\": [[0.0, \"rgb(2,4,25)\"], [0.06274509803921569, \"rgb(24,15,41)\"], [0.12549019607843137, \"rgb(47,23,57)\"], [0.18823529411764706, \"rgb(71,28,72)\"], [0.25098039215686274, \"rgb(97,30,82)\"], [0.3137254901960784, \"rgb(123,30,89)\"], [0.3764705882352941, \"rgb(150,27,91)\"], [0.4392156862745098, \"rgb(177,22,88)\"], [0.5019607843137255, \"rgb(203,26,79)\"], [0.5647058823529412, \"rgb(223,47,67)\"], [0.6274509803921569, \"rgb(236,76,61)\"], [0.6901960784313725, \"rgb(242,107,73)\"], [0.7529411764705882, \"rgb(244,135,95)\"], [0.8156862745098039, \"rgb(245,162,122)\"], [0.8784313725490196, \"rgb(246,188,153)\"], [0.9411764705882353, \"rgb(247,212,187)\"], [1.0, \"rgb(250,234,220)\"]], \"type\": \"heatmap\"}], \"heatmapgl\": [{\"colorbar\": {\"outlinewidth\": 0, \"tickcolor\": \"rgb(36,36,36)\", \"ticklen\": 8, \"ticks\": \"outside\", \"tickwidth\": 2}, \"colorscale\": [[0.0, \"rgb(2,4,25)\"], [0.06274509803921569, \"rgb(24,15,41)\"], [0.12549019607843137, \"rgb(47,23,57)\"], [0.18823529411764706, \"rgb(71,28,72)\"], [0.25098039215686274, \"rgb(97,30,82)\"], [0.3137254901960784, \"rgb(123,30,89)\"], [0.3764705882352941, \"rgb(150,27,91)\"], [0.4392156862745098, \"rgb(177,22,88)\"], [0.5019607843137255, \"rgb(203,26,79)\"], [0.5647058823529412, \"rgb(223,47,67)\"], [0.6274509803921569, \"rgb(236,76,61)\"], [0.6901960784313725, \"rgb(242,107,73)\"], [0.7529411764705882, \"rgb(244,135,95)\"], [0.8156862745098039, \"rgb(245,162,122)\"], [0.8784313725490196, \"rgb(246,188,153)\"], [0.9411764705882353, \"rgb(247,212,187)\"], [1.0, \"rgb(250,234,220)\"]], \"type\": \"heatmapgl\"}], \"histogram\": [{\"marker\": {\"colorbar\": {\"outlinewidth\": 0, \"tickcolor\": \"rgb(36,36,36)\", \"ticklen\": 8, \"ticks\": \"outside\", \"tickwidth\": 2}}, \"type\": \"histogram\"}], \"histogram2d\": [{\"colorbar\": {\"outlinewidth\": 0, \"tickcolor\": \"rgb(36,36,36)\", \"ticklen\": 8, \"ticks\": \"outside\", \"tickwidth\": 2}, \"colorscale\": [[0.0, \"rgb(2,4,25)\"], [0.06274509803921569, \"rgb(24,15,41)\"], [0.12549019607843137, \"rgb(47,23,57)\"], [0.18823529411764706, \"rgb(71,28,72)\"], [0.25098039215686274, \"rgb(97,30,82)\"], [0.3137254901960784, \"rgb(123,30,89)\"], [0.3764705882352941, \"rgb(150,27,91)\"], [0.4392156862745098, \"rgb(177,22,88)\"], [0.5019607843137255, \"rgb(203,26,79)\"], [0.5647058823529412, \"rgb(223,47,67)\"], [0.6274509803921569, \"rgb(236,76,61)\"], [0.6901960784313725, \"rgb(242,107,73)\"], [0.7529411764705882, \"rgb(244,135,95)\"], [0.8156862745098039, \"rgb(245,162,122)\"], [0.8784313725490196, \"rgb(246,188,153)\"], [0.9411764705882353, \"rgb(247,212,187)\"], [1.0, \"rgb(250,234,220)\"]], \"type\": \"histogram2d\"}], \"histogram2dcontour\": [{\"colorbar\": {\"outlinewidth\": 0, \"tickcolor\": \"rgb(36,36,36)\", \"ticklen\": 8, \"ticks\": \"outside\", \"tickwidth\": 2}, \"colorscale\": [[0.0, \"rgb(2,4,25)\"], [0.06274509803921569, \"rgb(24,15,41)\"], [0.12549019607843137, \"rgb(47,23,57)\"], [0.18823529411764706, \"rgb(71,28,72)\"], [0.25098039215686274, \"rgb(97,30,82)\"], [0.3137254901960784, \"rgb(123,30,89)\"], [0.3764705882352941, \"rgb(150,27,91)\"], [0.4392156862745098, \"rgb(177,22,88)\"], [0.5019607843137255, \"rgb(203,26,79)\"], [0.5647058823529412, \"rgb(223,47,67)\"], [0.6274509803921569, \"rgb(236,76,61)\"], [0.6901960784313725, \"rgb(242,107,73)\"], [0.7529411764705882, \"rgb(244,135,95)\"], [0.8156862745098039, \"rgb(245,162,122)\"], [0.8784313725490196, \"rgb(246,188,153)\"], [0.9411764705882353, \"rgb(247,212,187)\"], [1.0, \"rgb(250,234,220)\"]], \"type\": \"histogram2dcontour\"}], \"mesh3d\": [{\"colorbar\": {\"outlinewidth\": 0, \"tickcolor\": \"rgb(36,36,36)\", \"ticklen\": 8, \"ticks\": \"outside\", \"tickwidth\": 2}, \"type\": \"mesh3d\"}], \"parcoords\": [{\"line\": {\"colorbar\": {\"outlinewidth\": 0, \"tickcolor\": \"rgb(36,36,36)\", \"ticklen\": 8, \"ticks\": \"outside\", \"tickwidth\": 2}}, \"type\": \"parcoords\"}], \"pie\": [{\"automargin\": true, \"type\": \"pie\"}], \"scatter\": [{\"marker\": {\"colorbar\": {\"outlinewidth\": 0, \"tickcolor\": \"rgb(36,36,36)\", \"ticklen\": 8, \"ticks\": \"outside\", \"tickwidth\": 2}}, \"type\": \"scatter\"}], \"scatter3d\": [{\"line\": {\"colorbar\": {\"outlinewidth\": 0, \"tickcolor\": \"rgb(36,36,36)\", \"ticklen\": 8, \"ticks\": \"outside\", \"tickwidth\": 2}}, \"marker\": {\"colorbar\": {\"outlinewidth\": 0, \"tickcolor\": \"rgb(36,36,36)\", \"ticklen\": 8, \"ticks\": \"outside\", \"tickwidth\": 2}}, \"type\": \"scatter3d\"}], \"scattercarpet\": [{\"marker\": {\"colorbar\": {\"outlinewidth\": 0, \"tickcolor\": \"rgb(36,36,36)\", \"ticklen\": 8, \"ticks\": \"outside\", \"tickwidth\": 2}}, \"type\": \"scattercarpet\"}], \"scattergeo\": [{\"marker\": {\"colorbar\": {\"outlinewidth\": 0, \"tickcolor\": \"rgb(36,36,36)\", \"ticklen\": 8, \"ticks\": \"outside\", \"tickwidth\": 2}}, \"type\": \"scattergeo\"}], \"scattergl\": [{\"marker\": {\"colorbar\": {\"outlinewidth\": 0, \"tickcolor\": \"rgb(36,36,36)\", \"ticklen\": 8, \"ticks\": \"outside\", \"tickwidth\": 2}}, \"type\": \"scattergl\"}], \"scattermapbox\": [{\"marker\": {\"colorbar\": {\"outlinewidth\": 0, \"tickcolor\": \"rgb(36,36,36)\", \"ticklen\": 8, \"ticks\": \"outside\", \"tickwidth\": 2}}, \"type\": \"scattermapbox\"}], \"scatterpolar\": [{\"marker\": {\"colorbar\": {\"outlinewidth\": 0, \"tickcolor\": \"rgb(36,36,36)\", \"ticklen\": 8, \"ticks\": \"outside\", \"tickwidth\": 2}}, \"type\": \"scatterpolar\"}], \"scatterpolargl\": [{\"marker\": {\"colorbar\": {\"outlinewidth\": 0, \"tickcolor\": \"rgb(36,36,36)\", \"ticklen\": 8, \"ticks\": \"outside\", \"tickwidth\": 2}}, \"type\": \"scatterpolargl\"}], \"scatterternary\": [{\"marker\": {\"colorbar\": {\"outlinewidth\": 0, \"tickcolor\": \"rgb(36,36,36)\", \"ticklen\": 8, \"ticks\": \"outside\", \"tickwidth\": 2}}, \"type\": \"scatterternary\"}], \"surface\": [{\"colorbar\": {\"outlinewidth\": 0, \"tickcolor\": \"rgb(36,36,36)\", \"ticklen\": 8, \"ticks\": \"outside\", \"tickwidth\": 2}, \"colorscale\": [[0.0, \"rgb(2,4,25)\"], [0.06274509803921569, \"rgb(24,15,41)\"], [0.12549019607843137, \"rgb(47,23,57)\"], [0.18823529411764706, \"rgb(71,28,72)\"], [0.25098039215686274, \"rgb(97,30,82)\"], [0.3137254901960784, \"rgb(123,30,89)\"], [0.3764705882352941, \"rgb(150,27,91)\"], [0.4392156862745098, \"rgb(177,22,88)\"], [0.5019607843137255, \"rgb(203,26,79)\"], [0.5647058823529412, \"rgb(223,47,67)\"], [0.6274509803921569, \"rgb(236,76,61)\"], [0.6901960784313725, \"rgb(242,107,73)\"], [0.7529411764705882, \"rgb(244,135,95)\"], [0.8156862745098039, \"rgb(245,162,122)\"], [0.8784313725490196, \"rgb(246,188,153)\"], [0.9411764705882353, \"rgb(247,212,187)\"], [1.0, \"rgb(250,234,220)\"]], \"type\": \"surface\"}], \"table\": [{\"cells\": {\"fill\": {\"color\": \"rgb(231,231,240)\"}, \"line\": {\"color\": \"white\"}}, \"header\": {\"fill\": {\"color\": \"rgb(183,183,191)\"}, \"line\": {\"color\": \"white\"}}, \"type\": \"table\"}]}, \"layout\": {\"annotationdefaults\": {\"arrowcolor\": \"rgb(67,103,167)\"}, \"coloraxis\": {\"colorbar\": {\"outlinewidth\": 0, \"tickcolor\": \"rgb(36,36,36)\", \"ticklen\": 8, \"ticks\": \"outside\", \"tickwidth\": 2}}, \"colorscale\": {\"sequential\": [[0.0, \"rgb(2,4,25)\"], [0.06274509803921569, \"rgb(24,15,41)\"], [0.12549019607843137, \"rgb(47,23,57)\"], [0.18823529411764706, \"rgb(71,28,72)\"], [0.25098039215686274, \"rgb(97,30,82)\"], [0.3137254901960784, \"rgb(123,30,89)\"], [0.3764705882352941, \"rgb(150,27,91)\"], [0.4392156862745098, \"rgb(177,22,88)\"], [0.5019607843137255, \"rgb(203,26,79)\"], [0.5647058823529412, \"rgb(223,47,67)\"], [0.6274509803921569, \"rgb(236,76,61)\"], [0.6901960784313725, \"rgb(242,107,73)\"], [0.7529411764705882, \"rgb(244,135,95)\"], [0.8156862745098039, \"rgb(245,162,122)\"], [0.8784313725490196, \"rgb(246,188,153)\"], [0.9411764705882353, \"rgb(247,212,187)\"], [1.0, \"rgb(250,234,220)\"]], \"sequentialminus\": [[0.0, \"rgb(2,4,25)\"], [0.06274509803921569, \"rgb(24,15,41)\"], [0.12549019607843137, \"rgb(47,23,57)\"], [0.18823529411764706, \"rgb(71,28,72)\"], [0.25098039215686274, \"rgb(97,30,82)\"], [0.3137254901960784, \"rgb(123,30,89)\"], [0.3764705882352941, \"rgb(150,27,91)\"], [0.4392156862745098, \"rgb(177,22,88)\"], [0.5019607843137255, \"rgb(203,26,79)\"], [0.5647058823529412, \"rgb(223,47,67)\"], [0.6274509803921569, \"rgb(236,76,61)\"], [0.6901960784313725, \"rgb(242,107,73)\"], [0.7529411764705882, \"rgb(244,135,95)\"], [0.8156862745098039, \"rgb(245,162,122)\"], [0.8784313725490196, \"rgb(246,188,153)\"], [0.9411764705882353, \"rgb(247,212,187)\"], [1.0, \"rgb(250,234,220)\"]]}, \"colorway\": [\"rgb(76,114,176)\", \"rgb(221,132,82)\", \"rgb(85,168,104)\", \"rgb(196,78,82)\", \"rgb(129,114,179)\", \"rgb(147,120,96)\", \"rgb(218,139,195)\", \"rgb(140,140,140)\", \"rgb(204,185,116)\", \"rgb(100,181,205)\"], \"font\": {\"color\": \"rgb(36,36,36)\"}, \"geo\": {\"bgcolor\": \"white\", \"lakecolor\": \"white\", \"landcolor\": \"rgb(234,234,242)\", \"showlakes\": true, \"showland\": true, \"subunitcolor\": \"white\"}, \"hoverlabel\": {\"align\": \"left\"}, \"hovermode\": \"closest\", \"paper_bgcolor\": \"white\", \"plot_bgcolor\": \"rgb(234,234,242)\", \"polar\": {\"angularaxis\": {\"gridcolor\": \"white\", \"linecolor\": \"white\", \"showgrid\": true, \"ticks\": \"\"}, \"bgcolor\": \"rgb(234,234,242)\", \"radialaxis\": {\"gridcolor\": \"white\", \"linecolor\": \"white\", \"showgrid\": true, \"ticks\": \"\"}}, \"scene\": {\"xaxis\": {\"backgroundcolor\": \"rgb(234,234,242)\", \"gridcolor\": \"white\", \"gridwidth\": 2, \"linecolor\": \"white\", \"showbackground\": true, \"showgrid\": true, \"ticks\": \"\", \"zerolinecolor\": \"white\"}, \"yaxis\": {\"backgroundcolor\": \"rgb(234,234,242)\", \"gridcolor\": \"white\", \"gridwidth\": 2, \"linecolor\": \"white\", \"showbackground\": true, \"showgrid\": true, \"ticks\": \"\", \"zerolinecolor\": \"white\"}, \"zaxis\": {\"backgroundcolor\": \"rgb(234,234,242)\", \"gridcolor\": \"white\", \"gridwidth\": 2, \"linecolor\": \"white\", \"showbackground\": true, \"showgrid\": true, \"ticks\": \"\", \"zerolinecolor\": \"white\"}}, \"shapedefaults\": {\"fillcolor\": \"rgb(67,103,167)\", \"line\": {\"width\": 0}, \"opacity\": 0.5}, \"ternary\": {\"aaxis\": {\"gridcolor\": \"white\", \"linecolor\": \"white\", \"showgrid\": true, \"ticks\": \"\"}, \"baxis\": {\"gridcolor\": \"white\", \"linecolor\": \"white\", \"showgrid\": true, \"ticks\": \"\"}, \"bgcolor\": \"rgb(234,234,242)\", \"caxis\": {\"gridcolor\": \"white\", \"linecolor\": \"white\", \"showgrid\": true, \"ticks\": \"\"}}, \"xaxis\": {\"automargin\": true, \"gridcolor\": \"white\", \"linecolor\": \"white\", \"showgrid\": true, \"ticks\": \"\", \"title\": {\"standoff\": 15}, \"zerolinecolor\": \"white\"}, \"yaxis\": {\"automargin\": true, \"gridcolor\": \"white\", \"linecolor\": \"white\", \"showgrid\": true, \"ticks\": \"\", \"title\": {\"standoff\": 15}, \"zerolinecolor\": \"white\"}}}, \"title\": {\"text\": \"Plot 4 - Annual change in NDVI vs intervention year for seeding units\"}, \"width\": 900, \"xaxis\": {\"anchor\": \"y\", \"domain\": [0.0, 1.0], \"title\": {\"text\": \"Intervention Year\"}}, \"yaxis\": {\"anchor\": \"x\", \"domain\": [0.0, 1.0], \"title\": {\"text\": \"Smoothed NDVI\"}}},\n",
       "                        {\"responsive\": true}\n",
       "                    ).then(function(){\n",
       "                            \n",
       "var gd = document.getElementById('eb08a79f-1b9d-4e07-a0d6-10e15305df24');\n",
       "var x = new MutationObserver(function (mutations, observer) {{\n",
       "        var display = window.getComputedStyle(gd).display;\n",
       "        if (!display || display === 'none') {{\n",
       "            console.log([gd, 'removed!']);\n",
       "            Plotly.purge(gd);\n",
       "            observer.disconnect();\n",
       "        }}\n",
       "}});\n",
       "\n",
       "// Listen for the removal of the full notebook cells\n",
       "var notebookContainer = gd.closest('#notebook-container');\n",
       "if (notebookContainer) {{\n",
       "    x.observe(notebookContainer, {childList: true});\n",
       "}}\n",
       "\n",
       "// Listen for the clearing of the current output cell\n",
       "var outputEl = gd.closest('.output');\n",
       "if (outputEl) {{\n",
       "    x.observe(outputEl, {childList: true});\n",
       "}}\n",
       "\n",
       "                        })\n",
       "                };\n",
       "                });\n",
       "            </script>\n",
       "        </div>"
      ]
     },
     "metadata": {},
     "output_type": "display_data"
    }
   ],
   "source": [
    "fig = px.scatter(su_ndvi_annual_change_df, x='Intervention_Year', y='NDVI_delta',\n",
    "                 labels={\n",
    "                     \"NDVI_delta\": \"Smoothed NDVI\",\n",
    "                     \"Intervention_Year\": \"Intervention Year\"\n",
    "                 },\n",
    "                 title='Plot 4 - Annual change in NDVI vs intervention year for seeding units',\n",
    "                 width=900, height=700,\n",
    "                 hover_name=\"SuId\", hover_data=[\"NDVI_delta\", \"Year\"])\n",
    "\n",
    "# Credit\n",
    "fig.add_annotation(text=\"Source: Landsat 8 data from USGS, meteorological data from gridMET\",\n",
    "                   showarrow=False,\n",
    "                   xref=\"paper\", yref=\"paper\",\n",
    "                   x=0.01, y=0.01)\n",
    "\n",
    "fig.update_layout(showlegend=False)\n",
    "fig.show()"
   ]
  },
  {
   "cell_type": "markdown",
   "id": "municipal-junction",
   "metadata": {},
   "source": [
    "### Plot 5 - Mean annual NDVI vs intervention year for the seeding units"
   ]
  },
  {
   "cell_type": "code",
   "execution_count": 95,
   "id": "touched-michigan",
   "metadata": {
    "scrolled": false
   },
   "outputs": [
    {
     "data": {
      "application/vnd.plotly.v1+json": {
       "config": {
        "plotlyServerURL": "https://plot.ly"
       },
       "data": [
        {
         "customdata": [
          [
           0.10224055325797289,
           2017
          ],
          [
           0.11123611514734943,
           2018
          ],
          [
           0.1266910747985498,
           2019
          ],
          [
           0.1619155473515059,
           2020
          ],
          [
           0.16747582828804544,
           2013
          ],
          [
           0.1660722646825619,
           2014
          ],
          [
           0.18650497016020082,
           2015
          ],
          [
           0.2086767277287975,
           2016
          ],
          [
           0.21627117913888982,
           2017
          ],
          [
           0.20970216371542003,
           2018
          ],
          [
           0.2035487403025945,
           2019
          ],
          [
           0.20394496013367627,
           2020
          ],
          [
           0.182523509343257,
           2013
          ],
          [
           0.16929452145653157,
           2014
          ],
          [
           0.16748444890631775,
           2015
          ],
          [
           0.17592624891916375,
           2016
          ],
          [
           0.17482399807234872,
           2017
          ],
          [
           0.16259626690045312,
           2018
          ],
          [
           0.14760382452143198,
           2019
          ],
          [
           0.1506043037169833,
           2020
          ],
          [
           0.14963945188395855,
           2013
          ],
          [
           0.14800170648690852,
           2014
          ],
          [
           0.16344190087751578,
           2015
          ],
          [
           0.18688471410797117,
           2016
          ],
          [
           0.18846117242694052,
           2017
          ],
          [
           0.1747098457124733,
           2018
          ],
          [
           0.16219723186084156,
           2019
          ],
          [
           0.1645522873445485,
           2020
          ],
          [
           0.17412557646609145,
           2013
          ],
          [
           0.1944996981712013,
           2014
          ],
          [
           0.20152427729831668,
           2015
          ],
          [
           0.20115656929655798,
           2016
          ],
          [
           0.2017508589037752,
           2017
          ],
          [
           0.1828263900991488,
           2018
          ],
          [
           0.17726195682686954,
           2019
          ],
          [
           0.17947702541769275,
           2020
          ],
          [
           0.16441978441326224,
           2013
          ],
          [
           0.16625775363574222,
           2014
          ],
          [
           0.17426521999852593,
           2015
          ],
          [
           0.18730928113267367,
           2016
          ],
          [
           0.18478061169693363,
           2017
          ],
          [
           0.16753790425252965,
           2018
          ],
          [
           0.1574533826134125,
           2019
          ],
          [
           0.162848273216611,
           2020
          ],
          [
           0.1609029934355992,
           2013
          ],
          [
           0.15589682765559573,
           2014
          ],
          [
           0.1682857022157828,
           2015
          ],
          [
           0.18466967313740457,
           2016
          ],
          [
           0.17745533776786768,
           2017
          ],
          [
           0.1624064878311721,
           2018
          ],
          [
           0.15496512517212313,
           2019
          ],
          [
           0.16701598115921465,
           2020
          ],
          [
           0.15687436045777822,
           2014
          ],
          [
           0.14936156688670404,
           2015
          ],
          [
           0.15571003576948475,
           2016
          ],
          [
           0.16265863343794462,
           2017
          ],
          [
           0.1526758422185792,
           2018
          ],
          [
           0.14742460001431376,
           2019
          ],
          [
           0.15981662272185482,
           2020
          ],
          [
           0.16318232844759925,
           2014
          ],
          [
           0.1637212615201484,
           2015
          ],
          [
           0.1702309809490238,
           2016
          ],
          [
           0.172316332274532,
           2017
          ],
          [
           0.16112421807808572,
           2018
          ],
          [
           0.1499944688626285,
           2019
          ],
          [
           0.15304160147046947,
           2020
          ],
          [
           0.16040679205173594,
           2014
          ],
          [
           0.17418525914241392,
           2015
          ],
          [
           0.18883869768771896,
           2016
          ],
          [
           0.18887182164906322,
           2017
          ],
          [
           0.1753182372554832,
           2018
          ],
          [
           0.16620707711596408,
           2019
          ],
          [
           0.1710408750668467,
           2020
          ],
          [
           0.1622478155419587,
           2014
          ],
          [
           0.16589678338626,
           2015
          ],
          [
           0.17709300577452625,
           2016
          ],
          [
           0.18357386883625393,
           2017
          ],
          [
           0.16963923927657928,
           2018
          ],
          [
           0.15623256569459573,
           2019
          ],
          [
           0.16285370399732277,
           2020
          ],
          [
           0.15076312157242056,
           2014
          ],
          [
           0.16375434292319002,
           2015
          ],
          [
           0.2006694448196866,
           2016
          ],
          [
           0.22696986619515627,
           2017
          ],
          [
           0.2328398255991945,
           2018
          ],
          [
           0.2317340640043092,
           2019
          ],
          [
           0.23063074591184685,
           2020
          ],
          [
           0.16955692909847028,
           2014
          ],
          [
           0.15500340123267248,
           2015
          ],
          [
           0.16196015311487585,
           2016
          ],
          [
           0.16505002818930134,
           2017
          ],
          [
           0.1530126381626473,
           2018
          ],
          [
           0.14237062172724196,
           2019
          ],
          [
           0.14523449670321883,
           2020
          ],
          [
           0.17024771218830173,
           2014
          ],
          [
           0.18441960858426473,
           2015
          ],
          [
           0.18551082218645812,
           2016
          ],
          [
           0.18927528181459707,
           2017
          ],
          [
           0.17827379156612275,
           2018
          ],
          [
           0.17174789797772316,
           2019
          ],
          [
           0.17841850799631653,
           2020
          ],
          [
           0.1531867318983584,
           2014
          ],
          [
           0.1463012985032871,
           2015
          ],
          [
           0.1519183124760514,
           2016
          ],
          [
           0.15423889543162692,
           2017
          ],
          [
           0.14404982423727297,
           2018
          ],
          [
           0.1342082758037176,
           2019
          ],
          [
           0.1430930185812708,
           2020
          ],
          [
           0.15475712139824613,
           2015
          ],
          [
           0.19304035766163619,
           2016
          ],
          [
           0.22229434054396666,
           2017
          ],
          [
           0.2321064878739055,
           2018
          ],
          [
           0.23003253173326588,
           2019
          ],
          [
           0.22774809154439432,
           2020
          ],
          [
           0.1571921436476437,
           2017
          ],
          [
           0.15657014051152354,
           2018
          ],
          [
           0.15951211532829226,
           2019
          ],
          [
           0.1769446167779124,
           2020
          ],
          [
           0.1626586334379447,
           2017
          ],
          [
           0.1526758422185793,
           2018
          ],
          [
           0.14742460001431382,
           2019
          ],
          [
           0.1598166227218549,
           2020
          ],
          [
           0.11630266041962824,
           2018
          ],
          [
           0.12623289052402145,
           2019
          ],
          [
           0.16301293266966835,
           2020
          ],
          [
           0.17399922430094658,
           2018
          ],
          [
           0.15586262434400525,
           2019
          ],
          [
           0.16452041460213931,
           2020
          ],
          [
           0.15215985402602858,
           2018
          ],
          [
           0.14272674355569578,
           2019
          ],
          [
           0.15255405956457754,
           2020
          ],
          [
           0.1757895688572997,
           2018
          ],
          [
           0.16972823693526126,
           2019
          ],
          [
           0.17299794099917884,
           2020
          ],
          [
           0.16853134599701056,
           2018
          ],
          [
           0.16411990130024198,
           2019
          ],
          [
           0.16685457055104,
           2020
          ],
          [
           0.17259349150204714,
           2018
          ],
          [
           0.1685704113282844,
           2019
          ],
          [
           0.1738935644972717,
           2020
          ],
          [
           0.21273968451152914,
           2018
          ],
          [
           0.13122947055780193,
           2019
          ],
          [
           0.15274627073542532,
           2020
          ],
          [
           0.12969744184395565,
           2019
          ],
          [
           0.1362882108896761,
           2020
          ],
          [
           0.13825596965337025,
           2019
          ],
          [
           0.14899237868401127,
           2020
          ],
          [
           0.12974246189514546,
           2019
          ],
          [
           0.13537446722692167,
           2020
          ],
          [
           0.14099903063440494,
           2019
          ],
          [
           0.1499899394894335,
           2020
          ],
          [
           0.14749466683749468,
           2019
          ],
          [
           0.15043033604355943,
           2020
          ],
          [
           0.1503603383234315,
           2019
          ],
          [
           0.15165408397296873,
           2020
          ],
          [
           0.16291803300058919,
           2019
          ],
          [
           0.1637183193236064,
           2020
          ],
          [
           0.1507386428837813,
           2019
          ],
          [
           0.15106734349057824,
           2020
          ],
          [
           0.14813235785792125,
           2019
          ],
          [
           0.14556359695610735,
           2020
          ],
          [
           0.14441410482997663,
           2019
          ],
          [
           0.14350743488497467,
           2020
          ],
          [
           0.15030618186352104,
           2019
          ],
          [
           0.15214109501335696,
           2020
          ],
          [
           0.20623073958870575,
           2019
          ],
          [
           0.21796095460429485,
           2020
          ],
          [
           0.15567889453571596,
           2019
          ],
          [
           0.16496693783119545,
           2020
          ],
          [
           0.16285067499379743,
           2019
          ],
          [
           0.16408988746599143,
           2020
          ],
          [
           0.1695683411239998,
           2019
          ],
          [
           0.16413376264408006,
           2020
          ],
          [
           0.1583616170977655,
           2019
          ],
          [
           0.15626014600432286,
           2020
          ],
          [
           0.15645268141577362,
           2019
          ],
          [
           0.15570115876836974,
           2020
          ]
         ],
         "hovertemplate": "<b>%{hovertext}</b><br><br>Intervention Year=%{x}<br>Smoothed NDVI=%{customdata[0]}<br>Year=%{customdata[1]}<extra></extra>",
         "hovertext": [
          172,
          172,
          172,
          172,
          816,
          816,
          816,
          816,
          816,
          816,
          816,
          816,
          913,
          913,
          913,
          913,
          913,
          913,
          913,
          913,
          916,
          916,
          916,
          916,
          916,
          916,
          916,
          916,
          1265,
          1265,
          1265,
          1265,
          1265,
          1265,
          1265,
          1265,
          1314,
          1314,
          1314,
          1314,
          1314,
          1314,
          1314,
          1314,
          1319,
          1319,
          1319,
          1319,
          1319,
          1319,
          1319,
          1319,
          1558,
          1558,
          1558,
          1558,
          1558,
          1558,
          1558,
          1588,
          1588,
          1588,
          1588,
          1588,
          1588,
          1588,
          1589,
          1589,
          1589,
          1589,
          1589,
          1589,
          1589,
          1590,
          1590,
          1590,
          1590,
          1590,
          1590,
          1590,
          1594,
          1594,
          1594,
          1594,
          1594,
          1594,
          1594,
          1601,
          1601,
          1601,
          1601,
          1601,
          1601,
          1601,
          1608,
          1608,
          1608,
          1608,
          1608,
          1608,
          1608,
          1655,
          1655,
          1655,
          1655,
          1655,
          1655,
          1655,
          2335,
          2335,
          2335,
          2335,
          2335,
          2335,
          2569,
          2569,
          2569,
          2569,
          2577,
          2577,
          2577,
          2577,
          2581,
          2581,
          2581,
          2586,
          2586,
          2586,
          2587,
          2587,
          2587,
          2599,
          2599,
          2599,
          2600,
          2600,
          2600,
          2601,
          2601,
          2601,
          2604,
          2604,
          2604,
          2609,
          2609,
          2614,
          2614,
          2615,
          2615,
          2620,
          2620,
          2621,
          2621,
          2622,
          2622,
          2623,
          2623,
          2624,
          2624,
          2626,
          2626,
          2627,
          2627,
          2628,
          2628,
          2633,
          2633,
          2634,
          2634,
          2645,
          2645,
          2646,
          2646,
          2648,
          2648,
          2650,
          2650
         ],
         "legendgroup": "",
         "marker": {
          "color": "rgb(76,114,176)",
          "symbol": "circle"
         },
         "mode": "markers",
         "name": "",
         "showlegend": false,
         "type": "scatter",
         "x": [
          0,
          1,
          2,
          3,
          0,
          1,
          2,
          3,
          4,
          5,
          6,
          7,
          0,
          1,
          2,
          3,
          4,
          5,
          6,
          7,
          0,
          1,
          2,
          3,
          4,
          5,
          6,
          7,
          0,
          1,
          2,
          3,
          4,
          5,
          6,
          7,
          0,
          1,
          2,
          3,
          4,
          5,
          6,
          7,
          0,
          1,
          2,
          3,
          4,
          5,
          6,
          7,
          0,
          1,
          2,
          3,
          4,
          5,
          6,
          0,
          1,
          2,
          3,
          4,
          5,
          6,
          0,
          1,
          2,
          3,
          4,
          5,
          6,
          0,
          1,
          2,
          3,
          4,
          5,
          6,
          0,
          1,
          2,
          3,
          4,
          5,
          6,
          0,
          1,
          2,
          3,
          4,
          5,
          6,
          0,
          1,
          2,
          3,
          4,
          5,
          6,
          0,
          1,
          2,
          3,
          4,
          5,
          6,
          0,
          1,
          2,
          3,
          4,
          5,
          0,
          1,
          2,
          3,
          0,
          1,
          2,
          3,
          0,
          1,
          2,
          0,
          1,
          2,
          0,
          1,
          2,
          0,
          1,
          2,
          0,
          1,
          2,
          0,
          1,
          2,
          0,
          1,
          2,
          0,
          1,
          0,
          1,
          0,
          1,
          0,
          1,
          0,
          1,
          0,
          1,
          0,
          1,
          0,
          1,
          0,
          1,
          0,
          1,
          0,
          1,
          0,
          1,
          0,
          1,
          0,
          1,
          0,
          1,
          0,
          1,
          0,
          1
         ],
         "xaxis": "x",
         "y": [
          0.10224055325797289,
          0.11123611514734943,
          0.1266910747985498,
          0.1619155473515059,
          0.16747582828804544,
          0.1660722646825619,
          0.18650497016020082,
          0.2086767277287975,
          0.21627117913888982,
          0.20970216371542003,
          0.2035487403025945,
          0.20394496013367627,
          0.182523509343257,
          0.16929452145653157,
          0.16748444890631775,
          0.17592624891916375,
          0.17482399807234872,
          0.16259626690045312,
          0.14760382452143198,
          0.1506043037169833,
          0.14963945188395855,
          0.14800170648690852,
          0.16344190087751578,
          0.18688471410797117,
          0.18846117242694052,
          0.1747098457124733,
          0.16219723186084156,
          0.1645522873445485,
          0.17412557646609145,
          0.1944996981712013,
          0.20152427729831668,
          0.20115656929655798,
          0.2017508589037752,
          0.1828263900991488,
          0.17726195682686954,
          0.17947702541769275,
          0.16441978441326224,
          0.16625775363574222,
          0.17426521999852593,
          0.18730928113267367,
          0.18478061169693363,
          0.16753790425252965,
          0.1574533826134125,
          0.162848273216611,
          0.1609029934355992,
          0.15589682765559573,
          0.1682857022157828,
          0.18466967313740457,
          0.17745533776786768,
          0.1624064878311721,
          0.15496512517212313,
          0.16701598115921465,
          0.15687436045777822,
          0.14936156688670404,
          0.15571003576948475,
          0.16265863343794462,
          0.1526758422185792,
          0.14742460001431376,
          0.15981662272185482,
          0.16318232844759925,
          0.1637212615201484,
          0.1702309809490238,
          0.172316332274532,
          0.16112421807808572,
          0.1499944688626285,
          0.15304160147046947,
          0.16040679205173594,
          0.17418525914241392,
          0.18883869768771896,
          0.18887182164906322,
          0.1753182372554832,
          0.16620707711596408,
          0.1710408750668467,
          0.1622478155419587,
          0.16589678338626,
          0.17709300577452625,
          0.18357386883625393,
          0.16963923927657928,
          0.15623256569459573,
          0.16285370399732277,
          0.15076312157242056,
          0.16375434292319002,
          0.2006694448196866,
          0.22696986619515627,
          0.2328398255991945,
          0.2317340640043092,
          0.23063074591184685,
          0.16955692909847028,
          0.15500340123267248,
          0.16196015311487585,
          0.16505002818930134,
          0.1530126381626473,
          0.14237062172724196,
          0.14523449670321883,
          0.17024771218830173,
          0.18441960858426473,
          0.18551082218645812,
          0.18927528181459707,
          0.17827379156612275,
          0.17174789797772316,
          0.17841850799631653,
          0.1531867318983584,
          0.1463012985032871,
          0.1519183124760514,
          0.15423889543162692,
          0.14404982423727297,
          0.1342082758037176,
          0.1430930185812708,
          0.15475712139824613,
          0.19304035766163619,
          0.22229434054396666,
          0.2321064878739055,
          0.23003253173326588,
          0.22774809154439432,
          0.1571921436476437,
          0.15657014051152354,
          0.15951211532829226,
          0.1769446167779124,
          0.1626586334379447,
          0.1526758422185793,
          0.14742460001431382,
          0.1598166227218549,
          0.11630266041962824,
          0.12623289052402145,
          0.16301293266966835,
          0.17399922430094658,
          0.15586262434400525,
          0.16452041460213931,
          0.15215985402602858,
          0.14272674355569578,
          0.15255405956457754,
          0.1757895688572997,
          0.16972823693526126,
          0.17299794099917884,
          0.16853134599701056,
          0.16411990130024198,
          0.16685457055104,
          0.17259349150204714,
          0.1685704113282844,
          0.1738935644972717,
          0.21273968451152914,
          0.13122947055780193,
          0.15274627073542532,
          0.12969744184395565,
          0.1362882108896761,
          0.13825596965337025,
          0.14899237868401127,
          0.12974246189514546,
          0.13537446722692167,
          0.14099903063440494,
          0.1499899394894335,
          0.14749466683749468,
          0.15043033604355943,
          0.1503603383234315,
          0.15165408397296873,
          0.16291803300058919,
          0.1637183193236064,
          0.1507386428837813,
          0.15106734349057824,
          0.14813235785792125,
          0.14556359695610735,
          0.14441410482997663,
          0.14350743488497467,
          0.15030618186352104,
          0.15214109501335696,
          0.20623073958870575,
          0.21796095460429485,
          0.15567889453571596,
          0.16496693783119545,
          0.16285067499379743,
          0.16408988746599143,
          0.1695683411239998,
          0.16413376264408006,
          0.1583616170977655,
          0.15626014600432286,
          0.15645268141577362,
          0.15570115876836974
         ],
         "yaxis": "y"
        }
       ],
       "layout": {
        "annotations": [
         {
          "showarrow": false,
          "text": "Source: Landsat 8 data from USGS, meteorological data from gridMET",
          "x": 0.01,
          "xref": "paper",
          "y": 0.01,
          "yref": "paper"
         }
        ],
        "height": 700,
        "legend": {
         "tracegroupgap": 0
        },
        "showlegend": false,
        "template": {
         "data": {
          "bar": [
           {
            "error_x": {
             "color": "rgb(36,36,36)"
            },
            "error_y": {
             "color": "rgb(36,36,36)"
            },
            "marker": {
             "line": {
              "color": "rgb(234,234,242)",
              "width": 0.5
             }
            },
            "type": "bar"
           }
          ],
          "barpolar": [
           {
            "marker": {
             "line": {
              "color": "rgb(234,234,242)",
              "width": 0.5
             }
            },
            "type": "barpolar"
           }
          ],
          "carpet": [
           {
            "aaxis": {
             "endlinecolor": "rgb(36,36,36)",
             "gridcolor": "white",
             "linecolor": "white",
             "minorgridcolor": "white",
             "startlinecolor": "rgb(36,36,36)"
            },
            "baxis": {
             "endlinecolor": "rgb(36,36,36)",
             "gridcolor": "white",
             "linecolor": "white",
             "minorgridcolor": "white",
             "startlinecolor": "rgb(36,36,36)"
            },
            "type": "carpet"
           }
          ],
          "choropleth": [
           {
            "colorbar": {
             "outlinewidth": 0,
             "tickcolor": "rgb(36,36,36)",
             "ticklen": 8,
             "ticks": "outside",
             "tickwidth": 2
            },
            "type": "choropleth"
           }
          ],
          "contour": [
           {
            "colorbar": {
             "outlinewidth": 0,
             "tickcolor": "rgb(36,36,36)",
             "ticklen": 8,
             "ticks": "outside",
             "tickwidth": 2
            },
            "colorscale": [
             [
              0,
              "rgb(2,4,25)"
             ],
             [
              0.06274509803921569,
              "rgb(24,15,41)"
             ],
             [
              0.12549019607843137,
              "rgb(47,23,57)"
             ],
             [
              0.18823529411764706,
              "rgb(71,28,72)"
             ],
             [
              0.25098039215686274,
              "rgb(97,30,82)"
             ],
             [
              0.3137254901960784,
              "rgb(123,30,89)"
             ],
             [
              0.3764705882352941,
              "rgb(150,27,91)"
             ],
             [
              0.4392156862745098,
              "rgb(177,22,88)"
             ],
             [
              0.5019607843137255,
              "rgb(203,26,79)"
             ],
             [
              0.5647058823529412,
              "rgb(223,47,67)"
             ],
             [
              0.6274509803921569,
              "rgb(236,76,61)"
             ],
             [
              0.6901960784313725,
              "rgb(242,107,73)"
             ],
             [
              0.7529411764705882,
              "rgb(244,135,95)"
             ],
             [
              0.8156862745098039,
              "rgb(245,162,122)"
             ],
             [
              0.8784313725490196,
              "rgb(246,188,153)"
             ],
             [
              0.9411764705882353,
              "rgb(247,212,187)"
             ],
             [
              1,
              "rgb(250,234,220)"
             ]
            ],
            "type": "contour"
           }
          ],
          "contourcarpet": [
           {
            "colorbar": {
             "outlinewidth": 0,
             "tickcolor": "rgb(36,36,36)",
             "ticklen": 8,
             "ticks": "outside",
             "tickwidth": 2
            },
            "type": "contourcarpet"
           }
          ],
          "heatmap": [
           {
            "colorbar": {
             "outlinewidth": 0,
             "tickcolor": "rgb(36,36,36)",
             "ticklen": 8,
             "ticks": "outside",
             "tickwidth": 2
            },
            "colorscale": [
             [
              0,
              "rgb(2,4,25)"
             ],
             [
              0.06274509803921569,
              "rgb(24,15,41)"
             ],
             [
              0.12549019607843137,
              "rgb(47,23,57)"
             ],
             [
              0.18823529411764706,
              "rgb(71,28,72)"
             ],
             [
              0.25098039215686274,
              "rgb(97,30,82)"
             ],
             [
              0.3137254901960784,
              "rgb(123,30,89)"
             ],
             [
              0.3764705882352941,
              "rgb(150,27,91)"
             ],
             [
              0.4392156862745098,
              "rgb(177,22,88)"
             ],
             [
              0.5019607843137255,
              "rgb(203,26,79)"
             ],
             [
              0.5647058823529412,
              "rgb(223,47,67)"
             ],
             [
              0.6274509803921569,
              "rgb(236,76,61)"
             ],
             [
              0.6901960784313725,
              "rgb(242,107,73)"
             ],
             [
              0.7529411764705882,
              "rgb(244,135,95)"
             ],
             [
              0.8156862745098039,
              "rgb(245,162,122)"
             ],
             [
              0.8784313725490196,
              "rgb(246,188,153)"
             ],
             [
              0.9411764705882353,
              "rgb(247,212,187)"
             ],
             [
              1,
              "rgb(250,234,220)"
             ]
            ],
            "type": "heatmap"
           }
          ],
          "heatmapgl": [
           {
            "colorbar": {
             "outlinewidth": 0,
             "tickcolor": "rgb(36,36,36)",
             "ticklen": 8,
             "ticks": "outside",
             "tickwidth": 2
            },
            "colorscale": [
             [
              0,
              "rgb(2,4,25)"
             ],
             [
              0.06274509803921569,
              "rgb(24,15,41)"
             ],
             [
              0.12549019607843137,
              "rgb(47,23,57)"
             ],
             [
              0.18823529411764706,
              "rgb(71,28,72)"
             ],
             [
              0.25098039215686274,
              "rgb(97,30,82)"
             ],
             [
              0.3137254901960784,
              "rgb(123,30,89)"
             ],
             [
              0.3764705882352941,
              "rgb(150,27,91)"
             ],
             [
              0.4392156862745098,
              "rgb(177,22,88)"
             ],
             [
              0.5019607843137255,
              "rgb(203,26,79)"
             ],
             [
              0.5647058823529412,
              "rgb(223,47,67)"
             ],
             [
              0.6274509803921569,
              "rgb(236,76,61)"
             ],
             [
              0.6901960784313725,
              "rgb(242,107,73)"
             ],
             [
              0.7529411764705882,
              "rgb(244,135,95)"
             ],
             [
              0.8156862745098039,
              "rgb(245,162,122)"
             ],
             [
              0.8784313725490196,
              "rgb(246,188,153)"
             ],
             [
              0.9411764705882353,
              "rgb(247,212,187)"
             ],
             [
              1,
              "rgb(250,234,220)"
             ]
            ],
            "type": "heatmapgl"
           }
          ],
          "histogram": [
           {
            "marker": {
             "colorbar": {
              "outlinewidth": 0,
              "tickcolor": "rgb(36,36,36)",
              "ticklen": 8,
              "ticks": "outside",
              "tickwidth": 2
             }
            },
            "type": "histogram"
           }
          ],
          "histogram2d": [
           {
            "colorbar": {
             "outlinewidth": 0,
             "tickcolor": "rgb(36,36,36)",
             "ticklen": 8,
             "ticks": "outside",
             "tickwidth": 2
            },
            "colorscale": [
             [
              0,
              "rgb(2,4,25)"
             ],
             [
              0.06274509803921569,
              "rgb(24,15,41)"
             ],
             [
              0.12549019607843137,
              "rgb(47,23,57)"
             ],
             [
              0.18823529411764706,
              "rgb(71,28,72)"
             ],
             [
              0.25098039215686274,
              "rgb(97,30,82)"
             ],
             [
              0.3137254901960784,
              "rgb(123,30,89)"
             ],
             [
              0.3764705882352941,
              "rgb(150,27,91)"
             ],
             [
              0.4392156862745098,
              "rgb(177,22,88)"
             ],
             [
              0.5019607843137255,
              "rgb(203,26,79)"
             ],
             [
              0.5647058823529412,
              "rgb(223,47,67)"
             ],
             [
              0.6274509803921569,
              "rgb(236,76,61)"
             ],
             [
              0.6901960784313725,
              "rgb(242,107,73)"
             ],
             [
              0.7529411764705882,
              "rgb(244,135,95)"
             ],
             [
              0.8156862745098039,
              "rgb(245,162,122)"
             ],
             [
              0.8784313725490196,
              "rgb(246,188,153)"
             ],
             [
              0.9411764705882353,
              "rgb(247,212,187)"
             ],
             [
              1,
              "rgb(250,234,220)"
             ]
            ],
            "type": "histogram2d"
           }
          ],
          "histogram2dcontour": [
           {
            "colorbar": {
             "outlinewidth": 0,
             "tickcolor": "rgb(36,36,36)",
             "ticklen": 8,
             "ticks": "outside",
             "tickwidth": 2
            },
            "colorscale": [
             [
              0,
              "rgb(2,4,25)"
             ],
             [
              0.06274509803921569,
              "rgb(24,15,41)"
             ],
             [
              0.12549019607843137,
              "rgb(47,23,57)"
             ],
             [
              0.18823529411764706,
              "rgb(71,28,72)"
             ],
             [
              0.25098039215686274,
              "rgb(97,30,82)"
             ],
             [
              0.3137254901960784,
              "rgb(123,30,89)"
             ],
             [
              0.3764705882352941,
              "rgb(150,27,91)"
             ],
             [
              0.4392156862745098,
              "rgb(177,22,88)"
             ],
             [
              0.5019607843137255,
              "rgb(203,26,79)"
             ],
             [
              0.5647058823529412,
              "rgb(223,47,67)"
             ],
             [
              0.6274509803921569,
              "rgb(236,76,61)"
             ],
             [
              0.6901960784313725,
              "rgb(242,107,73)"
             ],
             [
              0.7529411764705882,
              "rgb(244,135,95)"
             ],
             [
              0.8156862745098039,
              "rgb(245,162,122)"
             ],
             [
              0.8784313725490196,
              "rgb(246,188,153)"
             ],
             [
              0.9411764705882353,
              "rgb(247,212,187)"
             ],
             [
              1,
              "rgb(250,234,220)"
             ]
            ],
            "type": "histogram2dcontour"
           }
          ],
          "mesh3d": [
           {
            "colorbar": {
             "outlinewidth": 0,
             "tickcolor": "rgb(36,36,36)",
             "ticklen": 8,
             "ticks": "outside",
             "tickwidth": 2
            },
            "type": "mesh3d"
           }
          ],
          "parcoords": [
           {
            "line": {
             "colorbar": {
              "outlinewidth": 0,
              "tickcolor": "rgb(36,36,36)",
              "ticklen": 8,
              "ticks": "outside",
              "tickwidth": 2
             }
            },
            "type": "parcoords"
           }
          ],
          "pie": [
           {
            "automargin": true,
            "type": "pie"
           }
          ],
          "scatter": [
           {
            "marker": {
             "colorbar": {
              "outlinewidth": 0,
              "tickcolor": "rgb(36,36,36)",
              "ticklen": 8,
              "ticks": "outside",
              "tickwidth": 2
             }
            },
            "type": "scatter"
           }
          ],
          "scatter3d": [
           {
            "line": {
             "colorbar": {
              "outlinewidth": 0,
              "tickcolor": "rgb(36,36,36)",
              "ticklen": 8,
              "ticks": "outside",
              "tickwidth": 2
             }
            },
            "marker": {
             "colorbar": {
              "outlinewidth": 0,
              "tickcolor": "rgb(36,36,36)",
              "ticklen": 8,
              "ticks": "outside",
              "tickwidth": 2
             }
            },
            "type": "scatter3d"
           }
          ],
          "scattercarpet": [
           {
            "marker": {
             "colorbar": {
              "outlinewidth": 0,
              "tickcolor": "rgb(36,36,36)",
              "ticklen": 8,
              "ticks": "outside",
              "tickwidth": 2
             }
            },
            "type": "scattercarpet"
           }
          ],
          "scattergeo": [
           {
            "marker": {
             "colorbar": {
              "outlinewidth": 0,
              "tickcolor": "rgb(36,36,36)",
              "ticklen": 8,
              "ticks": "outside",
              "tickwidth": 2
             }
            },
            "type": "scattergeo"
           }
          ],
          "scattergl": [
           {
            "marker": {
             "colorbar": {
              "outlinewidth": 0,
              "tickcolor": "rgb(36,36,36)",
              "ticklen": 8,
              "ticks": "outside",
              "tickwidth": 2
             }
            },
            "type": "scattergl"
           }
          ],
          "scattermapbox": [
           {
            "marker": {
             "colorbar": {
              "outlinewidth": 0,
              "tickcolor": "rgb(36,36,36)",
              "ticklen": 8,
              "ticks": "outside",
              "tickwidth": 2
             }
            },
            "type": "scattermapbox"
           }
          ],
          "scatterpolar": [
           {
            "marker": {
             "colorbar": {
              "outlinewidth": 0,
              "tickcolor": "rgb(36,36,36)",
              "ticklen": 8,
              "ticks": "outside",
              "tickwidth": 2
             }
            },
            "type": "scatterpolar"
           }
          ],
          "scatterpolargl": [
           {
            "marker": {
             "colorbar": {
              "outlinewidth": 0,
              "tickcolor": "rgb(36,36,36)",
              "ticklen": 8,
              "ticks": "outside",
              "tickwidth": 2
             }
            },
            "type": "scatterpolargl"
           }
          ],
          "scatterternary": [
           {
            "marker": {
             "colorbar": {
              "outlinewidth": 0,
              "tickcolor": "rgb(36,36,36)",
              "ticklen": 8,
              "ticks": "outside",
              "tickwidth": 2
             }
            },
            "type": "scatterternary"
           }
          ],
          "surface": [
           {
            "colorbar": {
             "outlinewidth": 0,
             "tickcolor": "rgb(36,36,36)",
             "ticklen": 8,
             "ticks": "outside",
             "tickwidth": 2
            },
            "colorscale": [
             [
              0,
              "rgb(2,4,25)"
             ],
             [
              0.06274509803921569,
              "rgb(24,15,41)"
             ],
             [
              0.12549019607843137,
              "rgb(47,23,57)"
             ],
             [
              0.18823529411764706,
              "rgb(71,28,72)"
             ],
             [
              0.25098039215686274,
              "rgb(97,30,82)"
             ],
             [
              0.3137254901960784,
              "rgb(123,30,89)"
             ],
             [
              0.3764705882352941,
              "rgb(150,27,91)"
             ],
             [
              0.4392156862745098,
              "rgb(177,22,88)"
             ],
             [
              0.5019607843137255,
              "rgb(203,26,79)"
             ],
             [
              0.5647058823529412,
              "rgb(223,47,67)"
             ],
             [
              0.6274509803921569,
              "rgb(236,76,61)"
             ],
             [
              0.6901960784313725,
              "rgb(242,107,73)"
             ],
             [
              0.7529411764705882,
              "rgb(244,135,95)"
             ],
             [
              0.8156862745098039,
              "rgb(245,162,122)"
             ],
             [
              0.8784313725490196,
              "rgb(246,188,153)"
             ],
             [
              0.9411764705882353,
              "rgb(247,212,187)"
             ],
             [
              1,
              "rgb(250,234,220)"
             ]
            ],
            "type": "surface"
           }
          ],
          "table": [
           {
            "cells": {
             "fill": {
              "color": "rgb(231,231,240)"
             },
             "line": {
              "color": "white"
             }
            },
            "header": {
             "fill": {
              "color": "rgb(183,183,191)"
             },
             "line": {
              "color": "white"
             }
            },
            "type": "table"
           }
          ]
         },
         "layout": {
          "annotationdefaults": {
           "arrowcolor": "rgb(67,103,167)"
          },
          "coloraxis": {
           "colorbar": {
            "outlinewidth": 0,
            "tickcolor": "rgb(36,36,36)",
            "ticklen": 8,
            "ticks": "outside",
            "tickwidth": 2
           }
          },
          "colorscale": {
           "sequential": [
            [
             0,
             "rgb(2,4,25)"
            ],
            [
             0.06274509803921569,
             "rgb(24,15,41)"
            ],
            [
             0.12549019607843137,
             "rgb(47,23,57)"
            ],
            [
             0.18823529411764706,
             "rgb(71,28,72)"
            ],
            [
             0.25098039215686274,
             "rgb(97,30,82)"
            ],
            [
             0.3137254901960784,
             "rgb(123,30,89)"
            ],
            [
             0.3764705882352941,
             "rgb(150,27,91)"
            ],
            [
             0.4392156862745098,
             "rgb(177,22,88)"
            ],
            [
             0.5019607843137255,
             "rgb(203,26,79)"
            ],
            [
             0.5647058823529412,
             "rgb(223,47,67)"
            ],
            [
             0.6274509803921569,
             "rgb(236,76,61)"
            ],
            [
             0.6901960784313725,
             "rgb(242,107,73)"
            ],
            [
             0.7529411764705882,
             "rgb(244,135,95)"
            ],
            [
             0.8156862745098039,
             "rgb(245,162,122)"
            ],
            [
             0.8784313725490196,
             "rgb(246,188,153)"
            ],
            [
             0.9411764705882353,
             "rgb(247,212,187)"
            ],
            [
             1,
             "rgb(250,234,220)"
            ]
           ],
           "sequentialminus": [
            [
             0,
             "rgb(2,4,25)"
            ],
            [
             0.06274509803921569,
             "rgb(24,15,41)"
            ],
            [
             0.12549019607843137,
             "rgb(47,23,57)"
            ],
            [
             0.18823529411764706,
             "rgb(71,28,72)"
            ],
            [
             0.25098039215686274,
             "rgb(97,30,82)"
            ],
            [
             0.3137254901960784,
             "rgb(123,30,89)"
            ],
            [
             0.3764705882352941,
             "rgb(150,27,91)"
            ],
            [
             0.4392156862745098,
             "rgb(177,22,88)"
            ],
            [
             0.5019607843137255,
             "rgb(203,26,79)"
            ],
            [
             0.5647058823529412,
             "rgb(223,47,67)"
            ],
            [
             0.6274509803921569,
             "rgb(236,76,61)"
            ],
            [
             0.6901960784313725,
             "rgb(242,107,73)"
            ],
            [
             0.7529411764705882,
             "rgb(244,135,95)"
            ],
            [
             0.8156862745098039,
             "rgb(245,162,122)"
            ],
            [
             0.8784313725490196,
             "rgb(246,188,153)"
            ],
            [
             0.9411764705882353,
             "rgb(247,212,187)"
            ],
            [
             1,
             "rgb(250,234,220)"
            ]
           ]
          },
          "colorway": [
           "rgb(76,114,176)",
           "rgb(221,132,82)",
           "rgb(85,168,104)",
           "rgb(196,78,82)",
           "rgb(129,114,179)",
           "rgb(147,120,96)",
           "rgb(218,139,195)",
           "rgb(140,140,140)",
           "rgb(204,185,116)",
           "rgb(100,181,205)"
          ],
          "font": {
           "color": "rgb(36,36,36)"
          },
          "geo": {
           "bgcolor": "white",
           "lakecolor": "white",
           "landcolor": "rgb(234,234,242)",
           "showlakes": true,
           "showland": true,
           "subunitcolor": "white"
          },
          "hoverlabel": {
           "align": "left"
          },
          "hovermode": "closest",
          "paper_bgcolor": "white",
          "plot_bgcolor": "rgb(234,234,242)",
          "polar": {
           "angularaxis": {
            "gridcolor": "white",
            "linecolor": "white",
            "showgrid": true,
            "ticks": ""
           },
           "bgcolor": "rgb(234,234,242)",
           "radialaxis": {
            "gridcolor": "white",
            "linecolor": "white",
            "showgrid": true,
            "ticks": ""
           }
          },
          "scene": {
           "xaxis": {
            "backgroundcolor": "rgb(234,234,242)",
            "gridcolor": "white",
            "gridwidth": 2,
            "linecolor": "white",
            "showbackground": true,
            "showgrid": true,
            "ticks": "",
            "zerolinecolor": "white"
           },
           "yaxis": {
            "backgroundcolor": "rgb(234,234,242)",
            "gridcolor": "white",
            "gridwidth": 2,
            "linecolor": "white",
            "showbackground": true,
            "showgrid": true,
            "ticks": "",
            "zerolinecolor": "white"
           },
           "zaxis": {
            "backgroundcolor": "rgb(234,234,242)",
            "gridcolor": "white",
            "gridwidth": 2,
            "linecolor": "white",
            "showbackground": true,
            "showgrid": true,
            "ticks": "",
            "zerolinecolor": "white"
           }
          },
          "shapedefaults": {
           "fillcolor": "rgb(67,103,167)",
           "line": {
            "width": 0
           },
           "opacity": 0.5
          },
          "ternary": {
           "aaxis": {
            "gridcolor": "white",
            "linecolor": "white",
            "showgrid": true,
            "ticks": ""
           },
           "baxis": {
            "gridcolor": "white",
            "linecolor": "white",
            "showgrid": true,
            "ticks": ""
           },
           "bgcolor": "rgb(234,234,242)",
           "caxis": {
            "gridcolor": "white",
            "linecolor": "white",
            "showgrid": true,
            "ticks": ""
           }
          },
          "xaxis": {
           "automargin": true,
           "gridcolor": "white",
           "linecolor": "white",
           "showgrid": true,
           "ticks": "",
           "title": {
            "standoff": 15
           },
           "zerolinecolor": "white"
          },
          "yaxis": {
           "automargin": true,
           "gridcolor": "white",
           "linecolor": "white",
           "showgrid": true,
           "ticks": "",
           "title": {
            "standoff": 15
           },
           "zerolinecolor": "white"
          }
         }
        },
        "title": {
         "text": "Plot 5 - Mean annual NDVI vs intervention year for the seeding units"
        },
        "width": 900,
        "xaxis": {
         "anchor": "y",
         "domain": [
          0,
          1
         ],
         "title": {
          "text": "Intervention Year"
         }
        },
        "yaxis": {
         "anchor": "x",
         "domain": [
          0,
          1
         ],
         "title": {
          "text": "Smoothed NDVI"
         }
        }
       }
      },
      "text/html": [
       "<div>\n",
       "        \n",
       "        \n",
       "            <div id=\"8a5bbc67-dda8-41d9-822f-f922a027baa7\" class=\"plotly-graph-div\" style=\"height:700px; width:900px;\"></div>\n",
       "            <script type=\"text/javascript\">\n",
       "                require([\"plotly\"], function(Plotly) {\n",
       "                    window.PLOTLYENV=window.PLOTLYENV || {};\n",
       "                    \n",
       "                if (document.getElementById(\"8a5bbc67-dda8-41d9-822f-f922a027baa7\")) {\n",
       "                    Plotly.newPlot(\n",
       "                        '8a5bbc67-dda8-41d9-822f-f922a027baa7',\n",
       "                        [{\"customdata\": [[0.10224055325797289, 2017.0], [0.11123611514734943, 2018.0], [0.1266910747985498, 2019.0], [0.1619155473515059, 2020.0], [0.16747582828804544, 2013.0], [0.1660722646825619, 2014.0], [0.18650497016020082, 2015.0], [0.2086767277287975, 2016.0], [0.21627117913888982, 2017.0], [0.20970216371542003, 2018.0], [0.2035487403025945, 2019.0], [0.20394496013367627, 2020.0], [0.182523509343257, 2013.0], [0.16929452145653157, 2014.0], [0.16748444890631775, 2015.0], [0.17592624891916375, 2016.0], [0.17482399807234872, 2017.0], [0.16259626690045312, 2018.0], [0.14760382452143198, 2019.0], [0.1506043037169833, 2020.0], [0.14963945188395855, 2013.0], [0.14800170648690852, 2014.0], [0.16344190087751578, 2015.0], [0.18688471410797117, 2016.0], [0.18846117242694052, 2017.0], [0.1747098457124733, 2018.0], [0.16219723186084156, 2019.0], [0.1645522873445485, 2020.0], [0.17412557646609145, 2013.0], [0.1944996981712013, 2014.0], [0.20152427729831668, 2015.0], [0.20115656929655798, 2016.0], [0.2017508589037752, 2017.0], [0.1828263900991488, 2018.0], [0.17726195682686954, 2019.0], [0.17947702541769275, 2020.0], [0.16441978441326224, 2013.0], [0.16625775363574222, 2014.0], [0.17426521999852593, 2015.0], [0.18730928113267367, 2016.0], [0.18478061169693363, 2017.0], [0.16753790425252965, 2018.0], [0.1574533826134125, 2019.0], [0.162848273216611, 2020.0], [0.1609029934355992, 2013.0], [0.15589682765559573, 2014.0], [0.1682857022157828, 2015.0], [0.18466967313740457, 2016.0], [0.17745533776786768, 2017.0], [0.1624064878311721, 2018.0], [0.15496512517212313, 2019.0], [0.16701598115921465, 2020.0], [0.15687436045777822, 2014.0], [0.14936156688670404, 2015.0], [0.15571003576948475, 2016.0], [0.16265863343794462, 2017.0], [0.1526758422185792, 2018.0], [0.14742460001431376, 2019.0], [0.15981662272185482, 2020.0], [0.16318232844759925, 2014.0], [0.1637212615201484, 2015.0], [0.1702309809490238, 2016.0], [0.172316332274532, 2017.0], [0.16112421807808572, 2018.0], [0.1499944688626285, 2019.0], [0.15304160147046947, 2020.0], [0.16040679205173594, 2014.0], [0.17418525914241392, 2015.0], [0.18883869768771896, 2016.0], [0.18887182164906322, 2017.0], [0.1753182372554832, 2018.0], [0.16620707711596408, 2019.0], [0.1710408750668467, 2020.0], [0.1622478155419587, 2014.0], [0.16589678338626, 2015.0], [0.17709300577452625, 2016.0], [0.18357386883625393, 2017.0], [0.16963923927657928, 2018.0], [0.15623256569459573, 2019.0], [0.16285370399732277, 2020.0], [0.15076312157242056, 2014.0], [0.16375434292319002, 2015.0], [0.2006694448196866, 2016.0], [0.22696986619515627, 2017.0], [0.2328398255991945, 2018.0], [0.2317340640043092, 2019.0], [0.23063074591184685, 2020.0], [0.16955692909847028, 2014.0], [0.15500340123267248, 2015.0], [0.16196015311487585, 2016.0], [0.16505002818930134, 2017.0], [0.1530126381626473, 2018.0], [0.14237062172724196, 2019.0], [0.14523449670321883, 2020.0], [0.17024771218830173, 2014.0], [0.18441960858426473, 2015.0], [0.18551082218645812, 2016.0], [0.18927528181459707, 2017.0], [0.17827379156612275, 2018.0], [0.17174789797772316, 2019.0], [0.17841850799631653, 2020.0], [0.1531867318983584, 2014.0], [0.1463012985032871, 2015.0], [0.1519183124760514, 2016.0], [0.15423889543162692, 2017.0], [0.14404982423727297, 2018.0], [0.1342082758037176, 2019.0], [0.1430930185812708, 2020.0], [0.15475712139824613, 2015.0], [0.19304035766163619, 2016.0], [0.22229434054396666, 2017.0], [0.2321064878739055, 2018.0], [0.23003253173326588, 2019.0], [0.22774809154439432, 2020.0], [0.1571921436476437, 2017.0], [0.15657014051152354, 2018.0], [0.15951211532829226, 2019.0], [0.1769446167779124, 2020.0], [0.1626586334379447, 2017.0], [0.1526758422185793, 2018.0], [0.14742460001431382, 2019.0], [0.1598166227218549, 2020.0], [0.11630266041962824, 2018.0], [0.12623289052402145, 2019.0], [0.16301293266966835, 2020.0], [0.17399922430094658, 2018.0], [0.15586262434400525, 2019.0], [0.16452041460213931, 2020.0], [0.15215985402602858, 2018.0], [0.14272674355569578, 2019.0], [0.15255405956457754, 2020.0], [0.1757895688572997, 2018.0], [0.16972823693526126, 2019.0], [0.17299794099917884, 2020.0], [0.16853134599701056, 2018.0], [0.16411990130024198, 2019.0], [0.16685457055104, 2020.0], [0.17259349150204714, 2018.0], [0.1685704113282844, 2019.0], [0.1738935644972717, 2020.0], [0.21273968451152914, 2018.0], [0.13122947055780193, 2019.0], [0.15274627073542532, 2020.0], [0.12969744184395565, 2019.0], [0.1362882108896761, 2020.0], [0.13825596965337025, 2019.0], [0.14899237868401127, 2020.0], [0.12974246189514546, 2019.0], [0.13537446722692167, 2020.0], [0.14099903063440494, 2019.0], [0.1499899394894335, 2020.0], [0.14749466683749468, 2019.0], [0.15043033604355943, 2020.0], [0.1503603383234315, 2019.0], [0.15165408397296873, 2020.0], [0.16291803300058919, 2019.0], [0.1637183193236064, 2020.0], [0.1507386428837813, 2019.0], [0.15106734349057824, 2020.0], [0.14813235785792125, 2019.0], [0.14556359695610735, 2020.0], [0.14441410482997663, 2019.0], [0.14350743488497467, 2020.0], [0.15030618186352104, 2019.0], [0.15214109501335696, 2020.0], [0.20623073958870575, 2019.0], [0.21796095460429485, 2020.0], [0.15567889453571596, 2019.0], [0.16496693783119545, 2020.0], [0.16285067499379743, 2019.0], [0.16408988746599143, 2020.0], [0.1695683411239998, 2019.0], [0.16413376264408006, 2020.0], [0.1583616170977655, 2019.0], [0.15626014600432286, 2020.0], [0.15645268141577362, 2019.0], [0.15570115876836974, 2020.0]], \"hovertemplate\": \"<b>%{hovertext}</b><br><br>Intervention Year=%{x}<br>Smoothed NDVI=%{customdata[0]}<br>Year=%{customdata[1]}<extra></extra>\", \"hovertext\": [172.0, 172.0, 172.0, 172.0, 816.0, 816.0, 816.0, 816.0, 816.0, 816.0, 816.0, 816.0, 913.0, 913.0, 913.0, 913.0, 913.0, 913.0, 913.0, 913.0, 916.0, 916.0, 916.0, 916.0, 916.0, 916.0, 916.0, 916.0, 1265.0, 1265.0, 1265.0, 1265.0, 1265.0, 1265.0, 1265.0, 1265.0, 1314.0, 1314.0, 1314.0, 1314.0, 1314.0, 1314.0, 1314.0, 1314.0, 1319.0, 1319.0, 1319.0, 1319.0, 1319.0, 1319.0, 1319.0, 1319.0, 1558.0, 1558.0, 1558.0, 1558.0, 1558.0, 1558.0, 1558.0, 1588.0, 1588.0, 1588.0, 1588.0, 1588.0, 1588.0, 1588.0, 1589.0, 1589.0, 1589.0, 1589.0, 1589.0, 1589.0, 1589.0, 1590.0, 1590.0, 1590.0, 1590.0, 1590.0, 1590.0, 1590.0, 1594.0, 1594.0, 1594.0, 1594.0, 1594.0, 1594.0, 1594.0, 1601.0, 1601.0, 1601.0, 1601.0, 1601.0, 1601.0, 1601.0, 1608.0, 1608.0, 1608.0, 1608.0, 1608.0, 1608.0, 1608.0, 1655.0, 1655.0, 1655.0, 1655.0, 1655.0, 1655.0, 1655.0, 2335.0, 2335.0, 2335.0, 2335.0, 2335.0, 2335.0, 2569.0, 2569.0, 2569.0, 2569.0, 2577.0, 2577.0, 2577.0, 2577.0, 2581.0, 2581.0, 2581.0, 2586.0, 2586.0, 2586.0, 2587.0, 2587.0, 2587.0, 2599.0, 2599.0, 2599.0, 2600.0, 2600.0, 2600.0, 2601.0, 2601.0, 2601.0, 2604.0, 2604.0, 2604.0, 2609.0, 2609.0, 2614.0, 2614.0, 2615.0, 2615.0, 2620.0, 2620.0, 2621.0, 2621.0, 2622.0, 2622.0, 2623.0, 2623.0, 2624.0, 2624.0, 2626.0, 2626.0, 2627.0, 2627.0, 2628.0, 2628.0, 2633.0, 2633.0, 2634.0, 2634.0, 2645.0, 2645.0, 2646.0, 2646.0, 2648.0, 2648.0, 2650.0, 2650.0], \"legendgroup\": \"\", \"marker\": {\"color\": \"rgb(76,114,176)\", \"symbol\": \"circle\"}, \"mode\": \"markers\", \"name\": \"\", \"showlegend\": false, \"type\": \"scatter\", \"x\": [0, 1, 2, 3, 0, 1, 2, 3, 4, 5, 6, 7, 0, 1, 2, 3, 4, 5, 6, 7, 0, 1, 2, 3, 4, 5, 6, 7, 0, 1, 2, 3, 4, 5, 6, 7, 0, 1, 2, 3, 4, 5, 6, 7, 0, 1, 2, 3, 4, 5, 6, 7, 0, 1, 2, 3, 4, 5, 6, 0, 1, 2, 3, 4, 5, 6, 0, 1, 2, 3, 4, 5, 6, 0, 1, 2, 3, 4, 5, 6, 0, 1, 2, 3, 4, 5, 6, 0, 1, 2, 3, 4, 5, 6, 0, 1, 2, 3, 4, 5, 6, 0, 1, 2, 3, 4, 5, 6, 0, 1, 2, 3, 4, 5, 0, 1, 2, 3, 0, 1, 2, 3, 0, 1, 2, 0, 1, 2, 0, 1, 2, 0, 1, 2, 0, 1, 2, 0, 1, 2, 0, 1, 2, 0, 1, 0, 1, 0, 1, 0, 1, 0, 1, 0, 1, 0, 1, 0, 1, 0, 1, 0, 1, 0, 1, 0, 1, 0, 1, 0, 1, 0, 1, 0, 1, 0, 1], \"xaxis\": \"x\", \"y\": [0.10224055325797289, 0.11123611514734943, 0.1266910747985498, 0.1619155473515059, 0.16747582828804544, 0.1660722646825619, 0.18650497016020082, 0.2086767277287975, 0.21627117913888982, 0.20970216371542003, 0.2035487403025945, 0.20394496013367627, 0.182523509343257, 0.16929452145653157, 0.16748444890631775, 0.17592624891916375, 0.17482399807234872, 0.16259626690045312, 0.14760382452143198, 0.1506043037169833, 0.14963945188395855, 0.14800170648690852, 0.16344190087751578, 0.18688471410797117, 0.18846117242694052, 0.1747098457124733, 0.16219723186084156, 0.1645522873445485, 0.17412557646609145, 0.1944996981712013, 0.20152427729831668, 0.20115656929655798, 0.2017508589037752, 0.1828263900991488, 0.17726195682686954, 0.17947702541769275, 0.16441978441326224, 0.16625775363574222, 0.17426521999852593, 0.18730928113267367, 0.18478061169693363, 0.16753790425252965, 0.1574533826134125, 0.162848273216611, 0.1609029934355992, 0.15589682765559573, 0.1682857022157828, 0.18466967313740457, 0.17745533776786768, 0.1624064878311721, 0.15496512517212313, 0.16701598115921465, 0.15687436045777822, 0.14936156688670404, 0.15571003576948475, 0.16265863343794462, 0.1526758422185792, 0.14742460001431376, 0.15981662272185482, 0.16318232844759925, 0.1637212615201484, 0.1702309809490238, 0.172316332274532, 0.16112421807808572, 0.1499944688626285, 0.15304160147046947, 0.16040679205173594, 0.17418525914241392, 0.18883869768771896, 0.18887182164906322, 0.1753182372554832, 0.16620707711596408, 0.1710408750668467, 0.1622478155419587, 0.16589678338626, 0.17709300577452625, 0.18357386883625393, 0.16963923927657928, 0.15623256569459573, 0.16285370399732277, 0.15076312157242056, 0.16375434292319002, 0.2006694448196866, 0.22696986619515627, 0.2328398255991945, 0.2317340640043092, 0.23063074591184685, 0.16955692909847028, 0.15500340123267248, 0.16196015311487585, 0.16505002818930134, 0.1530126381626473, 0.14237062172724196, 0.14523449670321883, 0.17024771218830173, 0.18441960858426473, 0.18551082218645812, 0.18927528181459707, 0.17827379156612275, 0.17174789797772316, 0.17841850799631653, 0.1531867318983584, 0.1463012985032871, 0.1519183124760514, 0.15423889543162692, 0.14404982423727297, 0.1342082758037176, 0.1430930185812708, 0.15475712139824613, 0.19304035766163619, 0.22229434054396666, 0.2321064878739055, 0.23003253173326588, 0.22774809154439432, 0.1571921436476437, 0.15657014051152354, 0.15951211532829226, 0.1769446167779124, 0.1626586334379447, 0.1526758422185793, 0.14742460001431382, 0.1598166227218549, 0.11630266041962824, 0.12623289052402145, 0.16301293266966835, 0.17399922430094658, 0.15586262434400525, 0.16452041460213931, 0.15215985402602858, 0.14272674355569578, 0.15255405956457754, 0.1757895688572997, 0.16972823693526126, 0.17299794099917884, 0.16853134599701056, 0.16411990130024198, 0.16685457055104, 0.17259349150204714, 0.1685704113282844, 0.1738935644972717, 0.21273968451152914, 0.13122947055780193, 0.15274627073542532, 0.12969744184395565, 0.1362882108896761, 0.13825596965337025, 0.14899237868401127, 0.12974246189514546, 0.13537446722692167, 0.14099903063440494, 0.1499899394894335, 0.14749466683749468, 0.15043033604355943, 0.1503603383234315, 0.15165408397296873, 0.16291803300058919, 0.1637183193236064, 0.1507386428837813, 0.15106734349057824, 0.14813235785792125, 0.14556359695610735, 0.14441410482997663, 0.14350743488497467, 0.15030618186352104, 0.15214109501335696, 0.20623073958870575, 0.21796095460429485, 0.15567889453571596, 0.16496693783119545, 0.16285067499379743, 0.16408988746599143, 0.1695683411239998, 0.16413376264408006, 0.1583616170977655, 0.15626014600432286, 0.15645268141577362, 0.15570115876836974], \"yaxis\": \"y\"}],\n",
       "                        {\"annotations\": [{\"showarrow\": false, \"text\": \"Source: Landsat 8 data from USGS, meteorological data from gridMET\", \"x\": 0.01, \"xref\": \"paper\", \"y\": 0.01, \"yref\": \"paper\"}], \"height\": 700, \"legend\": {\"tracegroupgap\": 0}, \"showlegend\": false, \"template\": {\"data\": {\"bar\": [{\"error_x\": {\"color\": \"rgb(36,36,36)\"}, \"error_y\": {\"color\": \"rgb(36,36,36)\"}, \"marker\": {\"line\": {\"color\": \"rgb(234,234,242)\", \"width\": 0.5}}, \"type\": \"bar\"}], \"barpolar\": [{\"marker\": {\"line\": {\"color\": \"rgb(234,234,242)\", \"width\": 0.5}}, \"type\": \"barpolar\"}], \"carpet\": [{\"aaxis\": {\"endlinecolor\": \"rgb(36,36,36)\", \"gridcolor\": \"white\", \"linecolor\": \"white\", \"minorgridcolor\": \"white\", \"startlinecolor\": \"rgb(36,36,36)\"}, \"baxis\": {\"endlinecolor\": \"rgb(36,36,36)\", \"gridcolor\": \"white\", \"linecolor\": \"white\", \"minorgridcolor\": \"white\", \"startlinecolor\": \"rgb(36,36,36)\"}, \"type\": \"carpet\"}], \"choropleth\": [{\"colorbar\": {\"outlinewidth\": 0, \"tickcolor\": \"rgb(36,36,36)\", \"ticklen\": 8, \"ticks\": \"outside\", \"tickwidth\": 2}, \"type\": \"choropleth\"}], \"contour\": [{\"colorbar\": {\"outlinewidth\": 0, \"tickcolor\": \"rgb(36,36,36)\", \"ticklen\": 8, \"ticks\": \"outside\", \"tickwidth\": 2}, \"colorscale\": [[0.0, \"rgb(2,4,25)\"], [0.06274509803921569, \"rgb(24,15,41)\"], [0.12549019607843137, \"rgb(47,23,57)\"], [0.18823529411764706, \"rgb(71,28,72)\"], [0.25098039215686274, \"rgb(97,30,82)\"], [0.3137254901960784, \"rgb(123,30,89)\"], [0.3764705882352941, \"rgb(150,27,91)\"], [0.4392156862745098, \"rgb(177,22,88)\"], [0.5019607843137255, \"rgb(203,26,79)\"], [0.5647058823529412, \"rgb(223,47,67)\"], [0.6274509803921569, \"rgb(236,76,61)\"], [0.6901960784313725, \"rgb(242,107,73)\"], [0.7529411764705882, \"rgb(244,135,95)\"], [0.8156862745098039, \"rgb(245,162,122)\"], [0.8784313725490196, \"rgb(246,188,153)\"], [0.9411764705882353, \"rgb(247,212,187)\"], [1.0, \"rgb(250,234,220)\"]], \"type\": \"contour\"}], \"contourcarpet\": [{\"colorbar\": {\"outlinewidth\": 0, \"tickcolor\": \"rgb(36,36,36)\", \"ticklen\": 8, \"ticks\": \"outside\", \"tickwidth\": 2}, \"type\": \"contourcarpet\"}], \"heatmap\": [{\"colorbar\": {\"outlinewidth\": 0, \"tickcolor\": \"rgb(36,36,36)\", \"ticklen\": 8, \"ticks\": \"outside\", \"tickwidth\": 2}, \"colorscale\": [[0.0, \"rgb(2,4,25)\"], [0.06274509803921569, \"rgb(24,15,41)\"], [0.12549019607843137, \"rgb(47,23,57)\"], [0.18823529411764706, \"rgb(71,28,72)\"], [0.25098039215686274, \"rgb(97,30,82)\"], [0.3137254901960784, \"rgb(123,30,89)\"], [0.3764705882352941, \"rgb(150,27,91)\"], [0.4392156862745098, \"rgb(177,22,88)\"], [0.5019607843137255, \"rgb(203,26,79)\"], [0.5647058823529412, \"rgb(223,47,67)\"], [0.6274509803921569, \"rgb(236,76,61)\"], [0.6901960784313725, \"rgb(242,107,73)\"], [0.7529411764705882, \"rgb(244,135,95)\"], [0.8156862745098039, \"rgb(245,162,122)\"], [0.8784313725490196, \"rgb(246,188,153)\"], [0.9411764705882353, \"rgb(247,212,187)\"], [1.0, \"rgb(250,234,220)\"]], \"type\": \"heatmap\"}], \"heatmapgl\": [{\"colorbar\": {\"outlinewidth\": 0, \"tickcolor\": \"rgb(36,36,36)\", \"ticklen\": 8, \"ticks\": \"outside\", \"tickwidth\": 2}, \"colorscale\": [[0.0, \"rgb(2,4,25)\"], [0.06274509803921569, \"rgb(24,15,41)\"], [0.12549019607843137, \"rgb(47,23,57)\"], [0.18823529411764706, \"rgb(71,28,72)\"], [0.25098039215686274, \"rgb(97,30,82)\"], [0.3137254901960784, \"rgb(123,30,89)\"], [0.3764705882352941, \"rgb(150,27,91)\"], [0.4392156862745098, \"rgb(177,22,88)\"], [0.5019607843137255, \"rgb(203,26,79)\"], [0.5647058823529412, \"rgb(223,47,67)\"], [0.6274509803921569, \"rgb(236,76,61)\"], [0.6901960784313725, \"rgb(242,107,73)\"], [0.7529411764705882, \"rgb(244,135,95)\"], [0.8156862745098039, \"rgb(245,162,122)\"], [0.8784313725490196, \"rgb(246,188,153)\"], [0.9411764705882353, \"rgb(247,212,187)\"], [1.0, \"rgb(250,234,220)\"]], \"type\": \"heatmapgl\"}], \"histogram\": [{\"marker\": {\"colorbar\": {\"outlinewidth\": 0, \"tickcolor\": \"rgb(36,36,36)\", \"ticklen\": 8, \"ticks\": \"outside\", \"tickwidth\": 2}}, \"type\": \"histogram\"}], \"histogram2d\": [{\"colorbar\": {\"outlinewidth\": 0, \"tickcolor\": \"rgb(36,36,36)\", \"ticklen\": 8, \"ticks\": \"outside\", \"tickwidth\": 2}, \"colorscale\": [[0.0, \"rgb(2,4,25)\"], [0.06274509803921569, \"rgb(24,15,41)\"], [0.12549019607843137, \"rgb(47,23,57)\"], [0.18823529411764706, \"rgb(71,28,72)\"], [0.25098039215686274, \"rgb(97,30,82)\"], [0.3137254901960784, \"rgb(123,30,89)\"], [0.3764705882352941, \"rgb(150,27,91)\"], [0.4392156862745098, \"rgb(177,22,88)\"], [0.5019607843137255, \"rgb(203,26,79)\"], [0.5647058823529412, \"rgb(223,47,67)\"], [0.6274509803921569, \"rgb(236,76,61)\"], [0.6901960784313725, \"rgb(242,107,73)\"], [0.7529411764705882, \"rgb(244,135,95)\"], [0.8156862745098039, \"rgb(245,162,122)\"], [0.8784313725490196, \"rgb(246,188,153)\"], [0.9411764705882353, \"rgb(247,212,187)\"], [1.0, \"rgb(250,234,220)\"]], \"type\": \"histogram2d\"}], \"histogram2dcontour\": [{\"colorbar\": {\"outlinewidth\": 0, \"tickcolor\": \"rgb(36,36,36)\", \"ticklen\": 8, \"ticks\": \"outside\", \"tickwidth\": 2}, \"colorscale\": [[0.0, \"rgb(2,4,25)\"], [0.06274509803921569, \"rgb(24,15,41)\"], [0.12549019607843137, \"rgb(47,23,57)\"], [0.18823529411764706, \"rgb(71,28,72)\"], [0.25098039215686274, \"rgb(97,30,82)\"], [0.3137254901960784, \"rgb(123,30,89)\"], [0.3764705882352941, \"rgb(150,27,91)\"], [0.4392156862745098, \"rgb(177,22,88)\"], [0.5019607843137255, \"rgb(203,26,79)\"], [0.5647058823529412, \"rgb(223,47,67)\"], [0.6274509803921569, \"rgb(236,76,61)\"], [0.6901960784313725, \"rgb(242,107,73)\"], [0.7529411764705882, \"rgb(244,135,95)\"], [0.8156862745098039, \"rgb(245,162,122)\"], [0.8784313725490196, \"rgb(246,188,153)\"], [0.9411764705882353, \"rgb(247,212,187)\"], [1.0, \"rgb(250,234,220)\"]], \"type\": \"histogram2dcontour\"}], \"mesh3d\": [{\"colorbar\": {\"outlinewidth\": 0, \"tickcolor\": \"rgb(36,36,36)\", \"ticklen\": 8, \"ticks\": \"outside\", \"tickwidth\": 2}, \"type\": \"mesh3d\"}], \"parcoords\": [{\"line\": {\"colorbar\": {\"outlinewidth\": 0, \"tickcolor\": \"rgb(36,36,36)\", \"ticklen\": 8, \"ticks\": \"outside\", \"tickwidth\": 2}}, \"type\": \"parcoords\"}], \"pie\": [{\"automargin\": true, \"type\": \"pie\"}], \"scatter\": [{\"marker\": {\"colorbar\": {\"outlinewidth\": 0, \"tickcolor\": \"rgb(36,36,36)\", \"ticklen\": 8, \"ticks\": \"outside\", \"tickwidth\": 2}}, \"type\": \"scatter\"}], \"scatter3d\": [{\"line\": {\"colorbar\": {\"outlinewidth\": 0, \"tickcolor\": \"rgb(36,36,36)\", \"ticklen\": 8, \"ticks\": \"outside\", \"tickwidth\": 2}}, \"marker\": {\"colorbar\": {\"outlinewidth\": 0, \"tickcolor\": \"rgb(36,36,36)\", \"ticklen\": 8, \"ticks\": \"outside\", \"tickwidth\": 2}}, \"type\": \"scatter3d\"}], \"scattercarpet\": [{\"marker\": {\"colorbar\": {\"outlinewidth\": 0, \"tickcolor\": \"rgb(36,36,36)\", \"ticklen\": 8, \"ticks\": \"outside\", \"tickwidth\": 2}}, \"type\": \"scattercarpet\"}], \"scattergeo\": [{\"marker\": {\"colorbar\": {\"outlinewidth\": 0, \"tickcolor\": \"rgb(36,36,36)\", \"ticklen\": 8, \"ticks\": \"outside\", \"tickwidth\": 2}}, \"type\": \"scattergeo\"}], \"scattergl\": [{\"marker\": {\"colorbar\": {\"outlinewidth\": 0, \"tickcolor\": \"rgb(36,36,36)\", \"ticklen\": 8, \"ticks\": \"outside\", \"tickwidth\": 2}}, \"type\": \"scattergl\"}], \"scattermapbox\": [{\"marker\": {\"colorbar\": {\"outlinewidth\": 0, \"tickcolor\": \"rgb(36,36,36)\", \"ticklen\": 8, \"ticks\": \"outside\", \"tickwidth\": 2}}, \"type\": \"scattermapbox\"}], \"scatterpolar\": [{\"marker\": {\"colorbar\": {\"outlinewidth\": 0, \"tickcolor\": \"rgb(36,36,36)\", \"ticklen\": 8, \"ticks\": \"outside\", \"tickwidth\": 2}}, \"type\": \"scatterpolar\"}], \"scatterpolargl\": [{\"marker\": {\"colorbar\": {\"outlinewidth\": 0, \"tickcolor\": \"rgb(36,36,36)\", \"ticklen\": 8, \"ticks\": \"outside\", \"tickwidth\": 2}}, \"type\": \"scatterpolargl\"}], \"scatterternary\": [{\"marker\": {\"colorbar\": {\"outlinewidth\": 0, \"tickcolor\": \"rgb(36,36,36)\", \"ticklen\": 8, \"ticks\": \"outside\", \"tickwidth\": 2}}, \"type\": \"scatterternary\"}], \"surface\": [{\"colorbar\": {\"outlinewidth\": 0, \"tickcolor\": \"rgb(36,36,36)\", \"ticklen\": 8, \"ticks\": \"outside\", \"tickwidth\": 2}, \"colorscale\": [[0.0, \"rgb(2,4,25)\"], [0.06274509803921569, \"rgb(24,15,41)\"], [0.12549019607843137, \"rgb(47,23,57)\"], [0.18823529411764706, \"rgb(71,28,72)\"], [0.25098039215686274, \"rgb(97,30,82)\"], [0.3137254901960784, \"rgb(123,30,89)\"], [0.3764705882352941, \"rgb(150,27,91)\"], [0.4392156862745098, \"rgb(177,22,88)\"], [0.5019607843137255, \"rgb(203,26,79)\"], [0.5647058823529412, \"rgb(223,47,67)\"], [0.6274509803921569, \"rgb(236,76,61)\"], [0.6901960784313725, \"rgb(242,107,73)\"], [0.7529411764705882, \"rgb(244,135,95)\"], [0.8156862745098039, \"rgb(245,162,122)\"], [0.8784313725490196, \"rgb(246,188,153)\"], [0.9411764705882353, \"rgb(247,212,187)\"], [1.0, \"rgb(250,234,220)\"]], \"type\": \"surface\"}], \"table\": [{\"cells\": {\"fill\": {\"color\": \"rgb(231,231,240)\"}, \"line\": {\"color\": \"white\"}}, \"header\": {\"fill\": {\"color\": \"rgb(183,183,191)\"}, \"line\": {\"color\": \"white\"}}, \"type\": \"table\"}]}, \"layout\": {\"annotationdefaults\": {\"arrowcolor\": \"rgb(67,103,167)\"}, \"coloraxis\": {\"colorbar\": {\"outlinewidth\": 0, \"tickcolor\": \"rgb(36,36,36)\", \"ticklen\": 8, \"ticks\": \"outside\", \"tickwidth\": 2}}, \"colorscale\": {\"sequential\": [[0.0, \"rgb(2,4,25)\"], [0.06274509803921569, \"rgb(24,15,41)\"], [0.12549019607843137, \"rgb(47,23,57)\"], [0.18823529411764706, \"rgb(71,28,72)\"], [0.25098039215686274, \"rgb(97,30,82)\"], [0.3137254901960784, \"rgb(123,30,89)\"], [0.3764705882352941, \"rgb(150,27,91)\"], [0.4392156862745098, \"rgb(177,22,88)\"], [0.5019607843137255, \"rgb(203,26,79)\"], [0.5647058823529412, \"rgb(223,47,67)\"], [0.6274509803921569, \"rgb(236,76,61)\"], [0.6901960784313725, \"rgb(242,107,73)\"], [0.7529411764705882, \"rgb(244,135,95)\"], [0.8156862745098039, \"rgb(245,162,122)\"], [0.8784313725490196, \"rgb(246,188,153)\"], [0.9411764705882353, \"rgb(247,212,187)\"], [1.0, \"rgb(250,234,220)\"]], \"sequentialminus\": [[0.0, \"rgb(2,4,25)\"], [0.06274509803921569, \"rgb(24,15,41)\"], [0.12549019607843137, \"rgb(47,23,57)\"], [0.18823529411764706, \"rgb(71,28,72)\"], [0.25098039215686274, \"rgb(97,30,82)\"], [0.3137254901960784, \"rgb(123,30,89)\"], [0.3764705882352941, \"rgb(150,27,91)\"], [0.4392156862745098, \"rgb(177,22,88)\"], [0.5019607843137255, \"rgb(203,26,79)\"], [0.5647058823529412, \"rgb(223,47,67)\"], [0.6274509803921569, \"rgb(236,76,61)\"], [0.6901960784313725, \"rgb(242,107,73)\"], [0.7529411764705882, \"rgb(244,135,95)\"], [0.8156862745098039, \"rgb(245,162,122)\"], [0.8784313725490196, \"rgb(246,188,153)\"], [0.9411764705882353, \"rgb(247,212,187)\"], [1.0, \"rgb(250,234,220)\"]]}, \"colorway\": [\"rgb(76,114,176)\", \"rgb(221,132,82)\", \"rgb(85,168,104)\", \"rgb(196,78,82)\", \"rgb(129,114,179)\", \"rgb(147,120,96)\", \"rgb(218,139,195)\", \"rgb(140,140,140)\", \"rgb(204,185,116)\", \"rgb(100,181,205)\"], \"font\": {\"color\": \"rgb(36,36,36)\"}, \"geo\": {\"bgcolor\": \"white\", \"lakecolor\": \"white\", \"landcolor\": \"rgb(234,234,242)\", \"showlakes\": true, \"showland\": true, \"subunitcolor\": \"white\"}, \"hoverlabel\": {\"align\": \"left\"}, \"hovermode\": \"closest\", \"paper_bgcolor\": \"white\", \"plot_bgcolor\": \"rgb(234,234,242)\", \"polar\": {\"angularaxis\": {\"gridcolor\": \"white\", \"linecolor\": \"white\", \"showgrid\": true, \"ticks\": \"\"}, \"bgcolor\": \"rgb(234,234,242)\", \"radialaxis\": {\"gridcolor\": \"white\", \"linecolor\": \"white\", \"showgrid\": true, \"ticks\": \"\"}}, \"scene\": {\"xaxis\": {\"backgroundcolor\": \"rgb(234,234,242)\", \"gridcolor\": \"white\", \"gridwidth\": 2, \"linecolor\": \"white\", \"showbackground\": true, \"showgrid\": true, \"ticks\": \"\", \"zerolinecolor\": \"white\"}, \"yaxis\": {\"backgroundcolor\": \"rgb(234,234,242)\", \"gridcolor\": \"white\", \"gridwidth\": 2, \"linecolor\": \"white\", \"showbackground\": true, \"showgrid\": true, \"ticks\": \"\", \"zerolinecolor\": \"white\"}, \"zaxis\": {\"backgroundcolor\": \"rgb(234,234,242)\", \"gridcolor\": \"white\", \"gridwidth\": 2, \"linecolor\": \"white\", \"showbackground\": true, \"showgrid\": true, \"ticks\": \"\", \"zerolinecolor\": \"white\"}}, \"shapedefaults\": {\"fillcolor\": \"rgb(67,103,167)\", \"line\": {\"width\": 0}, \"opacity\": 0.5}, \"ternary\": {\"aaxis\": {\"gridcolor\": \"white\", \"linecolor\": \"white\", \"showgrid\": true, \"ticks\": \"\"}, \"baxis\": {\"gridcolor\": \"white\", \"linecolor\": \"white\", \"showgrid\": true, \"ticks\": \"\"}, \"bgcolor\": \"rgb(234,234,242)\", \"caxis\": {\"gridcolor\": \"white\", \"linecolor\": \"white\", \"showgrid\": true, \"ticks\": \"\"}}, \"xaxis\": {\"automargin\": true, \"gridcolor\": \"white\", \"linecolor\": \"white\", \"showgrid\": true, \"ticks\": \"\", \"title\": {\"standoff\": 15}, \"zerolinecolor\": \"white\"}, \"yaxis\": {\"automargin\": true, \"gridcolor\": \"white\", \"linecolor\": \"white\", \"showgrid\": true, \"ticks\": \"\", \"title\": {\"standoff\": 15}, \"zerolinecolor\": \"white\"}}}, \"title\": {\"text\": \"Plot 5 - Mean annual NDVI vs intervention year for the seeding units\"}, \"width\": 900, \"xaxis\": {\"anchor\": \"y\", \"domain\": [0.0, 1.0], \"title\": {\"text\": \"Intervention Year\"}}, \"yaxis\": {\"anchor\": \"x\", \"domain\": [0.0, 1.0], \"title\": {\"text\": \"Smoothed NDVI\"}}},\n",
       "                        {\"responsive\": true}\n",
       "                    ).then(function(){\n",
       "                            \n",
       "var gd = document.getElementById('8a5bbc67-dda8-41d9-822f-f922a027baa7');\n",
       "var x = new MutationObserver(function (mutations, observer) {{\n",
       "        var display = window.getComputedStyle(gd).display;\n",
       "        if (!display || display === 'none') {{\n",
       "            console.log([gd, 'removed!']);\n",
       "            Plotly.purge(gd);\n",
       "            observer.disconnect();\n",
       "        }}\n",
       "}});\n",
       "\n",
       "// Listen for the removal of the full notebook cells\n",
       "var notebookContainer = gd.closest('#notebook-container');\n",
       "if (notebookContainer) {{\n",
       "    x.observe(notebookContainer, {childList: true});\n",
       "}}\n",
       "\n",
       "// Listen for the clearing of the current output cell\n",
       "var outputEl = gd.closest('.output');\n",
       "if (outputEl) {{\n",
       "    x.observe(outputEl, {childList: true});\n",
       "}}\n",
       "\n",
       "                        })\n",
       "                };\n",
       "                });\n",
       "            </script>\n",
       "        </div>"
      ]
     },
     "metadata": {},
     "output_type": "display_data"
    }
   ],
   "source": [
    "fig = px.scatter(su_ndvi_annual_change_df, x='Intervention_Year', y='NDVI_mean',\n",
    "                 labels={\n",
    "                     \"NDVI_mean\": \"Smoothed NDVI\",\n",
    "                     \"Intervention_Year\": \"Intervention Year\"\n",
    "                 },\n",
    "                 title='Plot 5 - Mean annual NDVI vs intervention year for the seeding units',\n",
    "                 width=900, height=700,\n",
    "                 hover_name=\"SuId\", hover_data=[\"NDVI_mean\", \"Year\"])\n",
    "\n",
    "# Credit\n",
    "fig.add_annotation(text=\"Source: Landsat 8 data from USGS, meteorological data from gridMET\",\n",
    "                   showarrow=False,\n",
    "                   xref=\"paper\", yref=\"paper\",\n",
    "                   x=0.01, y=0.01)\n",
    "\n",
    "fig.update_layout(showlegend=False)\n",
    "fig.show()"
   ]
  },
  {
   "cell_type": "markdown",
   "id": "smart-tulsa",
   "metadata": {},
   "source": [
    "### Plot 6 - NDVI anomaly vs intervention year for the seeding units"
   ]
  },
  {
   "cell_type": "code",
   "execution_count": 164,
   "id": "consecutive-musical",
   "metadata": {
    "scrolled": false
   },
   "outputs": [
    {
     "data": {
      "application/vnd.plotly.v1+json": {
       "config": {
        "plotlyServerURL": "https://plot.ly"
       },
       "data": [
        {
         "customdata": [
          [
           0,
           2017
          ],
          [
           0.04213838428608468,
           2018
          ],
          [
           0.10680272423756201,
           2019
          ],
          [
           0.22590806707036798,
           2020
          ],
          [
           0.127155000316543,
           2017
          ],
          [
           0.11195333853674742,
           2018
          ],
          [
           0.09722513026987481,
           2019
          ],
          [
           0.09818818165940336,
           2020
          ],
          [
           0,
           2013
          ],
          [
           -0.00420797970386607,
           2014
          ],
          [
           0.053757553956524935,
           2015
          ],
          [
           0.10953241917863563,
           2016
          ],
          [
           -0.021546285089806234,
           2017
          ],
          [
           -0.05774007696600975,
           2018
          ],
          [
           -0.10577641182580097,
           2019
          ],
          [
           -0.09581669369798816,
           2020
          ],
          [
           0,
           2013
          ],
          [
           -0.03760179049564901,
           2014
          ],
          [
           -0.042967767110642624,
           2015
          ],
          [
           -0.018404979420472662,
           2016
          ],
          [
           0.11482297798800754,
           2017
          ],
          [
           0.07729442922891211,
           2018
          ],
          [
           0.04027037430644306,
           2019
          ],
          [
           0.047464123331848816,
           2020
          ],
          [
           0,
           2013
          ],
          [
           -0.00550241574792342,
           2014
          ],
          [
           0.0440858226522128,
           2015
          ],
          [
           0.11067633765387835,
           2016
          ],
          [
           0.05830699939196575,
           2017
          ],
          [
           0.009393124321957387,
           2018
          ],
          [
           -0.02164331330940806,
           2019
          ],
          [
           -0.004801908282868728,
           2020
          ],
          [
           0,
           2013
          ],
          [
           0.005558191927168629,
           2014
          ],
          [
           0.029069594038752214,
           2015
          ],
          [
           0.06507706914662716,
           2016
          ],
          [
           0.0489195707798753,
           2017
          ],
          [
           0.004650325717891114,
           2018
          ],
          [
           -0.018798567863223693,
           2019
          ],
          [
           0.018641762743887704,
           2020
          ],
          [
           0,
           2013
          ],
          [
           -0.01580229989638273,
           2014
          ],
          [
           0.02242698147813086,
           2015
          ],
          [
           0.06877476722188779,
           2016
          ],
          [
           0.201747655329554,
           2017
          ],
          [
           0.213962652351716,
           2018
          ],
          [
           0.21169029599472886,
           2019
          ],
          [
           0.2094098283914354,
           2020
          ],
          [
           0,
           2014
          ],
          [
           0.04130524634491568,
           2015
          ],
          [
           0.14200824857985297,
           2016
          ],
          [
           0,
           2017
          ],
          [
           -0.001982402498716574,
           2018
          ],
          [
           0.007325356748122692,
           2019
          ],
          [
           0.059114935767953174,
           2020
          ]
         ],
         "hovertemplate": "<b>%{hovertext}</b><br><br>Seed_Type=Seed<br>Intervention Year=%{x}<br>Smoothed NDVI anomaly=%{customdata[0]}<br>Year=%{customdata[1]}<extra></extra>",
         "hovertext": [
          172,
          172,
          172,
          172,
          816,
          816,
          816,
          816,
          816,
          816,
          816,
          816,
          913,
          913,
          913,
          913,
          913,
          913,
          913,
          913,
          916,
          916,
          916,
          916,
          916,
          916,
          916,
          916,
          1314,
          1314,
          1314,
          1314,
          1314,
          1314,
          1314,
          1314,
          1319,
          1319,
          1319,
          1319,
          1319,
          1319,
          1319,
          1319,
          1594,
          1594,
          1594,
          1594,
          1594,
          1594,
          1594,
          2569,
          2569,
          2569,
          2569
         ],
         "legendgroup": "Seed",
         "marker": {
          "color": "rgb(76,114,176)",
          "size": 10,
          "symbol": "circle"
         },
         "mode": "markers",
         "name": "Seed",
         "showlegend": true,
         "type": "scatter",
         "x": [
          0,
          1,
          2,
          3,
          4,
          5,
          6,
          7,
          0,
          1,
          2,
          3,
          4,
          5,
          6,
          7,
          0,
          1,
          2,
          3,
          4,
          5,
          6,
          7,
          0,
          1,
          2,
          3,
          4,
          5,
          6,
          7,
          0,
          1,
          2,
          3,
          4,
          5,
          6,
          7,
          0,
          1,
          2,
          3,
          3,
          4,
          5,
          6,
          0,
          1,
          2,
          0,
          1,
          2,
          3
         ],
         "xaxis": "x",
         "y": [
          0,
          0.04213838428608468,
          0.10680272423756201,
          0.22590806707036798,
          0.127155000316543,
          0.11195333853674742,
          0.09722513026987481,
          0.09818818165940336,
          0,
          -0.00420797970386607,
          0.053757553956524935,
          0.10953241917863563,
          -0.021546285089806234,
          -0.05774007696600975,
          -0.10577641182580097,
          -0.09581669369798816,
          0,
          -0.03760179049564901,
          -0.042967767110642624,
          -0.018404979420472662,
          0.11482297798800754,
          0.07729442922891211,
          0.04027037430644306,
          0.047464123331848816,
          0,
          -0.00550241574792342,
          0.0440858226522128,
          0.11067633765387835,
          0.05830699939196575,
          0.009393124321957387,
          -0.02164331330940806,
          -0.004801908282868728,
          0,
          0.005558191927168629,
          0.029069594038752214,
          0.06507706914662716,
          0.0489195707798753,
          0.004650325717891114,
          -0.018798567863223693,
          0.018641762743887704,
          0,
          -0.01580229989638273,
          0.02242698147813086,
          0.06877476722188779,
          0.201747655329554,
          0.213962652351716,
          0.21169029599472886,
          0.2094098283914354,
          0,
          0.04130524634491568,
          0.14200824857985297,
          0,
          -0.001982402498716574,
          0.007325356748122692,
          0.059114935767953174
         ],
         "yaxis": "y"
        },
        {
         "customdata": [
          [
           0.07349564867108566,
           2017
          ],
          [
           0.024375306618368515,
           2018
          ],
          [
           0.008925701863654944,
           2019
          ],
          [
           0.015134076850939362,
           2020
          ],
          [
           0,
           2013
          ],
          [
           0.0552705500868243,
           2014
          ],
          [
           0.07293680686325663,
           2015
          ],
          [
           0.07202845415289895,
           2016
          ],
          [
           0.018102271410676458,
           2017
          ],
          [
           -0.013563286998034019,
           2018
          ],
          [
           -0.031054198899674264,
           2019
          ],
          [
           0.00929064109920581,
           2020
          ],
          [
           0,
           2014
          ],
          [
           -0.024532698159295655,
           2015
          ],
          [
           -0.003724833044599435,
           2016
          ],
          [
           0.027225157344212967,
           2017
          ],
          [
           -0.0063461881715376695,
           2018
          ],
          [
           -0.042109950986908805,
           2019
          ],
          [
           -0.03206818339066614,
           2020
          ],
          [
           0,
           2014
          ],
          [
           0.0016485994314174518,
           2015
          ],
          [
           0.021140885209953015,
           2016
          ],
          [
           0.08149662899690484,
           2017
          ],
          [
           0.044415649421544696,
           2018
          ],
          [
           0.0177588449596731,
           2019
          ],
          [
           0.032083746757240524,
           2020
          ],
          [
           0,
           2014
          ],
          [
           0.04117989964645905,
           2015
          ],
          [
           0.08140951414202621,
           2016
          ],
          [
           0.061667773473024066,
           2017
          ],
          [
           0.022270900980642095,
           2018
          ],
          [
           -0.018887348175130048,
           2019
          ],
          [
           0.0018636900135770365,
           2020
          ],
          [
           0,
           2014
          ],
          [
           0.011119999708114978,
           2015
          ],
          [
           0.04374713945400117,
           2016
          ],
          [
           -0.013469238493128158,
           2017
          ],
          [
           -0.05128906324393124,
           2018
          ],
          [
           -0.08715583890958871,
           2019
          ],
          [
           -0.07726523152054969,
           2020
          ],
          [
           0,
           2014
          ],
          [
           -0.04484074763834852,
           2015
          ],
          [
           -0.022915187153781602,
           2016
          ],
          [
           0.05292448589850675,
           2017
          ],
          [
           0.023028935923208798,
           2018
          ],
          [
           0.004386564461143678,
           2019
          ],
          [
           0.023434434811862127,
           2020
          ],
          [
           0,
           2014
          ],
          [
           0.03995828080549562,
           2015
          ],
          [
           0.04290300449146236,
           2016
          ],
          [
           0.0034224978002212335,
           2017
          ],
          [
           -0.030739515286660073,
           2018
          ],
          [
           -0.06603613697533169,
           2019
          ],
          [
           -0.03406818488522255,
           2020
          ],
          [
           0,
           2014
          ],
          [
           -0.02299067974715785,
           2015
          ],
          [
           -0.0041573203907781815,
           2016
          ],
          [
           0,
           2019
          ],
          [
           -0.016285718365433875,
           2020
          ]
         ],
         "hovertemplate": "<b>%{hovertext}</b><br><br>Seed_Type=Reseed<br>Intervention Year=%{x}<br>Smoothed NDVI anomaly=%{customdata[0]}<br>Year=%{customdata[1]}<extra></extra>",
         "hovertext": [
          1265,
          1265,
          1265,
          1265,
          1265,
          1265,
          1265,
          1265,
          1558,
          1558,
          1558,
          1558,
          1558,
          1558,
          1558,
          1588,
          1588,
          1588,
          1588,
          1588,
          1588,
          1588,
          1589,
          1589,
          1589,
          1589,
          1589,
          1589,
          1589,
          1590,
          1590,
          1590,
          1590,
          1590,
          1590,
          1590,
          1601,
          1601,
          1601,
          1601,
          1601,
          1601,
          1601,
          1608,
          1608,
          1608,
          1608,
          1608,
          1608,
          1608,
          1655,
          1655,
          1655,
          1655,
          1655,
          1655,
          1655,
          2646,
          2646
         ],
         "legendgroup": "Reseed",
         "marker": {
          "color": "rgb(221,132,82)",
          "size": 10,
          "symbol": "circle"
         },
         "mode": "markers",
         "name": "Reseed",
         "showlegend": true,
         "type": "scatter",
         "x": [
          4,
          5,
          6,
          7,
          0,
          1,
          2,
          3,
          3,
          4,
          5,
          6,
          0,
          1,
          2,
          3,
          4,
          5,
          6,
          0,
          1,
          2,
          3,
          4,
          5,
          6,
          0,
          1,
          2,
          3,
          4,
          5,
          6,
          0,
          1,
          2,
          3,
          4,
          5,
          6,
          0,
          1,
          2,
          3,
          4,
          5,
          6,
          0,
          1,
          2,
          3,
          4,
          5,
          6,
          0,
          1,
          2,
          0,
          1
         ],
         "xaxis": "x",
         "y": [
          0.07349564867108566,
          0.024375306618368515,
          0.008925701863654944,
          0.015134076850939362,
          0,
          0.0552705500868243,
          0.07293680686325663,
          0.07202845415289895,
          0.018102271410676458,
          -0.013563286998034019,
          -0.031054198899674264,
          0.00929064109920581,
          0,
          -0.024532698159295655,
          -0.003724833044599435,
          0.027225157344212967,
          -0.0063461881715376695,
          -0.042109950986908805,
          -0.03206818339066614,
          0,
          0.0016485994314174518,
          0.021140885209953015,
          0.08149662899690484,
          0.044415649421544696,
          0.0177588449596731,
          0.032083746757240524,
          0,
          0.04117989964645905,
          0.08140951414202621,
          0.061667773473024066,
          0.022270900980642095,
          -0.018887348175130048,
          0.0018636900135770365,
          0,
          0.011119999708114978,
          0.04374713945400117,
          -0.013469238493128158,
          -0.05128906324393124,
          -0.08715583890958871,
          -0.07726523152054969,
          0,
          -0.04484074763834852,
          -0.022915187153781602,
          0.05292448589850675,
          0.023028935923208798,
          0.004386564461143678,
          0.023434434811862127,
          0,
          0.03995828080549562,
          0.04290300449146236,
          0.0034224978002212335,
          -0.030739515286660073,
          -0.06603613697533169,
          -0.03406818488522255,
          0,
          -0.02299067974715785,
          -0.0041573203907781815,
          0,
          -0.016285718365433875
         ],
         "yaxis": "y"
        },
        {
         "customdata": [
          [
           0.17911936688385346,
           2017
          ],
          [
           0.19993962890742065,
           2018
          ],
          [
           0.19562742844671135,
           2019
          ],
          [
           0.19082346508332096,
           2020
          ],
          [
           0,
           2015
          ],
          [
           0.11007335753804762,
           2016
          ],
          [
           0,
           2017
          ],
          [
           -0.03165778558967049,
           2018
          ],
          [
           -0.049128852450438514,
           2019
          ],
          [
           -0.008813112515775389,
           2020
          ],
          [
           0,
           2018
          ],
          [
           0.04094340011498103,
           2019
          ],
          [
           0.16723116576992153,
           2020
          ],
          [
           0,
           2018
          ],
          [
           -0.05498241167156842,
           2019
          ],
          [
           -0.028000767487291738,
           2020
          ],
          [
           0,
           2018
          ],
          [
           -0.031988942690820386,
           2019
          ],
          [
           0.0012936906421627764,
           2020
          ],
          [
           0,
           2018
          ],
          [
           -0.017542748363242093,
           2019
          ],
          [
           -0.008003806842938811,
           2020
          ],
          [
           0,
           2018
          ],
          [
           -0.013261470481806335,
           2019
          ],
          [
           -0.004999540419671518,
           2020
          ],
          [
           0,
           2018
          ],
          [
           -0.011792221100728546,
           2019
          ],
          [
           0.0037521545833074663,
           2020
          ],
          [
           0,
           2018
          ],
          [
           -0.23696954436887765,
           2019
          ],
          [
           -0.16414697450020202,
           2020
          ],
          [
           0,
           2019
          ],
          [
           0.024778663728606074,
           2020
          ],
          [
           0,
           2019
          ],
          [
           0.037376747656807395,
           2020
          ],
          [
           0,
           2019
          ],
          [
           0.02124347679503742,
           2020
          ],
          [
           0,
           2019
          ],
          [
           0.03089776513247989,
           2020
          ],
          [
           0,
           2019
          ],
          [
           0.009853718814049353,
           2020
          ],
          [
           0,
           2019
          ],
          [
           0.004283721418666286,
           2020
          ],
          [
           0,
           2019
          ],
          [
           0.0024500834561821867,
           2020
          ],
          [
           0,
           2019
          ],
          [
           0.0010891122828465497,
           2020
          ],
          [
           0,
           2019
          ],
          [
           -0.008746327144479982,
           2020
          ],
          [
           0,
           2019
          ],
          [
           -0.0031490174229395545,
           2020
          ],
          [
           0,
           2019
          ],
          [
           0.006066886000044504,
           2020
          ],
          [
           0,
           2019
          ],
          [
           0.02765309923831756,
           2020
          ],
          [
           0,
           2019
          ],
          [
           0.028966673999527598,
           2020
          ],
          [
           0,
           2019
          ],
          [
           0.003790329541463394,
           2020
          ],
          [
           0,
           2019
          ],
          [
           -0.006679357056303672,
           2020
          ],
          [
           0,
           2019
          ],
          [
           -0.0024075393304806136,
           2020
          ]
         ],
         "hovertemplate": "<b>%{hovertext}</b><br><br>Seed_Type=Interseed<br>Intervention Year=%{x}<br>Smoothed NDVI anomaly=%{customdata[0]}<br>Year=%{customdata[1]}<extra></extra>",
         "hovertext": [
          2335,
          2335,
          2335,
          2335,
          2335,
          2335,
          2577,
          2577,
          2577,
          2577,
          2581,
          2581,
          2581,
          2586,
          2586,
          2586,
          2587,
          2587,
          2587,
          2599,
          2599,
          2599,
          2600,
          2600,
          2600,
          2601,
          2601,
          2601,
          2604,
          2604,
          2604,
          2609,
          2609,
          2614,
          2614,
          2615,
          2615,
          2620,
          2620,
          2621,
          2621,
          2622,
          2622,
          2623,
          2623,
          2624,
          2624,
          2626,
          2626,
          2627,
          2627,
          2628,
          2628,
          2633,
          2633,
          2634,
          2634,
          2645,
          2645,
          2648,
          2648,
          2650,
          2650
         ],
         "legendgroup": "Interseed",
         "marker": {
          "color": "rgb(85,168,104)",
          "size": 10,
          "symbol": "circle"
         },
         "mode": "markers",
         "name": "Interseed",
         "showlegend": true,
         "type": "scatter",
         "x": [
          2,
          3,
          4,
          5,
          0,
          1,
          0,
          1,
          2,
          3,
          0,
          1,
          2,
          0,
          1,
          2,
          0,
          1,
          2,
          0,
          1,
          2,
          0,
          1,
          2,
          0,
          1,
          2,
          0,
          1,
          2,
          0,
          1,
          0,
          1,
          0,
          1,
          0,
          1,
          0,
          1,
          0,
          1,
          0,
          1,
          0,
          1,
          0,
          1,
          0,
          1,
          0,
          1,
          0,
          1,
          0,
          1,
          0,
          1,
          0,
          1,
          0,
          1
         ],
         "xaxis": "x",
         "y": [
          0.17911936688385346,
          0.19993962890742065,
          0.19562742844671135,
          0.19082346508332096,
          0,
          0.11007335753804762,
          0,
          -0.03165778558967049,
          -0.049128852450438514,
          -0.008813112515775389,
          0,
          0.04094340011498103,
          0.16723116576992153,
          0,
          -0.05498241167156842,
          -0.028000767487291738,
          0,
          -0.031988942690820386,
          0.0012936906421627764,
          0,
          -0.017542748363242093,
          -0.008003806842938811,
          0,
          -0.013261470481806335,
          -0.004999540419671518,
          0,
          -0.011792221100728546,
          0.0037521545833074663,
          0,
          -0.23696954436887765,
          -0.16414697450020202,
          0,
          0.024778663728606074,
          0,
          0.037376747656807395,
          0,
          0.02124347679503742,
          0,
          0.03089776513247989,
          0,
          0.009853718814049353,
          0,
          0.004283721418666286,
          0,
          0.0024500834561821867,
          0,
          0.0010891122828465497,
          0,
          -0.008746327144479982,
          0,
          -0.0031490174229395545,
          0,
          0.006066886000044504,
          0,
          0.02765309923831756,
          0,
          0.028966673999527598,
          0,
          0.003790329541463394,
          0,
          -0.006679357056303672,
          0,
          -0.0024075393304806136
         ],
         "yaxis": "y"
        },
        {
         "line": {
          "color": "gray",
          "width": 1
         },
         "mode": "lines",
         "showlegend": false,
         "type": "scatter",
         "x": [
          0,
          1,
          2,
          3
         ],
         "y": [
          0,
          0.04213838428608468,
          0.10680272423756201,
          0.22590806707036798
         ]
        },
        {
         "line": {
          "color": "gray",
          "width": 1
         },
         "mode": "lines",
         "showlegend": false,
         "type": "scatter",
         "x": [
          0,
          1,
          2,
          3,
          4,
          5,
          6,
          7
         ],
         "y": [
          0,
          -0.00420797970386607,
          0.053757553956524935,
          0.10953241917863563,
          0.127155000316543,
          0.11195333853674742,
          0.09722513026987481,
          0.09818818165940336
         ]
        },
        {
         "line": {
          "color": "gray",
          "width": 1
         },
         "mode": "lines",
         "showlegend": false,
         "type": "scatter",
         "x": [
          0,
          1,
          2,
          3,
          4,
          5,
          6,
          7
         ],
         "y": [
          0,
          -0.03760179049564901,
          -0.042967767110642624,
          -0.018404979420472662,
          -0.021546285089806234,
          -0.05774007696600975,
          -0.10577641182580097,
          -0.09581669369798816
         ]
        },
        {
         "line": {
          "color": "gray",
          "width": 1
         },
         "mode": "lines",
         "showlegend": false,
         "type": "scatter",
         "x": [
          0,
          1,
          2,
          3,
          4,
          5,
          6,
          7
         ],
         "y": [
          0,
          -0.00550241574792342,
          0.0440858226522128,
          0.11067633765387835,
          0.11482297798800754,
          0.07729442922891211,
          0.04027037430644306,
          0.047464123331848816
         ]
        },
        {
         "line": {
          "color": "gray",
          "width": 1
         },
         "mode": "lines",
         "showlegend": false,
         "type": "scatter",
         "x": [
          0,
          1,
          2,
          3,
          4,
          5,
          6,
          7
         ],
         "y": [
          0,
          0.0552705500868243,
          0.07293680686325663,
          0.07202845415289895,
          0.07349564867108566,
          0.024375306618368515,
          0.008925701863654944,
          0.015134076850939362
         ]
        },
        {
         "line": {
          "color": "gray",
          "width": 1
         },
         "mode": "lines",
         "showlegend": false,
         "type": "scatter",
         "x": [
          0,
          1,
          2,
          3,
          4,
          5,
          6,
          7
         ],
         "y": [
          0,
          0.005558191927168629,
          0.029069594038752214,
          0.06507706914662716,
          0.05830699939196575,
          0.009393124321957387,
          -0.02164331330940806,
          -0.004801908282868728
         ]
        },
        {
         "line": {
          "color": "gray",
          "width": 1
         },
         "mode": "lines",
         "showlegend": false,
         "type": "scatter",
         "x": [
          0,
          1,
          2,
          3,
          4,
          5,
          6,
          7
         ],
         "y": [
          0,
          -0.01580229989638273,
          0.02242698147813086,
          0.06877476722188779,
          0.0489195707798753,
          0.004650325717891114,
          -0.018798567863223693,
          0.018641762743887704
         ]
        },
        {
         "line": {
          "color": "gray",
          "width": 1
         },
         "mode": "lines",
         "showlegend": false,
         "type": "scatter",
         "x": [
          0,
          1,
          2,
          3,
          4,
          5,
          6
         ],
         "y": [
          0,
          -0.024532698159295655,
          -0.003724833044599435,
          0.018102271410676458,
          -0.013563286998034019,
          -0.031054198899674264,
          0.00929064109920581
         ]
        },
        {
         "line": {
          "color": "gray",
          "width": 1
         },
         "mode": "lines",
         "showlegend": false,
         "type": "scatter",
         "x": [
          0,
          1,
          2,
          3,
          4,
          5,
          6
         ],
         "y": [
          0,
          0.0016485994314174518,
          0.021140885209953015,
          0.027225157344212967,
          -0.0063461881715376695,
          -0.042109950986908805,
          -0.03206818339066614
         ]
        },
        {
         "line": {
          "color": "gray",
          "width": 1
         },
         "mode": "lines",
         "showlegend": false,
         "type": "scatter",
         "x": [
          0,
          1,
          2,
          3,
          4,
          5,
          6
         ],
         "y": [
          0,
          0.04117989964645905,
          0.08140951414202621,
          0.08149662899690484,
          0.044415649421544696,
          0.0177588449596731,
          0.032083746757240524
         ]
        },
        {
         "line": {
          "color": "gray",
          "width": 1
         },
         "mode": "lines",
         "showlegend": false,
         "type": "scatter",
         "x": [
          0,
          1,
          2,
          3,
          4,
          5,
          6
         ],
         "y": [
          0,
          0.011119999708114978,
          0.04374713945400117,
          0.061667773473024066,
          0.022270900980642095,
          -0.018887348175130048,
          0.0018636900135770365
         ]
        },
        {
         "line": {
          "color": "gray",
          "width": 1
         },
         "mode": "lines",
         "showlegend": false,
         "type": "scatter",
         "x": [
          0,
          1,
          2,
          3,
          4,
          5,
          6
         ],
         "y": [
          0,
          0.04130524634491568,
          0.14200824857985297,
          0.201747655329554,
          0.213962652351716,
          0.21169029599472886,
          0.2094098283914354
         ]
        },
        {
         "line": {
          "color": "gray",
          "width": 1
         },
         "mode": "lines",
         "showlegend": false,
         "type": "scatter",
         "x": [
          0,
          1,
          2,
          3,
          4,
          5,
          6
         ],
         "y": [
          0,
          -0.04484074763834852,
          -0.022915187153781602,
          -0.013469238493128158,
          -0.05128906324393124,
          -0.08715583890958871,
          -0.07726523152054969
         ]
        },
        {
         "line": {
          "color": "gray",
          "width": 1
         },
         "mode": "lines",
         "showlegend": false,
         "type": "scatter",
         "x": [
          0,
          1,
          2,
          3,
          4,
          5,
          6
         ],
         "y": [
          0,
          0.03995828080549562,
          0.04290300449146236,
          0.05292448589850675,
          0.023028935923208798,
          0.004386564461143678,
          0.023434434811862127
         ]
        },
        {
         "line": {
          "color": "gray",
          "width": 1
         },
         "mode": "lines",
         "showlegend": false,
         "type": "scatter",
         "x": [
          0,
          1,
          2,
          3,
          4,
          5,
          6
         ],
         "y": [
          0,
          -0.02299067974715785,
          -0.0041573203907781815,
          0.0034224978002212335,
          -0.030739515286660073,
          -0.06603613697533169,
          -0.03406818488522255
         ]
        },
        {
         "line": {
          "color": "gray",
          "width": 1
         },
         "mode": "lines",
         "showlegend": false,
         "type": "scatter",
         "x": [
          0,
          1,
          2,
          3,
          4,
          5
         ],
         "y": [
          0,
          0.11007335753804762,
          0.17911936688385346,
          0.19993962890742065,
          0.19562742844671135,
          0.19082346508332096
         ]
        },
        {
         "line": {
          "color": "gray",
          "width": 1
         },
         "mode": "lines",
         "showlegend": false,
         "type": "scatter",
         "x": [
          0,
          1,
          2,
          3
         ],
         "y": [
          0,
          -0.001982402498716574,
          0.007325356748122692,
          0.059114935767953174
         ]
        },
        {
         "line": {
          "color": "gray",
          "width": 1
         },
         "mode": "lines",
         "showlegend": false,
         "type": "scatter",
         "x": [
          0,
          1,
          2,
          3
         ],
         "y": [
          0,
          -0.03165778558967049,
          -0.049128852450438514,
          -0.008813112515775389
         ]
        },
        {
         "line": {
          "color": "gray",
          "width": 1
         },
         "mode": "lines",
         "showlegend": false,
         "type": "scatter",
         "x": [
          0,
          1,
          2
         ],
         "y": [
          0,
          0.04094340011498103,
          0.16723116576992153
         ]
        },
        {
         "line": {
          "color": "gray",
          "width": 1
         },
         "mode": "lines",
         "showlegend": false,
         "type": "scatter",
         "x": [
          0,
          1,
          2
         ],
         "y": [
          0,
          -0.05498241167156842,
          -0.028000767487291738
         ]
        },
        {
         "line": {
          "color": "gray",
          "width": 1
         },
         "mode": "lines",
         "showlegend": false,
         "type": "scatter",
         "x": [
          0,
          1,
          2
         ],
         "y": [
          0,
          -0.031988942690820386,
          0.0012936906421627764
         ]
        },
        {
         "line": {
          "color": "gray",
          "width": 1
         },
         "mode": "lines",
         "showlegend": false,
         "type": "scatter",
         "x": [
          0,
          1,
          2
         ],
         "y": [
          0,
          -0.017542748363242093,
          -0.008003806842938811
         ]
        },
        {
         "line": {
          "color": "gray",
          "width": 1
         },
         "mode": "lines",
         "showlegend": false,
         "type": "scatter",
         "x": [
          0,
          1,
          2
         ],
         "y": [
          0,
          -0.013261470481806335,
          -0.004999540419671518
         ]
        },
        {
         "line": {
          "color": "gray",
          "width": 1
         },
         "mode": "lines",
         "showlegend": false,
         "type": "scatter",
         "x": [
          0,
          1,
          2
         ],
         "y": [
          0,
          -0.011792221100728546,
          0.0037521545833074663
         ]
        },
        {
         "line": {
          "color": "gray",
          "width": 1
         },
         "mode": "lines",
         "showlegend": false,
         "type": "scatter",
         "x": [
          0,
          1,
          2
         ],
         "y": [
          0,
          -0.23696954436887765,
          -0.16414697450020202
         ]
        },
        {
         "line": {
          "color": "gray",
          "width": 1
         },
         "mode": "lines",
         "showlegend": false,
         "type": "scatter",
         "x": [
          0,
          1
         ],
         "y": [
          0,
          0.024778663728606074
         ]
        },
        {
         "line": {
          "color": "gray",
          "width": 1
         },
         "mode": "lines",
         "showlegend": false,
         "type": "scatter",
         "x": [
          0,
          1
         ],
         "y": [
          0,
          0.037376747656807395
         ]
        },
        {
         "line": {
          "color": "gray",
          "width": 1
         },
         "mode": "lines",
         "showlegend": false,
         "type": "scatter",
         "x": [
          0,
          1
         ],
         "y": [
          0,
          0.02124347679503742
         ]
        },
        {
         "line": {
          "color": "gray",
          "width": 1
         },
         "mode": "lines",
         "showlegend": false,
         "type": "scatter",
         "x": [
          0,
          1
         ],
         "y": [
          0,
          0.03089776513247989
         ]
        },
        {
         "line": {
          "color": "gray",
          "width": 1
         },
         "mode": "lines",
         "showlegend": false,
         "type": "scatter",
         "x": [
          0,
          1
         ],
         "y": [
          0,
          0.009853718814049353
         ]
        },
        {
         "line": {
          "color": "gray",
          "width": 1
         },
         "mode": "lines",
         "showlegend": false,
         "type": "scatter",
         "x": [
          0,
          1
         ],
         "y": [
          0,
          0.004283721418666286
         ]
        },
        {
         "line": {
          "color": "gray",
          "width": 1
         },
         "mode": "lines",
         "showlegend": false,
         "type": "scatter",
         "x": [
          0,
          1
         ],
         "y": [
          0,
          0.0024500834561821867
         ]
        },
        {
         "line": {
          "color": "gray",
          "width": 1
         },
         "mode": "lines",
         "showlegend": false,
         "type": "scatter",
         "x": [
          0,
          1
         ],
         "y": [
          0,
          0.0010891122828465497
         ]
        },
        {
         "line": {
          "color": "gray",
          "width": 1
         },
         "mode": "lines",
         "showlegend": false,
         "type": "scatter",
         "x": [
          0,
          1
         ],
         "y": [
          0,
          -0.008746327144479982
         ]
        },
        {
         "line": {
          "color": "gray",
          "width": 1
         },
         "mode": "lines",
         "showlegend": false,
         "type": "scatter",
         "x": [
          0,
          1
         ],
         "y": [
          0,
          -0.0031490174229395545
         ]
        },
        {
         "line": {
          "color": "gray",
          "width": 1
         },
         "mode": "lines",
         "showlegend": false,
         "type": "scatter",
         "x": [
          0,
          1
         ],
         "y": [
          0,
          0.006066886000044504
         ]
        },
        {
         "line": {
          "color": "gray",
          "width": 1
         },
         "mode": "lines",
         "showlegend": false,
         "type": "scatter",
         "x": [
          0,
          1
         ],
         "y": [
          0,
          0.02765309923831756
         ]
        },
        {
         "line": {
          "color": "gray",
          "width": 1
         },
         "mode": "lines",
         "showlegend": false,
         "type": "scatter",
         "x": [
          0,
          1
         ],
         "y": [
          0,
          0.028966673999527598
         ]
        },
        {
         "line": {
          "color": "gray",
          "width": 1
         },
         "mode": "lines",
         "showlegend": false,
         "type": "scatter",
         "x": [
          0,
          1
         ],
         "y": [
          0,
          0.003790329541463394
         ]
        },
        {
         "line": {
          "color": "gray",
          "width": 1
         },
         "mode": "lines",
         "showlegend": false,
         "type": "scatter",
         "x": [
          0,
          1
         ],
         "y": [
          0,
          -0.016285718365433875
         ]
        },
        {
         "line": {
          "color": "gray",
          "width": 1
         },
         "mode": "lines",
         "showlegend": false,
         "type": "scatter",
         "x": [
          0,
          1
         ],
         "y": [
          0,
          -0.006679357056303672
         ]
        },
        {
         "line": {
          "color": "gray",
          "width": 1
         },
         "mode": "lines",
         "showlegend": false,
         "type": "scatter",
         "x": [
          0,
          1
         ],
         "y": [
          0,
          -0.0024075393304806136
         ]
        }
       ],
       "layout": {
        "annotations": [
         {
          "showarrow": false,
          "text": "Source: Landsat 8 data from USGS",
          "x": 0.01,
          "xref": "paper",
          "y": 0.01,
          "yref": "paper"
         }
        ],
        "height": 700,
        "legend": {
         "title": {
          "text": "Seed_Type"
         },
         "tracegroupgap": 0
        },
        "showlegend": true,
        "template": {
         "data": {
          "bar": [
           {
            "error_x": {
             "color": "rgb(36,36,36)"
            },
            "error_y": {
             "color": "rgb(36,36,36)"
            },
            "marker": {
             "line": {
              "color": "rgb(234,234,242)",
              "width": 0.5
             }
            },
            "type": "bar"
           }
          ],
          "barpolar": [
           {
            "marker": {
             "line": {
              "color": "rgb(234,234,242)",
              "width": 0.5
             }
            },
            "type": "barpolar"
           }
          ],
          "carpet": [
           {
            "aaxis": {
             "endlinecolor": "rgb(36,36,36)",
             "gridcolor": "white",
             "linecolor": "white",
             "minorgridcolor": "white",
             "startlinecolor": "rgb(36,36,36)"
            },
            "baxis": {
             "endlinecolor": "rgb(36,36,36)",
             "gridcolor": "white",
             "linecolor": "white",
             "minorgridcolor": "white",
             "startlinecolor": "rgb(36,36,36)"
            },
            "type": "carpet"
           }
          ],
          "choropleth": [
           {
            "colorbar": {
             "outlinewidth": 0,
             "tickcolor": "rgb(36,36,36)",
             "ticklen": 8,
             "ticks": "outside",
             "tickwidth": 2
            },
            "type": "choropleth"
           }
          ],
          "contour": [
           {
            "colorbar": {
             "outlinewidth": 0,
             "tickcolor": "rgb(36,36,36)",
             "ticklen": 8,
             "ticks": "outside",
             "tickwidth": 2
            },
            "colorscale": [
             [
              0,
              "rgb(2,4,25)"
             ],
             [
              0.06274509803921569,
              "rgb(24,15,41)"
             ],
             [
              0.12549019607843137,
              "rgb(47,23,57)"
             ],
             [
              0.18823529411764706,
              "rgb(71,28,72)"
             ],
             [
              0.25098039215686274,
              "rgb(97,30,82)"
             ],
             [
              0.3137254901960784,
              "rgb(123,30,89)"
             ],
             [
              0.3764705882352941,
              "rgb(150,27,91)"
             ],
             [
              0.4392156862745098,
              "rgb(177,22,88)"
             ],
             [
              0.5019607843137255,
              "rgb(203,26,79)"
             ],
             [
              0.5647058823529412,
              "rgb(223,47,67)"
             ],
             [
              0.6274509803921569,
              "rgb(236,76,61)"
             ],
             [
              0.6901960784313725,
              "rgb(242,107,73)"
             ],
             [
              0.7529411764705882,
              "rgb(244,135,95)"
             ],
             [
              0.8156862745098039,
              "rgb(245,162,122)"
             ],
             [
              0.8784313725490196,
              "rgb(246,188,153)"
             ],
             [
              0.9411764705882353,
              "rgb(247,212,187)"
             ],
             [
              1,
              "rgb(250,234,220)"
             ]
            ],
            "type": "contour"
           }
          ],
          "contourcarpet": [
           {
            "colorbar": {
             "outlinewidth": 0,
             "tickcolor": "rgb(36,36,36)",
             "ticklen": 8,
             "ticks": "outside",
             "tickwidth": 2
            },
            "type": "contourcarpet"
           }
          ],
          "heatmap": [
           {
            "colorbar": {
             "outlinewidth": 0,
             "tickcolor": "rgb(36,36,36)",
             "ticklen": 8,
             "ticks": "outside",
             "tickwidth": 2
            },
            "colorscale": [
             [
              0,
              "rgb(2,4,25)"
             ],
             [
              0.06274509803921569,
              "rgb(24,15,41)"
             ],
             [
              0.12549019607843137,
              "rgb(47,23,57)"
             ],
             [
              0.18823529411764706,
              "rgb(71,28,72)"
             ],
             [
              0.25098039215686274,
              "rgb(97,30,82)"
             ],
             [
              0.3137254901960784,
              "rgb(123,30,89)"
             ],
             [
              0.3764705882352941,
              "rgb(150,27,91)"
             ],
             [
              0.4392156862745098,
              "rgb(177,22,88)"
             ],
             [
              0.5019607843137255,
              "rgb(203,26,79)"
             ],
             [
              0.5647058823529412,
              "rgb(223,47,67)"
             ],
             [
              0.6274509803921569,
              "rgb(236,76,61)"
             ],
             [
              0.6901960784313725,
              "rgb(242,107,73)"
             ],
             [
              0.7529411764705882,
              "rgb(244,135,95)"
             ],
             [
              0.8156862745098039,
              "rgb(245,162,122)"
             ],
             [
              0.8784313725490196,
              "rgb(246,188,153)"
             ],
             [
              0.9411764705882353,
              "rgb(247,212,187)"
             ],
             [
              1,
              "rgb(250,234,220)"
             ]
            ],
            "type": "heatmap"
           }
          ],
          "heatmapgl": [
           {
            "colorbar": {
             "outlinewidth": 0,
             "tickcolor": "rgb(36,36,36)",
             "ticklen": 8,
             "ticks": "outside",
             "tickwidth": 2
            },
            "colorscale": [
             [
              0,
              "rgb(2,4,25)"
             ],
             [
              0.06274509803921569,
              "rgb(24,15,41)"
             ],
             [
              0.12549019607843137,
              "rgb(47,23,57)"
             ],
             [
              0.18823529411764706,
              "rgb(71,28,72)"
             ],
             [
              0.25098039215686274,
              "rgb(97,30,82)"
             ],
             [
              0.3137254901960784,
              "rgb(123,30,89)"
             ],
             [
              0.3764705882352941,
              "rgb(150,27,91)"
             ],
             [
              0.4392156862745098,
              "rgb(177,22,88)"
             ],
             [
              0.5019607843137255,
              "rgb(203,26,79)"
             ],
             [
              0.5647058823529412,
              "rgb(223,47,67)"
             ],
             [
              0.6274509803921569,
              "rgb(236,76,61)"
             ],
             [
              0.6901960784313725,
              "rgb(242,107,73)"
             ],
             [
              0.7529411764705882,
              "rgb(244,135,95)"
             ],
             [
              0.8156862745098039,
              "rgb(245,162,122)"
             ],
             [
              0.8784313725490196,
              "rgb(246,188,153)"
             ],
             [
              0.9411764705882353,
              "rgb(247,212,187)"
             ],
             [
              1,
              "rgb(250,234,220)"
             ]
            ],
            "type": "heatmapgl"
           }
          ],
          "histogram": [
           {
            "marker": {
             "colorbar": {
              "outlinewidth": 0,
              "tickcolor": "rgb(36,36,36)",
              "ticklen": 8,
              "ticks": "outside",
              "tickwidth": 2
             }
            },
            "type": "histogram"
           }
          ],
          "histogram2d": [
           {
            "colorbar": {
             "outlinewidth": 0,
             "tickcolor": "rgb(36,36,36)",
             "ticklen": 8,
             "ticks": "outside",
             "tickwidth": 2
            },
            "colorscale": [
             [
              0,
              "rgb(2,4,25)"
             ],
             [
              0.06274509803921569,
              "rgb(24,15,41)"
             ],
             [
              0.12549019607843137,
              "rgb(47,23,57)"
             ],
             [
              0.18823529411764706,
              "rgb(71,28,72)"
             ],
             [
              0.25098039215686274,
              "rgb(97,30,82)"
             ],
             [
              0.3137254901960784,
              "rgb(123,30,89)"
             ],
             [
              0.3764705882352941,
              "rgb(150,27,91)"
             ],
             [
              0.4392156862745098,
              "rgb(177,22,88)"
             ],
             [
              0.5019607843137255,
              "rgb(203,26,79)"
             ],
             [
              0.5647058823529412,
              "rgb(223,47,67)"
             ],
             [
              0.6274509803921569,
              "rgb(236,76,61)"
             ],
             [
              0.6901960784313725,
              "rgb(242,107,73)"
             ],
             [
              0.7529411764705882,
              "rgb(244,135,95)"
             ],
             [
              0.8156862745098039,
              "rgb(245,162,122)"
             ],
             [
              0.8784313725490196,
              "rgb(246,188,153)"
             ],
             [
              0.9411764705882353,
              "rgb(247,212,187)"
             ],
             [
              1,
              "rgb(250,234,220)"
             ]
            ],
            "type": "histogram2d"
           }
          ],
          "histogram2dcontour": [
           {
            "colorbar": {
             "outlinewidth": 0,
             "tickcolor": "rgb(36,36,36)",
             "ticklen": 8,
             "ticks": "outside",
             "tickwidth": 2
            },
            "colorscale": [
             [
              0,
              "rgb(2,4,25)"
             ],
             [
              0.06274509803921569,
              "rgb(24,15,41)"
             ],
             [
              0.12549019607843137,
              "rgb(47,23,57)"
             ],
             [
              0.18823529411764706,
              "rgb(71,28,72)"
             ],
             [
              0.25098039215686274,
              "rgb(97,30,82)"
             ],
             [
              0.3137254901960784,
              "rgb(123,30,89)"
             ],
             [
              0.3764705882352941,
              "rgb(150,27,91)"
             ],
             [
              0.4392156862745098,
              "rgb(177,22,88)"
             ],
             [
              0.5019607843137255,
              "rgb(203,26,79)"
             ],
             [
              0.5647058823529412,
              "rgb(223,47,67)"
             ],
             [
              0.6274509803921569,
              "rgb(236,76,61)"
             ],
             [
              0.6901960784313725,
              "rgb(242,107,73)"
             ],
             [
              0.7529411764705882,
              "rgb(244,135,95)"
             ],
             [
              0.8156862745098039,
              "rgb(245,162,122)"
             ],
             [
              0.8784313725490196,
              "rgb(246,188,153)"
             ],
             [
              0.9411764705882353,
              "rgb(247,212,187)"
             ],
             [
              1,
              "rgb(250,234,220)"
             ]
            ],
            "type": "histogram2dcontour"
           }
          ],
          "mesh3d": [
           {
            "colorbar": {
             "outlinewidth": 0,
             "tickcolor": "rgb(36,36,36)",
             "ticklen": 8,
             "ticks": "outside",
             "tickwidth": 2
            },
            "type": "mesh3d"
           }
          ],
          "parcoords": [
           {
            "line": {
             "colorbar": {
              "outlinewidth": 0,
              "tickcolor": "rgb(36,36,36)",
              "ticklen": 8,
              "ticks": "outside",
              "tickwidth": 2
             }
            },
            "type": "parcoords"
           }
          ],
          "pie": [
           {
            "automargin": true,
            "type": "pie"
           }
          ],
          "scatter": [
           {
            "marker": {
             "colorbar": {
              "outlinewidth": 0,
              "tickcolor": "rgb(36,36,36)",
              "ticklen": 8,
              "ticks": "outside",
              "tickwidth": 2
             }
            },
            "type": "scatter"
           }
          ],
          "scatter3d": [
           {
            "line": {
             "colorbar": {
              "outlinewidth": 0,
              "tickcolor": "rgb(36,36,36)",
              "ticklen": 8,
              "ticks": "outside",
              "tickwidth": 2
             }
            },
            "marker": {
             "colorbar": {
              "outlinewidth": 0,
              "tickcolor": "rgb(36,36,36)",
              "ticklen": 8,
              "ticks": "outside",
              "tickwidth": 2
             }
            },
            "type": "scatter3d"
           }
          ],
          "scattercarpet": [
           {
            "marker": {
             "colorbar": {
              "outlinewidth": 0,
              "tickcolor": "rgb(36,36,36)",
              "ticklen": 8,
              "ticks": "outside",
              "tickwidth": 2
             }
            },
            "type": "scattercarpet"
           }
          ],
          "scattergeo": [
           {
            "marker": {
             "colorbar": {
              "outlinewidth": 0,
              "tickcolor": "rgb(36,36,36)",
              "ticklen": 8,
              "ticks": "outside",
              "tickwidth": 2
             }
            },
            "type": "scattergeo"
           }
          ],
          "scattergl": [
           {
            "marker": {
             "colorbar": {
              "outlinewidth": 0,
              "tickcolor": "rgb(36,36,36)",
              "ticklen": 8,
              "ticks": "outside",
              "tickwidth": 2
             }
            },
            "type": "scattergl"
           }
          ],
          "scattermapbox": [
           {
            "marker": {
             "colorbar": {
              "outlinewidth": 0,
              "tickcolor": "rgb(36,36,36)",
              "ticklen": 8,
              "ticks": "outside",
              "tickwidth": 2
             }
            },
            "type": "scattermapbox"
           }
          ],
          "scatterpolar": [
           {
            "marker": {
             "colorbar": {
              "outlinewidth": 0,
              "tickcolor": "rgb(36,36,36)",
              "ticklen": 8,
              "ticks": "outside",
              "tickwidth": 2
             }
            },
            "type": "scatterpolar"
           }
          ],
          "scatterpolargl": [
           {
            "marker": {
             "colorbar": {
              "outlinewidth": 0,
              "tickcolor": "rgb(36,36,36)",
              "ticklen": 8,
              "ticks": "outside",
              "tickwidth": 2
             }
            },
            "type": "scatterpolargl"
           }
          ],
          "scatterternary": [
           {
            "marker": {
             "colorbar": {
              "outlinewidth": 0,
              "tickcolor": "rgb(36,36,36)",
              "ticklen": 8,
              "ticks": "outside",
              "tickwidth": 2
             }
            },
            "type": "scatterternary"
           }
          ],
          "surface": [
           {
            "colorbar": {
             "outlinewidth": 0,
             "tickcolor": "rgb(36,36,36)",
             "ticklen": 8,
             "ticks": "outside",
             "tickwidth": 2
            },
            "colorscale": [
             [
              0,
              "rgb(2,4,25)"
             ],
             [
              0.06274509803921569,
              "rgb(24,15,41)"
             ],
             [
              0.12549019607843137,
              "rgb(47,23,57)"
             ],
             [
              0.18823529411764706,
              "rgb(71,28,72)"
             ],
             [
              0.25098039215686274,
              "rgb(97,30,82)"
             ],
             [
              0.3137254901960784,
              "rgb(123,30,89)"
             ],
             [
              0.3764705882352941,
              "rgb(150,27,91)"
             ],
             [
              0.4392156862745098,
              "rgb(177,22,88)"
             ],
             [
              0.5019607843137255,
              "rgb(203,26,79)"
             ],
             [
              0.5647058823529412,
              "rgb(223,47,67)"
             ],
             [
              0.6274509803921569,
              "rgb(236,76,61)"
             ],
             [
              0.6901960784313725,
              "rgb(242,107,73)"
             ],
             [
              0.7529411764705882,
              "rgb(244,135,95)"
             ],
             [
              0.8156862745098039,
              "rgb(245,162,122)"
             ],
             [
              0.8784313725490196,
              "rgb(246,188,153)"
             ],
             [
              0.9411764705882353,
              "rgb(247,212,187)"
             ],
             [
              1,
              "rgb(250,234,220)"
             ]
            ],
            "type": "surface"
           }
          ],
          "table": [
           {
            "cells": {
             "fill": {
              "color": "rgb(231,231,240)"
             },
             "line": {
              "color": "white"
             }
            },
            "header": {
             "fill": {
              "color": "rgb(183,183,191)"
             },
             "line": {
              "color": "white"
             }
            },
            "type": "table"
           }
          ]
         },
         "layout": {
          "annotationdefaults": {
           "arrowcolor": "rgb(67,103,167)"
          },
          "coloraxis": {
           "colorbar": {
            "outlinewidth": 0,
            "tickcolor": "rgb(36,36,36)",
            "ticklen": 8,
            "ticks": "outside",
            "tickwidth": 2
           }
          },
          "colorscale": {
           "sequential": [
            [
             0,
             "rgb(2,4,25)"
            ],
            [
             0.06274509803921569,
             "rgb(24,15,41)"
            ],
            [
             0.12549019607843137,
             "rgb(47,23,57)"
            ],
            [
             0.18823529411764706,
             "rgb(71,28,72)"
            ],
            [
             0.25098039215686274,
             "rgb(97,30,82)"
            ],
            [
             0.3137254901960784,
             "rgb(123,30,89)"
            ],
            [
             0.3764705882352941,
             "rgb(150,27,91)"
            ],
            [
             0.4392156862745098,
             "rgb(177,22,88)"
            ],
            [
             0.5019607843137255,
             "rgb(203,26,79)"
            ],
            [
             0.5647058823529412,
             "rgb(223,47,67)"
            ],
            [
             0.6274509803921569,
             "rgb(236,76,61)"
            ],
            [
             0.6901960784313725,
             "rgb(242,107,73)"
            ],
            [
             0.7529411764705882,
             "rgb(244,135,95)"
            ],
            [
             0.8156862745098039,
             "rgb(245,162,122)"
            ],
            [
             0.8784313725490196,
             "rgb(246,188,153)"
            ],
            [
             0.9411764705882353,
             "rgb(247,212,187)"
            ],
            [
             1,
             "rgb(250,234,220)"
            ]
           ],
           "sequentialminus": [
            [
             0,
             "rgb(2,4,25)"
            ],
            [
             0.06274509803921569,
             "rgb(24,15,41)"
            ],
            [
             0.12549019607843137,
             "rgb(47,23,57)"
            ],
            [
             0.18823529411764706,
             "rgb(71,28,72)"
            ],
            [
             0.25098039215686274,
             "rgb(97,30,82)"
            ],
            [
             0.3137254901960784,
             "rgb(123,30,89)"
            ],
            [
             0.3764705882352941,
             "rgb(150,27,91)"
            ],
            [
             0.4392156862745098,
             "rgb(177,22,88)"
            ],
            [
             0.5019607843137255,
             "rgb(203,26,79)"
            ],
            [
             0.5647058823529412,
             "rgb(223,47,67)"
            ],
            [
             0.6274509803921569,
             "rgb(236,76,61)"
            ],
            [
             0.6901960784313725,
             "rgb(242,107,73)"
            ],
            [
             0.7529411764705882,
             "rgb(244,135,95)"
            ],
            [
             0.8156862745098039,
             "rgb(245,162,122)"
            ],
            [
             0.8784313725490196,
             "rgb(246,188,153)"
            ],
            [
             0.9411764705882353,
             "rgb(247,212,187)"
            ],
            [
             1,
             "rgb(250,234,220)"
            ]
           ]
          },
          "colorway": [
           "rgb(76,114,176)",
           "rgb(221,132,82)",
           "rgb(85,168,104)",
           "rgb(196,78,82)",
           "rgb(129,114,179)",
           "rgb(147,120,96)",
           "rgb(218,139,195)",
           "rgb(140,140,140)",
           "rgb(204,185,116)",
           "rgb(100,181,205)"
          ],
          "font": {
           "color": "rgb(36,36,36)"
          },
          "geo": {
           "bgcolor": "white",
           "lakecolor": "white",
           "landcolor": "rgb(234,234,242)",
           "showlakes": true,
           "showland": true,
           "subunitcolor": "white"
          },
          "hoverlabel": {
           "align": "left"
          },
          "hovermode": "closest",
          "paper_bgcolor": "white",
          "plot_bgcolor": "rgb(234,234,242)",
          "polar": {
           "angularaxis": {
            "gridcolor": "white",
            "linecolor": "white",
            "showgrid": true,
            "ticks": ""
           },
           "bgcolor": "rgb(234,234,242)",
           "radialaxis": {
            "gridcolor": "white",
            "linecolor": "white",
            "showgrid": true,
            "ticks": ""
           }
          },
          "scene": {
           "xaxis": {
            "backgroundcolor": "rgb(234,234,242)",
            "gridcolor": "white",
            "gridwidth": 2,
            "linecolor": "white",
            "showbackground": true,
            "showgrid": true,
            "ticks": "",
            "zerolinecolor": "white"
           },
           "yaxis": {
            "backgroundcolor": "rgb(234,234,242)",
            "gridcolor": "white",
            "gridwidth": 2,
            "linecolor": "white",
            "showbackground": true,
            "showgrid": true,
            "ticks": "",
            "zerolinecolor": "white"
           },
           "zaxis": {
            "backgroundcolor": "rgb(234,234,242)",
            "gridcolor": "white",
            "gridwidth": 2,
            "linecolor": "white",
            "showbackground": true,
            "showgrid": true,
            "ticks": "",
            "zerolinecolor": "white"
           }
          },
          "shapedefaults": {
           "fillcolor": "rgb(67,103,167)",
           "line": {
            "width": 0
           },
           "opacity": 0.5
          },
          "ternary": {
           "aaxis": {
            "gridcolor": "white",
            "linecolor": "white",
            "showgrid": true,
            "ticks": ""
           },
           "baxis": {
            "gridcolor": "white",
            "linecolor": "white",
            "showgrid": true,
            "ticks": ""
           },
           "bgcolor": "rgb(234,234,242)",
           "caxis": {
            "gridcolor": "white",
            "linecolor": "white",
            "showgrid": true,
            "ticks": ""
           }
          },
          "xaxis": {
           "automargin": true,
           "gridcolor": "white",
           "linecolor": "white",
           "showgrid": true,
           "ticks": "",
           "title": {
            "standoff": 15
           },
           "zerolinecolor": "white"
          },
          "yaxis": {
           "automargin": true,
           "gridcolor": "white",
           "linecolor": "white",
           "showgrid": true,
           "ticks": "",
           "title": {
            "standoff": 15
           },
           "zerolinecolor": "white"
          }
         }
        },
        "title": {
         "text": "Plot 6 - NDVI anomaly vs intervention year for the seeding units"
        },
        "width": 900,
        "xaxis": {
         "anchor": "y",
         "domain": [
          0,
          1
         ],
         "title": {
          "text": "Intervention Year"
         }
        },
        "yaxis": {
         "anchor": "x",
         "domain": [
          0,
          1
         ],
         "title": {
          "text": "Smoothed NDVI anomaly"
         }
        }
       }
      },
      "text/html": [
       "<div>\n",
       "        \n",
       "        \n",
       "            <div id=\"b370246e-f308-4ebf-9311-9460dca79487\" class=\"plotly-graph-div\" style=\"height:700px; width:900px;\"></div>\n",
       "            <script type=\"text/javascript\">\n",
       "                require([\"plotly\"], function(Plotly) {\n",
       "                    window.PLOTLYENV=window.PLOTLYENV || {};\n",
       "                    \n",
       "                if (document.getElementById(\"b370246e-f308-4ebf-9311-9460dca79487\")) {\n",
       "                    Plotly.newPlot(\n",
       "                        'b370246e-f308-4ebf-9311-9460dca79487',\n",
       "                        [{\"customdata\": [[0.0, 2017.0], [0.04213838428608468, 2018.0], [0.10680272423756201, 2019.0], [0.22590806707036798, 2020.0], [0.127155000316543, 2017.0], [0.11195333853674742, 2018.0], [0.09722513026987481, 2019.0], [0.09818818165940336, 2020.0], [0.0, 2013.0], [-0.00420797970386607, 2014.0], [0.053757553956524935, 2015.0], [0.10953241917863563, 2016.0], [-0.021546285089806234, 2017.0], [-0.05774007696600975, 2018.0], [-0.10577641182580097, 2019.0], [-0.09581669369798816, 2020.0], [0.0, 2013.0], [-0.03760179049564901, 2014.0], [-0.042967767110642624, 2015.0], [-0.018404979420472662, 2016.0], [0.11482297798800754, 2017.0], [0.07729442922891211, 2018.0], [0.04027037430644306, 2019.0], [0.047464123331848816, 2020.0], [0.0, 2013.0], [-0.00550241574792342, 2014.0], [0.0440858226522128, 2015.0], [0.11067633765387835, 2016.0], [0.05830699939196575, 2017.0], [0.009393124321957387, 2018.0], [-0.02164331330940806, 2019.0], [-0.004801908282868728, 2020.0], [0.0, 2013.0], [0.005558191927168629, 2014.0], [0.029069594038752214, 2015.0], [0.06507706914662716, 2016.0], [0.0489195707798753, 2017.0], [0.004650325717891114, 2018.0], [-0.018798567863223693, 2019.0], [0.018641762743887704, 2020.0], [0.0, 2013.0], [-0.01580229989638273, 2014.0], [0.02242698147813086, 2015.0], [0.06877476722188779, 2016.0], [0.201747655329554, 2017.0], [0.213962652351716, 2018.0], [0.21169029599472886, 2019.0], [0.2094098283914354, 2020.0], [0.0, 2014.0], [0.04130524634491568, 2015.0], [0.14200824857985297, 2016.0], [0.0, 2017.0], [-0.001982402498716574, 2018.0], [0.007325356748122692, 2019.0], [0.059114935767953174, 2020.0]], \"hovertemplate\": \"<b>%{hovertext}</b><br><br>Seed_Type=Seed<br>Intervention Year=%{x}<br>Smoothed NDVI anomaly=%{customdata[0]}<br>Year=%{customdata[1]}<extra></extra>\", \"hovertext\": [172.0, 172.0, 172.0, 172.0, 816.0, 816.0, 816.0, 816.0, 816.0, 816.0, 816.0, 816.0, 913.0, 913.0, 913.0, 913.0, 913.0, 913.0, 913.0, 913.0, 916.0, 916.0, 916.0, 916.0, 916.0, 916.0, 916.0, 916.0, 1314.0, 1314.0, 1314.0, 1314.0, 1314.0, 1314.0, 1314.0, 1314.0, 1319.0, 1319.0, 1319.0, 1319.0, 1319.0, 1319.0, 1319.0, 1319.0, 1594.0, 1594.0, 1594.0, 1594.0, 1594.0, 1594.0, 1594.0, 2569.0, 2569.0, 2569.0, 2569.0], \"legendgroup\": \"Seed\", \"marker\": {\"color\": \"rgb(76,114,176)\", \"size\": 10, \"symbol\": \"circle\"}, \"mode\": \"markers\", \"name\": \"Seed\", \"showlegend\": true, \"type\": \"scatter\", \"x\": [0, 1, 2, 3, 4, 5, 6, 7, 0, 1, 2, 3, 4, 5, 6, 7, 0, 1, 2, 3, 4, 5, 6, 7, 0, 1, 2, 3, 4, 5, 6, 7, 0, 1, 2, 3, 4, 5, 6, 7, 0, 1, 2, 3, 3, 4, 5, 6, 0, 1, 2, 0, 1, 2, 3], \"xaxis\": \"x\", \"y\": [0.0, 0.04213838428608468, 0.10680272423756201, 0.22590806707036798, 0.127155000316543, 0.11195333853674742, 0.09722513026987481, 0.09818818165940336, 0.0, -0.00420797970386607, 0.053757553956524935, 0.10953241917863563, -0.021546285089806234, -0.05774007696600975, -0.10577641182580097, -0.09581669369798816, 0.0, -0.03760179049564901, -0.042967767110642624, -0.018404979420472662, 0.11482297798800754, 0.07729442922891211, 0.04027037430644306, 0.047464123331848816, 0.0, -0.00550241574792342, 0.0440858226522128, 0.11067633765387835, 0.05830699939196575, 0.009393124321957387, -0.02164331330940806, -0.004801908282868728, 0.0, 0.005558191927168629, 0.029069594038752214, 0.06507706914662716, 0.0489195707798753, 0.004650325717891114, -0.018798567863223693, 0.018641762743887704, 0.0, -0.01580229989638273, 0.02242698147813086, 0.06877476722188779, 0.201747655329554, 0.213962652351716, 0.21169029599472886, 0.2094098283914354, 0.0, 0.04130524634491568, 0.14200824857985297, 0.0, -0.001982402498716574, 0.007325356748122692, 0.059114935767953174], \"yaxis\": \"y\"}, {\"customdata\": [[0.07349564867108566, 2017.0], [0.024375306618368515, 2018.0], [0.008925701863654944, 2019.0], [0.015134076850939362, 2020.0], [0.0, 2013.0], [0.0552705500868243, 2014.0], [0.07293680686325663, 2015.0], [0.07202845415289895, 2016.0], [0.018102271410676458, 2017.0], [-0.013563286998034019, 2018.0], [-0.031054198899674264, 2019.0], [0.00929064109920581, 2020.0], [0.0, 2014.0], [-0.024532698159295655, 2015.0], [-0.003724833044599435, 2016.0], [0.027225157344212967, 2017.0], [-0.0063461881715376695, 2018.0], [-0.042109950986908805, 2019.0], [-0.03206818339066614, 2020.0], [0.0, 2014.0], [0.0016485994314174518, 2015.0], [0.021140885209953015, 2016.0], [0.08149662899690484, 2017.0], [0.044415649421544696, 2018.0], [0.0177588449596731, 2019.0], [0.032083746757240524, 2020.0], [0.0, 2014.0], [0.04117989964645905, 2015.0], [0.08140951414202621, 2016.0], [0.061667773473024066, 2017.0], [0.022270900980642095, 2018.0], [-0.018887348175130048, 2019.0], [0.0018636900135770365, 2020.0], [0.0, 2014.0], [0.011119999708114978, 2015.0], [0.04374713945400117, 2016.0], [-0.013469238493128158, 2017.0], [-0.05128906324393124, 2018.0], [-0.08715583890958871, 2019.0], [-0.07726523152054969, 2020.0], [0.0, 2014.0], [-0.04484074763834852, 2015.0], [-0.022915187153781602, 2016.0], [0.05292448589850675, 2017.0], [0.023028935923208798, 2018.0], [0.004386564461143678, 2019.0], [0.023434434811862127, 2020.0], [0.0, 2014.0], [0.03995828080549562, 2015.0], [0.04290300449146236, 2016.0], [0.0034224978002212335, 2017.0], [-0.030739515286660073, 2018.0], [-0.06603613697533169, 2019.0], [-0.03406818488522255, 2020.0], [0.0, 2014.0], [-0.02299067974715785, 2015.0], [-0.0041573203907781815, 2016.0], [0.0, 2019.0], [-0.016285718365433875, 2020.0]], \"hovertemplate\": \"<b>%{hovertext}</b><br><br>Seed_Type=Reseed<br>Intervention Year=%{x}<br>Smoothed NDVI anomaly=%{customdata[0]}<br>Year=%{customdata[1]}<extra></extra>\", \"hovertext\": [1265.0, 1265.0, 1265.0, 1265.0, 1265.0, 1265.0, 1265.0, 1265.0, 1558.0, 1558.0, 1558.0, 1558.0, 1558.0, 1558.0, 1558.0, 1588.0, 1588.0, 1588.0, 1588.0, 1588.0, 1588.0, 1588.0, 1589.0, 1589.0, 1589.0, 1589.0, 1589.0, 1589.0, 1589.0, 1590.0, 1590.0, 1590.0, 1590.0, 1590.0, 1590.0, 1590.0, 1601.0, 1601.0, 1601.0, 1601.0, 1601.0, 1601.0, 1601.0, 1608.0, 1608.0, 1608.0, 1608.0, 1608.0, 1608.0, 1608.0, 1655.0, 1655.0, 1655.0, 1655.0, 1655.0, 1655.0, 1655.0, 2646.0, 2646.0], \"legendgroup\": \"Reseed\", \"marker\": {\"color\": \"rgb(221,132,82)\", \"size\": 10, \"symbol\": \"circle\"}, \"mode\": \"markers\", \"name\": \"Reseed\", \"showlegend\": true, \"type\": \"scatter\", \"x\": [4, 5, 6, 7, 0, 1, 2, 3, 3, 4, 5, 6, 0, 1, 2, 3, 4, 5, 6, 0, 1, 2, 3, 4, 5, 6, 0, 1, 2, 3, 4, 5, 6, 0, 1, 2, 3, 4, 5, 6, 0, 1, 2, 3, 4, 5, 6, 0, 1, 2, 3, 4, 5, 6, 0, 1, 2, 0, 1], \"xaxis\": \"x\", \"y\": [0.07349564867108566, 0.024375306618368515, 0.008925701863654944, 0.015134076850939362, 0.0, 0.0552705500868243, 0.07293680686325663, 0.07202845415289895, 0.018102271410676458, -0.013563286998034019, -0.031054198899674264, 0.00929064109920581, 0.0, -0.024532698159295655, -0.003724833044599435, 0.027225157344212967, -0.0063461881715376695, -0.042109950986908805, -0.03206818339066614, 0.0, 0.0016485994314174518, 0.021140885209953015, 0.08149662899690484, 0.044415649421544696, 0.0177588449596731, 0.032083746757240524, 0.0, 0.04117989964645905, 0.08140951414202621, 0.061667773473024066, 0.022270900980642095, -0.018887348175130048, 0.0018636900135770365, 0.0, 0.011119999708114978, 0.04374713945400117, -0.013469238493128158, -0.05128906324393124, -0.08715583890958871, -0.07726523152054969, 0.0, -0.04484074763834852, -0.022915187153781602, 0.05292448589850675, 0.023028935923208798, 0.004386564461143678, 0.023434434811862127, 0.0, 0.03995828080549562, 0.04290300449146236, 0.0034224978002212335, -0.030739515286660073, -0.06603613697533169, -0.03406818488522255, 0.0, -0.02299067974715785, -0.0041573203907781815, 0.0, -0.016285718365433875], \"yaxis\": \"y\"}, {\"customdata\": [[0.17911936688385346, 2017.0], [0.19993962890742065, 2018.0], [0.19562742844671135, 2019.0], [0.19082346508332096, 2020.0], [0.0, 2015.0], [0.11007335753804762, 2016.0], [0.0, 2017.0], [-0.03165778558967049, 2018.0], [-0.049128852450438514, 2019.0], [-0.008813112515775389, 2020.0], [0.0, 2018.0], [0.04094340011498103, 2019.0], [0.16723116576992153, 2020.0], [0.0, 2018.0], [-0.05498241167156842, 2019.0], [-0.028000767487291738, 2020.0], [0.0, 2018.0], [-0.031988942690820386, 2019.0], [0.0012936906421627764, 2020.0], [0.0, 2018.0], [-0.017542748363242093, 2019.0], [-0.008003806842938811, 2020.0], [0.0, 2018.0], [-0.013261470481806335, 2019.0], [-0.004999540419671518, 2020.0], [0.0, 2018.0], [-0.011792221100728546, 2019.0], [0.0037521545833074663, 2020.0], [0.0, 2018.0], [-0.23696954436887765, 2019.0], [-0.16414697450020202, 2020.0], [0.0, 2019.0], [0.024778663728606074, 2020.0], [0.0, 2019.0], [0.037376747656807395, 2020.0], [0.0, 2019.0], [0.02124347679503742, 2020.0], [0.0, 2019.0], [0.03089776513247989, 2020.0], [0.0, 2019.0], [0.009853718814049353, 2020.0], [0.0, 2019.0], [0.004283721418666286, 2020.0], [0.0, 2019.0], [0.0024500834561821867, 2020.0], [0.0, 2019.0], [0.0010891122828465497, 2020.0], [0.0, 2019.0], [-0.008746327144479982, 2020.0], [0.0, 2019.0], [-0.0031490174229395545, 2020.0], [0.0, 2019.0], [0.006066886000044504, 2020.0], [0.0, 2019.0], [0.02765309923831756, 2020.0], [0.0, 2019.0], [0.028966673999527598, 2020.0], [0.0, 2019.0], [0.003790329541463394, 2020.0], [0.0, 2019.0], [-0.006679357056303672, 2020.0], [0.0, 2019.0], [-0.0024075393304806136, 2020.0]], \"hovertemplate\": \"<b>%{hovertext}</b><br><br>Seed_Type=Interseed<br>Intervention Year=%{x}<br>Smoothed NDVI anomaly=%{customdata[0]}<br>Year=%{customdata[1]}<extra></extra>\", \"hovertext\": [2335.0, 2335.0, 2335.0, 2335.0, 2335.0, 2335.0, 2577.0, 2577.0, 2577.0, 2577.0, 2581.0, 2581.0, 2581.0, 2586.0, 2586.0, 2586.0, 2587.0, 2587.0, 2587.0, 2599.0, 2599.0, 2599.0, 2600.0, 2600.0, 2600.0, 2601.0, 2601.0, 2601.0, 2604.0, 2604.0, 2604.0, 2609.0, 2609.0, 2614.0, 2614.0, 2615.0, 2615.0, 2620.0, 2620.0, 2621.0, 2621.0, 2622.0, 2622.0, 2623.0, 2623.0, 2624.0, 2624.0, 2626.0, 2626.0, 2627.0, 2627.0, 2628.0, 2628.0, 2633.0, 2633.0, 2634.0, 2634.0, 2645.0, 2645.0, 2648.0, 2648.0, 2650.0, 2650.0], \"legendgroup\": \"Interseed\", \"marker\": {\"color\": \"rgb(85,168,104)\", \"size\": 10, \"symbol\": \"circle\"}, \"mode\": \"markers\", \"name\": \"Interseed\", \"showlegend\": true, \"type\": \"scatter\", \"x\": [2, 3, 4, 5, 0, 1, 0, 1, 2, 3, 0, 1, 2, 0, 1, 2, 0, 1, 2, 0, 1, 2, 0, 1, 2, 0, 1, 2, 0, 1, 2, 0, 1, 0, 1, 0, 1, 0, 1, 0, 1, 0, 1, 0, 1, 0, 1, 0, 1, 0, 1, 0, 1, 0, 1, 0, 1, 0, 1, 0, 1, 0, 1], \"xaxis\": \"x\", \"y\": [0.17911936688385346, 0.19993962890742065, 0.19562742844671135, 0.19082346508332096, 0.0, 0.11007335753804762, 0.0, -0.03165778558967049, -0.049128852450438514, -0.008813112515775389, 0.0, 0.04094340011498103, 0.16723116576992153, 0.0, -0.05498241167156842, -0.028000767487291738, 0.0, -0.031988942690820386, 0.0012936906421627764, 0.0, -0.017542748363242093, -0.008003806842938811, 0.0, -0.013261470481806335, -0.004999540419671518, 0.0, -0.011792221100728546, 0.0037521545833074663, 0.0, -0.23696954436887765, -0.16414697450020202, 0.0, 0.024778663728606074, 0.0, 0.037376747656807395, 0.0, 0.02124347679503742, 0.0, 0.03089776513247989, 0.0, 0.009853718814049353, 0.0, 0.004283721418666286, 0.0, 0.0024500834561821867, 0.0, 0.0010891122828465497, 0.0, -0.008746327144479982, 0.0, -0.0031490174229395545, 0.0, 0.006066886000044504, 0.0, 0.02765309923831756, 0.0, 0.028966673999527598, 0.0, 0.003790329541463394, 0.0, -0.006679357056303672, 0.0, -0.0024075393304806136], \"yaxis\": \"y\"}, {\"line\": {\"color\": \"gray\", \"width\": 1}, \"mode\": \"lines\", \"showlegend\": false, \"type\": \"scatter\", \"x\": [0, 1, 2, 3], \"y\": [0.0, 0.04213838428608468, 0.10680272423756201, 0.22590806707036798]}, {\"line\": {\"color\": \"gray\", \"width\": 1}, \"mode\": \"lines\", \"showlegend\": false, \"type\": \"scatter\", \"x\": [0, 1, 2, 3, 4, 5, 6, 7], \"y\": [0.0, -0.00420797970386607, 0.053757553956524935, 0.10953241917863563, 0.127155000316543, 0.11195333853674742, 0.09722513026987481, 0.09818818165940336]}, {\"line\": {\"color\": \"gray\", \"width\": 1}, \"mode\": \"lines\", \"showlegend\": false, \"type\": \"scatter\", \"x\": [0, 1, 2, 3, 4, 5, 6, 7], \"y\": [0.0, -0.03760179049564901, -0.042967767110642624, -0.018404979420472662, -0.021546285089806234, -0.05774007696600975, -0.10577641182580097, -0.09581669369798816]}, {\"line\": {\"color\": \"gray\", \"width\": 1}, \"mode\": \"lines\", \"showlegend\": false, \"type\": \"scatter\", \"x\": [0, 1, 2, 3, 4, 5, 6, 7], \"y\": [0.0, -0.00550241574792342, 0.0440858226522128, 0.11067633765387835, 0.11482297798800754, 0.07729442922891211, 0.04027037430644306, 0.047464123331848816]}, {\"line\": {\"color\": \"gray\", \"width\": 1}, \"mode\": \"lines\", \"showlegend\": false, \"type\": \"scatter\", \"x\": [0, 1, 2, 3, 4, 5, 6, 7], \"y\": [0.0, 0.0552705500868243, 0.07293680686325663, 0.07202845415289895, 0.07349564867108566, 0.024375306618368515, 0.008925701863654944, 0.015134076850939362]}, {\"line\": {\"color\": \"gray\", \"width\": 1}, \"mode\": \"lines\", \"showlegend\": false, \"type\": \"scatter\", \"x\": [0, 1, 2, 3, 4, 5, 6, 7], \"y\": [0.0, 0.005558191927168629, 0.029069594038752214, 0.06507706914662716, 0.05830699939196575, 0.009393124321957387, -0.02164331330940806, -0.004801908282868728]}, {\"line\": {\"color\": \"gray\", \"width\": 1}, \"mode\": \"lines\", \"showlegend\": false, \"type\": \"scatter\", \"x\": [0, 1, 2, 3, 4, 5, 6, 7], \"y\": [0.0, -0.01580229989638273, 0.02242698147813086, 0.06877476722188779, 0.0489195707798753, 0.004650325717891114, -0.018798567863223693, 0.018641762743887704]}, {\"line\": {\"color\": \"gray\", \"width\": 1}, \"mode\": \"lines\", \"showlegend\": false, \"type\": \"scatter\", \"x\": [0, 1, 2, 3, 4, 5, 6], \"y\": [0.0, -0.024532698159295655, -0.003724833044599435, 0.018102271410676458, -0.013563286998034019, -0.031054198899674264, 0.00929064109920581]}, {\"line\": {\"color\": \"gray\", \"width\": 1}, \"mode\": \"lines\", \"showlegend\": false, \"type\": \"scatter\", \"x\": [0, 1, 2, 3, 4, 5, 6], \"y\": [0.0, 0.0016485994314174518, 0.021140885209953015, 0.027225157344212967, -0.0063461881715376695, -0.042109950986908805, -0.03206818339066614]}, {\"line\": {\"color\": \"gray\", \"width\": 1}, \"mode\": \"lines\", \"showlegend\": false, \"type\": \"scatter\", \"x\": [0, 1, 2, 3, 4, 5, 6], \"y\": [0.0, 0.04117989964645905, 0.08140951414202621, 0.08149662899690484, 0.044415649421544696, 0.0177588449596731, 0.032083746757240524]}, {\"line\": {\"color\": \"gray\", \"width\": 1}, \"mode\": \"lines\", \"showlegend\": false, \"type\": \"scatter\", \"x\": [0, 1, 2, 3, 4, 5, 6], \"y\": [0.0, 0.011119999708114978, 0.04374713945400117, 0.061667773473024066, 0.022270900980642095, -0.018887348175130048, 0.0018636900135770365]}, {\"line\": {\"color\": \"gray\", \"width\": 1}, \"mode\": \"lines\", \"showlegend\": false, \"type\": \"scatter\", \"x\": [0, 1, 2, 3, 4, 5, 6], \"y\": [0.0, 0.04130524634491568, 0.14200824857985297, 0.201747655329554, 0.213962652351716, 0.21169029599472886, 0.2094098283914354]}, {\"line\": {\"color\": \"gray\", \"width\": 1}, \"mode\": \"lines\", \"showlegend\": false, \"type\": \"scatter\", \"x\": [0, 1, 2, 3, 4, 5, 6], \"y\": [0.0, -0.04484074763834852, -0.022915187153781602, -0.013469238493128158, -0.05128906324393124, -0.08715583890958871, -0.07726523152054969]}, {\"line\": {\"color\": \"gray\", \"width\": 1}, \"mode\": \"lines\", \"showlegend\": false, \"type\": \"scatter\", \"x\": [0, 1, 2, 3, 4, 5, 6], \"y\": [0.0, 0.03995828080549562, 0.04290300449146236, 0.05292448589850675, 0.023028935923208798, 0.004386564461143678, 0.023434434811862127]}, {\"line\": {\"color\": \"gray\", \"width\": 1}, \"mode\": \"lines\", \"showlegend\": false, \"type\": \"scatter\", \"x\": [0, 1, 2, 3, 4, 5, 6], \"y\": [0.0, -0.02299067974715785, -0.0041573203907781815, 0.0034224978002212335, -0.030739515286660073, -0.06603613697533169, -0.03406818488522255]}, {\"line\": {\"color\": \"gray\", \"width\": 1}, \"mode\": \"lines\", \"showlegend\": false, \"type\": \"scatter\", \"x\": [0, 1, 2, 3, 4, 5], \"y\": [0.0, 0.11007335753804762, 0.17911936688385346, 0.19993962890742065, 0.19562742844671135, 0.19082346508332096]}, {\"line\": {\"color\": \"gray\", \"width\": 1}, \"mode\": \"lines\", \"showlegend\": false, \"type\": \"scatter\", \"x\": [0, 1, 2, 3], \"y\": [0.0, -0.001982402498716574, 0.007325356748122692, 0.059114935767953174]}, {\"line\": {\"color\": \"gray\", \"width\": 1}, \"mode\": \"lines\", \"showlegend\": false, \"type\": \"scatter\", \"x\": [0, 1, 2, 3], \"y\": [0.0, -0.03165778558967049, -0.049128852450438514, -0.008813112515775389]}, {\"line\": {\"color\": \"gray\", \"width\": 1}, \"mode\": \"lines\", \"showlegend\": false, \"type\": \"scatter\", \"x\": [0, 1, 2], \"y\": [0.0, 0.04094340011498103, 0.16723116576992153]}, {\"line\": {\"color\": \"gray\", \"width\": 1}, \"mode\": \"lines\", \"showlegend\": false, \"type\": \"scatter\", \"x\": [0, 1, 2], \"y\": [0.0, -0.05498241167156842, -0.028000767487291738]}, {\"line\": {\"color\": \"gray\", \"width\": 1}, \"mode\": \"lines\", \"showlegend\": false, \"type\": \"scatter\", \"x\": [0, 1, 2], \"y\": [0.0, -0.031988942690820386, 0.0012936906421627764]}, {\"line\": {\"color\": \"gray\", \"width\": 1}, \"mode\": \"lines\", \"showlegend\": false, \"type\": \"scatter\", \"x\": [0, 1, 2], \"y\": [0.0, -0.017542748363242093, -0.008003806842938811]}, {\"line\": {\"color\": \"gray\", \"width\": 1}, \"mode\": \"lines\", \"showlegend\": false, \"type\": \"scatter\", \"x\": [0, 1, 2], \"y\": [0.0, -0.013261470481806335, -0.004999540419671518]}, {\"line\": {\"color\": \"gray\", \"width\": 1}, \"mode\": \"lines\", \"showlegend\": false, \"type\": \"scatter\", \"x\": [0, 1, 2], \"y\": [0.0, -0.011792221100728546, 0.0037521545833074663]}, {\"line\": {\"color\": \"gray\", \"width\": 1}, \"mode\": \"lines\", \"showlegend\": false, \"type\": \"scatter\", \"x\": [0, 1, 2], \"y\": [0.0, -0.23696954436887765, -0.16414697450020202]}, {\"line\": {\"color\": \"gray\", \"width\": 1}, \"mode\": \"lines\", \"showlegend\": false, \"type\": \"scatter\", \"x\": [0, 1], \"y\": [0.0, 0.024778663728606074]}, {\"line\": {\"color\": \"gray\", \"width\": 1}, \"mode\": \"lines\", \"showlegend\": false, \"type\": \"scatter\", \"x\": [0, 1], \"y\": [0.0, 0.037376747656807395]}, {\"line\": {\"color\": \"gray\", \"width\": 1}, \"mode\": \"lines\", \"showlegend\": false, \"type\": \"scatter\", \"x\": [0, 1], \"y\": [0.0, 0.02124347679503742]}, {\"line\": {\"color\": \"gray\", \"width\": 1}, \"mode\": \"lines\", \"showlegend\": false, \"type\": \"scatter\", \"x\": [0, 1], \"y\": [0.0, 0.03089776513247989]}, {\"line\": {\"color\": \"gray\", \"width\": 1}, \"mode\": \"lines\", \"showlegend\": false, \"type\": \"scatter\", \"x\": [0, 1], \"y\": [0.0, 0.009853718814049353]}, {\"line\": {\"color\": \"gray\", \"width\": 1}, \"mode\": \"lines\", \"showlegend\": false, \"type\": \"scatter\", \"x\": [0, 1], \"y\": [0.0, 0.004283721418666286]}, {\"line\": {\"color\": \"gray\", \"width\": 1}, \"mode\": \"lines\", \"showlegend\": false, \"type\": \"scatter\", \"x\": [0, 1], \"y\": [0.0, 0.0024500834561821867]}, {\"line\": {\"color\": \"gray\", \"width\": 1}, \"mode\": \"lines\", \"showlegend\": false, \"type\": \"scatter\", \"x\": [0, 1], \"y\": [0.0, 0.0010891122828465497]}, {\"line\": {\"color\": \"gray\", \"width\": 1}, \"mode\": \"lines\", \"showlegend\": false, \"type\": \"scatter\", \"x\": [0, 1], \"y\": [0.0, -0.008746327144479982]}, {\"line\": {\"color\": \"gray\", \"width\": 1}, \"mode\": \"lines\", \"showlegend\": false, \"type\": \"scatter\", \"x\": [0, 1], \"y\": [0.0, -0.0031490174229395545]}, {\"line\": {\"color\": \"gray\", \"width\": 1}, \"mode\": \"lines\", \"showlegend\": false, \"type\": \"scatter\", \"x\": [0, 1], \"y\": [0.0, 0.006066886000044504]}, {\"line\": {\"color\": \"gray\", \"width\": 1}, \"mode\": \"lines\", \"showlegend\": false, \"type\": \"scatter\", \"x\": [0, 1], \"y\": [0.0, 0.02765309923831756]}, {\"line\": {\"color\": \"gray\", \"width\": 1}, \"mode\": \"lines\", \"showlegend\": false, \"type\": \"scatter\", \"x\": [0, 1], \"y\": [0.0, 0.028966673999527598]}, {\"line\": {\"color\": \"gray\", \"width\": 1}, \"mode\": \"lines\", \"showlegend\": false, \"type\": \"scatter\", \"x\": [0, 1], \"y\": [0.0, 0.003790329541463394]}, {\"line\": {\"color\": \"gray\", \"width\": 1}, \"mode\": \"lines\", \"showlegend\": false, \"type\": \"scatter\", \"x\": [0, 1], \"y\": [0.0, -0.016285718365433875]}, {\"line\": {\"color\": \"gray\", \"width\": 1}, \"mode\": \"lines\", \"showlegend\": false, \"type\": \"scatter\", \"x\": [0, 1], \"y\": [0.0, -0.006679357056303672]}, {\"line\": {\"color\": \"gray\", \"width\": 1}, \"mode\": \"lines\", \"showlegend\": false, \"type\": \"scatter\", \"x\": [0, 1], \"y\": [0.0, -0.0024075393304806136]}],\n",
       "                        {\"annotations\": [{\"showarrow\": false, \"text\": \"Source: Landsat 8 data from USGS\", \"x\": 0.01, \"xref\": \"paper\", \"y\": 0.01, \"yref\": \"paper\"}], \"height\": 700, \"legend\": {\"title\": {\"text\": \"Seed_Type\"}, \"tracegroupgap\": 0}, \"showlegend\": true, \"template\": {\"data\": {\"bar\": [{\"error_x\": {\"color\": \"rgb(36,36,36)\"}, \"error_y\": {\"color\": \"rgb(36,36,36)\"}, \"marker\": {\"line\": {\"color\": \"rgb(234,234,242)\", \"width\": 0.5}}, \"type\": \"bar\"}], \"barpolar\": [{\"marker\": {\"line\": {\"color\": \"rgb(234,234,242)\", \"width\": 0.5}}, \"type\": \"barpolar\"}], \"carpet\": [{\"aaxis\": {\"endlinecolor\": \"rgb(36,36,36)\", \"gridcolor\": \"white\", \"linecolor\": \"white\", \"minorgridcolor\": \"white\", \"startlinecolor\": \"rgb(36,36,36)\"}, \"baxis\": {\"endlinecolor\": \"rgb(36,36,36)\", \"gridcolor\": \"white\", \"linecolor\": \"white\", \"minorgridcolor\": \"white\", \"startlinecolor\": \"rgb(36,36,36)\"}, \"type\": \"carpet\"}], \"choropleth\": [{\"colorbar\": {\"outlinewidth\": 0, \"tickcolor\": \"rgb(36,36,36)\", \"ticklen\": 8, \"ticks\": \"outside\", \"tickwidth\": 2}, \"type\": \"choropleth\"}], \"contour\": [{\"colorbar\": {\"outlinewidth\": 0, \"tickcolor\": \"rgb(36,36,36)\", \"ticklen\": 8, \"ticks\": \"outside\", \"tickwidth\": 2}, \"colorscale\": [[0.0, \"rgb(2,4,25)\"], [0.06274509803921569, \"rgb(24,15,41)\"], [0.12549019607843137, \"rgb(47,23,57)\"], [0.18823529411764706, \"rgb(71,28,72)\"], [0.25098039215686274, \"rgb(97,30,82)\"], [0.3137254901960784, \"rgb(123,30,89)\"], [0.3764705882352941, \"rgb(150,27,91)\"], [0.4392156862745098, \"rgb(177,22,88)\"], [0.5019607843137255, \"rgb(203,26,79)\"], [0.5647058823529412, \"rgb(223,47,67)\"], [0.6274509803921569, \"rgb(236,76,61)\"], [0.6901960784313725, \"rgb(242,107,73)\"], [0.7529411764705882, \"rgb(244,135,95)\"], [0.8156862745098039, \"rgb(245,162,122)\"], [0.8784313725490196, \"rgb(246,188,153)\"], [0.9411764705882353, \"rgb(247,212,187)\"], [1.0, \"rgb(250,234,220)\"]], \"type\": \"contour\"}], \"contourcarpet\": [{\"colorbar\": {\"outlinewidth\": 0, \"tickcolor\": \"rgb(36,36,36)\", \"ticklen\": 8, \"ticks\": \"outside\", \"tickwidth\": 2}, \"type\": \"contourcarpet\"}], \"heatmap\": [{\"colorbar\": {\"outlinewidth\": 0, \"tickcolor\": \"rgb(36,36,36)\", \"ticklen\": 8, \"ticks\": \"outside\", \"tickwidth\": 2}, \"colorscale\": [[0.0, \"rgb(2,4,25)\"], [0.06274509803921569, \"rgb(24,15,41)\"], [0.12549019607843137, \"rgb(47,23,57)\"], [0.18823529411764706, \"rgb(71,28,72)\"], [0.25098039215686274, \"rgb(97,30,82)\"], [0.3137254901960784, \"rgb(123,30,89)\"], [0.3764705882352941, \"rgb(150,27,91)\"], [0.4392156862745098, \"rgb(177,22,88)\"], [0.5019607843137255, \"rgb(203,26,79)\"], [0.5647058823529412, \"rgb(223,47,67)\"], [0.6274509803921569, \"rgb(236,76,61)\"], [0.6901960784313725, \"rgb(242,107,73)\"], [0.7529411764705882, \"rgb(244,135,95)\"], [0.8156862745098039, \"rgb(245,162,122)\"], [0.8784313725490196, \"rgb(246,188,153)\"], [0.9411764705882353, \"rgb(247,212,187)\"], [1.0, \"rgb(250,234,220)\"]], \"type\": \"heatmap\"}], \"heatmapgl\": [{\"colorbar\": {\"outlinewidth\": 0, \"tickcolor\": \"rgb(36,36,36)\", \"ticklen\": 8, \"ticks\": \"outside\", \"tickwidth\": 2}, \"colorscale\": [[0.0, \"rgb(2,4,25)\"], [0.06274509803921569, \"rgb(24,15,41)\"], [0.12549019607843137, \"rgb(47,23,57)\"], [0.18823529411764706, \"rgb(71,28,72)\"], [0.25098039215686274, \"rgb(97,30,82)\"], [0.3137254901960784, \"rgb(123,30,89)\"], [0.3764705882352941, \"rgb(150,27,91)\"], [0.4392156862745098, \"rgb(177,22,88)\"], [0.5019607843137255, \"rgb(203,26,79)\"], [0.5647058823529412, \"rgb(223,47,67)\"], [0.6274509803921569, \"rgb(236,76,61)\"], [0.6901960784313725, \"rgb(242,107,73)\"], [0.7529411764705882, \"rgb(244,135,95)\"], [0.8156862745098039, \"rgb(245,162,122)\"], [0.8784313725490196, \"rgb(246,188,153)\"], [0.9411764705882353, \"rgb(247,212,187)\"], [1.0, \"rgb(250,234,220)\"]], \"type\": \"heatmapgl\"}], \"histogram\": [{\"marker\": {\"colorbar\": {\"outlinewidth\": 0, \"tickcolor\": \"rgb(36,36,36)\", \"ticklen\": 8, \"ticks\": \"outside\", \"tickwidth\": 2}}, \"type\": \"histogram\"}], \"histogram2d\": [{\"colorbar\": {\"outlinewidth\": 0, \"tickcolor\": \"rgb(36,36,36)\", \"ticklen\": 8, \"ticks\": \"outside\", \"tickwidth\": 2}, \"colorscale\": [[0.0, \"rgb(2,4,25)\"], [0.06274509803921569, \"rgb(24,15,41)\"], [0.12549019607843137, \"rgb(47,23,57)\"], [0.18823529411764706, \"rgb(71,28,72)\"], [0.25098039215686274, \"rgb(97,30,82)\"], [0.3137254901960784, \"rgb(123,30,89)\"], [0.3764705882352941, \"rgb(150,27,91)\"], [0.4392156862745098, \"rgb(177,22,88)\"], [0.5019607843137255, \"rgb(203,26,79)\"], [0.5647058823529412, \"rgb(223,47,67)\"], [0.6274509803921569, \"rgb(236,76,61)\"], [0.6901960784313725, \"rgb(242,107,73)\"], [0.7529411764705882, \"rgb(244,135,95)\"], [0.8156862745098039, \"rgb(245,162,122)\"], [0.8784313725490196, \"rgb(246,188,153)\"], [0.9411764705882353, \"rgb(247,212,187)\"], [1.0, \"rgb(250,234,220)\"]], \"type\": \"histogram2d\"}], \"histogram2dcontour\": [{\"colorbar\": {\"outlinewidth\": 0, \"tickcolor\": \"rgb(36,36,36)\", \"ticklen\": 8, \"ticks\": \"outside\", \"tickwidth\": 2}, \"colorscale\": [[0.0, \"rgb(2,4,25)\"], [0.06274509803921569, \"rgb(24,15,41)\"], [0.12549019607843137, \"rgb(47,23,57)\"], [0.18823529411764706, \"rgb(71,28,72)\"], [0.25098039215686274, \"rgb(97,30,82)\"], [0.3137254901960784, \"rgb(123,30,89)\"], [0.3764705882352941, \"rgb(150,27,91)\"], [0.4392156862745098, \"rgb(177,22,88)\"], [0.5019607843137255, \"rgb(203,26,79)\"], [0.5647058823529412, \"rgb(223,47,67)\"], [0.6274509803921569, \"rgb(236,76,61)\"], [0.6901960784313725, \"rgb(242,107,73)\"], [0.7529411764705882, \"rgb(244,135,95)\"], [0.8156862745098039, \"rgb(245,162,122)\"], [0.8784313725490196, \"rgb(246,188,153)\"], [0.9411764705882353, \"rgb(247,212,187)\"], [1.0, \"rgb(250,234,220)\"]], \"type\": \"histogram2dcontour\"}], \"mesh3d\": [{\"colorbar\": {\"outlinewidth\": 0, \"tickcolor\": \"rgb(36,36,36)\", \"ticklen\": 8, \"ticks\": \"outside\", \"tickwidth\": 2}, \"type\": \"mesh3d\"}], \"parcoords\": [{\"line\": {\"colorbar\": {\"outlinewidth\": 0, \"tickcolor\": \"rgb(36,36,36)\", \"ticklen\": 8, \"ticks\": \"outside\", \"tickwidth\": 2}}, \"type\": \"parcoords\"}], \"pie\": [{\"automargin\": true, \"type\": \"pie\"}], \"scatter\": [{\"marker\": {\"colorbar\": {\"outlinewidth\": 0, \"tickcolor\": \"rgb(36,36,36)\", \"ticklen\": 8, \"ticks\": \"outside\", \"tickwidth\": 2}}, \"type\": \"scatter\"}], \"scatter3d\": [{\"line\": {\"colorbar\": {\"outlinewidth\": 0, \"tickcolor\": \"rgb(36,36,36)\", \"ticklen\": 8, \"ticks\": \"outside\", \"tickwidth\": 2}}, \"marker\": {\"colorbar\": {\"outlinewidth\": 0, \"tickcolor\": \"rgb(36,36,36)\", \"ticklen\": 8, \"ticks\": \"outside\", \"tickwidth\": 2}}, \"type\": \"scatter3d\"}], \"scattercarpet\": [{\"marker\": {\"colorbar\": {\"outlinewidth\": 0, \"tickcolor\": \"rgb(36,36,36)\", \"ticklen\": 8, \"ticks\": \"outside\", \"tickwidth\": 2}}, \"type\": \"scattercarpet\"}], \"scattergeo\": [{\"marker\": {\"colorbar\": {\"outlinewidth\": 0, \"tickcolor\": \"rgb(36,36,36)\", \"ticklen\": 8, \"ticks\": \"outside\", \"tickwidth\": 2}}, \"type\": \"scattergeo\"}], \"scattergl\": [{\"marker\": {\"colorbar\": {\"outlinewidth\": 0, \"tickcolor\": \"rgb(36,36,36)\", \"ticklen\": 8, \"ticks\": \"outside\", \"tickwidth\": 2}}, \"type\": \"scattergl\"}], \"scattermapbox\": [{\"marker\": {\"colorbar\": {\"outlinewidth\": 0, \"tickcolor\": \"rgb(36,36,36)\", \"ticklen\": 8, \"ticks\": \"outside\", \"tickwidth\": 2}}, \"type\": \"scattermapbox\"}], \"scatterpolar\": [{\"marker\": {\"colorbar\": {\"outlinewidth\": 0, \"tickcolor\": \"rgb(36,36,36)\", \"ticklen\": 8, \"ticks\": \"outside\", \"tickwidth\": 2}}, \"type\": \"scatterpolar\"}], \"scatterpolargl\": [{\"marker\": {\"colorbar\": {\"outlinewidth\": 0, \"tickcolor\": \"rgb(36,36,36)\", \"ticklen\": 8, \"ticks\": \"outside\", \"tickwidth\": 2}}, \"type\": \"scatterpolargl\"}], \"scatterternary\": [{\"marker\": {\"colorbar\": {\"outlinewidth\": 0, \"tickcolor\": \"rgb(36,36,36)\", \"ticklen\": 8, \"ticks\": \"outside\", \"tickwidth\": 2}}, \"type\": \"scatterternary\"}], \"surface\": [{\"colorbar\": {\"outlinewidth\": 0, \"tickcolor\": \"rgb(36,36,36)\", \"ticklen\": 8, \"ticks\": \"outside\", \"tickwidth\": 2}, \"colorscale\": [[0.0, \"rgb(2,4,25)\"], [0.06274509803921569, \"rgb(24,15,41)\"], [0.12549019607843137, \"rgb(47,23,57)\"], [0.18823529411764706, \"rgb(71,28,72)\"], [0.25098039215686274, \"rgb(97,30,82)\"], [0.3137254901960784, \"rgb(123,30,89)\"], [0.3764705882352941, \"rgb(150,27,91)\"], [0.4392156862745098, \"rgb(177,22,88)\"], [0.5019607843137255, \"rgb(203,26,79)\"], [0.5647058823529412, \"rgb(223,47,67)\"], [0.6274509803921569, \"rgb(236,76,61)\"], [0.6901960784313725, \"rgb(242,107,73)\"], [0.7529411764705882, \"rgb(244,135,95)\"], [0.8156862745098039, \"rgb(245,162,122)\"], [0.8784313725490196, \"rgb(246,188,153)\"], [0.9411764705882353, \"rgb(247,212,187)\"], [1.0, \"rgb(250,234,220)\"]], \"type\": \"surface\"}], \"table\": [{\"cells\": {\"fill\": {\"color\": \"rgb(231,231,240)\"}, \"line\": {\"color\": \"white\"}}, \"header\": {\"fill\": {\"color\": \"rgb(183,183,191)\"}, \"line\": {\"color\": \"white\"}}, \"type\": \"table\"}]}, \"layout\": {\"annotationdefaults\": {\"arrowcolor\": \"rgb(67,103,167)\"}, \"coloraxis\": {\"colorbar\": {\"outlinewidth\": 0, \"tickcolor\": \"rgb(36,36,36)\", \"ticklen\": 8, \"ticks\": \"outside\", \"tickwidth\": 2}}, \"colorscale\": {\"sequential\": [[0.0, \"rgb(2,4,25)\"], [0.06274509803921569, \"rgb(24,15,41)\"], [0.12549019607843137, \"rgb(47,23,57)\"], [0.18823529411764706, \"rgb(71,28,72)\"], [0.25098039215686274, \"rgb(97,30,82)\"], [0.3137254901960784, \"rgb(123,30,89)\"], [0.3764705882352941, \"rgb(150,27,91)\"], [0.4392156862745098, \"rgb(177,22,88)\"], [0.5019607843137255, \"rgb(203,26,79)\"], [0.5647058823529412, \"rgb(223,47,67)\"], [0.6274509803921569, \"rgb(236,76,61)\"], [0.6901960784313725, \"rgb(242,107,73)\"], [0.7529411764705882, \"rgb(244,135,95)\"], [0.8156862745098039, \"rgb(245,162,122)\"], [0.8784313725490196, \"rgb(246,188,153)\"], [0.9411764705882353, \"rgb(247,212,187)\"], [1.0, \"rgb(250,234,220)\"]], \"sequentialminus\": [[0.0, \"rgb(2,4,25)\"], [0.06274509803921569, \"rgb(24,15,41)\"], [0.12549019607843137, \"rgb(47,23,57)\"], [0.18823529411764706, \"rgb(71,28,72)\"], [0.25098039215686274, \"rgb(97,30,82)\"], [0.3137254901960784, \"rgb(123,30,89)\"], [0.3764705882352941, \"rgb(150,27,91)\"], [0.4392156862745098, \"rgb(177,22,88)\"], [0.5019607843137255, \"rgb(203,26,79)\"], [0.5647058823529412, \"rgb(223,47,67)\"], [0.6274509803921569, \"rgb(236,76,61)\"], [0.6901960784313725, \"rgb(242,107,73)\"], [0.7529411764705882, \"rgb(244,135,95)\"], [0.8156862745098039, \"rgb(245,162,122)\"], [0.8784313725490196, \"rgb(246,188,153)\"], [0.9411764705882353, \"rgb(247,212,187)\"], [1.0, \"rgb(250,234,220)\"]]}, \"colorway\": [\"rgb(76,114,176)\", \"rgb(221,132,82)\", \"rgb(85,168,104)\", \"rgb(196,78,82)\", \"rgb(129,114,179)\", \"rgb(147,120,96)\", \"rgb(218,139,195)\", \"rgb(140,140,140)\", \"rgb(204,185,116)\", \"rgb(100,181,205)\"], \"font\": {\"color\": \"rgb(36,36,36)\"}, \"geo\": {\"bgcolor\": \"white\", \"lakecolor\": \"white\", \"landcolor\": \"rgb(234,234,242)\", \"showlakes\": true, \"showland\": true, \"subunitcolor\": \"white\"}, \"hoverlabel\": {\"align\": \"left\"}, \"hovermode\": \"closest\", \"paper_bgcolor\": \"white\", \"plot_bgcolor\": \"rgb(234,234,242)\", \"polar\": {\"angularaxis\": {\"gridcolor\": \"white\", \"linecolor\": \"white\", \"showgrid\": true, \"ticks\": \"\"}, \"bgcolor\": \"rgb(234,234,242)\", \"radialaxis\": {\"gridcolor\": \"white\", \"linecolor\": \"white\", \"showgrid\": true, \"ticks\": \"\"}}, \"scene\": {\"xaxis\": {\"backgroundcolor\": \"rgb(234,234,242)\", \"gridcolor\": \"white\", \"gridwidth\": 2, \"linecolor\": \"white\", \"showbackground\": true, \"showgrid\": true, \"ticks\": \"\", \"zerolinecolor\": \"white\"}, \"yaxis\": {\"backgroundcolor\": \"rgb(234,234,242)\", \"gridcolor\": \"white\", \"gridwidth\": 2, \"linecolor\": \"white\", \"showbackground\": true, \"showgrid\": true, \"ticks\": \"\", \"zerolinecolor\": \"white\"}, \"zaxis\": {\"backgroundcolor\": \"rgb(234,234,242)\", \"gridcolor\": \"white\", \"gridwidth\": 2, \"linecolor\": \"white\", \"showbackground\": true, \"showgrid\": true, \"ticks\": \"\", \"zerolinecolor\": \"white\"}}, \"shapedefaults\": {\"fillcolor\": \"rgb(67,103,167)\", \"line\": {\"width\": 0}, \"opacity\": 0.5}, \"ternary\": {\"aaxis\": {\"gridcolor\": \"white\", \"linecolor\": \"white\", \"showgrid\": true, \"ticks\": \"\"}, \"baxis\": {\"gridcolor\": \"white\", \"linecolor\": \"white\", \"showgrid\": true, \"ticks\": \"\"}, \"bgcolor\": \"rgb(234,234,242)\", \"caxis\": {\"gridcolor\": \"white\", \"linecolor\": \"white\", \"showgrid\": true, \"ticks\": \"\"}}, \"xaxis\": {\"automargin\": true, \"gridcolor\": \"white\", \"linecolor\": \"white\", \"showgrid\": true, \"ticks\": \"\", \"title\": {\"standoff\": 15}, \"zerolinecolor\": \"white\"}, \"yaxis\": {\"automargin\": true, \"gridcolor\": \"white\", \"linecolor\": \"white\", \"showgrid\": true, \"ticks\": \"\", \"title\": {\"standoff\": 15}, \"zerolinecolor\": \"white\"}}}, \"title\": {\"text\": \"Plot 6 - NDVI anomaly vs intervention year for the seeding units\"}, \"width\": 900, \"xaxis\": {\"anchor\": \"y\", \"domain\": [0.0, 1.0], \"title\": {\"text\": \"Intervention Year\"}}, \"yaxis\": {\"anchor\": \"x\", \"domain\": [0.0, 1.0], \"title\": {\"text\": \"Smoothed NDVI anomaly\"}}},\n",
       "                        {\"responsive\": true}\n",
       "                    ).then(function(){\n",
       "                            \n",
       "var gd = document.getElementById('b370246e-f308-4ebf-9311-9460dca79487');\n",
       "var x = new MutationObserver(function (mutations, observer) {{\n",
       "        var display = window.getComputedStyle(gd).display;\n",
       "        if (!display || display === 'none') {{\n",
       "            console.log([gd, 'removed!']);\n",
       "            Plotly.purge(gd);\n",
       "            observer.disconnect();\n",
       "        }}\n",
       "}});\n",
       "\n",
       "// Listen for the removal of the full notebook cells\n",
       "var notebookContainer = gd.closest('#notebook-container');\n",
       "if (notebookContainer) {{\n",
       "    x.observe(notebookContainer, {childList: true});\n",
       "}}\n",
       "\n",
       "// Listen for the clearing of the current output cell\n",
       "var outputEl = gd.closest('.output');\n",
       "if (outputEl) {{\n",
       "    x.observe(outputEl, {childList: true});\n",
       "}}\n",
       "\n",
       "                        })\n",
       "                };\n",
       "                });\n",
       "            </script>\n",
       "        </div>"
      ]
     },
     "metadata": {},
     "output_type": "display_data"
    }
   ],
   "source": [
    "fig = px.scatter(su_ndvi_annual_change_df, x='Intervention_Year', y='NDVI_anomaly',\n",
    "                 labels={\n",
    "                     \"NDVI_anomaly\": \"Smoothed NDVI anomaly\",\n",
    "                     \"Intervention_Year\": \"Intervention Year\"\n",
    "                 },\n",
    "                 title='Plot 6 - NDVI anomaly vs intervention year for the seeding units',\n",
    "                 width=900, height=700,\n",
    "                 hover_name=\"SuId\", \n",
    "                 hover_data=[\"NDVI_anomaly\", \"Year\"],\n",
    "                 color=\"Seed_Type\")\n",
    "\n",
    "fig.update_traces(marker={'size': 10})\n",
    "\n",
    "for suid, data in su_ndvi_annual_change_df.sort_values('Intervention_Year', ascending=True).groupby('SuId'):\n",
    "\n",
    "    fig.add_trace(\n",
    "        go.Scatter(\n",
    "            x=data['Intervention_Year'],\n",
    "            y=data['NDVI_anomaly'],\n",
    "            mode=\"lines\",\n",
    "            line=go.scatter.Line(color=\"gray\", width= 1),\n",
    "            showlegend=False)\n",
    "    )\n",
    "\n",
    "# Credit\n",
    "fig.add_annotation(text=\"Source: Landsat 8 data from USGS\",\n",
    "                   showarrow=False,\n",
    "                   xref=\"paper\", yref=\"paper\",\n",
    "                   x=0.01, y=0.01)\n",
    "\n",
    "fig.update_layout(showlegend=True)\n",
    "fig.show()"
   ]
  },
  {
   "cell_type": "markdown",
   "id": "completed-antarctica",
   "metadata": {},
   "source": [
    "### Plot 7 - NDVI anomaly vs annual precipitation for the seeding units"
   ]
  },
  {
   "cell_type": "code",
   "execution_count": 130,
   "id": "mediterranean-isolation",
   "metadata": {
    "scrolled": false
   },
   "outputs": [
    {
     "data": {
      "application/vnd.plotly.v1+json": {
       "config": {
        "plotlyServerURL": "https://plot.ly"
       },
       "data": [
        {
         "customdata": [
          [
           0,
           2017
          ],
          [
           0.04213838428608468,
           2018
          ],
          [
           0.10680272423756201,
           2019
          ],
          [
           0.22590806707036798,
           2020
          ],
          [
           0.127155000316543,
           2017
          ],
          [
           0.11195333853674742,
           2018
          ],
          [
           0.09722513026987481,
           2019
          ],
          [
           0.09818818165940336,
           2020
          ],
          [
           0,
           2013
          ],
          [
           -0.00420797970386607,
           2014
          ],
          [
           0.053757553956524935,
           2015
          ],
          [
           0.10953241917863563,
           2016
          ],
          [
           -0.021546285089806234,
           2017
          ],
          [
           -0.05774007696600975,
           2018
          ],
          [
           -0.10577641182580097,
           2019
          ],
          [
           -0.09581669369798816,
           2020
          ],
          [
           0,
           2013
          ],
          [
           -0.03760179049564901,
           2014
          ],
          [
           -0.042967767110642624,
           2015
          ],
          [
           -0.018404979420472662,
           2016
          ],
          [
           0.11482297798800754,
           2017
          ],
          [
           0.07729442922891211,
           2018
          ],
          [
           0.04027037430644306,
           2019
          ],
          [
           0.047464123331848816,
           2020
          ],
          [
           0,
           2013
          ],
          [
           -0.00550241574792342,
           2014
          ],
          [
           0.0440858226522128,
           2015
          ],
          [
           0.11067633765387835,
           2016
          ],
          [
           0.05830699939196575,
           2017
          ],
          [
           0.009393124321957387,
           2018
          ],
          [
           -0.02164331330940806,
           2019
          ],
          [
           -0.004801908282868728,
           2020
          ],
          [
           0,
           2013
          ],
          [
           0.005558191927168629,
           2014
          ],
          [
           0.029069594038752214,
           2015
          ],
          [
           0.06507706914662716,
           2016
          ],
          [
           0.0489195707798753,
           2017
          ],
          [
           0.004650325717891114,
           2018
          ],
          [
           -0.018798567863223693,
           2019
          ],
          [
           0.018641762743887704,
           2020
          ],
          [
           0,
           2013
          ],
          [
           -0.01580229989638273,
           2014
          ],
          [
           0.02242698147813086,
           2015
          ],
          [
           0.06877476722188779,
           2016
          ],
          [
           0.201747655329554,
           2017
          ],
          [
           0.213962652351716,
           2018
          ],
          [
           0.21169029599472886,
           2019
          ],
          [
           0.2094098283914354,
           2020
          ],
          [
           0,
           2014
          ],
          [
           0.04130524634491568,
           2015
          ],
          [
           0.14200824857985297,
           2016
          ],
          [
           0,
           2017
          ],
          [
           -0.001982402498716574,
           2018
          ],
          [
           0.007325356748122692,
           2019
          ],
          [
           0.059114935767953174,
           2020
          ]
         ],
         "hovertemplate": "<b>%{hovertext}</b><br><br>Seed_Type=Seed<br>Precipitation (mm)=%{x}<br>Smoothed NDVI anomaly=%{customdata[0]}<br>Year=%{customdata[1]}<extra></extra>",
         "hovertext": [
          172,
          172,
          172,
          172,
          816,
          816,
          816,
          816,
          816,
          816,
          816,
          816,
          913,
          913,
          913,
          913,
          913,
          913,
          913,
          913,
          916,
          916,
          916,
          916,
          916,
          916,
          916,
          916,
          1314,
          1314,
          1314,
          1314,
          1314,
          1314,
          1314,
          1314,
          1319,
          1319,
          1319,
          1319,
          1319,
          1319,
          1319,
          1319,
          1594,
          1594,
          1594,
          1594,
          1594,
          1594,
          1594,
          2569,
          2569,
          2569,
          2569
         ],
         "legendgroup": "Seed",
         "marker": {
          "color": "rgb(76,114,176)",
          "symbol": "circle"
         },
         "mode": "markers",
         "name": "Seed",
         "showlegend": true,
         "type": "scatter",
         "x": [
          246.70000022649765,
          233.29999881982803,
          283.49999874830246,
          192.70000049471855,
          246.70000022649765,
          233.29999881982803,
          283.49999874830246,
          192.70000049471855,
          294.02933743596077,
          211.29819747805595,
          342.7775985598564,
          274.4563195705414,
          246.70000022649765,
          233.29999881982803,
          283.49999874830246,
          192.70000049471855,
          294.02933743596077,
          211.29819747805595,
          342.7775985598564,
          274.4563195705414,
          246.70000022649765,
          233.29999881982803,
          283.49999874830246,
          192.70000049471855,
          294.02933743596077,
          211.29819747805595,
          342.7775985598564,
          274.4563195705414,
          246.70000022649765,
          233.29999881982803,
          283.49999874830246,
          192.70000049471855,
          294.02933743596077,
          211.29819747805595,
          342.7775985598564,
          274.4563195705414,
          246.70000022649765,
          233.29999881982803,
          283.49999874830246,
          192.70000049471855,
          294.02933743596077,
          211.29819747805595,
          342.7775985598564,
          274.4563195705414,
          246.70000022649765,
          233.29999881982803,
          283.49999874830246,
          192.70000049471855,
          211.29819747805595,
          342.7775985598564,
          274.4563195705414,
          246.70000022649765,
          233.29999881982803,
          283.49999874830246,
          192.70000049471855
         ],
         "xaxis": "x",
         "y": [
          0,
          0.04213838428608468,
          0.10680272423756201,
          0.22590806707036798,
          0.127155000316543,
          0.11195333853674742,
          0.09722513026987481,
          0.09818818165940336,
          0,
          -0.00420797970386607,
          0.053757553956524935,
          0.10953241917863563,
          -0.021546285089806234,
          -0.05774007696600975,
          -0.10577641182580097,
          -0.09581669369798816,
          0,
          -0.03760179049564901,
          -0.042967767110642624,
          -0.018404979420472662,
          0.11482297798800754,
          0.07729442922891211,
          0.04027037430644306,
          0.047464123331848816,
          0,
          -0.00550241574792342,
          0.0440858226522128,
          0.11067633765387835,
          0.05830699939196575,
          0.009393124321957387,
          -0.02164331330940806,
          -0.004801908282868728,
          0,
          0.005558191927168629,
          0.029069594038752214,
          0.06507706914662716,
          0.0489195707798753,
          0.004650325717891114,
          -0.018798567863223693,
          0.018641762743887704,
          0,
          -0.01580229989638273,
          0.02242698147813086,
          0.06877476722188779,
          0.201747655329554,
          0.213962652351716,
          0.21169029599472886,
          0.2094098283914354,
          0,
          0.04130524634491568,
          0.14200824857985297,
          0,
          -0.001982402498716574,
          0.007325356748122692,
          0.059114935767953174
         ],
         "yaxis": "y"
        },
        {
         "customdata": [
          [
           0.07349564867108566,
           2017
          ],
          [
           0.024375306618368515,
           2018
          ],
          [
           0.008925701863654944,
           2019
          ],
          [
           0.015134076850939362,
           2020
          ],
          [
           0,
           2013
          ],
          [
           0.0552705500868243,
           2014
          ],
          [
           0.07293680686325663,
           2015
          ],
          [
           0.07202845415289895,
           2016
          ],
          [
           0.018102271410676458,
           2017
          ],
          [
           -0.013563286998034019,
           2018
          ],
          [
           -0.031054198899674264,
           2019
          ],
          [
           0.00929064109920581,
           2020
          ],
          [
           0,
           2014
          ],
          [
           -0.024532698159295655,
           2015
          ],
          [
           -0.003724833044599435,
           2016
          ],
          [
           0.027225157344212967,
           2017
          ],
          [
           -0.0063461881715376695,
           2018
          ],
          [
           -0.042109950986908805,
           2019
          ],
          [
           -0.03206818339066614,
           2020
          ],
          [
           0,
           2014
          ],
          [
           0.0016485994314174518,
           2015
          ],
          [
           0.021140885209953015,
           2016
          ],
          [
           0.08149662899690484,
           2017
          ],
          [
           0.044415649421544696,
           2018
          ],
          [
           0.0177588449596731,
           2019
          ],
          [
           0.032083746757240524,
           2020
          ],
          [
           0,
           2014
          ],
          [
           0.04117989964645905,
           2015
          ],
          [
           0.08140951414202621,
           2016
          ],
          [
           0.061667773473024066,
           2017
          ],
          [
           0.022270900980642095,
           2018
          ],
          [
           -0.018887348175130048,
           2019
          ],
          [
           0.0018636900135770365,
           2020
          ],
          [
           0,
           2014
          ],
          [
           0.011119999708114978,
           2015
          ],
          [
           0.04374713945400117,
           2016
          ],
          [
           -0.013469238493128158,
           2017
          ],
          [
           -0.05128906324393124,
           2018
          ],
          [
           -0.08715583890958871,
           2019
          ],
          [
           -0.07726523152054969,
           2020
          ],
          [
           0,
           2014
          ],
          [
           -0.04484074763834852,
           2015
          ],
          [
           -0.022915187153781602,
           2016
          ],
          [
           0.05292448589850675,
           2017
          ],
          [
           0.023028935923208798,
           2018
          ],
          [
           0.004386564461143678,
           2019
          ],
          [
           0.023434434811862127,
           2020
          ],
          [
           0,
           2014
          ],
          [
           0.03995828080549562,
           2015
          ],
          [
           0.04290300449146236,
           2016
          ],
          [
           0.0034224978002212335,
           2017
          ],
          [
           -0.030739515286660073,
           2018
          ],
          [
           -0.06603613697533169,
           2019
          ],
          [
           -0.03406818488522255,
           2020
          ],
          [
           0,
           2014
          ],
          [
           -0.02299067974715785,
           2015
          ],
          [
           -0.0041573203907781815,
           2016
          ],
          [
           0,
           2019
          ],
          [
           -0.016285718365433875,
           2020
          ]
         ],
         "hovertemplate": "<b>%{hovertext}</b><br><br>Seed_Type=Reseed<br>Precipitation (mm)=%{x}<br>Smoothed NDVI anomaly=%{customdata[0]}<br>Year=%{customdata[1]}<extra></extra>",
         "hovertext": [
          1265,
          1265,
          1265,
          1265,
          1265,
          1265,
          1265,
          1265,
          1558,
          1558,
          1558,
          1558,
          1558,
          1558,
          1558,
          1588,
          1588,
          1588,
          1588,
          1588,
          1588,
          1588,
          1589,
          1589,
          1589,
          1589,
          1589,
          1589,
          1589,
          1590,
          1590,
          1590,
          1590,
          1590,
          1590,
          1590,
          1601,
          1601,
          1601,
          1601,
          1601,
          1601,
          1601,
          1608,
          1608,
          1608,
          1608,
          1608,
          1608,
          1608,
          1655,
          1655,
          1655,
          1655,
          1655,
          1655,
          1655,
          2646,
          2646
         ],
         "legendgroup": "Reseed",
         "marker": {
          "color": "rgb(221,132,82)",
          "symbol": "circle"
         },
         "mode": "markers",
         "name": "Reseed",
         "showlegend": true,
         "type": "scatter",
         "x": [
          246.70000022649765,
          233.29999881982803,
          283.49999874830246,
          192.70000049471855,
          294.02933743596077,
          211.29819747805595,
          342.7775985598564,
          274.4563195705414,
          246.70000022649765,
          233.29999881982803,
          283.49999874830246,
          192.70000049471855,
          211.29819747805595,
          342.7775985598564,
          274.4563195705414,
          246.70000022649765,
          233.29999881982803,
          283.49999874830246,
          192.70000049471855,
          211.29819747805595,
          342.7775985598564,
          274.4563195705414,
          246.70000022649765,
          233.29999881982803,
          283.49999874830246,
          192.70000049471855,
          211.29819747805595,
          342.7775985598564,
          274.4563195705414,
          246.70000022649765,
          233.29999881982803,
          283.49999874830246,
          192.70000049471855,
          211.29819747805595,
          342.7775985598564,
          274.4563195705414,
          246.70000022649765,
          233.29999881982803,
          283.49999874830246,
          192.70000049471855,
          211.29819747805595,
          342.7775985598564,
          274.4563195705414,
          246.70000022649765,
          233.29999881982803,
          283.49999874830246,
          192.70000049471855,
          211.29819747805595,
          342.7775985598564,
          274.4563195705414,
          246.70000022649765,
          233.29999881982803,
          283.49999874830246,
          192.70000049471855,
          211.29819747805595,
          342.7775985598564,
          274.4563195705414,
          283.49999874830246,
          192.70000049471855
         ],
         "xaxis": "x",
         "y": [
          0.07349564867108566,
          0.024375306618368515,
          0.008925701863654944,
          0.015134076850939362,
          0,
          0.0552705500868243,
          0.07293680686325663,
          0.07202845415289895,
          0.018102271410676458,
          -0.013563286998034019,
          -0.031054198899674264,
          0.00929064109920581,
          0,
          -0.024532698159295655,
          -0.003724833044599435,
          0.027225157344212967,
          -0.0063461881715376695,
          -0.042109950986908805,
          -0.03206818339066614,
          0,
          0.0016485994314174518,
          0.021140885209953015,
          0.08149662899690484,
          0.044415649421544696,
          0.0177588449596731,
          0.032083746757240524,
          0,
          0.04117989964645905,
          0.08140951414202621,
          0.061667773473024066,
          0.022270900980642095,
          -0.018887348175130048,
          0.0018636900135770365,
          0,
          0.011119999708114978,
          0.04374713945400117,
          -0.013469238493128158,
          -0.05128906324393124,
          -0.08715583890958871,
          -0.07726523152054969,
          0,
          -0.04484074763834852,
          -0.022915187153781602,
          0.05292448589850675,
          0.023028935923208798,
          0.004386564461143678,
          0.023434434811862127,
          0,
          0.03995828080549562,
          0.04290300449146236,
          0.0034224978002212335,
          -0.030739515286660073,
          -0.06603613697533169,
          -0.03406818488522255,
          0,
          -0.02299067974715785,
          -0.0041573203907781815,
          0,
          -0.016285718365433875
         ],
         "yaxis": "y"
        },
        {
         "customdata": [
          [
           0.17911936688385346,
           2017
          ],
          [
           0.19993962890742065,
           2018
          ],
          [
           0.19562742844671135,
           2019
          ],
          [
           0.19082346508332096,
           2020
          ],
          [
           0,
           2015
          ],
          [
           0.11007335753804762,
           2016
          ],
          [
           0,
           2017
          ],
          [
           -0.03165778558967049,
           2018
          ],
          [
           -0.049128852450438514,
           2019
          ],
          [
           -0.008813112515775389,
           2020
          ],
          [
           0,
           2018
          ],
          [
           0.04094340011498103,
           2019
          ],
          [
           0.16723116576992153,
           2020
          ],
          [
           0,
           2018
          ],
          [
           -0.05498241167156842,
           2019
          ],
          [
           -0.028000767487291738,
           2020
          ],
          [
           0,
           2018
          ],
          [
           -0.031988942690820386,
           2019
          ],
          [
           0.0012936906421627764,
           2020
          ],
          [
           0,
           2018
          ],
          [
           -0.017542748363242093,
           2019
          ],
          [
           -0.008003806842938811,
           2020
          ],
          [
           0,
           2018
          ],
          [
           -0.013261470481806335,
           2019
          ],
          [
           -0.004999540419671518,
           2020
          ],
          [
           0,
           2018
          ],
          [
           -0.011792221100728546,
           2019
          ],
          [
           0.0037521545833074663,
           2020
          ],
          [
           0,
           2018
          ],
          [
           -0.23696954436887765,
           2019
          ],
          [
           -0.16414697450020202,
           2020
          ],
          [
           0,
           2019
          ],
          [
           0.024778663728606074,
           2020
          ],
          [
           0,
           2019
          ],
          [
           0.037376747656807395,
           2020
          ],
          [
           0,
           2019
          ],
          [
           0.02124347679503742,
           2020
          ],
          [
           0,
           2019
          ],
          [
           0.03089776513247989,
           2020
          ],
          [
           0,
           2019
          ],
          [
           0.009853718814049353,
           2020
          ],
          [
           0,
           2019
          ],
          [
           0.004283721418666286,
           2020
          ],
          [
           0,
           2019
          ],
          [
           0.0024500834561821867,
           2020
          ],
          [
           0,
           2019
          ],
          [
           0.0010891122828465497,
           2020
          ],
          [
           0,
           2019
          ],
          [
           -0.008746327144479982,
           2020
          ],
          [
           0,
           2019
          ],
          [
           -0.0031490174229395545,
           2020
          ],
          [
           0,
           2019
          ],
          [
           0.006066886000044504,
           2020
          ],
          [
           0,
           2019
          ],
          [
           0.02765309923831756,
           2020
          ],
          [
           0,
           2019
          ],
          [
           0.028966673999527598,
           2020
          ],
          [
           0,
           2019
          ],
          [
           0.003790329541463394,
           2020
          ],
          [
           0,
           2019
          ],
          [
           -0.006679357056303672,
           2020
          ],
          [
           0,
           2019
          ],
          [
           -0.0024075393304806136,
           2020
          ]
         ],
         "hovertemplate": "<b>%{hovertext}</b><br><br>Seed_Type=Interseed<br>Precipitation (mm)=%{x}<br>Smoothed NDVI anomaly=%{customdata[0]}<br>Year=%{customdata[1]}<extra></extra>",
         "hovertext": [
          2335,
          2335,
          2335,
          2335,
          2335,
          2335,
          2577,
          2577,
          2577,
          2577,
          2581,
          2581,
          2581,
          2586,
          2586,
          2586,
          2587,
          2587,
          2587,
          2599,
          2599,
          2599,
          2600,
          2600,
          2600,
          2601,
          2601,
          2601,
          2604,
          2604,
          2604,
          2609,
          2609,
          2614,
          2614,
          2615,
          2615,
          2620,
          2620,
          2621,
          2621,
          2622,
          2622,
          2623,
          2623,
          2624,
          2624,
          2626,
          2626,
          2627,
          2627,
          2628,
          2628,
          2633,
          2633,
          2634,
          2634,
          2645,
          2645,
          2648,
          2648,
          2650,
          2650
         ],
         "legendgroup": "Interseed",
         "marker": {
          "color": "rgb(85,168,104)",
          "symbol": "circle"
         },
         "mode": "markers",
         "name": "Interseed",
         "showlegend": true,
         "type": "scatter",
         "x": [
          246.70000022649765,
          233.29999881982803,
          283.49999874830246,
          192.70000049471855,
          342.7775985598564,
          274.4563195705414,
          246.70000022649765,
          233.29999881982803,
          283.49999874830246,
          192.70000049471855,
          233.29999881982803,
          283.49999874830246,
          192.70000049471855,
          233.29999881982803,
          283.49999874830246,
          192.70000049471855,
          233.29999881982803,
          283.49999874830246,
          192.70000049471855,
          233.29999881982803,
          283.49999874830246,
          192.70000049471855,
          233.29999881982803,
          283.49999874830246,
          192.70000049471855,
          233.29999881982803,
          283.49999874830246,
          192.70000049471855,
          233.29999881982803,
          283.49999874830246,
          192.70000049471855,
          283.49999874830246,
          192.70000049471855,
          283.49999874830246,
          192.70000049471855,
          283.49999874830246,
          192.70000049471855,
          283.49999874830246,
          192.70000049471855,
          283.49999874830246,
          192.70000049471855,
          283.49999874830246,
          192.70000049471855,
          283.49999874830246,
          192.70000049471855,
          283.49999874830246,
          192.70000049471855,
          283.49999874830246,
          192.70000049471855,
          283.49999874830246,
          192.70000049471855,
          283.49999874830246,
          192.70000049471855,
          283.49999874830246,
          192.70000049471855,
          283.49999874830246,
          192.70000049471855,
          283.49999874830246,
          192.70000049471855,
          283.49999874830246,
          192.70000049471855,
          283.49999874830246,
          192.70000049471855
         ],
         "xaxis": "x",
         "y": [
          0.17911936688385346,
          0.19993962890742065,
          0.19562742844671135,
          0.19082346508332096,
          0,
          0.11007335753804762,
          0,
          -0.03165778558967049,
          -0.049128852450438514,
          -0.008813112515775389,
          0,
          0.04094340011498103,
          0.16723116576992153,
          0,
          -0.05498241167156842,
          -0.028000767487291738,
          0,
          -0.031988942690820386,
          0.0012936906421627764,
          0,
          -0.017542748363242093,
          -0.008003806842938811,
          0,
          -0.013261470481806335,
          -0.004999540419671518,
          0,
          -0.011792221100728546,
          0.0037521545833074663,
          0,
          -0.23696954436887765,
          -0.16414697450020202,
          0,
          0.024778663728606074,
          0,
          0.037376747656807395,
          0,
          0.02124347679503742,
          0,
          0.03089776513247989,
          0,
          0.009853718814049353,
          0,
          0.004283721418666286,
          0,
          0.0024500834561821867,
          0,
          0.0010891122828465497,
          0,
          -0.008746327144479982,
          0,
          -0.0031490174229395545,
          0,
          0.006066886000044504,
          0,
          0.02765309923831756,
          0,
          0.028966673999527598,
          0,
          0.003790329541463394,
          0,
          -0.006679357056303672,
          0,
          -0.0024075393304806136
         ],
         "yaxis": "y"
        }
       ],
       "layout": {
        "annotations": [
         {
          "showarrow": false,
          "text": "Source: Landsat 8 data from USGS, meteorological data from gridMET",
          "x": 0.01,
          "xref": "paper",
          "y": 0.01,
          "yref": "paper"
         }
        ],
        "height": 700,
        "legend": {
         "title": {
          "text": "Seed_Type"
         },
         "tracegroupgap": 0
        },
        "showlegend": true,
        "template": {
         "data": {
          "bar": [
           {
            "error_x": {
             "color": "rgb(36,36,36)"
            },
            "error_y": {
             "color": "rgb(36,36,36)"
            },
            "marker": {
             "line": {
              "color": "rgb(234,234,242)",
              "width": 0.5
             }
            },
            "type": "bar"
           }
          ],
          "barpolar": [
           {
            "marker": {
             "line": {
              "color": "rgb(234,234,242)",
              "width": 0.5
             }
            },
            "type": "barpolar"
           }
          ],
          "carpet": [
           {
            "aaxis": {
             "endlinecolor": "rgb(36,36,36)",
             "gridcolor": "white",
             "linecolor": "white",
             "minorgridcolor": "white",
             "startlinecolor": "rgb(36,36,36)"
            },
            "baxis": {
             "endlinecolor": "rgb(36,36,36)",
             "gridcolor": "white",
             "linecolor": "white",
             "minorgridcolor": "white",
             "startlinecolor": "rgb(36,36,36)"
            },
            "type": "carpet"
           }
          ],
          "choropleth": [
           {
            "colorbar": {
             "outlinewidth": 0,
             "tickcolor": "rgb(36,36,36)",
             "ticklen": 8,
             "ticks": "outside",
             "tickwidth": 2
            },
            "type": "choropleth"
           }
          ],
          "contour": [
           {
            "colorbar": {
             "outlinewidth": 0,
             "tickcolor": "rgb(36,36,36)",
             "ticklen": 8,
             "ticks": "outside",
             "tickwidth": 2
            },
            "colorscale": [
             [
              0,
              "rgb(2,4,25)"
             ],
             [
              0.06274509803921569,
              "rgb(24,15,41)"
             ],
             [
              0.12549019607843137,
              "rgb(47,23,57)"
             ],
             [
              0.18823529411764706,
              "rgb(71,28,72)"
             ],
             [
              0.25098039215686274,
              "rgb(97,30,82)"
             ],
             [
              0.3137254901960784,
              "rgb(123,30,89)"
             ],
             [
              0.3764705882352941,
              "rgb(150,27,91)"
             ],
             [
              0.4392156862745098,
              "rgb(177,22,88)"
             ],
             [
              0.5019607843137255,
              "rgb(203,26,79)"
             ],
             [
              0.5647058823529412,
              "rgb(223,47,67)"
             ],
             [
              0.6274509803921569,
              "rgb(236,76,61)"
             ],
             [
              0.6901960784313725,
              "rgb(242,107,73)"
             ],
             [
              0.7529411764705882,
              "rgb(244,135,95)"
             ],
             [
              0.8156862745098039,
              "rgb(245,162,122)"
             ],
             [
              0.8784313725490196,
              "rgb(246,188,153)"
             ],
             [
              0.9411764705882353,
              "rgb(247,212,187)"
             ],
             [
              1,
              "rgb(250,234,220)"
             ]
            ],
            "type": "contour"
           }
          ],
          "contourcarpet": [
           {
            "colorbar": {
             "outlinewidth": 0,
             "tickcolor": "rgb(36,36,36)",
             "ticklen": 8,
             "ticks": "outside",
             "tickwidth": 2
            },
            "type": "contourcarpet"
           }
          ],
          "heatmap": [
           {
            "colorbar": {
             "outlinewidth": 0,
             "tickcolor": "rgb(36,36,36)",
             "ticklen": 8,
             "ticks": "outside",
             "tickwidth": 2
            },
            "colorscale": [
             [
              0,
              "rgb(2,4,25)"
             ],
             [
              0.06274509803921569,
              "rgb(24,15,41)"
             ],
             [
              0.12549019607843137,
              "rgb(47,23,57)"
             ],
             [
              0.18823529411764706,
              "rgb(71,28,72)"
             ],
             [
              0.25098039215686274,
              "rgb(97,30,82)"
             ],
             [
              0.3137254901960784,
              "rgb(123,30,89)"
             ],
             [
              0.3764705882352941,
              "rgb(150,27,91)"
             ],
             [
              0.4392156862745098,
              "rgb(177,22,88)"
             ],
             [
              0.5019607843137255,
              "rgb(203,26,79)"
             ],
             [
              0.5647058823529412,
              "rgb(223,47,67)"
             ],
             [
              0.6274509803921569,
              "rgb(236,76,61)"
             ],
             [
              0.6901960784313725,
              "rgb(242,107,73)"
             ],
             [
              0.7529411764705882,
              "rgb(244,135,95)"
             ],
             [
              0.8156862745098039,
              "rgb(245,162,122)"
             ],
             [
              0.8784313725490196,
              "rgb(246,188,153)"
             ],
             [
              0.9411764705882353,
              "rgb(247,212,187)"
             ],
             [
              1,
              "rgb(250,234,220)"
             ]
            ],
            "type": "heatmap"
           }
          ],
          "heatmapgl": [
           {
            "colorbar": {
             "outlinewidth": 0,
             "tickcolor": "rgb(36,36,36)",
             "ticklen": 8,
             "ticks": "outside",
             "tickwidth": 2
            },
            "colorscale": [
             [
              0,
              "rgb(2,4,25)"
             ],
             [
              0.06274509803921569,
              "rgb(24,15,41)"
             ],
             [
              0.12549019607843137,
              "rgb(47,23,57)"
             ],
             [
              0.18823529411764706,
              "rgb(71,28,72)"
             ],
             [
              0.25098039215686274,
              "rgb(97,30,82)"
             ],
             [
              0.3137254901960784,
              "rgb(123,30,89)"
             ],
             [
              0.3764705882352941,
              "rgb(150,27,91)"
             ],
             [
              0.4392156862745098,
              "rgb(177,22,88)"
             ],
             [
              0.5019607843137255,
              "rgb(203,26,79)"
             ],
             [
              0.5647058823529412,
              "rgb(223,47,67)"
             ],
             [
              0.6274509803921569,
              "rgb(236,76,61)"
             ],
             [
              0.6901960784313725,
              "rgb(242,107,73)"
             ],
             [
              0.7529411764705882,
              "rgb(244,135,95)"
             ],
             [
              0.8156862745098039,
              "rgb(245,162,122)"
             ],
             [
              0.8784313725490196,
              "rgb(246,188,153)"
             ],
             [
              0.9411764705882353,
              "rgb(247,212,187)"
             ],
             [
              1,
              "rgb(250,234,220)"
             ]
            ],
            "type": "heatmapgl"
           }
          ],
          "histogram": [
           {
            "marker": {
             "colorbar": {
              "outlinewidth": 0,
              "tickcolor": "rgb(36,36,36)",
              "ticklen": 8,
              "ticks": "outside",
              "tickwidth": 2
             }
            },
            "type": "histogram"
           }
          ],
          "histogram2d": [
           {
            "colorbar": {
             "outlinewidth": 0,
             "tickcolor": "rgb(36,36,36)",
             "ticklen": 8,
             "ticks": "outside",
             "tickwidth": 2
            },
            "colorscale": [
             [
              0,
              "rgb(2,4,25)"
             ],
             [
              0.06274509803921569,
              "rgb(24,15,41)"
             ],
             [
              0.12549019607843137,
              "rgb(47,23,57)"
             ],
             [
              0.18823529411764706,
              "rgb(71,28,72)"
             ],
             [
              0.25098039215686274,
              "rgb(97,30,82)"
             ],
             [
              0.3137254901960784,
              "rgb(123,30,89)"
             ],
             [
              0.3764705882352941,
              "rgb(150,27,91)"
             ],
             [
              0.4392156862745098,
              "rgb(177,22,88)"
             ],
             [
              0.5019607843137255,
              "rgb(203,26,79)"
             ],
             [
              0.5647058823529412,
              "rgb(223,47,67)"
             ],
             [
              0.6274509803921569,
              "rgb(236,76,61)"
             ],
             [
              0.6901960784313725,
              "rgb(242,107,73)"
             ],
             [
              0.7529411764705882,
              "rgb(244,135,95)"
             ],
             [
              0.8156862745098039,
              "rgb(245,162,122)"
             ],
             [
              0.8784313725490196,
              "rgb(246,188,153)"
             ],
             [
              0.9411764705882353,
              "rgb(247,212,187)"
             ],
             [
              1,
              "rgb(250,234,220)"
             ]
            ],
            "type": "histogram2d"
           }
          ],
          "histogram2dcontour": [
           {
            "colorbar": {
             "outlinewidth": 0,
             "tickcolor": "rgb(36,36,36)",
             "ticklen": 8,
             "ticks": "outside",
             "tickwidth": 2
            },
            "colorscale": [
             [
              0,
              "rgb(2,4,25)"
             ],
             [
              0.06274509803921569,
              "rgb(24,15,41)"
             ],
             [
              0.12549019607843137,
              "rgb(47,23,57)"
             ],
             [
              0.18823529411764706,
              "rgb(71,28,72)"
             ],
             [
              0.25098039215686274,
              "rgb(97,30,82)"
             ],
             [
              0.3137254901960784,
              "rgb(123,30,89)"
             ],
             [
              0.3764705882352941,
              "rgb(150,27,91)"
             ],
             [
              0.4392156862745098,
              "rgb(177,22,88)"
             ],
             [
              0.5019607843137255,
              "rgb(203,26,79)"
             ],
             [
              0.5647058823529412,
              "rgb(223,47,67)"
             ],
             [
              0.6274509803921569,
              "rgb(236,76,61)"
             ],
             [
              0.6901960784313725,
              "rgb(242,107,73)"
             ],
             [
              0.7529411764705882,
              "rgb(244,135,95)"
             ],
             [
              0.8156862745098039,
              "rgb(245,162,122)"
             ],
             [
              0.8784313725490196,
              "rgb(246,188,153)"
             ],
             [
              0.9411764705882353,
              "rgb(247,212,187)"
             ],
             [
              1,
              "rgb(250,234,220)"
             ]
            ],
            "type": "histogram2dcontour"
           }
          ],
          "mesh3d": [
           {
            "colorbar": {
             "outlinewidth": 0,
             "tickcolor": "rgb(36,36,36)",
             "ticklen": 8,
             "ticks": "outside",
             "tickwidth": 2
            },
            "type": "mesh3d"
           }
          ],
          "parcoords": [
           {
            "line": {
             "colorbar": {
              "outlinewidth": 0,
              "tickcolor": "rgb(36,36,36)",
              "ticklen": 8,
              "ticks": "outside",
              "tickwidth": 2
             }
            },
            "type": "parcoords"
           }
          ],
          "pie": [
           {
            "automargin": true,
            "type": "pie"
           }
          ],
          "scatter": [
           {
            "marker": {
             "colorbar": {
              "outlinewidth": 0,
              "tickcolor": "rgb(36,36,36)",
              "ticklen": 8,
              "ticks": "outside",
              "tickwidth": 2
             }
            },
            "type": "scatter"
           }
          ],
          "scatter3d": [
           {
            "line": {
             "colorbar": {
              "outlinewidth": 0,
              "tickcolor": "rgb(36,36,36)",
              "ticklen": 8,
              "ticks": "outside",
              "tickwidth": 2
             }
            },
            "marker": {
             "colorbar": {
              "outlinewidth": 0,
              "tickcolor": "rgb(36,36,36)",
              "ticklen": 8,
              "ticks": "outside",
              "tickwidth": 2
             }
            },
            "type": "scatter3d"
           }
          ],
          "scattercarpet": [
           {
            "marker": {
             "colorbar": {
              "outlinewidth": 0,
              "tickcolor": "rgb(36,36,36)",
              "ticklen": 8,
              "ticks": "outside",
              "tickwidth": 2
             }
            },
            "type": "scattercarpet"
           }
          ],
          "scattergeo": [
           {
            "marker": {
             "colorbar": {
              "outlinewidth": 0,
              "tickcolor": "rgb(36,36,36)",
              "ticklen": 8,
              "ticks": "outside",
              "tickwidth": 2
             }
            },
            "type": "scattergeo"
           }
          ],
          "scattergl": [
           {
            "marker": {
             "colorbar": {
              "outlinewidth": 0,
              "tickcolor": "rgb(36,36,36)",
              "ticklen": 8,
              "ticks": "outside",
              "tickwidth": 2
             }
            },
            "type": "scattergl"
           }
          ],
          "scattermapbox": [
           {
            "marker": {
             "colorbar": {
              "outlinewidth": 0,
              "tickcolor": "rgb(36,36,36)",
              "ticklen": 8,
              "ticks": "outside",
              "tickwidth": 2
             }
            },
            "type": "scattermapbox"
           }
          ],
          "scatterpolar": [
           {
            "marker": {
             "colorbar": {
              "outlinewidth": 0,
              "tickcolor": "rgb(36,36,36)",
              "ticklen": 8,
              "ticks": "outside",
              "tickwidth": 2
             }
            },
            "type": "scatterpolar"
           }
          ],
          "scatterpolargl": [
           {
            "marker": {
             "colorbar": {
              "outlinewidth": 0,
              "tickcolor": "rgb(36,36,36)",
              "ticklen": 8,
              "ticks": "outside",
              "tickwidth": 2
             }
            },
            "type": "scatterpolargl"
           }
          ],
          "scatterternary": [
           {
            "marker": {
             "colorbar": {
              "outlinewidth": 0,
              "tickcolor": "rgb(36,36,36)",
              "ticklen": 8,
              "ticks": "outside",
              "tickwidth": 2
             }
            },
            "type": "scatterternary"
           }
          ],
          "surface": [
           {
            "colorbar": {
             "outlinewidth": 0,
             "tickcolor": "rgb(36,36,36)",
             "ticklen": 8,
             "ticks": "outside",
             "tickwidth": 2
            },
            "colorscale": [
             [
              0,
              "rgb(2,4,25)"
             ],
             [
              0.06274509803921569,
              "rgb(24,15,41)"
             ],
             [
              0.12549019607843137,
              "rgb(47,23,57)"
             ],
             [
              0.18823529411764706,
              "rgb(71,28,72)"
             ],
             [
              0.25098039215686274,
              "rgb(97,30,82)"
             ],
             [
              0.3137254901960784,
              "rgb(123,30,89)"
             ],
             [
              0.3764705882352941,
              "rgb(150,27,91)"
             ],
             [
              0.4392156862745098,
              "rgb(177,22,88)"
             ],
             [
              0.5019607843137255,
              "rgb(203,26,79)"
             ],
             [
              0.5647058823529412,
              "rgb(223,47,67)"
             ],
             [
              0.6274509803921569,
              "rgb(236,76,61)"
             ],
             [
              0.6901960784313725,
              "rgb(242,107,73)"
             ],
             [
              0.7529411764705882,
              "rgb(244,135,95)"
             ],
             [
              0.8156862745098039,
              "rgb(245,162,122)"
             ],
             [
              0.8784313725490196,
              "rgb(246,188,153)"
             ],
             [
              0.9411764705882353,
              "rgb(247,212,187)"
             ],
             [
              1,
              "rgb(250,234,220)"
             ]
            ],
            "type": "surface"
           }
          ],
          "table": [
           {
            "cells": {
             "fill": {
              "color": "rgb(231,231,240)"
             },
             "line": {
              "color": "white"
             }
            },
            "header": {
             "fill": {
              "color": "rgb(183,183,191)"
             },
             "line": {
              "color": "white"
             }
            },
            "type": "table"
           }
          ]
         },
         "layout": {
          "annotationdefaults": {
           "arrowcolor": "rgb(67,103,167)"
          },
          "coloraxis": {
           "colorbar": {
            "outlinewidth": 0,
            "tickcolor": "rgb(36,36,36)",
            "ticklen": 8,
            "ticks": "outside",
            "tickwidth": 2
           }
          },
          "colorscale": {
           "sequential": [
            [
             0,
             "rgb(2,4,25)"
            ],
            [
             0.06274509803921569,
             "rgb(24,15,41)"
            ],
            [
             0.12549019607843137,
             "rgb(47,23,57)"
            ],
            [
             0.18823529411764706,
             "rgb(71,28,72)"
            ],
            [
             0.25098039215686274,
             "rgb(97,30,82)"
            ],
            [
             0.3137254901960784,
             "rgb(123,30,89)"
            ],
            [
             0.3764705882352941,
             "rgb(150,27,91)"
            ],
            [
             0.4392156862745098,
             "rgb(177,22,88)"
            ],
            [
             0.5019607843137255,
             "rgb(203,26,79)"
            ],
            [
             0.5647058823529412,
             "rgb(223,47,67)"
            ],
            [
             0.6274509803921569,
             "rgb(236,76,61)"
            ],
            [
             0.6901960784313725,
             "rgb(242,107,73)"
            ],
            [
             0.7529411764705882,
             "rgb(244,135,95)"
            ],
            [
             0.8156862745098039,
             "rgb(245,162,122)"
            ],
            [
             0.8784313725490196,
             "rgb(246,188,153)"
            ],
            [
             0.9411764705882353,
             "rgb(247,212,187)"
            ],
            [
             1,
             "rgb(250,234,220)"
            ]
           ],
           "sequentialminus": [
            [
             0,
             "rgb(2,4,25)"
            ],
            [
             0.06274509803921569,
             "rgb(24,15,41)"
            ],
            [
             0.12549019607843137,
             "rgb(47,23,57)"
            ],
            [
             0.18823529411764706,
             "rgb(71,28,72)"
            ],
            [
             0.25098039215686274,
             "rgb(97,30,82)"
            ],
            [
             0.3137254901960784,
             "rgb(123,30,89)"
            ],
            [
             0.3764705882352941,
             "rgb(150,27,91)"
            ],
            [
             0.4392156862745098,
             "rgb(177,22,88)"
            ],
            [
             0.5019607843137255,
             "rgb(203,26,79)"
            ],
            [
             0.5647058823529412,
             "rgb(223,47,67)"
            ],
            [
             0.6274509803921569,
             "rgb(236,76,61)"
            ],
            [
             0.6901960784313725,
             "rgb(242,107,73)"
            ],
            [
             0.7529411764705882,
             "rgb(244,135,95)"
            ],
            [
             0.8156862745098039,
             "rgb(245,162,122)"
            ],
            [
             0.8784313725490196,
             "rgb(246,188,153)"
            ],
            [
             0.9411764705882353,
             "rgb(247,212,187)"
            ],
            [
             1,
             "rgb(250,234,220)"
            ]
           ]
          },
          "colorway": [
           "rgb(76,114,176)",
           "rgb(221,132,82)",
           "rgb(85,168,104)",
           "rgb(196,78,82)",
           "rgb(129,114,179)",
           "rgb(147,120,96)",
           "rgb(218,139,195)",
           "rgb(140,140,140)",
           "rgb(204,185,116)",
           "rgb(100,181,205)"
          ],
          "font": {
           "color": "rgb(36,36,36)"
          },
          "geo": {
           "bgcolor": "white",
           "lakecolor": "white",
           "landcolor": "rgb(234,234,242)",
           "showlakes": true,
           "showland": true,
           "subunitcolor": "white"
          },
          "hoverlabel": {
           "align": "left"
          },
          "hovermode": "closest",
          "paper_bgcolor": "white",
          "plot_bgcolor": "rgb(234,234,242)",
          "polar": {
           "angularaxis": {
            "gridcolor": "white",
            "linecolor": "white",
            "showgrid": true,
            "ticks": ""
           },
           "bgcolor": "rgb(234,234,242)",
           "radialaxis": {
            "gridcolor": "white",
            "linecolor": "white",
            "showgrid": true,
            "ticks": ""
           }
          },
          "scene": {
           "xaxis": {
            "backgroundcolor": "rgb(234,234,242)",
            "gridcolor": "white",
            "gridwidth": 2,
            "linecolor": "white",
            "showbackground": true,
            "showgrid": true,
            "ticks": "",
            "zerolinecolor": "white"
           },
           "yaxis": {
            "backgroundcolor": "rgb(234,234,242)",
            "gridcolor": "white",
            "gridwidth": 2,
            "linecolor": "white",
            "showbackground": true,
            "showgrid": true,
            "ticks": "",
            "zerolinecolor": "white"
           },
           "zaxis": {
            "backgroundcolor": "rgb(234,234,242)",
            "gridcolor": "white",
            "gridwidth": 2,
            "linecolor": "white",
            "showbackground": true,
            "showgrid": true,
            "ticks": "",
            "zerolinecolor": "white"
           }
          },
          "shapedefaults": {
           "fillcolor": "rgb(67,103,167)",
           "line": {
            "width": 0
           },
           "opacity": 0.5
          },
          "ternary": {
           "aaxis": {
            "gridcolor": "white",
            "linecolor": "white",
            "showgrid": true,
            "ticks": ""
           },
           "baxis": {
            "gridcolor": "white",
            "linecolor": "white",
            "showgrid": true,
            "ticks": ""
           },
           "bgcolor": "rgb(234,234,242)",
           "caxis": {
            "gridcolor": "white",
            "linecolor": "white",
            "showgrid": true,
            "ticks": ""
           }
          },
          "xaxis": {
           "automargin": true,
           "gridcolor": "white",
           "linecolor": "white",
           "showgrid": true,
           "ticks": "",
           "title": {
            "standoff": 15
           },
           "zerolinecolor": "white"
          },
          "yaxis": {
           "automargin": true,
           "gridcolor": "white",
           "linecolor": "white",
           "showgrid": true,
           "ticks": "",
           "title": {
            "standoff": 15
           },
           "zerolinecolor": "white"
          }
         }
        },
        "title": {
         "text": "Plot 7 - NDVI anomaly vs annual precipitation for the seeding units"
        },
        "width": 900,
        "xaxis": {
         "anchor": "y",
         "domain": [
          0,
          1
         ],
         "title": {
          "text": "Precipitation (mm)"
         }
        },
        "yaxis": {
         "anchor": "x",
         "domain": [
          0,
          1
         ],
         "title": {
          "text": "Smoothed NDVI anomaly"
         }
        }
       }
      },
      "text/html": [
       "<div>\n",
       "        \n",
       "        \n",
       "            <div id=\"2580ddef-9588-4586-907f-a93db757da6f\" class=\"plotly-graph-div\" style=\"height:700px; width:900px;\"></div>\n",
       "            <script type=\"text/javascript\">\n",
       "                require([\"plotly\"], function(Plotly) {\n",
       "                    window.PLOTLYENV=window.PLOTLYENV || {};\n",
       "                    \n",
       "                if (document.getElementById(\"2580ddef-9588-4586-907f-a93db757da6f\")) {\n",
       "                    Plotly.newPlot(\n",
       "                        '2580ddef-9588-4586-907f-a93db757da6f',\n",
       "                        [{\"customdata\": [[0.0, 2017.0], [0.04213838428608468, 2018.0], [0.10680272423756201, 2019.0], [0.22590806707036798, 2020.0], [0.127155000316543, 2017.0], [0.11195333853674742, 2018.0], [0.09722513026987481, 2019.0], [0.09818818165940336, 2020.0], [0.0, 2013.0], [-0.00420797970386607, 2014.0], [0.053757553956524935, 2015.0], [0.10953241917863563, 2016.0], [-0.021546285089806234, 2017.0], [-0.05774007696600975, 2018.0], [-0.10577641182580097, 2019.0], [-0.09581669369798816, 2020.0], [0.0, 2013.0], [-0.03760179049564901, 2014.0], [-0.042967767110642624, 2015.0], [-0.018404979420472662, 2016.0], [0.11482297798800754, 2017.0], [0.07729442922891211, 2018.0], [0.04027037430644306, 2019.0], [0.047464123331848816, 2020.0], [0.0, 2013.0], [-0.00550241574792342, 2014.0], [0.0440858226522128, 2015.0], [0.11067633765387835, 2016.0], [0.05830699939196575, 2017.0], [0.009393124321957387, 2018.0], [-0.02164331330940806, 2019.0], [-0.004801908282868728, 2020.0], [0.0, 2013.0], [0.005558191927168629, 2014.0], [0.029069594038752214, 2015.0], [0.06507706914662716, 2016.0], [0.0489195707798753, 2017.0], [0.004650325717891114, 2018.0], [-0.018798567863223693, 2019.0], [0.018641762743887704, 2020.0], [0.0, 2013.0], [-0.01580229989638273, 2014.0], [0.02242698147813086, 2015.0], [0.06877476722188779, 2016.0], [0.201747655329554, 2017.0], [0.213962652351716, 2018.0], [0.21169029599472886, 2019.0], [0.2094098283914354, 2020.0], [0.0, 2014.0], [0.04130524634491568, 2015.0], [0.14200824857985297, 2016.0], [0.0, 2017.0], [-0.001982402498716574, 2018.0], [0.007325356748122692, 2019.0], [0.059114935767953174, 2020.0]], \"hovertemplate\": \"<b>%{hovertext}</b><br><br>Seed_Type=Seed<br>Precipitation (mm)=%{x}<br>Smoothed NDVI anomaly=%{customdata[0]}<br>Year=%{customdata[1]}<extra></extra>\", \"hovertext\": [172.0, 172.0, 172.0, 172.0, 816.0, 816.0, 816.0, 816.0, 816.0, 816.0, 816.0, 816.0, 913.0, 913.0, 913.0, 913.0, 913.0, 913.0, 913.0, 913.0, 916.0, 916.0, 916.0, 916.0, 916.0, 916.0, 916.0, 916.0, 1314.0, 1314.0, 1314.0, 1314.0, 1314.0, 1314.0, 1314.0, 1314.0, 1319.0, 1319.0, 1319.0, 1319.0, 1319.0, 1319.0, 1319.0, 1319.0, 1594.0, 1594.0, 1594.0, 1594.0, 1594.0, 1594.0, 1594.0, 2569.0, 2569.0, 2569.0, 2569.0], \"legendgroup\": \"Seed\", \"marker\": {\"color\": \"rgb(76,114,176)\", \"symbol\": \"circle\"}, \"mode\": \"markers\", \"name\": \"Seed\", \"showlegend\": true, \"type\": \"scatter\", \"x\": [246.70000022649765, 233.29999881982803, 283.49999874830246, 192.70000049471855, 246.70000022649765, 233.29999881982803, 283.49999874830246, 192.70000049471855, 294.02933743596077, 211.29819747805595, 342.7775985598564, 274.4563195705414, 246.70000022649765, 233.29999881982803, 283.49999874830246, 192.70000049471855, 294.02933743596077, 211.29819747805595, 342.7775985598564, 274.4563195705414, 246.70000022649765, 233.29999881982803, 283.49999874830246, 192.70000049471855, 294.02933743596077, 211.29819747805595, 342.7775985598564, 274.4563195705414, 246.70000022649765, 233.29999881982803, 283.49999874830246, 192.70000049471855, 294.02933743596077, 211.29819747805595, 342.7775985598564, 274.4563195705414, 246.70000022649765, 233.29999881982803, 283.49999874830246, 192.70000049471855, 294.02933743596077, 211.29819747805595, 342.7775985598564, 274.4563195705414, 246.70000022649765, 233.29999881982803, 283.49999874830246, 192.70000049471855, 211.29819747805595, 342.7775985598564, 274.4563195705414, 246.70000022649765, 233.29999881982803, 283.49999874830246, 192.70000049471855], \"xaxis\": \"x\", \"y\": [0.0, 0.04213838428608468, 0.10680272423756201, 0.22590806707036798, 0.127155000316543, 0.11195333853674742, 0.09722513026987481, 0.09818818165940336, 0.0, -0.00420797970386607, 0.053757553956524935, 0.10953241917863563, -0.021546285089806234, -0.05774007696600975, -0.10577641182580097, -0.09581669369798816, 0.0, -0.03760179049564901, -0.042967767110642624, -0.018404979420472662, 0.11482297798800754, 0.07729442922891211, 0.04027037430644306, 0.047464123331848816, 0.0, -0.00550241574792342, 0.0440858226522128, 0.11067633765387835, 0.05830699939196575, 0.009393124321957387, -0.02164331330940806, -0.004801908282868728, 0.0, 0.005558191927168629, 0.029069594038752214, 0.06507706914662716, 0.0489195707798753, 0.004650325717891114, -0.018798567863223693, 0.018641762743887704, 0.0, -0.01580229989638273, 0.02242698147813086, 0.06877476722188779, 0.201747655329554, 0.213962652351716, 0.21169029599472886, 0.2094098283914354, 0.0, 0.04130524634491568, 0.14200824857985297, 0.0, -0.001982402498716574, 0.007325356748122692, 0.059114935767953174], \"yaxis\": \"y\"}, {\"customdata\": [[0.07349564867108566, 2017.0], [0.024375306618368515, 2018.0], [0.008925701863654944, 2019.0], [0.015134076850939362, 2020.0], [0.0, 2013.0], [0.0552705500868243, 2014.0], [0.07293680686325663, 2015.0], [0.07202845415289895, 2016.0], [0.018102271410676458, 2017.0], [-0.013563286998034019, 2018.0], [-0.031054198899674264, 2019.0], [0.00929064109920581, 2020.0], [0.0, 2014.0], [-0.024532698159295655, 2015.0], [-0.003724833044599435, 2016.0], [0.027225157344212967, 2017.0], [-0.0063461881715376695, 2018.0], [-0.042109950986908805, 2019.0], [-0.03206818339066614, 2020.0], [0.0, 2014.0], [0.0016485994314174518, 2015.0], [0.021140885209953015, 2016.0], [0.08149662899690484, 2017.0], [0.044415649421544696, 2018.0], [0.0177588449596731, 2019.0], [0.032083746757240524, 2020.0], [0.0, 2014.0], [0.04117989964645905, 2015.0], [0.08140951414202621, 2016.0], [0.061667773473024066, 2017.0], [0.022270900980642095, 2018.0], [-0.018887348175130048, 2019.0], [0.0018636900135770365, 2020.0], [0.0, 2014.0], [0.011119999708114978, 2015.0], [0.04374713945400117, 2016.0], [-0.013469238493128158, 2017.0], [-0.05128906324393124, 2018.0], [-0.08715583890958871, 2019.0], [-0.07726523152054969, 2020.0], [0.0, 2014.0], [-0.04484074763834852, 2015.0], [-0.022915187153781602, 2016.0], [0.05292448589850675, 2017.0], [0.023028935923208798, 2018.0], [0.004386564461143678, 2019.0], [0.023434434811862127, 2020.0], [0.0, 2014.0], [0.03995828080549562, 2015.0], [0.04290300449146236, 2016.0], [0.0034224978002212335, 2017.0], [-0.030739515286660073, 2018.0], [-0.06603613697533169, 2019.0], [-0.03406818488522255, 2020.0], [0.0, 2014.0], [-0.02299067974715785, 2015.0], [-0.0041573203907781815, 2016.0], [0.0, 2019.0], [-0.016285718365433875, 2020.0]], \"hovertemplate\": \"<b>%{hovertext}</b><br><br>Seed_Type=Reseed<br>Precipitation (mm)=%{x}<br>Smoothed NDVI anomaly=%{customdata[0]}<br>Year=%{customdata[1]}<extra></extra>\", \"hovertext\": [1265.0, 1265.0, 1265.0, 1265.0, 1265.0, 1265.0, 1265.0, 1265.0, 1558.0, 1558.0, 1558.0, 1558.0, 1558.0, 1558.0, 1558.0, 1588.0, 1588.0, 1588.0, 1588.0, 1588.0, 1588.0, 1588.0, 1589.0, 1589.0, 1589.0, 1589.0, 1589.0, 1589.0, 1589.0, 1590.0, 1590.0, 1590.0, 1590.0, 1590.0, 1590.0, 1590.0, 1601.0, 1601.0, 1601.0, 1601.0, 1601.0, 1601.0, 1601.0, 1608.0, 1608.0, 1608.0, 1608.0, 1608.0, 1608.0, 1608.0, 1655.0, 1655.0, 1655.0, 1655.0, 1655.0, 1655.0, 1655.0, 2646.0, 2646.0], \"legendgroup\": \"Reseed\", \"marker\": {\"color\": \"rgb(221,132,82)\", \"symbol\": \"circle\"}, \"mode\": \"markers\", \"name\": \"Reseed\", \"showlegend\": true, \"type\": \"scatter\", \"x\": [246.70000022649765, 233.29999881982803, 283.49999874830246, 192.70000049471855, 294.02933743596077, 211.29819747805595, 342.7775985598564, 274.4563195705414, 246.70000022649765, 233.29999881982803, 283.49999874830246, 192.70000049471855, 211.29819747805595, 342.7775985598564, 274.4563195705414, 246.70000022649765, 233.29999881982803, 283.49999874830246, 192.70000049471855, 211.29819747805595, 342.7775985598564, 274.4563195705414, 246.70000022649765, 233.29999881982803, 283.49999874830246, 192.70000049471855, 211.29819747805595, 342.7775985598564, 274.4563195705414, 246.70000022649765, 233.29999881982803, 283.49999874830246, 192.70000049471855, 211.29819747805595, 342.7775985598564, 274.4563195705414, 246.70000022649765, 233.29999881982803, 283.49999874830246, 192.70000049471855, 211.29819747805595, 342.7775985598564, 274.4563195705414, 246.70000022649765, 233.29999881982803, 283.49999874830246, 192.70000049471855, 211.29819747805595, 342.7775985598564, 274.4563195705414, 246.70000022649765, 233.29999881982803, 283.49999874830246, 192.70000049471855, 211.29819747805595, 342.7775985598564, 274.4563195705414, 283.49999874830246, 192.70000049471855], \"xaxis\": \"x\", \"y\": [0.07349564867108566, 0.024375306618368515, 0.008925701863654944, 0.015134076850939362, 0.0, 0.0552705500868243, 0.07293680686325663, 0.07202845415289895, 0.018102271410676458, -0.013563286998034019, -0.031054198899674264, 0.00929064109920581, 0.0, -0.024532698159295655, -0.003724833044599435, 0.027225157344212967, -0.0063461881715376695, -0.042109950986908805, -0.03206818339066614, 0.0, 0.0016485994314174518, 0.021140885209953015, 0.08149662899690484, 0.044415649421544696, 0.0177588449596731, 0.032083746757240524, 0.0, 0.04117989964645905, 0.08140951414202621, 0.061667773473024066, 0.022270900980642095, -0.018887348175130048, 0.0018636900135770365, 0.0, 0.011119999708114978, 0.04374713945400117, -0.013469238493128158, -0.05128906324393124, -0.08715583890958871, -0.07726523152054969, 0.0, -0.04484074763834852, -0.022915187153781602, 0.05292448589850675, 0.023028935923208798, 0.004386564461143678, 0.023434434811862127, 0.0, 0.03995828080549562, 0.04290300449146236, 0.0034224978002212335, -0.030739515286660073, -0.06603613697533169, -0.03406818488522255, 0.0, -0.02299067974715785, -0.0041573203907781815, 0.0, -0.016285718365433875], \"yaxis\": \"y\"}, {\"customdata\": [[0.17911936688385346, 2017.0], [0.19993962890742065, 2018.0], [0.19562742844671135, 2019.0], [0.19082346508332096, 2020.0], [0.0, 2015.0], [0.11007335753804762, 2016.0], [0.0, 2017.0], [-0.03165778558967049, 2018.0], [-0.049128852450438514, 2019.0], [-0.008813112515775389, 2020.0], [0.0, 2018.0], [0.04094340011498103, 2019.0], [0.16723116576992153, 2020.0], [0.0, 2018.0], [-0.05498241167156842, 2019.0], [-0.028000767487291738, 2020.0], [0.0, 2018.0], [-0.031988942690820386, 2019.0], [0.0012936906421627764, 2020.0], [0.0, 2018.0], [-0.017542748363242093, 2019.0], [-0.008003806842938811, 2020.0], [0.0, 2018.0], [-0.013261470481806335, 2019.0], [-0.004999540419671518, 2020.0], [0.0, 2018.0], [-0.011792221100728546, 2019.0], [0.0037521545833074663, 2020.0], [0.0, 2018.0], [-0.23696954436887765, 2019.0], [-0.16414697450020202, 2020.0], [0.0, 2019.0], [0.024778663728606074, 2020.0], [0.0, 2019.0], [0.037376747656807395, 2020.0], [0.0, 2019.0], [0.02124347679503742, 2020.0], [0.0, 2019.0], [0.03089776513247989, 2020.0], [0.0, 2019.0], [0.009853718814049353, 2020.0], [0.0, 2019.0], [0.004283721418666286, 2020.0], [0.0, 2019.0], [0.0024500834561821867, 2020.0], [0.0, 2019.0], [0.0010891122828465497, 2020.0], [0.0, 2019.0], [-0.008746327144479982, 2020.0], [0.0, 2019.0], [-0.0031490174229395545, 2020.0], [0.0, 2019.0], [0.006066886000044504, 2020.0], [0.0, 2019.0], [0.02765309923831756, 2020.0], [0.0, 2019.0], [0.028966673999527598, 2020.0], [0.0, 2019.0], [0.003790329541463394, 2020.0], [0.0, 2019.0], [-0.006679357056303672, 2020.0], [0.0, 2019.0], [-0.0024075393304806136, 2020.0]], \"hovertemplate\": \"<b>%{hovertext}</b><br><br>Seed_Type=Interseed<br>Precipitation (mm)=%{x}<br>Smoothed NDVI anomaly=%{customdata[0]}<br>Year=%{customdata[1]}<extra></extra>\", \"hovertext\": [2335.0, 2335.0, 2335.0, 2335.0, 2335.0, 2335.0, 2577.0, 2577.0, 2577.0, 2577.0, 2581.0, 2581.0, 2581.0, 2586.0, 2586.0, 2586.0, 2587.0, 2587.0, 2587.0, 2599.0, 2599.0, 2599.0, 2600.0, 2600.0, 2600.0, 2601.0, 2601.0, 2601.0, 2604.0, 2604.0, 2604.0, 2609.0, 2609.0, 2614.0, 2614.0, 2615.0, 2615.0, 2620.0, 2620.0, 2621.0, 2621.0, 2622.0, 2622.0, 2623.0, 2623.0, 2624.0, 2624.0, 2626.0, 2626.0, 2627.0, 2627.0, 2628.0, 2628.0, 2633.0, 2633.0, 2634.0, 2634.0, 2645.0, 2645.0, 2648.0, 2648.0, 2650.0, 2650.0], \"legendgroup\": \"Interseed\", \"marker\": {\"color\": \"rgb(85,168,104)\", \"symbol\": \"circle\"}, \"mode\": \"markers\", \"name\": \"Interseed\", \"showlegend\": true, \"type\": \"scatter\", \"x\": [246.70000022649765, 233.29999881982803, 283.49999874830246, 192.70000049471855, 342.7775985598564, 274.4563195705414, 246.70000022649765, 233.29999881982803, 283.49999874830246, 192.70000049471855, 233.29999881982803, 283.49999874830246, 192.70000049471855, 233.29999881982803, 283.49999874830246, 192.70000049471855, 233.29999881982803, 283.49999874830246, 192.70000049471855, 233.29999881982803, 283.49999874830246, 192.70000049471855, 233.29999881982803, 283.49999874830246, 192.70000049471855, 233.29999881982803, 283.49999874830246, 192.70000049471855, 233.29999881982803, 283.49999874830246, 192.70000049471855, 283.49999874830246, 192.70000049471855, 283.49999874830246, 192.70000049471855, 283.49999874830246, 192.70000049471855, 283.49999874830246, 192.70000049471855, 283.49999874830246, 192.70000049471855, 283.49999874830246, 192.70000049471855, 283.49999874830246, 192.70000049471855, 283.49999874830246, 192.70000049471855, 283.49999874830246, 192.70000049471855, 283.49999874830246, 192.70000049471855, 283.49999874830246, 192.70000049471855, 283.49999874830246, 192.70000049471855, 283.49999874830246, 192.70000049471855, 283.49999874830246, 192.70000049471855, 283.49999874830246, 192.70000049471855, 283.49999874830246, 192.70000049471855], \"xaxis\": \"x\", \"y\": [0.17911936688385346, 0.19993962890742065, 0.19562742844671135, 0.19082346508332096, 0.0, 0.11007335753804762, 0.0, -0.03165778558967049, -0.049128852450438514, -0.008813112515775389, 0.0, 0.04094340011498103, 0.16723116576992153, 0.0, -0.05498241167156842, -0.028000767487291738, 0.0, -0.031988942690820386, 0.0012936906421627764, 0.0, -0.017542748363242093, -0.008003806842938811, 0.0, -0.013261470481806335, -0.004999540419671518, 0.0, -0.011792221100728546, 0.0037521545833074663, 0.0, -0.23696954436887765, -0.16414697450020202, 0.0, 0.024778663728606074, 0.0, 0.037376747656807395, 0.0, 0.02124347679503742, 0.0, 0.03089776513247989, 0.0, 0.009853718814049353, 0.0, 0.004283721418666286, 0.0, 0.0024500834561821867, 0.0, 0.0010891122828465497, 0.0, -0.008746327144479982, 0.0, -0.0031490174229395545, 0.0, 0.006066886000044504, 0.0, 0.02765309923831756, 0.0, 0.028966673999527598, 0.0, 0.003790329541463394, 0.0, -0.006679357056303672, 0.0, -0.0024075393304806136], \"yaxis\": \"y\"}],\n",
       "                        {\"annotations\": [{\"showarrow\": false, \"text\": \"Source: Landsat 8 data from USGS, meteorological data from gridMET\", \"x\": 0.01, \"xref\": \"paper\", \"y\": 0.01, \"yref\": \"paper\"}], \"height\": 700, \"legend\": {\"title\": {\"text\": \"Seed_Type\"}, \"tracegroupgap\": 0}, \"showlegend\": true, \"template\": {\"data\": {\"bar\": [{\"error_x\": {\"color\": \"rgb(36,36,36)\"}, \"error_y\": {\"color\": \"rgb(36,36,36)\"}, \"marker\": {\"line\": {\"color\": \"rgb(234,234,242)\", \"width\": 0.5}}, \"type\": \"bar\"}], \"barpolar\": [{\"marker\": {\"line\": {\"color\": \"rgb(234,234,242)\", \"width\": 0.5}}, \"type\": \"barpolar\"}], \"carpet\": [{\"aaxis\": {\"endlinecolor\": \"rgb(36,36,36)\", \"gridcolor\": \"white\", \"linecolor\": \"white\", \"minorgridcolor\": \"white\", \"startlinecolor\": \"rgb(36,36,36)\"}, \"baxis\": {\"endlinecolor\": \"rgb(36,36,36)\", \"gridcolor\": \"white\", \"linecolor\": \"white\", \"minorgridcolor\": \"white\", \"startlinecolor\": \"rgb(36,36,36)\"}, \"type\": \"carpet\"}], \"choropleth\": [{\"colorbar\": {\"outlinewidth\": 0, \"tickcolor\": \"rgb(36,36,36)\", \"ticklen\": 8, \"ticks\": \"outside\", \"tickwidth\": 2}, \"type\": \"choropleth\"}], \"contour\": [{\"colorbar\": {\"outlinewidth\": 0, \"tickcolor\": \"rgb(36,36,36)\", \"ticklen\": 8, \"ticks\": \"outside\", \"tickwidth\": 2}, \"colorscale\": [[0.0, \"rgb(2,4,25)\"], [0.06274509803921569, \"rgb(24,15,41)\"], [0.12549019607843137, \"rgb(47,23,57)\"], [0.18823529411764706, \"rgb(71,28,72)\"], [0.25098039215686274, \"rgb(97,30,82)\"], [0.3137254901960784, \"rgb(123,30,89)\"], [0.3764705882352941, \"rgb(150,27,91)\"], [0.4392156862745098, \"rgb(177,22,88)\"], [0.5019607843137255, \"rgb(203,26,79)\"], [0.5647058823529412, \"rgb(223,47,67)\"], [0.6274509803921569, \"rgb(236,76,61)\"], [0.6901960784313725, \"rgb(242,107,73)\"], [0.7529411764705882, \"rgb(244,135,95)\"], [0.8156862745098039, \"rgb(245,162,122)\"], [0.8784313725490196, \"rgb(246,188,153)\"], [0.9411764705882353, \"rgb(247,212,187)\"], [1.0, \"rgb(250,234,220)\"]], \"type\": \"contour\"}], \"contourcarpet\": [{\"colorbar\": {\"outlinewidth\": 0, \"tickcolor\": \"rgb(36,36,36)\", \"ticklen\": 8, \"ticks\": \"outside\", \"tickwidth\": 2}, \"type\": \"contourcarpet\"}], \"heatmap\": [{\"colorbar\": {\"outlinewidth\": 0, \"tickcolor\": \"rgb(36,36,36)\", \"ticklen\": 8, \"ticks\": \"outside\", \"tickwidth\": 2}, \"colorscale\": [[0.0, \"rgb(2,4,25)\"], [0.06274509803921569, \"rgb(24,15,41)\"], [0.12549019607843137, \"rgb(47,23,57)\"], [0.18823529411764706, \"rgb(71,28,72)\"], [0.25098039215686274, \"rgb(97,30,82)\"], [0.3137254901960784, \"rgb(123,30,89)\"], [0.3764705882352941, \"rgb(150,27,91)\"], [0.4392156862745098, \"rgb(177,22,88)\"], [0.5019607843137255, \"rgb(203,26,79)\"], [0.5647058823529412, \"rgb(223,47,67)\"], [0.6274509803921569, \"rgb(236,76,61)\"], [0.6901960784313725, \"rgb(242,107,73)\"], [0.7529411764705882, \"rgb(244,135,95)\"], [0.8156862745098039, \"rgb(245,162,122)\"], [0.8784313725490196, \"rgb(246,188,153)\"], [0.9411764705882353, \"rgb(247,212,187)\"], [1.0, \"rgb(250,234,220)\"]], \"type\": \"heatmap\"}], \"heatmapgl\": [{\"colorbar\": {\"outlinewidth\": 0, \"tickcolor\": \"rgb(36,36,36)\", \"ticklen\": 8, \"ticks\": \"outside\", \"tickwidth\": 2}, \"colorscale\": [[0.0, \"rgb(2,4,25)\"], [0.06274509803921569, \"rgb(24,15,41)\"], [0.12549019607843137, \"rgb(47,23,57)\"], [0.18823529411764706, \"rgb(71,28,72)\"], [0.25098039215686274, \"rgb(97,30,82)\"], [0.3137254901960784, \"rgb(123,30,89)\"], [0.3764705882352941, \"rgb(150,27,91)\"], [0.4392156862745098, \"rgb(177,22,88)\"], [0.5019607843137255, \"rgb(203,26,79)\"], [0.5647058823529412, \"rgb(223,47,67)\"], [0.6274509803921569, \"rgb(236,76,61)\"], [0.6901960784313725, \"rgb(242,107,73)\"], [0.7529411764705882, \"rgb(244,135,95)\"], [0.8156862745098039, \"rgb(245,162,122)\"], [0.8784313725490196, \"rgb(246,188,153)\"], [0.9411764705882353, \"rgb(247,212,187)\"], [1.0, \"rgb(250,234,220)\"]], \"type\": \"heatmapgl\"}], \"histogram\": [{\"marker\": {\"colorbar\": {\"outlinewidth\": 0, \"tickcolor\": \"rgb(36,36,36)\", \"ticklen\": 8, \"ticks\": \"outside\", \"tickwidth\": 2}}, \"type\": \"histogram\"}], \"histogram2d\": [{\"colorbar\": {\"outlinewidth\": 0, \"tickcolor\": \"rgb(36,36,36)\", \"ticklen\": 8, \"ticks\": \"outside\", \"tickwidth\": 2}, \"colorscale\": [[0.0, \"rgb(2,4,25)\"], [0.06274509803921569, \"rgb(24,15,41)\"], [0.12549019607843137, \"rgb(47,23,57)\"], [0.18823529411764706, \"rgb(71,28,72)\"], [0.25098039215686274, \"rgb(97,30,82)\"], [0.3137254901960784, \"rgb(123,30,89)\"], [0.3764705882352941, \"rgb(150,27,91)\"], [0.4392156862745098, \"rgb(177,22,88)\"], [0.5019607843137255, \"rgb(203,26,79)\"], [0.5647058823529412, \"rgb(223,47,67)\"], [0.6274509803921569, \"rgb(236,76,61)\"], [0.6901960784313725, \"rgb(242,107,73)\"], [0.7529411764705882, \"rgb(244,135,95)\"], [0.8156862745098039, \"rgb(245,162,122)\"], [0.8784313725490196, \"rgb(246,188,153)\"], [0.9411764705882353, \"rgb(247,212,187)\"], [1.0, \"rgb(250,234,220)\"]], \"type\": \"histogram2d\"}], \"histogram2dcontour\": [{\"colorbar\": {\"outlinewidth\": 0, \"tickcolor\": \"rgb(36,36,36)\", \"ticklen\": 8, \"ticks\": \"outside\", \"tickwidth\": 2}, \"colorscale\": [[0.0, \"rgb(2,4,25)\"], [0.06274509803921569, \"rgb(24,15,41)\"], [0.12549019607843137, \"rgb(47,23,57)\"], [0.18823529411764706, \"rgb(71,28,72)\"], [0.25098039215686274, \"rgb(97,30,82)\"], [0.3137254901960784, \"rgb(123,30,89)\"], [0.3764705882352941, \"rgb(150,27,91)\"], [0.4392156862745098, \"rgb(177,22,88)\"], [0.5019607843137255, \"rgb(203,26,79)\"], [0.5647058823529412, \"rgb(223,47,67)\"], [0.6274509803921569, \"rgb(236,76,61)\"], [0.6901960784313725, \"rgb(242,107,73)\"], [0.7529411764705882, \"rgb(244,135,95)\"], [0.8156862745098039, \"rgb(245,162,122)\"], [0.8784313725490196, \"rgb(246,188,153)\"], [0.9411764705882353, \"rgb(247,212,187)\"], [1.0, \"rgb(250,234,220)\"]], \"type\": \"histogram2dcontour\"}], \"mesh3d\": [{\"colorbar\": {\"outlinewidth\": 0, \"tickcolor\": \"rgb(36,36,36)\", \"ticklen\": 8, \"ticks\": \"outside\", \"tickwidth\": 2}, \"type\": \"mesh3d\"}], \"parcoords\": [{\"line\": {\"colorbar\": {\"outlinewidth\": 0, \"tickcolor\": \"rgb(36,36,36)\", \"ticklen\": 8, \"ticks\": \"outside\", \"tickwidth\": 2}}, \"type\": \"parcoords\"}], \"pie\": [{\"automargin\": true, \"type\": \"pie\"}], \"scatter\": [{\"marker\": {\"colorbar\": {\"outlinewidth\": 0, \"tickcolor\": \"rgb(36,36,36)\", \"ticklen\": 8, \"ticks\": \"outside\", \"tickwidth\": 2}}, \"type\": \"scatter\"}], \"scatter3d\": [{\"line\": {\"colorbar\": {\"outlinewidth\": 0, \"tickcolor\": \"rgb(36,36,36)\", \"ticklen\": 8, \"ticks\": \"outside\", \"tickwidth\": 2}}, \"marker\": {\"colorbar\": {\"outlinewidth\": 0, \"tickcolor\": \"rgb(36,36,36)\", \"ticklen\": 8, \"ticks\": \"outside\", \"tickwidth\": 2}}, \"type\": \"scatter3d\"}], \"scattercarpet\": [{\"marker\": {\"colorbar\": {\"outlinewidth\": 0, \"tickcolor\": \"rgb(36,36,36)\", \"ticklen\": 8, \"ticks\": \"outside\", \"tickwidth\": 2}}, \"type\": \"scattercarpet\"}], \"scattergeo\": [{\"marker\": {\"colorbar\": {\"outlinewidth\": 0, \"tickcolor\": \"rgb(36,36,36)\", \"ticklen\": 8, \"ticks\": \"outside\", \"tickwidth\": 2}}, \"type\": \"scattergeo\"}], \"scattergl\": [{\"marker\": {\"colorbar\": {\"outlinewidth\": 0, \"tickcolor\": \"rgb(36,36,36)\", \"ticklen\": 8, \"ticks\": \"outside\", \"tickwidth\": 2}}, \"type\": \"scattergl\"}], \"scattermapbox\": [{\"marker\": {\"colorbar\": {\"outlinewidth\": 0, \"tickcolor\": \"rgb(36,36,36)\", \"ticklen\": 8, \"ticks\": \"outside\", \"tickwidth\": 2}}, \"type\": \"scattermapbox\"}], \"scatterpolar\": [{\"marker\": {\"colorbar\": {\"outlinewidth\": 0, \"tickcolor\": \"rgb(36,36,36)\", \"ticklen\": 8, \"ticks\": \"outside\", \"tickwidth\": 2}}, \"type\": \"scatterpolar\"}], \"scatterpolargl\": [{\"marker\": {\"colorbar\": {\"outlinewidth\": 0, \"tickcolor\": \"rgb(36,36,36)\", \"ticklen\": 8, \"ticks\": \"outside\", \"tickwidth\": 2}}, \"type\": \"scatterpolargl\"}], \"scatterternary\": [{\"marker\": {\"colorbar\": {\"outlinewidth\": 0, \"tickcolor\": \"rgb(36,36,36)\", \"ticklen\": 8, \"ticks\": \"outside\", \"tickwidth\": 2}}, \"type\": \"scatterternary\"}], \"surface\": [{\"colorbar\": {\"outlinewidth\": 0, \"tickcolor\": \"rgb(36,36,36)\", \"ticklen\": 8, \"ticks\": \"outside\", \"tickwidth\": 2}, \"colorscale\": [[0.0, \"rgb(2,4,25)\"], [0.06274509803921569, \"rgb(24,15,41)\"], [0.12549019607843137, \"rgb(47,23,57)\"], [0.18823529411764706, \"rgb(71,28,72)\"], [0.25098039215686274, \"rgb(97,30,82)\"], [0.3137254901960784, \"rgb(123,30,89)\"], [0.3764705882352941, \"rgb(150,27,91)\"], [0.4392156862745098, \"rgb(177,22,88)\"], [0.5019607843137255, \"rgb(203,26,79)\"], [0.5647058823529412, \"rgb(223,47,67)\"], [0.6274509803921569, \"rgb(236,76,61)\"], [0.6901960784313725, \"rgb(242,107,73)\"], [0.7529411764705882, \"rgb(244,135,95)\"], [0.8156862745098039, \"rgb(245,162,122)\"], [0.8784313725490196, \"rgb(246,188,153)\"], [0.9411764705882353, \"rgb(247,212,187)\"], [1.0, \"rgb(250,234,220)\"]], \"type\": \"surface\"}], \"table\": [{\"cells\": {\"fill\": {\"color\": \"rgb(231,231,240)\"}, \"line\": {\"color\": \"white\"}}, \"header\": {\"fill\": {\"color\": \"rgb(183,183,191)\"}, \"line\": {\"color\": \"white\"}}, \"type\": \"table\"}]}, \"layout\": {\"annotationdefaults\": {\"arrowcolor\": \"rgb(67,103,167)\"}, \"coloraxis\": {\"colorbar\": {\"outlinewidth\": 0, \"tickcolor\": \"rgb(36,36,36)\", \"ticklen\": 8, \"ticks\": \"outside\", \"tickwidth\": 2}}, \"colorscale\": {\"sequential\": [[0.0, \"rgb(2,4,25)\"], [0.06274509803921569, \"rgb(24,15,41)\"], [0.12549019607843137, \"rgb(47,23,57)\"], [0.18823529411764706, \"rgb(71,28,72)\"], [0.25098039215686274, \"rgb(97,30,82)\"], [0.3137254901960784, \"rgb(123,30,89)\"], [0.3764705882352941, \"rgb(150,27,91)\"], [0.4392156862745098, \"rgb(177,22,88)\"], [0.5019607843137255, \"rgb(203,26,79)\"], [0.5647058823529412, \"rgb(223,47,67)\"], [0.6274509803921569, \"rgb(236,76,61)\"], [0.6901960784313725, \"rgb(242,107,73)\"], [0.7529411764705882, \"rgb(244,135,95)\"], [0.8156862745098039, \"rgb(245,162,122)\"], [0.8784313725490196, \"rgb(246,188,153)\"], [0.9411764705882353, \"rgb(247,212,187)\"], [1.0, \"rgb(250,234,220)\"]], \"sequentialminus\": [[0.0, \"rgb(2,4,25)\"], [0.06274509803921569, \"rgb(24,15,41)\"], [0.12549019607843137, \"rgb(47,23,57)\"], [0.18823529411764706, \"rgb(71,28,72)\"], [0.25098039215686274, \"rgb(97,30,82)\"], [0.3137254901960784, \"rgb(123,30,89)\"], [0.3764705882352941, \"rgb(150,27,91)\"], [0.4392156862745098, \"rgb(177,22,88)\"], [0.5019607843137255, \"rgb(203,26,79)\"], [0.5647058823529412, \"rgb(223,47,67)\"], [0.6274509803921569, \"rgb(236,76,61)\"], [0.6901960784313725, \"rgb(242,107,73)\"], [0.7529411764705882, \"rgb(244,135,95)\"], [0.8156862745098039, \"rgb(245,162,122)\"], [0.8784313725490196, \"rgb(246,188,153)\"], [0.9411764705882353, \"rgb(247,212,187)\"], [1.0, \"rgb(250,234,220)\"]]}, \"colorway\": [\"rgb(76,114,176)\", \"rgb(221,132,82)\", \"rgb(85,168,104)\", \"rgb(196,78,82)\", \"rgb(129,114,179)\", \"rgb(147,120,96)\", \"rgb(218,139,195)\", \"rgb(140,140,140)\", \"rgb(204,185,116)\", \"rgb(100,181,205)\"], \"font\": {\"color\": \"rgb(36,36,36)\"}, \"geo\": {\"bgcolor\": \"white\", \"lakecolor\": \"white\", \"landcolor\": \"rgb(234,234,242)\", \"showlakes\": true, \"showland\": true, \"subunitcolor\": \"white\"}, \"hoverlabel\": {\"align\": \"left\"}, \"hovermode\": \"closest\", \"paper_bgcolor\": \"white\", \"plot_bgcolor\": \"rgb(234,234,242)\", \"polar\": {\"angularaxis\": {\"gridcolor\": \"white\", \"linecolor\": \"white\", \"showgrid\": true, \"ticks\": \"\"}, \"bgcolor\": \"rgb(234,234,242)\", \"radialaxis\": {\"gridcolor\": \"white\", \"linecolor\": \"white\", \"showgrid\": true, \"ticks\": \"\"}}, \"scene\": {\"xaxis\": {\"backgroundcolor\": \"rgb(234,234,242)\", \"gridcolor\": \"white\", \"gridwidth\": 2, \"linecolor\": \"white\", \"showbackground\": true, \"showgrid\": true, \"ticks\": \"\", \"zerolinecolor\": \"white\"}, \"yaxis\": {\"backgroundcolor\": \"rgb(234,234,242)\", \"gridcolor\": \"white\", \"gridwidth\": 2, \"linecolor\": \"white\", \"showbackground\": true, \"showgrid\": true, \"ticks\": \"\", \"zerolinecolor\": \"white\"}, \"zaxis\": {\"backgroundcolor\": \"rgb(234,234,242)\", \"gridcolor\": \"white\", \"gridwidth\": 2, \"linecolor\": \"white\", \"showbackground\": true, \"showgrid\": true, \"ticks\": \"\", \"zerolinecolor\": \"white\"}}, \"shapedefaults\": {\"fillcolor\": \"rgb(67,103,167)\", \"line\": {\"width\": 0}, \"opacity\": 0.5}, \"ternary\": {\"aaxis\": {\"gridcolor\": \"white\", \"linecolor\": \"white\", \"showgrid\": true, \"ticks\": \"\"}, \"baxis\": {\"gridcolor\": \"white\", \"linecolor\": \"white\", \"showgrid\": true, \"ticks\": \"\"}, \"bgcolor\": \"rgb(234,234,242)\", \"caxis\": {\"gridcolor\": \"white\", \"linecolor\": \"white\", \"showgrid\": true, \"ticks\": \"\"}}, \"xaxis\": {\"automargin\": true, \"gridcolor\": \"white\", \"linecolor\": \"white\", \"showgrid\": true, \"ticks\": \"\", \"title\": {\"standoff\": 15}, \"zerolinecolor\": \"white\"}, \"yaxis\": {\"automargin\": true, \"gridcolor\": \"white\", \"linecolor\": \"white\", \"showgrid\": true, \"ticks\": \"\", \"title\": {\"standoff\": 15}, \"zerolinecolor\": \"white\"}}}, \"title\": {\"text\": \"Plot 7 - NDVI anomaly vs annual precipitation for the seeding units\"}, \"width\": 900, \"xaxis\": {\"anchor\": \"y\", \"domain\": [0.0, 1.0], \"title\": {\"text\": \"Precipitation (mm)\"}}, \"yaxis\": {\"anchor\": \"x\", \"domain\": [0.0, 1.0], \"title\": {\"text\": \"Smoothed NDVI anomaly\"}}},\n",
       "                        {\"responsive\": true}\n",
       "                    ).then(function(){\n",
       "                            \n",
       "var gd = document.getElementById('2580ddef-9588-4586-907f-a93db757da6f');\n",
       "var x = new MutationObserver(function (mutations, observer) {{\n",
       "        var display = window.getComputedStyle(gd).display;\n",
       "        if (!display || display === 'none') {{\n",
       "            console.log([gd, 'removed!']);\n",
       "            Plotly.purge(gd);\n",
       "            observer.disconnect();\n",
       "        }}\n",
       "}});\n",
       "\n",
       "// Listen for the removal of the full notebook cells\n",
       "var notebookContainer = gd.closest('#notebook-container');\n",
       "if (notebookContainer) {{\n",
       "    x.observe(notebookContainer, {childList: true});\n",
       "}}\n",
       "\n",
       "// Listen for the clearing of the current output cell\n",
       "var outputEl = gd.closest('.output');\n",
       "if (outputEl) {{\n",
       "    x.observe(outputEl, {childList: true});\n",
       "}}\n",
       "\n",
       "                        })\n",
       "                };\n",
       "                });\n",
       "            </script>\n",
       "        </div>"
      ]
     },
     "metadata": {},
     "output_type": "display_data"
    }
   ],
   "source": [
    "fig = px.scatter(su_ndvi_annual_change_df, x='precip', y='NDVI_anomaly',\n",
    "                 labels={\n",
    "                     \"NDVI_anomaly\": \"Smoothed NDVI anomaly\",\n",
    "                     \"precip\": \"Precipitation (mm)\"\n",
    "                 },\n",
    "                 title='Plot 7 - NDVI anomaly vs annual precipitation for the seeding units',\n",
    "                 width=900, height=700,\n",
    "                 hover_name=\"SuId\", \n",
    "                 hover_data=[\"NDVI_anomaly\", \"Year\"],\n",
    "                 #size=\"precip\",\n",
    "                 color=\"Seed_Type\")\n",
    "\n",
    "# Credit\n",
    "fig.add_annotation(text=\"Source: Landsat 8 data from USGS, meteorological data from gridMET\",\n",
    "                   showarrow=False,\n",
    "                   xref=\"paper\", yref=\"paper\",\n",
    "                   x=0.01, y=0.01)\n",
    "\n",
    "fig.update_layout(showlegend=True)\n",
    "fig.show()"
   ]
  },
  {
   "cell_type": "code",
   "execution_count": 129,
   "id": "continental-spending",
   "metadata": {},
   "outputs": [
    {
     "data": {
      "text/html": [
       "<div>\n",
       "<style scoped>\n",
       "    .dataframe tbody tr th:only-of-type {\n",
       "        vertical-align: middle;\n",
       "    }\n",
       "\n",
       "    .dataframe tbody tr th {\n",
       "        vertical-align: top;\n",
       "    }\n",
       "\n",
       "    .dataframe thead th {\n",
       "        text-align: right;\n",
       "    }\n",
       "</style>\n",
       "<table border=\"1\" class=\"dataframe\">\n",
       "  <thead>\n",
       "    <tr style=\"text-align: right;\">\n",
       "      <th></th>\n",
       "      <th>SuId</th>\n",
       "      <th>Year</th>\n",
       "      <th>Intervention_Year</th>\n",
       "      <th>NDVI_delta</th>\n",
       "      <th>NDVI_mean</th>\n",
       "      <th>NDVI_anomaly</th>\n",
       "      <th>precip</th>\n",
       "      <th>eto</th>\n",
       "      <th>Seed_Type</th>\n",
       "    </tr>\n",
       "  </thead>\n",
       "  <tbody>\n",
       "    <tr>\n",
       "      <th>0</th>\n",
       "      <td>172</td>\n",
       "      <td>2017</td>\n",
       "      <td>0</td>\n",
       "      <td>0.003429</td>\n",
       "      <td>0.102241</td>\n",
       "      <td>0.000000</td>\n",
       "      <td>246.700000</td>\n",
       "      <td>1507.600001</td>\n",
       "      <td>Seed</td>\n",
       "    </tr>\n",
       "    <tr>\n",
       "      <th>18</th>\n",
       "      <td>172</td>\n",
       "      <td>2018</td>\n",
       "      <td>1</td>\n",
       "      <td>0.014250</td>\n",
       "      <td>0.111236</td>\n",
       "      <td>0.042138</td>\n",
       "      <td>233.299999</td>\n",
       "      <td>1548.700000</td>\n",
       "      <td>Seed</td>\n",
       "    </tr>\n",
       "    <tr>\n",
       "      <th>43</th>\n",
       "      <td>172</td>\n",
       "      <td>2019</td>\n",
       "      <td>2</td>\n",
       "      <td>0.027377</td>\n",
       "      <td>0.126691</td>\n",
       "      <td>0.106803</td>\n",
       "      <td>283.499999</td>\n",
       "      <td>1417.999998</td>\n",
       "      <td>Seed</td>\n",
       "    </tr>\n",
       "    <tr>\n",
       "      <th>85</th>\n",
       "      <td>172</td>\n",
       "      <td>2020</td>\n",
       "      <td>3</td>\n",
       "      <td>0.027374</td>\n",
       "      <td>0.161916</td>\n",
       "      <td>0.225908</td>\n",
       "      <td>192.700000</td>\n",
       "      <td>1583.600001</td>\n",
       "      <td>Seed</td>\n",
       "    </tr>\n",
       "  </tbody>\n",
       "</table>\n",
       "</div>"
      ],
      "text/plain": [
       "    SuId  Year  Intervention_Year  NDVI_delta  NDVI_mean  NDVI_anomaly  \\\n",
       "0    172  2017                  0    0.003429   0.102241      0.000000   \n",
       "18   172  2018                  1    0.014250   0.111236      0.042138   \n",
       "43   172  2019                  2    0.027377   0.126691      0.106803   \n",
       "85   172  2020                  3    0.027374   0.161916      0.225908   \n",
       "\n",
       "        precip          eto Seed_Type  \n",
       "0   246.700000  1507.600001      Seed  \n",
       "18  233.299999  1548.700000      Seed  \n",
       "43  283.499999  1417.999998      Seed  \n",
       "85  192.700000  1583.600001      Seed  "
      ]
     },
     "execution_count": 129,
     "metadata": {},
     "output_type": "execute_result"
    }
   ],
   "source": [
    "su_ndvi_annual_change_df[su_ndvi_annual_change_df['SuId'] == 172]"
   ]
  },
  {
   "cell_type": "code",
   "execution_count": 10,
   "id": "postal-makeup",
   "metadata": {},
   "outputs": [],
   "source": [
    "# Plot of cumulative change in NDVI colored by seeding type"
   ]
  },
  {
   "cell_type": "markdown",
   "id": "elder-rover",
   "metadata": {},
   "source": [
    "### Plot of annual NDVI change vs precipitation for all seeding units for a specific intervention year"
   ]
  },
  {
   "cell_type": "code",
   "execution_count": 85,
   "id": "sharp-conservation",
   "metadata": {
    "scrolled": false
   },
   "outputs": [
    {
     "data": {
      "application/vnd.plotly.v1+json": {
       "config": {
        "plotlyServerURL": "https://plot.ly"
       },
       "data": [
        {
         "customdata": [
          [
           0.038400571171465975,
           2017
          ],
          [
           0.011859860669511058,
           2013
          ],
          [
           -0.007589762569745584,
           2013
          ],
          [
           0.0040701804588819945,
           2013
          ],
          [
           0.05710472222585872,
           2013
          ],
          [
           0.020651094786054702,
           2013
          ],
          [
           0.0016662591808644933,
           2013
          ],
          [
           -0.027838027291519296,
           2014
          ],
          [
           -0.012519504706328677,
           2014
          ],
          [
           -0.004475498598117383,
           2014
          ],
          [
           -0.007878214393820554,
           2014
          ],
          [
           -0.010691541909100516,
           2014
          ],
          [
           -0.017537092563740364,
           2014
          ],
          [
           -0.02306239729587145,
           2014
          ],
          [
           -0.033689675682776254,
           2014
          ],
          [
           0.08893849137102197,
           2015
          ],
          [
           0.021396927008893174,
           2017
          ],
          [
           0.010513659472077191,
           2017
          ],
          [
           -0.010063441185694591,
           2018
          ],
          [
           -0.052048221476110934,
           2018
          ],
          [
           -0.026426660062318835,
           2018
          ],
          [
           -0.04163703320227788,
           2018
          ],
          [
           -0.03268060232541939,
           2018
          ],
          [
           -0.032161282894758475,
           2018
          ],
          [
           -0.12749679951453197,
           2018
          ],
          [
           0.02442829061391541,
           2019
          ],
          [
           0.037475165625613566,
           2019
          ],
          [
           0.02317711127213609,
           2019
          ],
          [
           0.036065640871560084,
           2019
          ],
          [
           0.027260145202042563,
           2019
          ],
          [
           0.02653747367195755,
           2019
          ],
          [
           0.028185889487051308,
           2019
          ],
          [
           0.024437576990453458,
           2019
          ],
          [
           0.027675290116946194,
           2019
          ],
          [
           0.02747332520961554,
           2019
          ],
          [
           0.028411002766612625,
           2019
          ],
          [
           0.044583191460167815,
           2019
          ],
          [
           0.03634035170155889,
           2019
          ],
          [
           0.04174188599418627,
           2019
          ],
          [
           0.027611424111657623,
           2019
          ],
          [
           0.032793207267555025,
           2019
          ],
          [
           0.03159612613962967,
           2019
          ]
         ],
         "hovertemplate": "<b>%{hovertext}</b><br><br>Precipitation (mm)=%{x}<br>Smoothed NDVI=%{customdata[0]}<br>Year=%{customdata[1]}<extra></extra>",
         "hovertext": [
          172,
          816,
          913,
          916,
          1265,
          1314,
          1319,
          1558,
          1588,
          1589,
          1590,
          1594,
          1601,
          1608,
          1655,
          2335,
          2569,
          2577,
          2581,
          2586,
          2587,
          2599,
          2600,
          2601,
          2604,
          2609,
          2614,
          2615,
          2620,
          2621,
          2622,
          2623,
          2624,
          2626,
          2627,
          2628,
          2633,
          2634,
          2645,
          2646,
          2648,
          2650
         ],
         "legendgroup": "",
         "marker": {
          "color": "rgb(76,114,176)",
          "symbol": "circle"
         },
         "mode": "markers",
         "name": "",
         "showlegend": false,
         "type": "scatter",
         "x": [
          246.70000022649765,
          294.02933743596077,
          294.02933743596077,
          294.02933743596077,
          294.02933743596077,
          294.02933743596077,
          294.02933743596077,
          211.29819747805595,
          211.29819747805595,
          211.29819747805595,
          211.29819747805595,
          211.29819747805595,
          211.29819747805595,
          211.29819747805595,
          211.29819747805595,
          342.7775985598564,
          246.70000022649765,
          246.70000022649765,
          233.29999881982803,
          233.29999881982803,
          233.29999881982803,
          233.29999881982803,
          233.29999881982803,
          233.29999881982803,
          233.29999881982803,
          283.49999874830246,
          283.49999874830246,
          283.49999874830246,
          283.49999874830246,
          283.49999874830246,
          283.49999874830246,
          283.49999874830246,
          283.49999874830246,
          283.49999874830246,
          283.49999874830246,
          283.49999874830246,
          283.49999874830246,
          283.49999874830246,
          283.49999874830246,
          283.49999874830246,
          283.49999874830246,
          283.49999874830246
         ],
         "xaxis": "x",
         "y": [
          0.038400571171465975,
          0.011859860669511058,
          -0.007589762569745584,
          0.0040701804588819945,
          0.05710472222585872,
          0.020651094786054702,
          0.0016662591808644933,
          -0.027838027291519296,
          -0.012519504706328677,
          -0.004475498598117383,
          -0.007878214393820554,
          -0.010691541909100516,
          -0.017537092563740364,
          -0.02306239729587145,
          -0.033689675682776254,
          0.08893849137102197,
          0.021396927008893174,
          0.010513659472077191,
          -0.010063441185694591,
          -0.052048221476110934,
          -0.026426660062318835,
          -0.04163703320227788,
          -0.03268060232541939,
          -0.032161282894758475,
          -0.12749679951453197,
          0.02442829061391541,
          0.037475165625613566,
          0.02317711127213609,
          0.036065640871560084,
          0.027260145202042563,
          0.02653747367195755,
          0.028185889487051308,
          0.024437576990453458,
          0.027675290116946194,
          0.02747332520961554,
          0.028411002766612625,
          0.044583191460167815,
          0.03634035170155889,
          0.04174188599418627,
          0.027611424111657623,
          0.032793207267555025,
          0.03159612613962967
         ],
         "yaxis": "y"
        },
        {
         "hovertemplate": "<b>OLS trendline</b><br>NDVI_delta = 0.000768705 * precip + -0.193702<br>R<sup>2</sup>=0.509878<br><br>Precipitation (mm)=%{x}<br>Smoothed NDVI=%{y} <b>(trend)</b><extra></extra>",
         "legendgroup": "",
         "marker": {
          "color": "rgb(76,114,176)",
          "symbol": "circle"
         },
         "mode": "lines",
         "name": "",
         "showlegend": false,
         "type": "scatter",
         "x": [
          211.29819747805595,
          211.29819747805595,
          211.29819747805595,
          211.29819747805595,
          211.29819747805595,
          211.29819747805595,
          211.29819747805595,
          211.29819747805595,
          233.29999881982803,
          233.29999881982803,
          233.29999881982803,
          233.29999881982803,
          233.29999881982803,
          233.29999881982803,
          233.29999881982803,
          246.70000022649765,
          246.70000022649765,
          246.70000022649765,
          283.49999874830246,
          283.49999874830246,
          283.49999874830246,
          283.49999874830246,
          283.49999874830246,
          283.49999874830246,
          283.49999874830246,
          283.49999874830246,
          283.49999874830246,
          283.49999874830246,
          283.49999874830246,
          283.49999874830246,
          283.49999874830246,
          283.49999874830246,
          283.49999874830246,
          283.49999874830246,
          283.49999874830246,
          294.02933743596077,
          294.02933743596077,
          294.02933743596077,
          294.02933743596077,
          294.02933743596077,
          294.02933743596077,
          342.7775985598564
         ],
         "xaxis": "x",
         "y": [
          -0.03127638056565549,
          -0.03127638056565549,
          -0.03127638056565549,
          -0.03127638056565549,
          -0.03127638056565549,
          -0.03127638056565549,
          -0.03127638056565549,
          -0.03127638056565549,
          -0.014363483503805674,
          -0.014363483503805674,
          -0.014363483503805674,
          -0.014363483503805674,
          -0.014363483503805674,
          -0.014363483503805674,
          -0.014363483503805674,
          -0.004062833984288083,
          -0.004062833984288083,
          -0.004062833984288083,
          0.024225512829108842,
          0.024225512829108842,
          0.024225512829108842,
          0.024225512829108842,
          0.024225512829108842,
          0.024225512829108842,
          0.024225512829108842,
          0.024225512829108842,
          0.024225512829108842,
          0.024225512829108842,
          0.024225512829108842,
          0.024225512829108842,
          0.024225512829108842,
          0.024225512829108842,
          0.024225512829108842,
          0.024225512829108842,
          0.024225512829108842,
          0.032319469255104594,
          0.032319469255104594,
          0.032319469255104594,
          0.032319469255104594,
          0.032319469255104594,
          0.032319469255104594,
          0.06979250655443225
         ],
         "yaxis": "y"
        }
       ],
       "layout": {
        "annotations": [
         {
          "showarrow": false,
          "text": "Source: Landsat 8 data from USGS, meteorological data from gridMET",
          "x": 0.01,
          "xref": "paper",
          "y": 0.01,
          "yref": "paper"
         }
        ],
        "height": 700,
        "legend": {
         "tracegroupgap": 0
        },
        "showlegend": false,
        "template": {
         "data": {
          "bar": [
           {
            "error_x": {
             "color": "rgb(36,36,36)"
            },
            "error_y": {
             "color": "rgb(36,36,36)"
            },
            "marker": {
             "line": {
              "color": "rgb(234,234,242)",
              "width": 0.5
             }
            },
            "type": "bar"
           }
          ],
          "barpolar": [
           {
            "marker": {
             "line": {
              "color": "rgb(234,234,242)",
              "width": 0.5
             }
            },
            "type": "barpolar"
           }
          ],
          "carpet": [
           {
            "aaxis": {
             "endlinecolor": "rgb(36,36,36)",
             "gridcolor": "white",
             "linecolor": "white",
             "minorgridcolor": "white",
             "startlinecolor": "rgb(36,36,36)"
            },
            "baxis": {
             "endlinecolor": "rgb(36,36,36)",
             "gridcolor": "white",
             "linecolor": "white",
             "minorgridcolor": "white",
             "startlinecolor": "rgb(36,36,36)"
            },
            "type": "carpet"
           }
          ],
          "choropleth": [
           {
            "colorbar": {
             "outlinewidth": 0,
             "tickcolor": "rgb(36,36,36)",
             "ticklen": 8,
             "ticks": "outside",
             "tickwidth": 2
            },
            "type": "choropleth"
           }
          ],
          "contour": [
           {
            "colorbar": {
             "outlinewidth": 0,
             "tickcolor": "rgb(36,36,36)",
             "ticklen": 8,
             "ticks": "outside",
             "tickwidth": 2
            },
            "colorscale": [
             [
              0,
              "rgb(2,4,25)"
             ],
             [
              0.06274509803921569,
              "rgb(24,15,41)"
             ],
             [
              0.12549019607843137,
              "rgb(47,23,57)"
             ],
             [
              0.18823529411764706,
              "rgb(71,28,72)"
             ],
             [
              0.25098039215686274,
              "rgb(97,30,82)"
             ],
             [
              0.3137254901960784,
              "rgb(123,30,89)"
             ],
             [
              0.3764705882352941,
              "rgb(150,27,91)"
             ],
             [
              0.4392156862745098,
              "rgb(177,22,88)"
             ],
             [
              0.5019607843137255,
              "rgb(203,26,79)"
             ],
             [
              0.5647058823529412,
              "rgb(223,47,67)"
             ],
             [
              0.6274509803921569,
              "rgb(236,76,61)"
             ],
             [
              0.6901960784313725,
              "rgb(242,107,73)"
             ],
             [
              0.7529411764705882,
              "rgb(244,135,95)"
             ],
             [
              0.8156862745098039,
              "rgb(245,162,122)"
             ],
             [
              0.8784313725490196,
              "rgb(246,188,153)"
             ],
             [
              0.9411764705882353,
              "rgb(247,212,187)"
             ],
             [
              1,
              "rgb(250,234,220)"
             ]
            ],
            "type": "contour"
           }
          ],
          "contourcarpet": [
           {
            "colorbar": {
             "outlinewidth": 0,
             "tickcolor": "rgb(36,36,36)",
             "ticklen": 8,
             "ticks": "outside",
             "tickwidth": 2
            },
            "type": "contourcarpet"
           }
          ],
          "heatmap": [
           {
            "colorbar": {
             "outlinewidth": 0,
             "tickcolor": "rgb(36,36,36)",
             "ticklen": 8,
             "ticks": "outside",
             "tickwidth": 2
            },
            "colorscale": [
             [
              0,
              "rgb(2,4,25)"
             ],
             [
              0.06274509803921569,
              "rgb(24,15,41)"
             ],
             [
              0.12549019607843137,
              "rgb(47,23,57)"
             ],
             [
              0.18823529411764706,
              "rgb(71,28,72)"
             ],
             [
              0.25098039215686274,
              "rgb(97,30,82)"
             ],
             [
              0.3137254901960784,
              "rgb(123,30,89)"
             ],
             [
              0.3764705882352941,
              "rgb(150,27,91)"
             ],
             [
              0.4392156862745098,
              "rgb(177,22,88)"
             ],
             [
              0.5019607843137255,
              "rgb(203,26,79)"
             ],
             [
              0.5647058823529412,
              "rgb(223,47,67)"
             ],
             [
              0.6274509803921569,
              "rgb(236,76,61)"
             ],
             [
              0.6901960784313725,
              "rgb(242,107,73)"
             ],
             [
              0.7529411764705882,
              "rgb(244,135,95)"
             ],
             [
              0.8156862745098039,
              "rgb(245,162,122)"
             ],
             [
              0.8784313725490196,
              "rgb(246,188,153)"
             ],
             [
              0.9411764705882353,
              "rgb(247,212,187)"
             ],
             [
              1,
              "rgb(250,234,220)"
             ]
            ],
            "type": "heatmap"
           }
          ],
          "heatmapgl": [
           {
            "colorbar": {
             "outlinewidth": 0,
             "tickcolor": "rgb(36,36,36)",
             "ticklen": 8,
             "ticks": "outside",
             "tickwidth": 2
            },
            "colorscale": [
             [
              0,
              "rgb(2,4,25)"
             ],
             [
              0.06274509803921569,
              "rgb(24,15,41)"
             ],
             [
              0.12549019607843137,
              "rgb(47,23,57)"
             ],
             [
              0.18823529411764706,
              "rgb(71,28,72)"
             ],
             [
              0.25098039215686274,
              "rgb(97,30,82)"
             ],
             [
              0.3137254901960784,
              "rgb(123,30,89)"
             ],
             [
              0.3764705882352941,
              "rgb(150,27,91)"
             ],
             [
              0.4392156862745098,
              "rgb(177,22,88)"
             ],
             [
              0.5019607843137255,
              "rgb(203,26,79)"
             ],
             [
              0.5647058823529412,
              "rgb(223,47,67)"
             ],
             [
              0.6274509803921569,
              "rgb(236,76,61)"
             ],
             [
              0.6901960784313725,
              "rgb(242,107,73)"
             ],
             [
              0.7529411764705882,
              "rgb(244,135,95)"
             ],
             [
              0.8156862745098039,
              "rgb(245,162,122)"
             ],
             [
              0.8784313725490196,
              "rgb(246,188,153)"
             ],
             [
              0.9411764705882353,
              "rgb(247,212,187)"
             ],
             [
              1,
              "rgb(250,234,220)"
             ]
            ],
            "type": "heatmapgl"
           }
          ],
          "histogram": [
           {
            "marker": {
             "colorbar": {
              "outlinewidth": 0,
              "tickcolor": "rgb(36,36,36)",
              "ticklen": 8,
              "ticks": "outside",
              "tickwidth": 2
             }
            },
            "type": "histogram"
           }
          ],
          "histogram2d": [
           {
            "colorbar": {
             "outlinewidth": 0,
             "tickcolor": "rgb(36,36,36)",
             "ticklen": 8,
             "ticks": "outside",
             "tickwidth": 2
            },
            "colorscale": [
             [
              0,
              "rgb(2,4,25)"
             ],
             [
              0.06274509803921569,
              "rgb(24,15,41)"
             ],
             [
              0.12549019607843137,
              "rgb(47,23,57)"
             ],
             [
              0.18823529411764706,
              "rgb(71,28,72)"
             ],
             [
              0.25098039215686274,
              "rgb(97,30,82)"
             ],
             [
              0.3137254901960784,
              "rgb(123,30,89)"
             ],
             [
              0.3764705882352941,
              "rgb(150,27,91)"
             ],
             [
              0.4392156862745098,
              "rgb(177,22,88)"
             ],
             [
              0.5019607843137255,
              "rgb(203,26,79)"
             ],
             [
              0.5647058823529412,
              "rgb(223,47,67)"
             ],
             [
              0.6274509803921569,
              "rgb(236,76,61)"
             ],
             [
              0.6901960784313725,
              "rgb(242,107,73)"
             ],
             [
              0.7529411764705882,
              "rgb(244,135,95)"
             ],
             [
              0.8156862745098039,
              "rgb(245,162,122)"
             ],
             [
              0.8784313725490196,
              "rgb(246,188,153)"
             ],
             [
              0.9411764705882353,
              "rgb(247,212,187)"
             ],
             [
              1,
              "rgb(250,234,220)"
             ]
            ],
            "type": "histogram2d"
           }
          ],
          "histogram2dcontour": [
           {
            "colorbar": {
             "outlinewidth": 0,
             "tickcolor": "rgb(36,36,36)",
             "ticklen": 8,
             "ticks": "outside",
             "tickwidth": 2
            },
            "colorscale": [
             [
              0,
              "rgb(2,4,25)"
             ],
             [
              0.06274509803921569,
              "rgb(24,15,41)"
             ],
             [
              0.12549019607843137,
              "rgb(47,23,57)"
             ],
             [
              0.18823529411764706,
              "rgb(71,28,72)"
             ],
             [
              0.25098039215686274,
              "rgb(97,30,82)"
             ],
             [
              0.3137254901960784,
              "rgb(123,30,89)"
             ],
             [
              0.3764705882352941,
              "rgb(150,27,91)"
             ],
             [
              0.4392156862745098,
              "rgb(177,22,88)"
             ],
             [
              0.5019607843137255,
              "rgb(203,26,79)"
             ],
             [
              0.5647058823529412,
              "rgb(223,47,67)"
             ],
             [
              0.6274509803921569,
              "rgb(236,76,61)"
             ],
             [
              0.6901960784313725,
              "rgb(242,107,73)"
             ],
             [
              0.7529411764705882,
              "rgb(244,135,95)"
             ],
             [
              0.8156862745098039,
              "rgb(245,162,122)"
             ],
             [
              0.8784313725490196,
              "rgb(246,188,153)"
             ],
             [
              0.9411764705882353,
              "rgb(247,212,187)"
             ],
             [
              1,
              "rgb(250,234,220)"
             ]
            ],
            "type": "histogram2dcontour"
           }
          ],
          "mesh3d": [
           {
            "colorbar": {
             "outlinewidth": 0,
             "tickcolor": "rgb(36,36,36)",
             "ticklen": 8,
             "ticks": "outside",
             "tickwidth": 2
            },
            "type": "mesh3d"
           }
          ],
          "parcoords": [
           {
            "line": {
             "colorbar": {
              "outlinewidth": 0,
              "tickcolor": "rgb(36,36,36)",
              "ticklen": 8,
              "ticks": "outside",
              "tickwidth": 2
             }
            },
            "type": "parcoords"
           }
          ],
          "pie": [
           {
            "automargin": true,
            "type": "pie"
           }
          ],
          "scatter": [
           {
            "marker": {
             "colorbar": {
              "outlinewidth": 0,
              "tickcolor": "rgb(36,36,36)",
              "ticklen": 8,
              "ticks": "outside",
              "tickwidth": 2
             }
            },
            "type": "scatter"
           }
          ],
          "scatter3d": [
           {
            "line": {
             "colorbar": {
              "outlinewidth": 0,
              "tickcolor": "rgb(36,36,36)",
              "ticklen": 8,
              "ticks": "outside",
              "tickwidth": 2
             }
            },
            "marker": {
             "colorbar": {
              "outlinewidth": 0,
              "tickcolor": "rgb(36,36,36)",
              "ticklen": 8,
              "ticks": "outside",
              "tickwidth": 2
             }
            },
            "type": "scatter3d"
           }
          ],
          "scattercarpet": [
           {
            "marker": {
             "colorbar": {
              "outlinewidth": 0,
              "tickcolor": "rgb(36,36,36)",
              "ticklen": 8,
              "ticks": "outside",
              "tickwidth": 2
             }
            },
            "type": "scattercarpet"
           }
          ],
          "scattergeo": [
           {
            "marker": {
             "colorbar": {
              "outlinewidth": 0,
              "tickcolor": "rgb(36,36,36)",
              "ticklen": 8,
              "ticks": "outside",
              "tickwidth": 2
             }
            },
            "type": "scattergeo"
           }
          ],
          "scattergl": [
           {
            "marker": {
             "colorbar": {
              "outlinewidth": 0,
              "tickcolor": "rgb(36,36,36)",
              "ticklen": 8,
              "ticks": "outside",
              "tickwidth": 2
             }
            },
            "type": "scattergl"
           }
          ],
          "scattermapbox": [
           {
            "marker": {
             "colorbar": {
              "outlinewidth": 0,
              "tickcolor": "rgb(36,36,36)",
              "ticklen": 8,
              "ticks": "outside",
              "tickwidth": 2
             }
            },
            "type": "scattermapbox"
           }
          ],
          "scatterpolar": [
           {
            "marker": {
             "colorbar": {
              "outlinewidth": 0,
              "tickcolor": "rgb(36,36,36)",
              "ticklen": 8,
              "ticks": "outside",
              "tickwidth": 2
             }
            },
            "type": "scatterpolar"
           }
          ],
          "scatterpolargl": [
           {
            "marker": {
             "colorbar": {
              "outlinewidth": 0,
              "tickcolor": "rgb(36,36,36)",
              "ticklen": 8,
              "ticks": "outside",
              "tickwidth": 2
             }
            },
            "type": "scatterpolargl"
           }
          ],
          "scatterternary": [
           {
            "marker": {
             "colorbar": {
              "outlinewidth": 0,
              "tickcolor": "rgb(36,36,36)",
              "ticklen": 8,
              "ticks": "outside",
              "tickwidth": 2
             }
            },
            "type": "scatterternary"
           }
          ],
          "surface": [
           {
            "colorbar": {
             "outlinewidth": 0,
             "tickcolor": "rgb(36,36,36)",
             "ticklen": 8,
             "ticks": "outside",
             "tickwidth": 2
            },
            "colorscale": [
             [
              0,
              "rgb(2,4,25)"
             ],
             [
              0.06274509803921569,
              "rgb(24,15,41)"
             ],
             [
              0.12549019607843137,
              "rgb(47,23,57)"
             ],
             [
              0.18823529411764706,
              "rgb(71,28,72)"
             ],
             [
              0.25098039215686274,
              "rgb(97,30,82)"
             ],
             [
              0.3137254901960784,
              "rgb(123,30,89)"
             ],
             [
              0.3764705882352941,
              "rgb(150,27,91)"
             ],
             [
              0.4392156862745098,
              "rgb(177,22,88)"
             ],
             [
              0.5019607843137255,
              "rgb(203,26,79)"
             ],
             [
              0.5647058823529412,
              "rgb(223,47,67)"
             ],
             [
              0.6274509803921569,
              "rgb(236,76,61)"
             ],
             [
              0.6901960784313725,
              "rgb(242,107,73)"
             ],
             [
              0.7529411764705882,
              "rgb(244,135,95)"
             ],
             [
              0.8156862745098039,
              "rgb(245,162,122)"
             ],
             [
              0.8784313725490196,
              "rgb(246,188,153)"
             ],
             [
              0.9411764705882353,
              "rgb(247,212,187)"
             ],
             [
              1,
              "rgb(250,234,220)"
             ]
            ],
            "type": "surface"
           }
          ],
          "table": [
           {
            "cells": {
             "fill": {
              "color": "rgb(231,231,240)"
             },
             "line": {
              "color": "white"
             }
            },
            "header": {
             "fill": {
              "color": "rgb(183,183,191)"
             },
             "line": {
              "color": "white"
             }
            },
            "type": "table"
           }
          ]
         },
         "layout": {
          "annotationdefaults": {
           "arrowcolor": "rgb(67,103,167)"
          },
          "coloraxis": {
           "colorbar": {
            "outlinewidth": 0,
            "tickcolor": "rgb(36,36,36)",
            "ticklen": 8,
            "ticks": "outside",
            "tickwidth": 2
           }
          },
          "colorscale": {
           "sequential": [
            [
             0,
             "rgb(2,4,25)"
            ],
            [
             0.06274509803921569,
             "rgb(24,15,41)"
            ],
            [
             0.12549019607843137,
             "rgb(47,23,57)"
            ],
            [
             0.18823529411764706,
             "rgb(71,28,72)"
            ],
            [
             0.25098039215686274,
             "rgb(97,30,82)"
            ],
            [
             0.3137254901960784,
             "rgb(123,30,89)"
            ],
            [
             0.3764705882352941,
             "rgb(150,27,91)"
            ],
            [
             0.4392156862745098,
             "rgb(177,22,88)"
            ],
            [
             0.5019607843137255,
             "rgb(203,26,79)"
            ],
            [
             0.5647058823529412,
             "rgb(223,47,67)"
            ],
            [
             0.6274509803921569,
             "rgb(236,76,61)"
            ],
            [
             0.6901960784313725,
             "rgb(242,107,73)"
            ],
            [
             0.7529411764705882,
             "rgb(244,135,95)"
            ],
            [
             0.8156862745098039,
             "rgb(245,162,122)"
            ],
            [
             0.8784313725490196,
             "rgb(246,188,153)"
            ],
            [
             0.9411764705882353,
             "rgb(247,212,187)"
            ],
            [
             1,
             "rgb(250,234,220)"
            ]
           ],
           "sequentialminus": [
            [
             0,
             "rgb(2,4,25)"
            ],
            [
             0.06274509803921569,
             "rgb(24,15,41)"
            ],
            [
             0.12549019607843137,
             "rgb(47,23,57)"
            ],
            [
             0.18823529411764706,
             "rgb(71,28,72)"
            ],
            [
             0.25098039215686274,
             "rgb(97,30,82)"
            ],
            [
             0.3137254901960784,
             "rgb(123,30,89)"
            ],
            [
             0.3764705882352941,
             "rgb(150,27,91)"
            ],
            [
             0.4392156862745098,
             "rgb(177,22,88)"
            ],
            [
             0.5019607843137255,
             "rgb(203,26,79)"
            ],
            [
             0.5647058823529412,
             "rgb(223,47,67)"
            ],
            [
             0.6274509803921569,
             "rgb(236,76,61)"
            ],
            [
             0.6901960784313725,
             "rgb(242,107,73)"
            ],
            [
             0.7529411764705882,
             "rgb(244,135,95)"
            ],
            [
             0.8156862745098039,
             "rgb(245,162,122)"
            ],
            [
             0.8784313725490196,
             "rgb(246,188,153)"
            ],
            [
             0.9411764705882353,
             "rgb(247,212,187)"
            ],
            [
             1,
             "rgb(250,234,220)"
            ]
           ]
          },
          "colorway": [
           "rgb(76,114,176)",
           "rgb(221,132,82)",
           "rgb(85,168,104)",
           "rgb(196,78,82)",
           "rgb(129,114,179)",
           "rgb(147,120,96)",
           "rgb(218,139,195)",
           "rgb(140,140,140)",
           "rgb(204,185,116)",
           "rgb(100,181,205)"
          ],
          "font": {
           "color": "rgb(36,36,36)"
          },
          "geo": {
           "bgcolor": "white",
           "lakecolor": "white",
           "landcolor": "rgb(234,234,242)",
           "showlakes": true,
           "showland": true,
           "subunitcolor": "white"
          },
          "hoverlabel": {
           "align": "left"
          },
          "hovermode": "closest",
          "paper_bgcolor": "white",
          "plot_bgcolor": "rgb(234,234,242)",
          "polar": {
           "angularaxis": {
            "gridcolor": "white",
            "linecolor": "white",
            "showgrid": true,
            "ticks": ""
           },
           "bgcolor": "rgb(234,234,242)",
           "radialaxis": {
            "gridcolor": "white",
            "linecolor": "white",
            "showgrid": true,
            "ticks": ""
           }
          },
          "scene": {
           "xaxis": {
            "backgroundcolor": "rgb(234,234,242)",
            "gridcolor": "white",
            "gridwidth": 2,
            "linecolor": "white",
            "showbackground": true,
            "showgrid": true,
            "ticks": "",
            "zerolinecolor": "white"
           },
           "yaxis": {
            "backgroundcolor": "rgb(234,234,242)",
            "gridcolor": "white",
            "gridwidth": 2,
            "linecolor": "white",
            "showbackground": true,
            "showgrid": true,
            "ticks": "",
            "zerolinecolor": "white"
           },
           "zaxis": {
            "backgroundcolor": "rgb(234,234,242)",
            "gridcolor": "white",
            "gridwidth": 2,
            "linecolor": "white",
            "showbackground": true,
            "showgrid": true,
            "ticks": "",
            "zerolinecolor": "white"
           }
          },
          "shapedefaults": {
           "fillcolor": "rgb(67,103,167)",
           "line": {
            "width": 0
           },
           "opacity": 0.5
          },
          "ternary": {
           "aaxis": {
            "gridcolor": "white",
            "linecolor": "white",
            "showgrid": true,
            "ticks": ""
           },
           "baxis": {
            "gridcolor": "white",
            "linecolor": "white",
            "showgrid": true,
            "ticks": ""
           },
           "bgcolor": "rgb(234,234,242)",
           "caxis": {
            "gridcolor": "white",
            "linecolor": "white",
            "showgrid": true,
            "ticks": ""
           }
          },
          "xaxis": {
           "automargin": true,
           "gridcolor": "white",
           "linecolor": "white",
           "showgrid": true,
           "ticks": "",
           "title": {
            "standoff": 15
           },
           "zerolinecolor": "white"
          },
          "yaxis": {
           "automargin": true,
           "gridcolor": "white",
           "linecolor": "white",
           "showgrid": true,
           "ticks": "",
           "title": {
            "standoff": 15
           },
           "zerolinecolor": "white"
          }
         }
        },
        "title": {
         "text": "Plot of change in NDVI vs annual precipitation for year 0 after intervention"
        },
        "width": 900,
        "xaxis": {
         "anchor": "y",
         "domain": [
          0,
          1
         ],
         "title": {
          "text": "Precipitation (mm)"
         }
        },
        "yaxis": {
         "anchor": "x",
         "domain": [
          0,
          1
         ],
         "title": {
          "text": "Smoothed NDVI"
         }
        }
       }
      },
      "text/html": [
       "<div>\n",
       "        \n",
       "        \n",
       "            <div id=\"f6667b4a-8ef7-4c44-9ae6-ca20b067c9e3\" class=\"plotly-graph-div\" style=\"height:700px; width:900px;\"></div>\n",
       "            <script type=\"text/javascript\">\n",
       "                require([\"plotly\"], function(Plotly) {\n",
       "                    window.PLOTLYENV=window.PLOTLYENV || {};\n",
       "                    \n",
       "                if (document.getElementById(\"f6667b4a-8ef7-4c44-9ae6-ca20b067c9e3\")) {\n",
       "                    Plotly.newPlot(\n",
       "                        'f6667b4a-8ef7-4c44-9ae6-ca20b067c9e3',\n",
       "                        [{\"customdata\": [[0.038400571171465975, 2017.0], [0.011859860669511058, 2013.0], [-0.007589762569745584, 2013.0], [0.0040701804588819945, 2013.0], [0.05710472222585872, 2013.0], [0.020651094786054702, 2013.0], [0.0016662591808644933, 2013.0], [-0.027838027291519296, 2014.0], [-0.012519504706328677, 2014.0], [-0.004475498598117383, 2014.0], [-0.007878214393820554, 2014.0], [-0.010691541909100516, 2014.0], [-0.017537092563740364, 2014.0], [-0.02306239729587145, 2014.0], [-0.033689675682776254, 2014.0], [0.08893849137102197, 2015.0], [0.021396927008893174, 2017.0], [0.010513659472077191, 2017.0], [-0.010063441185694591, 2018.0], [-0.052048221476110934, 2018.0], [-0.026426660062318835, 2018.0], [-0.04163703320227788, 2018.0], [-0.03268060232541939, 2018.0], [-0.032161282894758475, 2018.0], [-0.12749679951453197, 2018.0], [0.02442829061391541, 2019.0], [0.037475165625613566, 2019.0], [0.02317711127213609, 2019.0], [0.036065640871560084, 2019.0], [0.027260145202042563, 2019.0], [0.02653747367195755, 2019.0], [0.028185889487051308, 2019.0], [0.024437576990453458, 2019.0], [0.027675290116946194, 2019.0], [0.02747332520961554, 2019.0], [0.028411002766612625, 2019.0], [0.044583191460167815, 2019.0], [0.03634035170155889, 2019.0], [0.04174188599418627, 2019.0], [0.027611424111657623, 2019.0], [0.032793207267555025, 2019.0], [0.03159612613962967, 2019.0]], \"hovertemplate\": \"<b>%{hovertext}</b><br><br>Precipitation (mm)=%{x}<br>Smoothed NDVI=%{customdata[0]}<br>Year=%{customdata[1]}<extra></extra>\", \"hovertext\": [172.0, 816.0, 913.0, 916.0, 1265.0, 1314.0, 1319.0, 1558.0, 1588.0, 1589.0, 1590.0, 1594.0, 1601.0, 1608.0, 1655.0, 2335.0, 2569.0, 2577.0, 2581.0, 2586.0, 2587.0, 2599.0, 2600.0, 2601.0, 2604.0, 2609.0, 2614.0, 2615.0, 2620.0, 2621.0, 2622.0, 2623.0, 2624.0, 2626.0, 2627.0, 2628.0, 2633.0, 2634.0, 2645.0, 2646.0, 2648.0, 2650.0], \"legendgroup\": \"\", \"marker\": {\"color\": \"rgb(76,114,176)\", \"symbol\": \"circle\"}, \"mode\": \"markers\", \"name\": \"\", \"showlegend\": false, \"type\": \"scatter\", \"x\": [246.70000022649765, 294.02933743596077, 294.02933743596077, 294.02933743596077, 294.02933743596077, 294.02933743596077, 294.02933743596077, 211.29819747805595, 211.29819747805595, 211.29819747805595, 211.29819747805595, 211.29819747805595, 211.29819747805595, 211.29819747805595, 211.29819747805595, 342.7775985598564, 246.70000022649765, 246.70000022649765, 233.29999881982803, 233.29999881982803, 233.29999881982803, 233.29999881982803, 233.29999881982803, 233.29999881982803, 233.29999881982803, 283.49999874830246, 283.49999874830246, 283.49999874830246, 283.49999874830246, 283.49999874830246, 283.49999874830246, 283.49999874830246, 283.49999874830246, 283.49999874830246, 283.49999874830246, 283.49999874830246, 283.49999874830246, 283.49999874830246, 283.49999874830246, 283.49999874830246, 283.49999874830246, 283.49999874830246], \"xaxis\": \"x\", \"y\": [0.038400571171465975, 0.011859860669511058, -0.007589762569745584, 0.0040701804588819945, 0.05710472222585872, 0.020651094786054702, 0.0016662591808644933, -0.027838027291519296, -0.012519504706328677, -0.004475498598117383, -0.007878214393820554, -0.010691541909100516, -0.017537092563740364, -0.02306239729587145, -0.033689675682776254, 0.08893849137102197, 0.021396927008893174, 0.010513659472077191, -0.010063441185694591, -0.052048221476110934, -0.026426660062318835, -0.04163703320227788, -0.03268060232541939, -0.032161282894758475, -0.12749679951453197, 0.02442829061391541, 0.037475165625613566, 0.02317711127213609, 0.036065640871560084, 0.027260145202042563, 0.02653747367195755, 0.028185889487051308, 0.024437576990453458, 0.027675290116946194, 0.02747332520961554, 0.028411002766612625, 0.044583191460167815, 0.03634035170155889, 0.04174188599418627, 0.027611424111657623, 0.032793207267555025, 0.03159612613962967], \"yaxis\": \"y\"}, {\"hovertemplate\": \"<b>OLS trendline</b><br>NDVI_delta = 0.000768705 * precip + -0.193702<br>R<sup>2</sup>=0.509878<br><br>Precipitation (mm)=%{x}<br>Smoothed NDVI=%{y} <b>(trend)</b><extra></extra>\", \"legendgroup\": \"\", \"marker\": {\"color\": \"rgb(76,114,176)\", \"symbol\": \"circle\"}, \"mode\": \"lines\", \"name\": \"\", \"showlegend\": false, \"type\": \"scatter\", \"x\": [211.29819747805595, 211.29819747805595, 211.29819747805595, 211.29819747805595, 211.29819747805595, 211.29819747805595, 211.29819747805595, 211.29819747805595, 233.29999881982803, 233.29999881982803, 233.29999881982803, 233.29999881982803, 233.29999881982803, 233.29999881982803, 233.29999881982803, 246.70000022649765, 246.70000022649765, 246.70000022649765, 283.49999874830246, 283.49999874830246, 283.49999874830246, 283.49999874830246, 283.49999874830246, 283.49999874830246, 283.49999874830246, 283.49999874830246, 283.49999874830246, 283.49999874830246, 283.49999874830246, 283.49999874830246, 283.49999874830246, 283.49999874830246, 283.49999874830246, 283.49999874830246, 283.49999874830246, 294.02933743596077, 294.02933743596077, 294.02933743596077, 294.02933743596077, 294.02933743596077, 294.02933743596077, 342.7775985598564], \"xaxis\": \"x\", \"y\": [-0.03127638056565549, -0.03127638056565549, -0.03127638056565549, -0.03127638056565549, -0.03127638056565549, -0.03127638056565549, -0.03127638056565549, -0.03127638056565549, -0.014363483503805674, -0.014363483503805674, -0.014363483503805674, -0.014363483503805674, -0.014363483503805674, -0.014363483503805674, -0.014363483503805674, -0.004062833984288083, -0.004062833984288083, -0.004062833984288083, 0.024225512829108842, 0.024225512829108842, 0.024225512829108842, 0.024225512829108842, 0.024225512829108842, 0.024225512829108842, 0.024225512829108842, 0.024225512829108842, 0.024225512829108842, 0.024225512829108842, 0.024225512829108842, 0.024225512829108842, 0.024225512829108842, 0.024225512829108842, 0.024225512829108842, 0.024225512829108842, 0.024225512829108842, 0.032319469255104594, 0.032319469255104594, 0.032319469255104594, 0.032319469255104594, 0.032319469255104594, 0.032319469255104594, 0.06979250655443225], \"yaxis\": \"y\"}],\n",
       "                        {\"annotations\": [{\"showarrow\": false, \"text\": \"Source: Landsat 8 data from USGS, meteorological data from gridMET\", \"x\": 0.01, \"xref\": \"paper\", \"y\": 0.01, \"yref\": \"paper\"}], \"height\": 700, \"legend\": {\"tracegroupgap\": 0}, \"showlegend\": false, \"template\": {\"data\": {\"bar\": [{\"error_x\": {\"color\": \"rgb(36,36,36)\"}, \"error_y\": {\"color\": \"rgb(36,36,36)\"}, \"marker\": {\"line\": {\"color\": \"rgb(234,234,242)\", \"width\": 0.5}}, \"type\": \"bar\"}], \"barpolar\": [{\"marker\": {\"line\": {\"color\": \"rgb(234,234,242)\", \"width\": 0.5}}, \"type\": \"barpolar\"}], \"carpet\": [{\"aaxis\": {\"endlinecolor\": \"rgb(36,36,36)\", \"gridcolor\": \"white\", \"linecolor\": \"white\", \"minorgridcolor\": \"white\", \"startlinecolor\": \"rgb(36,36,36)\"}, \"baxis\": {\"endlinecolor\": \"rgb(36,36,36)\", \"gridcolor\": \"white\", \"linecolor\": \"white\", \"minorgridcolor\": \"white\", \"startlinecolor\": \"rgb(36,36,36)\"}, \"type\": \"carpet\"}], \"choropleth\": [{\"colorbar\": {\"outlinewidth\": 0, \"tickcolor\": \"rgb(36,36,36)\", \"ticklen\": 8, \"ticks\": \"outside\", \"tickwidth\": 2}, \"type\": \"choropleth\"}], \"contour\": [{\"colorbar\": {\"outlinewidth\": 0, \"tickcolor\": \"rgb(36,36,36)\", \"ticklen\": 8, \"ticks\": \"outside\", \"tickwidth\": 2}, \"colorscale\": [[0.0, \"rgb(2,4,25)\"], [0.06274509803921569, \"rgb(24,15,41)\"], [0.12549019607843137, \"rgb(47,23,57)\"], [0.18823529411764706, \"rgb(71,28,72)\"], [0.25098039215686274, \"rgb(97,30,82)\"], [0.3137254901960784, \"rgb(123,30,89)\"], [0.3764705882352941, \"rgb(150,27,91)\"], [0.4392156862745098, \"rgb(177,22,88)\"], [0.5019607843137255, \"rgb(203,26,79)\"], [0.5647058823529412, \"rgb(223,47,67)\"], [0.6274509803921569, \"rgb(236,76,61)\"], [0.6901960784313725, \"rgb(242,107,73)\"], [0.7529411764705882, \"rgb(244,135,95)\"], [0.8156862745098039, \"rgb(245,162,122)\"], [0.8784313725490196, \"rgb(246,188,153)\"], [0.9411764705882353, \"rgb(247,212,187)\"], [1.0, \"rgb(250,234,220)\"]], \"type\": \"contour\"}], \"contourcarpet\": [{\"colorbar\": {\"outlinewidth\": 0, \"tickcolor\": \"rgb(36,36,36)\", \"ticklen\": 8, \"ticks\": \"outside\", \"tickwidth\": 2}, \"type\": \"contourcarpet\"}], \"heatmap\": [{\"colorbar\": {\"outlinewidth\": 0, \"tickcolor\": \"rgb(36,36,36)\", \"ticklen\": 8, \"ticks\": \"outside\", \"tickwidth\": 2}, \"colorscale\": [[0.0, \"rgb(2,4,25)\"], [0.06274509803921569, \"rgb(24,15,41)\"], [0.12549019607843137, \"rgb(47,23,57)\"], [0.18823529411764706, \"rgb(71,28,72)\"], [0.25098039215686274, \"rgb(97,30,82)\"], [0.3137254901960784, \"rgb(123,30,89)\"], [0.3764705882352941, \"rgb(150,27,91)\"], [0.4392156862745098, \"rgb(177,22,88)\"], [0.5019607843137255, \"rgb(203,26,79)\"], [0.5647058823529412, \"rgb(223,47,67)\"], [0.6274509803921569, \"rgb(236,76,61)\"], [0.6901960784313725, \"rgb(242,107,73)\"], [0.7529411764705882, \"rgb(244,135,95)\"], [0.8156862745098039, \"rgb(245,162,122)\"], [0.8784313725490196, \"rgb(246,188,153)\"], [0.9411764705882353, \"rgb(247,212,187)\"], [1.0, \"rgb(250,234,220)\"]], \"type\": \"heatmap\"}], \"heatmapgl\": [{\"colorbar\": {\"outlinewidth\": 0, \"tickcolor\": \"rgb(36,36,36)\", \"ticklen\": 8, \"ticks\": \"outside\", \"tickwidth\": 2}, \"colorscale\": [[0.0, \"rgb(2,4,25)\"], [0.06274509803921569, \"rgb(24,15,41)\"], [0.12549019607843137, \"rgb(47,23,57)\"], [0.18823529411764706, \"rgb(71,28,72)\"], [0.25098039215686274, \"rgb(97,30,82)\"], [0.3137254901960784, \"rgb(123,30,89)\"], [0.3764705882352941, \"rgb(150,27,91)\"], [0.4392156862745098, \"rgb(177,22,88)\"], [0.5019607843137255, \"rgb(203,26,79)\"], [0.5647058823529412, \"rgb(223,47,67)\"], [0.6274509803921569, \"rgb(236,76,61)\"], [0.6901960784313725, \"rgb(242,107,73)\"], [0.7529411764705882, \"rgb(244,135,95)\"], [0.8156862745098039, \"rgb(245,162,122)\"], [0.8784313725490196, \"rgb(246,188,153)\"], [0.9411764705882353, \"rgb(247,212,187)\"], [1.0, \"rgb(250,234,220)\"]], \"type\": \"heatmapgl\"}], \"histogram\": [{\"marker\": {\"colorbar\": {\"outlinewidth\": 0, \"tickcolor\": \"rgb(36,36,36)\", \"ticklen\": 8, \"ticks\": \"outside\", \"tickwidth\": 2}}, \"type\": \"histogram\"}], \"histogram2d\": [{\"colorbar\": {\"outlinewidth\": 0, \"tickcolor\": \"rgb(36,36,36)\", \"ticklen\": 8, \"ticks\": \"outside\", \"tickwidth\": 2}, \"colorscale\": [[0.0, \"rgb(2,4,25)\"], [0.06274509803921569, \"rgb(24,15,41)\"], [0.12549019607843137, \"rgb(47,23,57)\"], [0.18823529411764706, \"rgb(71,28,72)\"], [0.25098039215686274, \"rgb(97,30,82)\"], [0.3137254901960784, \"rgb(123,30,89)\"], [0.3764705882352941, \"rgb(150,27,91)\"], [0.4392156862745098, \"rgb(177,22,88)\"], [0.5019607843137255, \"rgb(203,26,79)\"], [0.5647058823529412, \"rgb(223,47,67)\"], [0.6274509803921569, \"rgb(236,76,61)\"], [0.6901960784313725, \"rgb(242,107,73)\"], [0.7529411764705882, \"rgb(244,135,95)\"], [0.8156862745098039, \"rgb(245,162,122)\"], [0.8784313725490196, \"rgb(246,188,153)\"], [0.9411764705882353, \"rgb(247,212,187)\"], [1.0, \"rgb(250,234,220)\"]], \"type\": \"histogram2d\"}], \"histogram2dcontour\": [{\"colorbar\": {\"outlinewidth\": 0, \"tickcolor\": \"rgb(36,36,36)\", \"ticklen\": 8, \"ticks\": \"outside\", \"tickwidth\": 2}, \"colorscale\": [[0.0, \"rgb(2,4,25)\"], [0.06274509803921569, \"rgb(24,15,41)\"], [0.12549019607843137, \"rgb(47,23,57)\"], [0.18823529411764706, \"rgb(71,28,72)\"], [0.25098039215686274, \"rgb(97,30,82)\"], [0.3137254901960784, \"rgb(123,30,89)\"], [0.3764705882352941, \"rgb(150,27,91)\"], [0.4392156862745098, \"rgb(177,22,88)\"], [0.5019607843137255, \"rgb(203,26,79)\"], [0.5647058823529412, \"rgb(223,47,67)\"], [0.6274509803921569, \"rgb(236,76,61)\"], [0.6901960784313725, \"rgb(242,107,73)\"], [0.7529411764705882, \"rgb(244,135,95)\"], [0.8156862745098039, \"rgb(245,162,122)\"], [0.8784313725490196, \"rgb(246,188,153)\"], [0.9411764705882353, \"rgb(247,212,187)\"], [1.0, \"rgb(250,234,220)\"]], \"type\": \"histogram2dcontour\"}], \"mesh3d\": [{\"colorbar\": {\"outlinewidth\": 0, \"tickcolor\": \"rgb(36,36,36)\", \"ticklen\": 8, \"ticks\": \"outside\", \"tickwidth\": 2}, \"type\": \"mesh3d\"}], \"parcoords\": [{\"line\": {\"colorbar\": {\"outlinewidth\": 0, \"tickcolor\": \"rgb(36,36,36)\", \"ticklen\": 8, \"ticks\": \"outside\", \"tickwidth\": 2}}, \"type\": \"parcoords\"}], \"pie\": [{\"automargin\": true, \"type\": \"pie\"}], \"scatter\": [{\"marker\": {\"colorbar\": {\"outlinewidth\": 0, \"tickcolor\": \"rgb(36,36,36)\", \"ticklen\": 8, \"ticks\": \"outside\", \"tickwidth\": 2}}, \"type\": \"scatter\"}], \"scatter3d\": [{\"line\": {\"colorbar\": {\"outlinewidth\": 0, \"tickcolor\": \"rgb(36,36,36)\", \"ticklen\": 8, \"ticks\": \"outside\", \"tickwidth\": 2}}, \"marker\": {\"colorbar\": {\"outlinewidth\": 0, \"tickcolor\": \"rgb(36,36,36)\", \"ticklen\": 8, \"ticks\": \"outside\", \"tickwidth\": 2}}, \"type\": \"scatter3d\"}], \"scattercarpet\": [{\"marker\": {\"colorbar\": {\"outlinewidth\": 0, \"tickcolor\": \"rgb(36,36,36)\", \"ticklen\": 8, \"ticks\": \"outside\", \"tickwidth\": 2}}, \"type\": \"scattercarpet\"}], \"scattergeo\": [{\"marker\": {\"colorbar\": {\"outlinewidth\": 0, \"tickcolor\": \"rgb(36,36,36)\", \"ticklen\": 8, \"ticks\": \"outside\", \"tickwidth\": 2}}, \"type\": \"scattergeo\"}], \"scattergl\": [{\"marker\": {\"colorbar\": {\"outlinewidth\": 0, \"tickcolor\": \"rgb(36,36,36)\", \"ticklen\": 8, \"ticks\": \"outside\", \"tickwidth\": 2}}, \"type\": \"scattergl\"}], \"scattermapbox\": [{\"marker\": {\"colorbar\": {\"outlinewidth\": 0, \"tickcolor\": \"rgb(36,36,36)\", \"ticklen\": 8, \"ticks\": \"outside\", \"tickwidth\": 2}}, \"type\": \"scattermapbox\"}], \"scatterpolar\": [{\"marker\": {\"colorbar\": {\"outlinewidth\": 0, \"tickcolor\": \"rgb(36,36,36)\", \"ticklen\": 8, \"ticks\": \"outside\", \"tickwidth\": 2}}, \"type\": \"scatterpolar\"}], \"scatterpolargl\": [{\"marker\": {\"colorbar\": {\"outlinewidth\": 0, \"tickcolor\": \"rgb(36,36,36)\", \"ticklen\": 8, \"ticks\": \"outside\", \"tickwidth\": 2}}, \"type\": \"scatterpolargl\"}], \"scatterternary\": [{\"marker\": {\"colorbar\": {\"outlinewidth\": 0, \"tickcolor\": \"rgb(36,36,36)\", \"ticklen\": 8, \"ticks\": \"outside\", \"tickwidth\": 2}}, \"type\": \"scatterternary\"}], \"surface\": [{\"colorbar\": {\"outlinewidth\": 0, \"tickcolor\": \"rgb(36,36,36)\", \"ticklen\": 8, \"ticks\": \"outside\", \"tickwidth\": 2}, \"colorscale\": [[0.0, \"rgb(2,4,25)\"], [0.06274509803921569, \"rgb(24,15,41)\"], [0.12549019607843137, \"rgb(47,23,57)\"], [0.18823529411764706, \"rgb(71,28,72)\"], [0.25098039215686274, \"rgb(97,30,82)\"], [0.3137254901960784, \"rgb(123,30,89)\"], [0.3764705882352941, \"rgb(150,27,91)\"], [0.4392156862745098, \"rgb(177,22,88)\"], [0.5019607843137255, \"rgb(203,26,79)\"], [0.5647058823529412, \"rgb(223,47,67)\"], [0.6274509803921569, \"rgb(236,76,61)\"], [0.6901960784313725, \"rgb(242,107,73)\"], [0.7529411764705882, \"rgb(244,135,95)\"], [0.8156862745098039, \"rgb(245,162,122)\"], [0.8784313725490196, \"rgb(246,188,153)\"], [0.9411764705882353, \"rgb(247,212,187)\"], [1.0, \"rgb(250,234,220)\"]], \"type\": \"surface\"}], \"table\": [{\"cells\": {\"fill\": {\"color\": \"rgb(231,231,240)\"}, \"line\": {\"color\": \"white\"}}, \"header\": {\"fill\": {\"color\": \"rgb(183,183,191)\"}, \"line\": {\"color\": \"white\"}}, \"type\": \"table\"}]}, \"layout\": {\"annotationdefaults\": {\"arrowcolor\": \"rgb(67,103,167)\"}, \"coloraxis\": {\"colorbar\": {\"outlinewidth\": 0, \"tickcolor\": \"rgb(36,36,36)\", \"ticklen\": 8, \"ticks\": \"outside\", \"tickwidth\": 2}}, \"colorscale\": {\"sequential\": [[0.0, \"rgb(2,4,25)\"], [0.06274509803921569, \"rgb(24,15,41)\"], [0.12549019607843137, \"rgb(47,23,57)\"], [0.18823529411764706, \"rgb(71,28,72)\"], [0.25098039215686274, \"rgb(97,30,82)\"], [0.3137254901960784, \"rgb(123,30,89)\"], [0.3764705882352941, \"rgb(150,27,91)\"], [0.4392156862745098, \"rgb(177,22,88)\"], [0.5019607843137255, \"rgb(203,26,79)\"], [0.5647058823529412, \"rgb(223,47,67)\"], [0.6274509803921569, \"rgb(236,76,61)\"], [0.6901960784313725, \"rgb(242,107,73)\"], [0.7529411764705882, \"rgb(244,135,95)\"], [0.8156862745098039, \"rgb(245,162,122)\"], [0.8784313725490196, \"rgb(246,188,153)\"], [0.9411764705882353, \"rgb(247,212,187)\"], [1.0, \"rgb(250,234,220)\"]], \"sequentialminus\": [[0.0, \"rgb(2,4,25)\"], [0.06274509803921569, \"rgb(24,15,41)\"], [0.12549019607843137, \"rgb(47,23,57)\"], [0.18823529411764706, \"rgb(71,28,72)\"], [0.25098039215686274, \"rgb(97,30,82)\"], [0.3137254901960784, \"rgb(123,30,89)\"], [0.3764705882352941, \"rgb(150,27,91)\"], [0.4392156862745098, \"rgb(177,22,88)\"], [0.5019607843137255, \"rgb(203,26,79)\"], [0.5647058823529412, \"rgb(223,47,67)\"], [0.6274509803921569, \"rgb(236,76,61)\"], [0.6901960784313725, \"rgb(242,107,73)\"], [0.7529411764705882, \"rgb(244,135,95)\"], [0.8156862745098039, \"rgb(245,162,122)\"], [0.8784313725490196, \"rgb(246,188,153)\"], [0.9411764705882353, \"rgb(247,212,187)\"], [1.0, \"rgb(250,234,220)\"]]}, \"colorway\": [\"rgb(76,114,176)\", \"rgb(221,132,82)\", \"rgb(85,168,104)\", \"rgb(196,78,82)\", \"rgb(129,114,179)\", \"rgb(147,120,96)\", \"rgb(218,139,195)\", \"rgb(140,140,140)\", \"rgb(204,185,116)\", \"rgb(100,181,205)\"], \"font\": {\"color\": \"rgb(36,36,36)\"}, \"geo\": {\"bgcolor\": \"white\", \"lakecolor\": \"white\", \"landcolor\": \"rgb(234,234,242)\", \"showlakes\": true, \"showland\": true, \"subunitcolor\": \"white\"}, \"hoverlabel\": {\"align\": \"left\"}, \"hovermode\": \"closest\", \"paper_bgcolor\": \"white\", \"plot_bgcolor\": \"rgb(234,234,242)\", \"polar\": {\"angularaxis\": {\"gridcolor\": \"white\", \"linecolor\": \"white\", \"showgrid\": true, \"ticks\": \"\"}, \"bgcolor\": \"rgb(234,234,242)\", \"radialaxis\": {\"gridcolor\": \"white\", \"linecolor\": \"white\", \"showgrid\": true, \"ticks\": \"\"}}, \"scene\": {\"xaxis\": {\"backgroundcolor\": \"rgb(234,234,242)\", \"gridcolor\": \"white\", \"gridwidth\": 2, \"linecolor\": \"white\", \"showbackground\": true, \"showgrid\": true, \"ticks\": \"\", \"zerolinecolor\": \"white\"}, \"yaxis\": {\"backgroundcolor\": \"rgb(234,234,242)\", \"gridcolor\": \"white\", \"gridwidth\": 2, \"linecolor\": \"white\", \"showbackground\": true, \"showgrid\": true, \"ticks\": \"\", \"zerolinecolor\": \"white\"}, \"zaxis\": {\"backgroundcolor\": \"rgb(234,234,242)\", \"gridcolor\": \"white\", \"gridwidth\": 2, \"linecolor\": \"white\", \"showbackground\": true, \"showgrid\": true, \"ticks\": \"\", \"zerolinecolor\": \"white\"}}, \"shapedefaults\": {\"fillcolor\": \"rgb(67,103,167)\", \"line\": {\"width\": 0}, \"opacity\": 0.5}, \"ternary\": {\"aaxis\": {\"gridcolor\": \"white\", \"linecolor\": \"white\", \"showgrid\": true, \"ticks\": \"\"}, \"baxis\": {\"gridcolor\": \"white\", \"linecolor\": \"white\", \"showgrid\": true, \"ticks\": \"\"}, \"bgcolor\": \"rgb(234,234,242)\", \"caxis\": {\"gridcolor\": \"white\", \"linecolor\": \"white\", \"showgrid\": true, \"ticks\": \"\"}}, \"xaxis\": {\"automargin\": true, \"gridcolor\": \"white\", \"linecolor\": \"white\", \"showgrid\": true, \"ticks\": \"\", \"title\": {\"standoff\": 15}, \"zerolinecolor\": \"white\"}, \"yaxis\": {\"automargin\": true, \"gridcolor\": \"white\", \"linecolor\": \"white\", \"showgrid\": true, \"ticks\": \"\", \"title\": {\"standoff\": 15}, \"zerolinecolor\": \"white\"}}}, \"title\": {\"text\": \"Plot of change in NDVI vs annual precipitation for year 0 after intervention\"}, \"width\": 900, \"xaxis\": {\"anchor\": \"y\", \"domain\": [0.0, 1.0], \"title\": {\"text\": \"Precipitation (mm)\"}}, \"yaxis\": {\"anchor\": \"x\", \"domain\": [0.0, 1.0], \"title\": {\"text\": \"Smoothed NDVI\"}}},\n",
       "                        {\"responsive\": true}\n",
       "                    ).then(function(){\n",
       "                            \n",
       "var gd = document.getElementById('f6667b4a-8ef7-4c44-9ae6-ca20b067c9e3');\n",
       "var x = new MutationObserver(function (mutations, observer) {{\n",
       "        var display = window.getComputedStyle(gd).display;\n",
       "        if (!display || display === 'none') {{\n",
       "            console.log([gd, 'removed!']);\n",
       "            Plotly.purge(gd);\n",
       "            observer.disconnect();\n",
       "        }}\n",
       "}});\n",
       "\n",
       "// Listen for the removal of the full notebook cells\n",
       "var notebookContainer = gd.closest('#notebook-container');\n",
       "if (notebookContainer) {{\n",
       "    x.observe(notebookContainer, {childList: true});\n",
       "}}\n",
       "\n",
       "// Listen for the clearing of the current output cell\n",
       "var outputEl = gd.closest('.output');\n",
       "if (outputEl) {{\n",
       "    x.observe(outputEl, {childList: true});\n",
       "}}\n",
       "\n",
       "                        })\n",
       "                };\n",
       "                });\n",
       "            </script>\n",
       "        </div>"
      ]
     },
     "metadata": {},
     "output_type": "display_data"
    }
   ],
   "source": [
    "# # Plot of annual change in NDVI vs precipitation for a specific intervention year\n",
    "year = 0\n",
    "title = \"Plot of change in NDVI vs annual precipitation for year \" + \\\n",
    "    str(year) + \" after intervention\"\n",
    "\n",
    "fig = px.scatter(su_ndvi_annual_change_df[su_ndvi_annual_change_df['Intervention_Year'] == year],\n",
    "                 x='precip', y='NDVI_delta',\n",
    "                 labels={\n",
    "                     \"NDVI_delta\": \"Smoothed NDVI\",\n",
    "                     \"precip\": \"Precipitation (mm)\"\n",
    "},\n",
    "    title=title,\n",
    "    width=900, height=700,\n",
    "    hover_name=\"SuId\", hover_data=[\"NDVI_delta\", \"Year\"],\n",
    "    trendline=\"ols\")\n",
    "\n",
    "# Credit\n",
    "fig.add_annotation(text=\"Source: Landsat 8 data from USGS, meteorological data from gridMET\",\n",
    "                   showarrow=False,\n",
    "                   xref=\"paper\", yref=\"paper\",\n",
    "                   x=0.01, y=0.01)\n",
    "\n",
    "fig.update_layout(showlegend=False)\n",
    "fig.show()"
   ]
  },
  {
   "cell_type": "markdown",
   "id": "valuable-pantyhose",
   "metadata": {},
   "source": [
    "## Additional plots/work"
   ]
  },
  {
   "cell_type": "markdown",
   "id": "collect-poverty",
   "metadata": {},
   "source": [
    "- Plot of annual max NDVI vs precipitation for all years; what is the impact of rainfall on annual greenup? Label by seeding type? Are there different trends for different intervention measures?\n",
    "- Plot of cumulative NDVI and precipitation for seeding unit years; how do the different histories of precipitation affect the NDVI trend\n",
    "- Calculate correlation between precipitation and NDVI time series; shift in time to establish time to response from preciptation events to NDVI response?"
   ]
  },
  {
   "cell_type": "markdown",
   "id": "extraordinary-candle",
   "metadata": {},
   "source": [
    "# Backup code to delete"
   ]
  },
  {
   "cell_type": "markdown",
   "id": "twelve-china",
   "metadata": {},
   "source": [
    "### Plots of seeding unit data"
   ]
  },
  {
   "cell_type": "code",
   "execution_count": 6,
   "id": "announced-hampshire",
   "metadata": {},
   "outputs": [
    {
     "data": {
      "image/png": "[encoded data removed]",
      "text/plain": [
       "<Figure size 1080x720 with 2 Axes>"
      ]
     },
     "metadata": {
      "needs_background": "light"
     },
     "output_type": "display_data"
    }
   ],
   "source": [
    "# Setup plots\n",
    "fig, ax = plt.subplots(figsize=(15, 10))\n",
    "\n",
    "#legend_items = ['Filtered seeding units', 'Annual precipitation']\n",
    "\n",
    "# Plot acreage seeded/re-seeded per year\n",
    "mckinley_seeding_subset.groupby('Start_Year').agg({'GIS_Acre2': ['sum']}).plot(ax=ax)\n",
    "\n",
    "\n",
    "plt.xlabel(\"Year\", fontsize=20)\n",
    "plt.ylabel(\"Total area seeded/re-seeded (Acres)\", fontsize=20)\n",
    "\n",
    "# Plot annual precipitation\n",
    "met_data_mckinley_df_annual.plot(x='year', y='pr', ax=ax, secondary_y=True)\n",
    "\n",
    "ax.set_title(\n",
    "    \"Comparison of seeding activity vs annual precipitation\", fontsize=20)\n",
    "\n",
    "plt.ylabel(\"Annual precipitation (mm)\", fontsize=20)\n",
    "\n",
    "\n",
    "plt.show()"
   ]
  }
 ],
 "metadata": {
  "kernelspec": {
   "display_name": "Python 3",
   "language": "python",
   "name": "python3"
  },
  "language_info": {
   "codemirror_mode": {
    "name": "ipython",
    "version": 3
   },
   "file_extension": ".py",
   "mimetype": "text/x-python",
   "name": "python",
   "nbconvert_exporter": "python",
   "pygments_lexer": "ipython3",
   "version": "3.7.6"
  }
 },
 "nbformat": 4,
 "nbformat_minor": 5
}

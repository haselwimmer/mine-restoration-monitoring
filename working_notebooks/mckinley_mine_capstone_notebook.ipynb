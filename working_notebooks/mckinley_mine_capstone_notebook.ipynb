{
 "cells": [
  {
   "cell_type": "markdown",
   "id": "north-rebel",
   "metadata": {},
   "source": [
    "### Weather/climate data\n",
    "https://awherepy.readthedocs.io/en/latest/index.html\n",
    "https://developers.google.com/earth-engine/datasets/catalog/IDAHO_EPSCOR_GRIDMET"
   ]
  },
  {
   "cell_type": "markdown",
   "id": "gross-edinburgh",
   "metadata": {},
   "source": [
    "### Vector data\n",
    "- Bond release boundaries: split up into OSM and MMD locations, examples include Areas 2 and 10 etc...\n",
    "- VMU's encompass bond release boundaries but are more generalized, Golder overseas vegetation monitoring program:\n",
    "  - MMD VMU 1 through VMU 4\n",
    "  - OSM VMU 1 through VMU 8\n",
    "- Sections, land survey sections, none for Navajo Nation\n",
    "- Seeding units: document different extents, periods, and types of seeding activities\n",
    "  - Seeding at different months; how does month of seeding impact success re-seeding activities"
   ]
  },
  {
   "cell_type": "markdown",
   "id": "judicial-petroleum",
   "metadata": {},
   "source": [
    "### Ideas\n",
    "- What is trajectory of different vegetation indices and how do these relate to different vegetation functional types? i.e. shrubs vs grasses?\n",
    "- Is NDVI actually useful? Can it quantify shrubby cover?"
   ]
  },
  {
   "cell_type": "markdown",
   "id": "brilliant-namibia",
   "metadata": {},
   "source": [
    "### References\n",
    "https://www.nature.com/articles/s41598-019-43544-5"
   ]
  }
 ],
 "metadata": {
  "kernelspec": {
   "display_name": "Python 3",
   "language": "python",
   "name": "python3"
  },
  "language_info": {
   "codemirror_mode": {
    "name": "ipython",
    "version": 3
   },
   "file_extension": ".py",
   "mimetype": "text/x-python",
   "name": "python",
   "nbconvert_exporter": "python",
   "pygments_lexer": "ipython3",
   "version": "3.7.6"
  }
 },
 "nbformat": 4,
 "nbformat_minor": 5
}

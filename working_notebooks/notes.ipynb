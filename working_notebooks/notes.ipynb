{
 "cells": [
  {
   "cell_type": "markdown",
   "id": "arbitrary-casting",
   "metadata": {},
   "source": [
    "# Vegetation Restoration Monitoring - Project Notes"
   ]
  },
  {
   "cell_type": "markdown",
   "id": "armed-constant",
   "metadata": {},
   "source": [
    "## Methods\n",
    "- Import and filter seeding units data\n",
    "- Extract Landsat and Sentinel 2 time series for each seeding unit\n",
    "- Perform classification of time series for all SU polygons\n",
    "- Analysis of seeding unit classes? What do these classes represent?\n",
    "- Analyse classes with reference to climate/weather data"
   ]
  },
  {
   "cell_type": "markdown",
   "id": "bigger-catering",
   "metadata": {},
   "source": [
    "## Meeting notes\n",
    "- 5/6/21 (Steve/Nayani):\n",
    "  - Use statistics to classify time series for all polygons"
   ]
  },
  {
   "cell_type": "markdown",
   "id": "peripheral-booking",
   "metadata": {},
   "source": [
    "## TODO list\n",
    "- Add notebook for Landsat time series extraction\n",
    "- Filter out snow dates\n",
    "- Add in configuration file link for SentinelHub API key for security purposes"
   ]
  },
  {
   "cell_type": "markdown",
   "id": "employed-judges",
   "metadata": {},
   "source": [
    "## Past notes\n",
    "#### Weather/climate data\n",
    "- https://awherepy.readthedocs.io/en/latest/index.html\n",
    "- https://developers.google.com/earth-engine/datasets/catalog/IDAHO_EPSCOR_GRIDMET\n",
    "\n",
    "#### Vector data\n",
    "- Bond release boundaries: split up into OSM and MMD locations, examples include Areas 2 and 10 etc...\n",
    "- VMU's encompass bond release boundaries but are more generalized, Golder overseas vegetation monitoring program:\n",
    "  - MMD VMU 1 through VMU 4\n",
    "  - OSM VMU 1 through VMU 8\n",
    "- Sections, land survey sections, none for Navajo Nation\n",
    "- Seeding units: document different extents, periods, and types of seeding activities\n",
    "  - Seeding at different months; how does month of seeding impact success re-seeding\n",
    "  \n",
    "#### Ideas\n",
    "- What is trajectory of different vegetation indices and how do these relate to different vegetation functional types? i.e. shrubs vs grasses?\n",
    "- Is NDVI actually useful? Can it quantify shrubby cover?"
   ]
  },
  {
   "cell_type": "markdown",
   "id": "meaning-atmosphere",
   "metadata": {},
   "source": [
    "## References\n",
    "https://www.nature.com/articles/s41598-019-43544-5"
   ]
  }
 ],
 "metadata": {
  "kernelspec": {
   "display_name": "Python 3",
   "language": "python",
   "name": "python3"
  },
  "language_info": {
   "codemirror_mode": {
    "name": "ipython",
    "version": 3
   },
   "file_extension": ".py",
   "mimetype": "text/x-python",
   "name": "python",
   "nbconvert_exporter": "python",
   "pygments_lexer": "ipython3",
   "version": "3.7.6"
  }
 },
 "nbformat": 4,
 "nbformat_minor": 5
}

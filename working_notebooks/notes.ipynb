{
 "cells": [
  {
   "cell_type": "markdown",
   "id": "ongoing-manufacturer",
   "metadata": {},
   "source": [
    "# Vegetation Restoration Monitoring - Project Notes"
   ]
  },
  {
   "cell_type": "markdown",
   "id": "armed-cover",
   "metadata": {},
   "source": [
    "## Meeting notes\n",
    "- 5/6/21 (Steve/Nayani):\n",
    "  - Use statistics to classify time series for all polygons\n",
    "- 5/27/21 (Steve/Nayani):\n",
    "  - Nayani shared Rangelands monitoring app stuff:\n",
    "    - https://rangelands.app/rap/?biomass_t=herbaceous&ll=38.8633,-110.4298&z=5&landcover_t=pfgc\n",
    "    - https://www.mdpi.com/2072-4292/11/12/1427/htm\n",
    "    - https://esajournals.onlinelibrary.wiley.com/doi/full/10.1002/ecs2.2430\n",
    "  - Consider how I can fit trends lines to the raw Sentinel 2/Landsat time series\n",
    "  - Steve: \n",
    "    - 10 years of monitoring is required after any significant intervention (e.g. seeding, re-seeding) until bond release\n",
    "    - Issues at McKinley: achieving good cover but plant functional type makeup is a bit out of whack; i.e. more shrubs than grasses, more of a particular type of grass is required.\n",
    "- 6/3/21 (Nayani):\n",
    "  - Discussed calibration of Sentinel 2 with Landsat 8 time series; would need to identify coincident scenes, calculate NDVI and then perform linear regression. Apply gain and offset to Landsat 8 NDVI. Nayani will work on code to do this.\n",
    "  - Smoothing windows with 12 month average:\n",
    "    - https://coderzcolumn.com/tutorials/data-science/time-series-resampling-and-moving-window-functions\n",
    "    - https://coderzcolumn.com/tutorials/data-science/how-to-remove-trend-and-seasonality-from-time-series-data-using-python-pandas#6\n",
    "  - Next steps:\n",
    "    - Calculate slope\n",
    "    - Perform unsupervised classification of smoothed temporal curves\n",
    "    - Investigate correlations between seeding unit data and classes\n",
    "- 6/10/21 (Steve):\n",
    "  - Comparison of NDVI time series trends with weather climate:\n",
    "    - Compare precipitation and temperature from winter to summer seasons with NDVI time series\n",
    "    - Compare annual NDVI trends extracted from long-term trends; i.e. what is short term weather-NDVI linkage\n",
    "  "
   ]
  },
  {
   "cell_type": "markdown",
   "id": "hearing-apple",
   "metadata": {},
   "source": [
    "## Tutorials\n",
    "Time series clustering:\n",
    "- https://towardsdatascience.com/time-series-decomposition-and-statsmodels-parameters-69e54d035453\n",
    "- https://towardsdatascience.com/how-to-apply-k-means-clustering-to-time-series-data-28d04a8f7da3\n",
    "- https://towardsdatascience.com/how-to-apply-k-means-clustering-to-time-series-data-28d04a8f7da3\n",
    "\n",
    "Multiple plots: https://colab.research.google.com/drive/1UClcI-PDx9TG4CiX1k14NAyp_JXO_bxv#scrollTo=uJu5JEeFe50E"
   ]
  },
  {
   "cell_type": "markdown",
   "id": "compact-chorus",
   "metadata": {},
   "source": [
    "## TODO list\n",
    "- ~~Update Landsat code to use L2: https://forum.sentinel-hub.com/t/wms-request-of-landsat-8-level-2/3910~~\n",
    "- ~~Add notebook for Landsat time series extraction:~~\n",
    "  - ~~Not currently possible with FIS or Statistical API as Landsat data is hosted in US West; revisit https://docs.sentinel-hub.com/api/latest/api/statistical/ to see if this changes~~\n",
    "  - ~~Create new workflow to download NDVI chips for Landsat time series~~\n",
    "- ~~Filter out snow dates~~\n",
    "- ~~Add in configuration file link for SentinelHub API key for security purposes~~\n",
    "- ~~Add in numbered workflow jupyter notebooks~~\n",
    "- Plots of the seeding unit data\n",
    "- Re-assess how seeding units are being filtered or removed from analysis\n",
    "- ~GEE data access and download~"
   ]
  },
  {
   "cell_type": "markdown",
   "id": "precious-rally",
   "metadata": {},
   "source": [
    "## Past notes\n",
    "#### Weather/climate data\n",
    "- https://awherepy.readthedocs.io/en/latest/index.html\n",
    "- https://developers.google.com/earth-engine/datasets/catalog/IDAHO_EPSCOR_GRIDMET\n",
    "\n",
    "#### Vector data\n",
    "- Bond release boundaries: split up into OSM and MMD locations, examples include Areas 2 and 10 etc...\n",
    "- VMU's encompass bond release boundaries but are more generalized, Golder overseas vegetation monitoring program:\n",
    "  - MMD VMU 1 through VMU 4\n",
    "  - OSM VMU 1 through VMU 8\n",
    "- Sections, land survey sections, none for Navajo Nation\n",
    "- Seeding units: document different extents, periods, and types of seeding activities\n",
    "  - Seeding at different months; how does month of seeding impact success re-seeding\n",
    "  \n",
    "#### Ideas\n",
    "- What is trajectory of different vegetation indices and how do these relate to different vegetation functional types? i.e. shrubs vs grasses?\n",
    "- Is NDVI actually useful? Can it quantify shrubby cover?\n",
    "  - Mixture model?\n",
    "- Potential statistical analyses:\n",
    "  - 1) Is there a relationship between the general temporal trends in NDVI and when units were seeded/re-seeded?\n",
    "  - 2) What is the trend/slope in NDVI after seeding/reseeding over the short and long term?\n",
    "  - 3) What is the impact of weather/climate variables on the NDVI trends over the short and long term?\n",
    "  - 4) Is there a relationship between acres seeded/re-seeded and weather/climate variables? Was there a hold put on seeding efforts due to drought conditions?\n",
    "  - 5) Are there seeding units of concern?\n",
    "    - Are there seeding units where the trend in NDVI is lower than the mean? \n",
    "    - Are there areas that cross-cut seeding units that are of concern; can we identify pixels with this trend and define new seeding units for future action?\n",
    "    - Are there areas with lots of grasses and strong greenup?"
   ]
  },
  {
   "cell_type": "markdown",
   "id": "timely-cedar",
   "metadata": {},
   "source": [
    "## Code snippets"
   ]
  },
  {
   "cell_type": "code",
   "execution_count": 1,
   "id": "processed-vocabulary",
   "metadata": {},
   "outputs": [
    {
     "ename": "SyntaxError",
     "evalue": "invalid syntax (<ipython-input-1-903c7c2506db>, line 1)",
     "output_type": "error",
     "traceback": [
      "\u001b[1;36m  File \u001b[1;32m\"<ipython-input-1-903c7c2506db>\"\u001b[1;36m, line \u001b[1;32m1\u001b[0m\n\u001b[1;33m    //VERSION=3\u001b[0m\n\u001b[1;37m     ^\u001b[0m\n\u001b[1;31mSyntaxError\u001b[0m\u001b[1;31m:\u001b[0m invalid syntax\n"
     ]
    }
   ],
   "source": [
    "//VERSION=3\n",
    "\n",
    "function evaluatePixel(samples) {\n",
    "    let val = [samples.B01, samples.B02, samples.B03,samples.B04, samples.B05, samples.B06, samples.B07];\n",
    "    return val;\n",
    "}\n",
    "\n",
    "function setup() {\n",
    "  return {\n",
    "    input: [{\n",
    "      bands: [\n",
    "        \"B01\",\n",
    "        \"B02\",\n",
    "        \"B03\",\n",
    "        \"B04\",\n",
    "        \"B05\",\n",
    "        \"B06\",\n",
    "        \"B07\"\n",
    "      ]\n",
    "    }],\n",
    "    output: {\n",
    "      bands: 7\n",
    "    }\n",
    "  }\n",
    "}\n",
    "\n"
   ]
  },
  {
   "cell_type": "code",
   "execution_count": null,
   "id": "engaged-lesbian",
   "metadata": {},
   "outputs": [],
   "source": [
    "pip install -e."
   ]
  },
  {
   "cell_type": "code",
   "execution_count": null,
   "id": "solved-tractor",
   "metadata": {},
   "outputs": [],
   "source": [
    "!jupyter nbconvert --to html  --no-input ea-applications-overview.ipynb"
   ]
  },
  {
   "cell_type": "markdown",
   "id": "touched-claim",
   "metadata": {},
   "source": [
    "## References\n",
    "- Assessment of forest restoration with multitemporal remote sensing imagery: https://www.nature.com/articles/s41598-019-43544-5\n",
    "- Analysis of vegetation recovery surrounding a restored wetland using the normalized difference infrared index (NDII) and normalized difference vegetation index (NDVI): https://www.tandfonline.com/doi/full/10.1080/01431161.2018.1437297\n",
    "- Rangeland Productivity Partitioned to Sub-Pixel Plant Functional Types: https://rangelands.app/rap/?biomass_t=herbaceous&ll=38.8633,-110.4298&z=5&landcover_t=pfgc\n",
    "- Innovation in rangeland monitoring: annual, 30 m, plant functional type percent cover maps for U.S. rangelands, 1984–2017: https://esajournals.onlinelibrary.wiley.com/doi/full/10.1002/ecs2.2430\n",
    "- https://gro-intelligence.com/notebooks/Sao_Paulo_brazil_sugar_content_modeling.html\n",
    "- Moving averages: https://towardsdatascience.com/moving-averages-in-python-16170e20f6c\n",
    "- Mixture models: https://peerj.com/articles/10747.pdf\n",
    "- Assessing vegetation recovery in reclaimed opencast mines of the Teruel coalfield (Spain) using Landsat time series and boosted regression trees: https://www.sciencedirect.com/science/article/pii/S0048969720307609?casa_token=B3ceoLYdEk8AAAAA:c1bJkXQveU-6GVcieNgJrVi-Plu6Sy5hjjbPr3n6jc6k2vV8B_cxvKRERqW1Uzhg19VUiGSjKQ#f0050\n",
    "- https://support.rangelands.app/article/48-vegetation-cover-model"
   ]
  }
 ],
 "metadata": {
  "kernelspec": {
   "display_name": "Python 3",
   "language": "python",
   "name": "python3"
  },
  "language_info": {
   "codemirror_mode": {
    "name": "ipython",
    "version": 3
   },
   "file_extension": ".py",
   "mimetype": "text/x-python",
   "name": "python",
   "nbconvert_exporter": "python",
   "pygments_lexer": "ipython3",
   "version": "3.7.6"
  }
 },
 "nbformat": 4,
 "nbformat_minor": 5
}

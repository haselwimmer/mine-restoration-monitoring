{
 "cells": [
  {
   "cell_type": "markdown",
   "id": "bibliographic-postcard",
   "metadata": {},
   "source": [
    "# Vegetation Restoration Monitoring - Project Notes"
   ]
  },
  {
   "cell_type": "markdown",
   "id": "accomplished-reducing",
   "metadata": {},
   "source": [
    "## Methods\n",
    "- Import and filter seeding units data\n",
    "- Extract Landsat and Sentinel 2 time series for each seeding unit\n",
    "- Perform smoothing, curve fitting of time series data\n",
    "- Perform unsupervised classification of time series for all SU polygons\n",
    "- Analysis of seeding unit classes? What do these classes represent? Is there a correlation between seeding unit properties (e.g. seeding start) and classes identified from classification\n",
    "- Analyse classes with reference to climate/weather data"
   ]
  },
  {
   "cell_type": "markdown",
   "id": "otherwise-collapse",
   "metadata": {},
   "source": [
    "## Meeting notes\n",
    "- 5/6/21 (Steve/Nayani):\n",
    "  - Use statistics to classify time series for all polygons\n",
    "- 5/27/21 (Steve/Nayani):\n",
    "  - Nayani shared Rangelands monitoring app stuff:\n",
    "    - https://rangelands.app/rap/?biomass_t=herbaceous&ll=38.8633,-110.4298&z=5&landcover_t=pfgc\n",
    "    - https://www.mdpi.com/2072-4292/11/12/1427/htm\n",
    "    - https://esajournals.onlinelibrary.wiley.com/doi/full/10.1002/ecs2.2430\n",
    "  - Consider how I can fit trends lines to the raw Sentinel 2/Landsat time series\n",
    "  - Steve: \n",
    "    - 10 years of monitoring is required after any significant intervention (e.g. seeding, re-seeding) until bond release\n",
    "    - Issues at McKinley: achieving good cover but plant functional type makeup is a bit out of whack; i.e. more shrubs than grasses, more of a particular type of grass is required.\n",
    "- 6/3/21 (Nayani):\n",
    "  - Discussed calibration of Sentinel 2 with Landsat 8 time series; would need to identify coincident scenes, calculate NDVI and then perform linear regression. Apply gain and offset to Landsat 8 NDVI. Nayani will work on code to do this.\n",
    "  - Smoothing windows with 12 month average:\n",
    "    - https://coderzcolumn.com/tutorials/data-science/time-series-resampling-and-moving-window-functions\n",
    "    - https://coderzcolumn.com/tutorials/data-science/how-to-remove-trend-and-seasonality-from-time-series-data-using-python-pandas#6\n",
    "  - Next steps:\n",
    "    - Calculate slope\n",
    "    - Perform unsupervised classification of smoothed temporal curves\n",
    "    - Investigate correlations between seeding unit data and classes\n",
    "  "
   ]
  },
  {
   "cell_type": "markdown",
   "id": "brown-bunch",
   "metadata": {},
   "source": [
    "## TODO list\n",
    "- Add notebook for Landsat time series extraction:\n",
    "  - Not currently possible with FIS or Statistical API as Landsat data is hosted in US West; revisit https://docs.sentinel-hub.com/api/latest/api/statistical/ to see if this changes\n",
    "  - Create new workflow to download NDVI chips for Landsat time series\n",
    "- ~~Filter out snow dates~~\n",
    "- ~~Add in configuration file link for SentinelHub API key for security purposes~~\n",
    "- ~~Add in numbered workflow jupyter notebooks~~"
   ]
  },
  {
   "cell_type": "markdown",
   "id": "cosmetic-chrome",
   "metadata": {},
   "source": [
    "## Past notes\n",
    "#### Weather/climate data\n",
    "- https://awherepy.readthedocs.io/en/latest/index.html\n",
    "- https://developers.google.com/earth-engine/datasets/catalog/IDAHO_EPSCOR_GRIDMET\n",
    "\n",
    "#### Vector data\n",
    "- Bond release boundaries: split up into OSM and MMD locations, examples include Areas 2 and 10 etc...\n",
    "- VMU's encompass bond release boundaries but are more generalized, Golder overseas vegetation monitoring program:\n",
    "  - MMD VMU 1 through VMU 4\n",
    "  - OSM VMU 1 through VMU 8\n",
    "- Sections, land survey sections, none for Navajo Nation\n",
    "- Seeding units: document different extents, periods, and types of seeding activities\n",
    "  - Seeding at different months; how does month of seeding impact success re-seeding\n",
    "  \n",
    "#### Ideas\n",
    "- What is trajectory of different vegetation indices and how do these relate to different vegetation functional types? i.e. shrubs vs grasses?\n",
    "- Is NDVI actually useful? Can it quantify shrubby cover?"
   ]
  },
  {
   "cell_type": "markdown",
   "id": "immune-eight",
   "metadata": {},
   "source": [
    "## Code snippets"
   ]
  },
  {
   "cell_type": "code",
   "execution_count": 1,
   "id": "laden-iraqi",
   "metadata": {},
   "outputs": [
    {
     "ename": "SyntaxError",
     "evalue": "invalid syntax (<ipython-input-1-903c7c2506db>, line 1)",
     "output_type": "error",
     "traceback": [
      "\u001b[1;36m  File \u001b[1;32m\"<ipython-input-1-903c7c2506db>\"\u001b[1;36m, line \u001b[1;32m1\u001b[0m\n\u001b[1;33m    //VERSION=3\u001b[0m\n\u001b[1;37m     ^\u001b[0m\n\u001b[1;31mSyntaxError\u001b[0m\u001b[1;31m:\u001b[0m invalid syntax\n"
     ]
    }
   ],
   "source": [
    "//VERSION=3\n",
    "\n",
    "function evaluatePixel(samples) {\n",
    "    let val = [samples.B01, samples.B02, samples.B03,samples.B04, samples.B05, samples.B06, samples.B07];\n",
    "    return val;\n",
    "}\n",
    "\n",
    "function setup() {\n",
    "  return {\n",
    "    input: [{\n",
    "      bands: [\n",
    "        \"B01\",\n",
    "        \"B02\",\n",
    "        \"B03\",\n",
    "        \"B04\",\n",
    "        \"B05\",\n",
    "        \"B06\",\n",
    "        \"B07\"\n",
    "      ]\n",
    "    }],\n",
    "    output: {\n",
    "      bands: 7\n",
    "    }\n",
    "  }\n",
    "}\n",
    "\n"
   ]
  },
  {
   "cell_type": "code",
   "execution_count": null,
   "id": "normal-horse",
   "metadata": {},
   "outputs": [],
   "source": [
    "pip install -e "
   ]
  },
  {
   "cell_type": "markdown",
   "id": "every-chassis",
   "metadata": {},
   "source": [
    "## References\n",
    "- Assessment of forest restoration with multitemporal remote sensing imagery: https://www.nature.com/articles/s41598-019-43544-5\n",
    "- Analysis of vegetation recovery surrounding a restored wetland using the normalized difference infrared index (NDII) and normalized difference vegetation index (NDVI): https://www.tandfonline.com/doi/full/10.1080/01431161.2018.1437297\n",
    "- Rangeland Productivity Partitioned to Sub-Pixel Plant Functional Types: https://rangelands.app/rap/?biomass_t=herbaceous&ll=38.8633,-110.4298&z=5&landcover_t=pfgc\n",
    "- Innovation in rangeland monitoring: annual, 30 m, plant functional type percent cover maps for U.S. rangelands, 1984–2017: https://esajournals.onlinelibrary.wiley.com/doi/full/10.1002/ecs2.2430\n",
    "- https://gro-intelligence.com/notebooks/Sao_Paulo_brazil_sugar_content_modeling.html"
   ]
  }
 ],
 "metadata": {
  "kernelspec": {
   "display_name": "Python 3",
   "language": "python",
   "name": "python3"
  },
  "language_info": {
   "codemirror_mode": {
    "name": "ipython",
    "version": 3
   },
   "file_extension": ".py",
   "mimetype": "text/x-python",
   "name": "python",
   "nbconvert_exporter": "python",
   "pygments_lexer": "ipython3",
   "version": "3.7.6"
  }
 },
 "nbformat": 4,
 "nbformat_minor": 5
}

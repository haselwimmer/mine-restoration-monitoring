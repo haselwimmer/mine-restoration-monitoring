{
 "cells": [
  {
   "cell_type": "markdown",
   "id": "skilled-sacrifice",
   "metadata": {},
   "source": [
    "# Remote Sensing Time Series for Vegetation Management Units"
   ]
  },
  {
   "cell_type": "code",
   "execution_count": 1,
   "id": "contained-correlation",
   "metadata": {
    "code_folding": []
   },
   "outputs": [],
   "source": [
    "# Import libraries\n",
    "import matplotlib.pyplot as plt\n",
    "from datetime import date\n",
    "\n",
    "import numpy as np\n",
    "import pandas as pd\n",
    "import geopandas as gpd\n",
    "import seaborn as sns\n",
    "import configparser\n",
    "\n",
    "from sentinelhub import SHConfig, FisRequest, BBox, Geometry, CRS, WcsRequest, CustomUrlParam, \\\n",
    "    DataCollection, HistogramType\n",
    "from sentinelhub.time_utils import iso_to_datetime, parse_time\n",
    "\n",
    "# Setting consistent plotting style throughout notebook\n",
    "sns.set_style(\"white\")\n",
    "sns.set(font_scale=1)\n",
    "\n",
    "# Set pandas df display options\n",
    "pd.set_option(\"display.max_rows\", None, \"display.max_columns\", None)"
   ]
  },
  {
   "cell_type": "code",
   "execution_count": 2,
   "id": "constant-cause",
   "metadata": {
    "code_folding": []
   },
   "outputs": [],
   "source": [
    "# Read configuration file\n",
    "config_ini = configparser.ConfigParser()\n",
    "config_ini.read('sentinel2_setup.ini')\n",
    "#config_ini.read('landsat8_setup.ini')\n",
    "\n",
    "# SentinelHub configuration\n",
    "config = SHConfig()\n",
    "config.instance_id = config_ini['Config']['instance_id'] # Instance ID for the Configuration\n",
    "config.sh_client_id = config_ini['Config']['sh_client_id'] # Credentials from the OAuth client\n",
    "config.sh_client_secret = config_ini['Config']['sh_client_secret']\n",
    "config.save()"
   ]
  },
  {
   "cell_type": "markdown",
   "id": "protecting-control",
   "metadata": {},
   "source": [
    "### Functions"
   ]
  },
  {
   "cell_type": "code",
   "execution_count": 3,
   "id": "sublime-adrian",
   "metadata": {
    "code_folding": []
   },
   "outputs": [],
   "source": [
    "def fis_data_to_dataframe(fis_data):\n",
    "    \"\"\" Creates a DataFrame from list of FIS responses\n",
    "    \n",
    "    Parameters\n",
    "    -----------\n",
    "    fis_data : list\n",
    "        list of data responses from FIS request\n",
    "\n",
    "    Returns\n",
    "    -----------\n",
    "    output : pandas dataframe\n",
    "        DF containing formatted results\n",
    "    \n",
    "    \"\"\"\n",
    "    # Setup columns in df\n",
    "    columns = ['date', 'min', 'max', 'mean', 'stDev'] # Columns for band ratio result\n",
    "    clm_columns = ['clm_mean'] # Columns for Cloud Mask\n",
    "    snw_columns = ['snw_mean'] # Columns for snow detection\n",
    "    \n",
    "    # Lists to store results\n",
    "    data = []\n",
    "    clm_data = []\n",
    "    snw_data = []\n",
    "    \n",
    "    \n",
    "    # Loops over multipolygons?\n",
    "    for fis_response in fis_data:\n",
    "            \n",
    "            i = 0\n",
    "            # Loop over channels\n",
    "            for channel, channel_stats in fis_response.items():\n",
    "                \n",
    "                # Results channel\n",
    "                if channel == 'C0':\n",
    "                    for stat in channel_stats:\n",
    "                        row = [parse_time(stat['date'])]\n",
    "                        for column in columns[1:]:\n",
    "                            row.append(stat['basicStats'][column])\n",
    "                        data.append(row)\n",
    "                \n",
    "                # CLM channel\n",
    "                elif channel == 'C1':\n",
    "                    for stat in channel_stats:\n",
    "                        row = [stat['basicStats']['mean']]\n",
    "                        clm_data.append(row)\n",
    "                \n",
    "                # SNW channel\n",
    "                else: \n",
    "                    for stat in channel_stats:\n",
    "                        row = [stat['basicStats']['mean']]\n",
    "                        snw_data.append(row)                    \n",
    "            \n",
    "            # Convert the lists to df\n",
    "            data_df = pd.DataFrame(data, columns=columns)\n",
    "            clm_data_df = pd.DataFrame(clm_data, columns=clm_columns)\n",
    "            snw_data_df = pd.DataFrame(snw_data, columns=snw_columns)\n",
    "            \n",
    "            # Concatenate the df \n",
    "            output_df = pd.concat([data_df, clm_data_df, snw_data_df], axis = 1)\n",
    "            \n",
    "    return output_df"
   ]
  },
  {
   "cell_type": "markdown",
   "id": "higher-ferry",
   "metadata": {},
   "source": [
    "### Import polygons"
   ]
  },
  {
   "cell_type": "markdown",
   "id": "interpreted-today",
   "metadata": {},
   "source": [
    "#### Import VMU's"
   ]
  },
  {
   "cell_type": "code",
   "execution_count": 4,
   "id": "structural-invalid",
   "metadata": {
    "scrolled": false
   },
   "outputs": [],
   "source": [
    "# Open vector file\n",
    "#vmu_path = r\"E:\\McKinley\\vectors\\VMU_OSM_boundaries_NAD83_shifted_dissolved.shp\" ## Single merged vector for all polys\n",
    "vmu_path = r\"D:\\McKinley\\vectors\\VMU_OSM_boundaries_NAD83_shifted.shp\"\n",
    "vmu_polys = gpd.read_file(vmu_path)\n",
    "\n",
    "# Reproject polys to WGS84\n",
    "vmu_polys = vmu_polys.to_crs(\"EPSG:4326\")\n",
    "\n",
    "# Explode multipolygons to polygons to query with FIS request\n",
    "vmu_polys_exploded = vmu_polys.explode()"
   ]
  },
  {
   "cell_type": "code",
   "execution_count": null,
   "id": "trained-jewel",
   "metadata": {},
   "outputs": [],
   "source": [
    "vmu_polys"
   ]
  },
  {
   "cell_type": "markdown",
   "id": "charming-portrait",
   "metadata": {},
   "source": [
    "### Loop through the VMU's and perform FIS query"
   ]
  },
  {
   "cell_type": "code",
   "execution_count": 5,
   "id": "circular-sharp",
   "metadata": {},
   "outputs": [
    {
     "name": "stdout",
     "output_type": "stream",
     "text": [
      "Now processing VMU: 1\n"
     ]
    },
    {
     "ename": "DownloadFailedException",
     "evalue": "Failed to download from:\nhttps://services-uswest2.sentinel-hub.com/ogc/fis/ac4f6b2b-dbd8-451e-81e2-5188b95bbe99\nwith HTTPError:\n500 Server Error: Internal Server Error for url: https://services-uswest2.sentinel-hub.com/ogc/fis/ac4f6b2b-dbd8-451e-81e2-5188b95bbe99\nServer response: \"Illegal request to https://usgs-landsat.s3.amazonaws.com/collection02/level-1/standard/oli-tirs/2020/035/035/LC08_L1TP_035035_20201130_20201211_02_T1/LC08_L1TP_035035_20201130_20201211_02_T1_B4.TIF. HTTP Status: 404\"",
     "output_type": "error",
     "traceback": [
      "\u001b[1;31m---------------------------------------------------------------------------\u001b[0m",
      "\u001b[1;31mHTTPError\u001b[0m                                 Traceback (most recent call last)",
      "\u001b[1;32m~\\Miniconda3\\envs\\earth-analytics-python\\lib\\site-packages\\sentinelhub\\download\\handlers.py\u001b[0m in \u001b[0;36mnew_download_func\u001b[1;34m(self, request)\u001b[0m\n\u001b[0;32m     43\u001b[0m             \u001b[1;32mtry\u001b[0m\u001b[1;33m:\u001b[0m\u001b[1;33m\u001b[0m\u001b[1;33m\u001b[0m\u001b[0m\n\u001b[1;32m---> 44\u001b[1;33m                 \u001b[1;32mreturn\u001b[0m \u001b[0mdownload_func\u001b[0m\u001b[1;33m(\u001b[0m\u001b[0mself\u001b[0m\u001b[1;33m,\u001b[0m \u001b[0mrequest\u001b[0m\u001b[1;33m)\u001b[0m\u001b[1;33m\u001b[0m\u001b[1;33m\u001b[0m\u001b[0m\n\u001b[0m\u001b[0;32m     45\u001b[0m             \u001b[1;32mexcept\u001b[0m \u001b[0mrequests\u001b[0m\u001b[1;33m.\u001b[0m\u001b[0mRequestException\u001b[0m \u001b[1;32mas\u001b[0m \u001b[0mexception\u001b[0m\u001b[1;33m:\u001b[0m\u001b[1;33m\u001b[0m\u001b[1;33m\u001b[0m\u001b[0m\n",
      "\u001b[1;32m~\\Miniconda3\\envs\\earth-analytics-python\\lib\\site-packages\\sentinelhub\\download\\handlers.py\u001b[0m in \u001b[0;36mnew_download_func\u001b[1;34m(self, request)\u001b[0m\n\u001b[0;32m     27\u001b[0m                 \u001b[1;32mraise\u001b[0m \u001b[0mDownloadFailedException\u001b[0m\u001b[1;33m(\u001b[0m\u001b[0m_create_download_failed_message\u001b[0m\u001b[1;33m(\u001b[0m\u001b[0mexception\u001b[0m\u001b[1;33m,\u001b[0m \u001b[0mrequest\u001b[0m\u001b[1;33m.\u001b[0m\u001b[0murl\u001b[0m\u001b[1;33m)\u001b[0m\u001b[1;33m)\u001b[0m \u001b[1;32mfrom\u001b[0m \u001b[0mexception\u001b[0m\u001b[1;33m\u001b[0m\u001b[1;33m\u001b[0m\u001b[0m\n\u001b[1;32m---> 28\u001b[1;33m             \u001b[1;32mraise\u001b[0m \u001b[0mexception\u001b[0m \u001b[1;32mfrom\u001b[0m \u001b[0mexception\u001b[0m\u001b[1;33m\u001b[0m\u001b[1;33m\u001b[0m\u001b[0m\n\u001b[0m\u001b[0;32m     29\u001b[0m \u001b[1;33m\u001b[0m\u001b[0m\n",
      "\u001b[1;32m~\\Miniconda3\\envs\\earth-analytics-python\\lib\\site-packages\\sentinelhub\\download\\handlers.py\u001b[0m in \u001b[0;36mnew_download_func\u001b[1;34m(self, request)\u001b[0m\n\u001b[0;32m     21\u001b[0m         \u001b[1;32mtry\u001b[0m\u001b[1;33m:\u001b[0m\u001b[1;33m\u001b[0m\u001b[1;33m\u001b[0m\u001b[0m\n\u001b[1;32m---> 22\u001b[1;33m             \u001b[1;32mreturn\u001b[0m \u001b[0mdownload_func\u001b[0m\u001b[1;33m(\u001b[0m\u001b[0mself\u001b[0m\u001b[1;33m,\u001b[0m \u001b[0mrequest\u001b[0m\u001b[1;33m)\u001b[0m\u001b[1;33m\u001b[0m\u001b[1;33m\u001b[0m\u001b[0m\n\u001b[0m\u001b[0;32m     23\u001b[0m         \u001b[1;32mexcept\u001b[0m \u001b[0mrequests\u001b[0m\u001b[1;33m.\u001b[0m\u001b[0mHTTPError\u001b[0m \u001b[1;32mas\u001b[0m \u001b[0mexception\u001b[0m\u001b[1;33m:\u001b[0m\u001b[1;33m\u001b[0m\u001b[1;33m\u001b[0m\u001b[0m\n",
      "\u001b[1;32m~\\Miniconda3\\envs\\earth-analytics-python\\lib\\site-packages\\sentinelhub\\download\\sentinelhub_client.py\u001b[0m in \u001b[0;36m_execute_download\u001b[1;34m(self, request)\u001b[0m\n\u001b[0;32m     55\u001b[0m                 \u001b[1;32mif\u001b[0m \u001b[0mresponse\u001b[0m\u001b[1;33m.\u001b[0m\u001b[0mstatus_code\u001b[0m \u001b[1;33m!=\u001b[0m \u001b[0mrequests\u001b[0m\u001b[1;33m.\u001b[0m\u001b[0mstatus_codes\u001b[0m\u001b[1;33m.\u001b[0m\u001b[0mcodes\u001b[0m\u001b[1;33m.\u001b[0m\u001b[0mTOO_MANY_REQUESTS\u001b[0m\u001b[1;33m:\u001b[0m\u001b[1;33m\u001b[0m\u001b[1;33m\u001b[0m\u001b[0m\n\u001b[1;32m---> 56\u001b[1;33m                     \u001b[0mresponse\u001b[0m\u001b[1;33m.\u001b[0m\u001b[0mraise_for_status\u001b[0m\u001b[1;33m(\u001b[0m\u001b[1;33m)\u001b[0m\u001b[1;33m\u001b[0m\u001b[1;33m\u001b[0m\u001b[0m\n\u001b[0m\u001b[0;32m     57\u001b[0m \u001b[1;33m\u001b[0m\u001b[0m\n",
      "\u001b[1;32m~\\Miniconda3\\envs\\earth-analytics-python\\lib\\site-packages\\requests\\models.py\u001b[0m in \u001b[0;36mraise_for_status\u001b[1;34m(self)\u001b[0m\n\u001b[0;32m    942\u001b[0m         \u001b[1;32mif\u001b[0m \u001b[0mhttp_error_msg\u001b[0m\u001b[1;33m:\u001b[0m\u001b[1;33m\u001b[0m\u001b[1;33m\u001b[0m\u001b[0m\n\u001b[1;32m--> 943\u001b[1;33m             \u001b[1;32mraise\u001b[0m \u001b[0mHTTPError\u001b[0m\u001b[1;33m(\u001b[0m\u001b[0mhttp_error_msg\u001b[0m\u001b[1;33m,\u001b[0m \u001b[0mresponse\u001b[0m\u001b[1;33m=\u001b[0m\u001b[0mself\u001b[0m\u001b[1;33m)\u001b[0m\u001b[1;33m\u001b[0m\u001b[1;33m\u001b[0m\u001b[0m\n\u001b[0m\u001b[0;32m    944\u001b[0m \u001b[1;33m\u001b[0m\u001b[0m\n",
      "\u001b[1;31mHTTPError\u001b[0m: 500 Server Error: Internal Server Error for url: https://services-uswest2.sentinel-hub.com/ogc/fis/ac4f6b2b-dbd8-451e-81e2-5188b95bbe99",
      "\nThe above exception was the direct cause of the following exception:\n",
      "\u001b[1;31mHTTPError\u001b[0m                                 Traceback (most recent call last)",
      "\u001b[1;32m~\\Miniconda3\\envs\\earth-analytics-python\\lib\\site-packages\\sentinelhub\\download\\handlers.py\u001b[0m in \u001b[0;36mnew_download_func\u001b[1;34m(self, request)\u001b[0m\n\u001b[0;32m     43\u001b[0m             \u001b[1;32mtry\u001b[0m\u001b[1;33m:\u001b[0m\u001b[1;33m\u001b[0m\u001b[1;33m\u001b[0m\u001b[0m\n\u001b[1;32m---> 44\u001b[1;33m                 \u001b[1;32mreturn\u001b[0m \u001b[0mdownload_func\u001b[0m\u001b[1;33m(\u001b[0m\u001b[0mself\u001b[0m\u001b[1;33m,\u001b[0m \u001b[0mrequest\u001b[0m\u001b[1;33m)\u001b[0m\u001b[1;33m\u001b[0m\u001b[1;33m\u001b[0m\u001b[0m\n\u001b[0m\u001b[0;32m     45\u001b[0m             \u001b[1;32mexcept\u001b[0m \u001b[0mrequests\u001b[0m\u001b[1;33m.\u001b[0m\u001b[0mRequestException\u001b[0m \u001b[1;32mas\u001b[0m \u001b[0mexception\u001b[0m\u001b[1;33m:\u001b[0m\u001b[1;33m\u001b[0m\u001b[1;33m\u001b[0m\u001b[0m\n",
      "\u001b[1;32m~\\Miniconda3\\envs\\earth-analytics-python\\lib\\site-packages\\sentinelhub\\download\\handlers.py\u001b[0m in \u001b[0;36mnew_download_func\u001b[1;34m(self, request)\u001b[0m\n\u001b[0;32m     27\u001b[0m                 \u001b[1;32mraise\u001b[0m \u001b[0mDownloadFailedException\u001b[0m\u001b[1;33m(\u001b[0m\u001b[0m_create_download_failed_message\u001b[0m\u001b[1;33m(\u001b[0m\u001b[0mexception\u001b[0m\u001b[1;33m,\u001b[0m \u001b[0mrequest\u001b[0m\u001b[1;33m.\u001b[0m\u001b[0murl\u001b[0m\u001b[1;33m)\u001b[0m\u001b[1;33m)\u001b[0m \u001b[1;32mfrom\u001b[0m \u001b[0mexception\u001b[0m\u001b[1;33m\u001b[0m\u001b[1;33m\u001b[0m\u001b[0m\n\u001b[1;32m---> 28\u001b[1;33m             \u001b[1;32mraise\u001b[0m \u001b[0mexception\u001b[0m \u001b[1;32mfrom\u001b[0m \u001b[0mexception\u001b[0m\u001b[1;33m\u001b[0m\u001b[1;33m\u001b[0m\u001b[0m\n\u001b[0m\u001b[0;32m     29\u001b[0m \u001b[1;33m\u001b[0m\u001b[0m\n",
      "\u001b[1;32m~\\Miniconda3\\envs\\earth-analytics-python\\lib\\site-packages\\sentinelhub\\download\\handlers.py\u001b[0m in \u001b[0;36mnew_download_func\u001b[1;34m(self, request)\u001b[0m\n\u001b[0;32m     21\u001b[0m         \u001b[1;32mtry\u001b[0m\u001b[1;33m:\u001b[0m\u001b[1;33m\u001b[0m\u001b[1;33m\u001b[0m\u001b[0m\n\u001b[1;32m---> 22\u001b[1;33m             \u001b[1;32mreturn\u001b[0m \u001b[0mdownload_func\u001b[0m\u001b[1;33m(\u001b[0m\u001b[0mself\u001b[0m\u001b[1;33m,\u001b[0m \u001b[0mrequest\u001b[0m\u001b[1;33m)\u001b[0m\u001b[1;33m\u001b[0m\u001b[1;33m\u001b[0m\u001b[0m\n\u001b[0m\u001b[0;32m     23\u001b[0m         \u001b[1;32mexcept\u001b[0m \u001b[0mrequests\u001b[0m\u001b[1;33m.\u001b[0m\u001b[0mHTTPError\u001b[0m \u001b[1;32mas\u001b[0m \u001b[0mexception\u001b[0m\u001b[1;33m:\u001b[0m\u001b[1;33m\u001b[0m\u001b[1;33m\u001b[0m\u001b[0m\n",
      "\u001b[1;32m~\\Miniconda3\\envs\\earth-analytics-python\\lib\\site-packages\\sentinelhub\\download\\sentinelhub_client.py\u001b[0m in \u001b[0;36m_execute_download\u001b[1;34m(self, request)\u001b[0m\n\u001b[0;32m     55\u001b[0m                 \u001b[1;32mif\u001b[0m \u001b[0mresponse\u001b[0m\u001b[1;33m.\u001b[0m\u001b[0mstatus_code\u001b[0m \u001b[1;33m!=\u001b[0m \u001b[0mrequests\u001b[0m\u001b[1;33m.\u001b[0m\u001b[0mstatus_codes\u001b[0m\u001b[1;33m.\u001b[0m\u001b[0mcodes\u001b[0m\u001b[1;33m.\u001b[0m\u001b[0mTOO_MANY_REQUESTS\u001b[0m\u001b[1;33m:\u001b[0m\u001b[1;33m\u001b[0m\u001b[1;33m\u001b[0m\u001b[0m\n\u001b[1;32m---> 56\u001b[1;33m                     \u001b[0mresponse\u001b[0m\u001b[1;33m.\u001b[0m\u001b[0mraise_for_status\u001b[0m\u001b[1;33m(\u001b[0m\u001b[1;33m)\u001b[0m\u001b[1;33m\u001b[0m\u001b[1;33m\u001b[0m\u001b[0m\n\u001b[0m\u001b[0;32m     57\u001b[0m \u001b[1;33m\u001b[0m\u001b[0m\n",
      "\u001b[1;32m~\\Miniconda3\\envs\\earth-analytics-python\\lib\\site-packages\\requests\\models.py\u001b[0m in \u001b[0;36mraise_for_status\u001b[1;34m(self)\u001b[0m\n\u001b[0;32m    942\u001b[0m         \u001b[1;32mif\u001b[0m \u001b[0mhttp_error_msg\u001b[0m\u001b[1;33m:\u001b[0m\u001b[1;33m\u001b[0m\u001b[1;33m\u001b[0m\u001b[0m\n\u001b[1;32m--> 943\u001b[1;33m             \u001b[1;32mraise\u001b[0m \u001b[0mHTTPError\u001b[0m\u001b[1;33m(\u001b[0m\u001b[0mhttp_error_msg\u001b[0m\u001b[1;33m,\u001b[0m \u001b[0mresponse\u001b[0m\u001b[1;33m=\u001b[0m\u001b[0mself\u001b[0m\u001b[1;33m)\u001b[0m\u001b[1;33m\u001b[0m\u001b[1;33m\u001b[0m\u001b[0m\n\u001b[0m\u001b[0;32m    944\u001b[0m \u001b[1;33m\u001b[0m\u001b[0m\n",
      "\u001b[1;31mHTTPError\u001b[0m: 500 Server Error: Internal Server Error for url: https://services-uswest2.sentinel-hub.com/ogc/fis/ac4f6b2b-dbd8-451e-81e2-5188b95bbe99",
      "\nThe above exception was the direct cause of the following exception:\n",
      "\u001b[1;31mDownloadFailedException\u001b[0m                   Traceback (most recent call last)",
      "\u001b[1;32m<ipython-input-5-79d955632773>\u001b[0m in \u001b[0;36m<module>\u001b[1;34m\u001b[0m\n\u001b[0;32m     48\u001b[0m \u001b[1;33m\u001b[0m\u001b[0m\n\u001b[0;32m     49\u001b[0m         \u001b[1;31m# Run the FIS request\u001b[0m\u001b[1;33m\u001b[0m\u001b[1;33m\u001b[0m\u001b[1;33m\u001b[0m\u001b[0m\n\u001b[1;32m---> 50\u001b[1;33m         \u001b[0mfis_data\u001b[0m \u001b[1;33m=\u001b[0m \u001b[0mfis_request\u001b[0m\u001b[1;33m.\u001b[0m\u001b[0mget_data\u001b[0m\u001b[1;33m(\u001b[0m\u001b[1;33m)\u001b[0m\u001b[1;33m\u001b[0m\u001b[1;33m\u001b[0m\u001b[0m\n\u001b[0m\u001b[0;32m     51\u001b[0m \u001b[1;33m\u001b[0m\u001b[0m\n\u001b[0;32m     52\u001b[0m         \u001b[1;31m# Convert the FIS result to a dataframe\u001b[0m\u001b[1;33m\u001b[0m\u001b[1;33m\u001b[0m\u001b[1;33m\u001b[0m\u001b[0m\n",
      "\u001b[1;32m~\\Miniconda3\\envs\\earth-analytics-python\\lib\\site-packages\\sentinelhub\\data_request.py\u001b[0m in \u001b[0;36mget_data\u001b[1;34m(self, save_data, redownload, data_filter, max_threads, decode_data, raise_download_errors)\u001b[0m\n\u001b[0;32m    125\u001b[0m         \u001b[0mself\u001b[0m\u001b[1;33m.\u001b[0m\u001b[0m_preprocess_request\u001b[0m\u001b[1;33m(\u001b[0m\u001b[0msave_data\u001b[0m\u001b[1;33m,\u001b[0m \u001b[1;32mTrue\u001b[0m\u001b[1;33m)\u001b[0m\u001b[1;33m\u001b[0m\u001b[1;33m\u001b[0m\u001b[0m\n\u001b[0;32m    126\u001b[0m         return self._execute_data_download(data_filter, redownload, max_threads, raise_download_errors,\n\u001b[1;32m--> 127\u001b[1;33m                                            decode_data=decode_data)\n\u001b[0m\u001b[0;32m    128\u001b[0m \u001b[1;33m\u001b[0m\u001b[0m\n\u001b[0;32m    129\u001b[0m     \u001b[1;32mdef\u001b[0m \u001b[0msave_data\u001b[0m\u001b[1;33m(\u001b[0m\u001b[0mself\u001b[0m\u001b[1;33m,\u001b[0m \u001b[1;33m*\u001b[0m\u001b[1;33m,\u001b[0m \u001b[0mdata_filter\u001b[0m\u001b[1;33m=\u001b[0m\u001b[1;32mNone\u001b[0m\u001b[1;33m,\u001b[0m \u001b[0mredownload\u001b[0m\u001b[1;33m=\u001b[0m\u001b[1;32mFalse\u001b[0m\u001b[1;33m,\u001b[0m \u001b[0mmax_threads\u001b[0m\u001b[1;33m=\u001b[0m\u001b[1;32mNone\u001b[0m\u001b[1;33m,\u001b[0m \u001b[0mraise_download_errors\u001b[0m\u001b[1;33m=\u001b[0m\u001b[1;32mFalse\u001b[0m\u001b[1;33m)\u001b[0m\u001b[1;33m:\u001b[0m\u001b[1;33m\u001b[0m\u001b[1;33m\u001b[0m\u001b[0m\n",
      "\u001b[1;32m~\\Miniconda3\\envs\\earth-analytics-python\\lib\\site-packages\\sentinelhub\\data_request.py\u001b[0m in \u001b[0;36m_execute_data_download\u001b[1;34m(self, data_filter, redownload, max_threads, raise_download_errors, decode_data)\u001b[0m\n\u001b[0;32m    184\u001b[0m             \u001b[0mconfig\u001b[0m\u001b[1;33m=\u001b[0m\u001b[0mself\u001b[0m\u001b[1;33m.\u001b[0m\u001b[0mconfig\u001b[0m\u001b[1;33m\u001b[0m\u001b[1;33m\u001b[0m\u001b[0m\n\u001b[0;32m    185\u001b[0m         )\n\u001b[1;32m--> 186\u001b[1;33m         \u001b[0mdata_list\u001b[0m \u001b[1;33m=\u001b[0m \u001b[0mclient\u001b[0m\u001b[1;33m.\u001b[0m\u001b[0mdownload\u001b[0m\u001b[1;33m(\u001b[0m\u001b[0mfiltered_download_list\u001b[0m\u001b[1;33m,\u001b[0m \u001b[0mmax_threads\u001b[0m\u001b[1;33m=\u001b[0m\u001b[0mmax_threads\u001b[0m\u001b[1;33m,\u001b[0m \u001b[0mdecode_data\u001b[0m\u001b[1;33m=\u001b[0m\u001b[0mdecode_data\u001b[0m\u001b[1;33m)\u001b[0m\u001b[1;33m\u001b[0m\u001b[1;33m\u001b[0m\u001b[0m\n\u001b[0m\u001b[0;32m    187\u001b[0m \u001b[1;33m\u001b[0m\u001b[0m\n\u001b[0;32m    188\u001b[0m         \u001b[1;32mif\u001b[0m \u001b[0mis_repeating_filter\u001b[0m\u001b[1;33m:\u001b[0m\u001b[1;33m\u001b[0m\u001b[1;33m\u001b[0m\u001b[0m\n",
      "\u001b[1;32m~\\Miniconda3\\envs\\earth-analytics-python\\lib\\site-packages\\sentinelhub\\download\\client.py\u001b[0m in \u001b[0;36mdownload\u001b[1;34m(self, download_requests, max_threads, decode_data)\u001b[0m\n\u001b[0;32m     77\u001b[0m                 \u001b[1;32mif\u001b[0m \u001b[0mself\u001b[0m\u001b[1;33m.\u001b[0m\u001b[0mraise_download_errors\u001b[0m\u001b[1;33m:\u001b[0m\u001b[1;33m\u001b[0m\u001b[1;33m\u001b[0m\u001b[0m\n\u001b[0;32m     78\u001b[0m                     \u001b[0mtraceback\u001b[0m \u001b[1;33m=\u001b[0m \u001b[0msys\u001b[0m\u001b[1;33m.\u001b[0m\u001b[0mexc_info\u001b[0m\u001b[1;33m(\u001b[0m\u001b[1;33m)\u001b[0m\u001b[1;33m[\u001b[0m\u001b[1;36m2\u001b[0m\u001b[1;33m]\u001b[0m\u001b[1;33m\u001b[0m\u001b[1;33m\u001b[0m\u001b[0m\n\u001b[1;32m---> 79\u001b[1;33m                     \u001b[1;32mraise\u001b[0m \u001b[0mdownload_exception\u001b[0m\u001b[1;33m.\u001b[0m\u001b[0mwith_traceback\u001b[0m\u001b[1;33m(\u001b[0m\u001b[0mtraceback\u001b[0m\u001b[1;33m)\u001b[0m\u001b[1;33m\u001b[0m\u001b[1;33m\u001b[0m\u001b[0m\n\u001b[0m\u001b[0;32m     80\u001b[0m \u001b[1;33m\u001b[0m\u001b[0m\n\u001b[0;32m     81\u001b[0m                 \u001b[0mwarnings\u001b[0m\u001b[1;33m.\u001b[0m\u001b[0mwarn\u001b[0m\u001b[1;33m(\u001b[0m\u001b[0mstr\u001b[0m\u001b[1;33m(\u001b[0m\u001b[0mdownload_exception\u001b[0m\u001b[1;33m)\u001b[0m\u001b[1;33m,\u001b[0m \u001b[0mcategory\u001b[0m\u001b[1;33m=\u001b[0m\u001b[0mSHRuntimeWarning\u001b[0m\u001b[1;33m)\u001b[0m\u001b[1;33m\u001b[0m\u001b[1;33m\u001b[0m\u001b[0m\n",
      "\u001b[1;32m~\\Miniconda3\\envs\\earth-analytics-python\\lib\\site-packages\\sentinelhub\\download\\client.py\u001b[0m in \u001b[0;36mdownload\u001b[1;34m(self, download_requests, max_threads, decode_data)\u001b[0m\n\u001b[0;32m     73\u001b[0m         \u001b[1;32mfor\u001b[0m \u001b[0mfuture\u001b[0m \u001b[1;32min\u001b[0m \u001b[0mdownload_list\u001b[0m\u001b[1;33m:\u001b[0m\u001b[1;33m\u001b[0m\u001b[1;33m\u001b[0m\u001b[0m\n\u001b[0;32m     74\u001b[0m             \u001b[1;32mtry\u001b[0m\u001b[1;33m:\u001b[0m\u001b[1;33m\u001b[0m\u001b[1;33m\u001b[0m\u001b[0m\n\u001b[1;32m---> 75\u001b[1;33m                 \u001b[0mdata_list\u001b[0m\u001b[1;33m.\u001b[0m\u001b[0mappend\u001b[0m\u001b[1;33m(\u001b[0m\u001b[0mfuture\u001b[0m\u001b[1;33m.\u001b[0m\u001b[0mresult\u001b[0m\u001b[1;33m(\u001b[0m\u001b[1;33m)\u001b[0m\u001b[1;33m)\u001b[0m\u001b[1;33m\u001b[0m\u001b[1;33m\u001b[0m\u001b[0m\n\u001b[0m\u001b[0;32m     76\u001b[0m             \u001b[1;32mexcept\u001b[0m \u001b[0mDownloadFailedException\u001b[0m \u001b[1;32mas\u001b[0m \u001b[0mdownload_exception\u001b[0m\u001b[1;33m:\u001b[0m\u001b[1;33m\u001b[0m\u001b[1;33m\u001b[0m\u001b[0m\n\u001b[0;32m     77\u001b[0m                 \u001b[1;32mif\u001b[0m \u001b[0mself\u001b[0m\u001b[1;33m.\u001b[0m\u001b[0mraise_download_errors\u001b[0m\u001b[1;33m:\u001b[0m\u001b[1;33m\u001b[0m\u001b[1;33m\u001b[0m\u001b[0m\n",
      "\u001b[1;32m~\\Miniconda3\\envs\\earth-analytics-python\\lib\\concurrent\\futures\\_base.py\u001b[0m in \u001b[0;36mresult\u001b[1;34m(self, timeout)\u001b[0m\n\u001b[0;32m    426\u001b[0m                 \u001b[1;32mraise\u001b[0m \u001b[0mCancelledError\u001b[0m\u001b[1;33m(\u001b[0m\u001b[1;33m)\u001b[0m\u001b[1;33m\u001b[0m\u001b[1;33m\u001b[0m\u001b[0m\n\u001b[0;32m    427\u001b[0m             \u001b[1;32melif\u001b[0m \u001b[0mself\u001b[0m\u001b[1;33m.\u001b[0m\u001b[0m_state\u001b[0m \u001b[1;33m==\u001b[0m \u001b[0mFINISHED\u001b[0m\u001b[1;33m:\u001b[0m\u001b[1;33m\u001b[0m\u001b[1;33m\u001b[0m\u001b[0m\n\u001b[1;32m--> 428\u001b[1;33m                 \u001b[1;32mreturn\u001b[0m \u001b[0mself\u001b[0m\u001b[1;33m.\u001b[0m\u001b[0m__get_result\u001b[0m\u001b[1;33m(\u001b[0m\u001b[1;33m)\u001b[0m\u001b[1;33m\u001b[0m\u001b[1;33m\u001b[0m\u001b[0m\n\u001b[0m\u001b[0;32m    429\u001b[0m \u001b[1;33m\u001b[0m\u001b[0m\n\u001b[0;32m    430\u001b[0m             \u001b[0mself\u001b[0m\u001b[1;33m.\u001b[0m\u001b[0m_condition\u001b[0m\u001b[1;33m.\u001b[0m\u001b[0mwait\u001b[0m\u001b[1;33m(\u001b[0m\u001b[0mtimeout\u001b[0m\u001b[1;33m)\u001b[0m\u001b[1;33m\u001b[0m\u001b[1;33m\u001b[0m\u001b[0m\n",
      "\u001b[1;32m~\\Miniconda3\\envs\\earth-analytics-python\\lib\\concurrent\\futures\\_base.py\u001b[0m in \u001b[0;36m__get_result\u001b[1;34m(self)\u001b[0m\n\u001b[0;32m    382\u001b[0m     \u001b[1;32mdef\u001b[0m \u001b[0m__get_result\u001b[0m\u001b[1;33m(\u001b[0m\u001b[0mself\u001b[0m\u001b[1;33m)\u001b[0m\u001b[1;33m:\u001b[0m\u001b[1;33m\u001b[0m\u001b[1;33m\u001b[0m\u001b[0m\n\u001b[0;32m    383\u001b[0m         \u001b[1;32mif\u001b[0m \u001b[0mself\u001b[0m\u001b[1;33m.\u001b[0m\u001b[0m_exception\u001b[0m\u001b[1;33m:\u001b[0m\u001b[1;33m\u001b[0m\u001b[1;33m\u001b[0m\u001b[0m\n\u001b[1;32m--> 384\u001b[1;33m             \u001b[1;32mraise\u001b[0m \u001b[0mself\u001b[0m\u001b[1;33m.\u001b[0m\u001b[0m_exception\u001b[0m\u001b[1;33m\u001b[0m\u001b[1;33m\u001b[0m\u001b[0m\n\u001b[0m\u001b[0;32m    385\u001b[0m         \u001b[1;32melse\u001b[0m\u001b[1;33m:\u001b[0m\u001b[1;33m\u001b[0m\u001b[1;33m\u001b[0m\u001b[0m\n\u001b[0;32m    386\u001b[0m             \u001b[1;32mreturn\u001b[0m \u001b[0mself\u001b[0m\u001b[1;33m.\u001b[0m\u001b[0m_result\u001b[0m\u001b[1;33m\u001b[0m\u001b[1;33m\u001b[0m\u001b[0m\n",
      "\u001b[1;32m~\\Miniconda3\\envs\\earth-analytics-python\\lib\\concurrent\\futures\\thread.py\u001b[0m in \u001b[0;36mrun\u001b[1;34m(self)\u001b[0m\n\u001b[0;32m     55\u001b[0m \u001b[1;33m\u001b[0m\u001b[0m\n\u001b[0;32m     56\u001b[0m         \u001b[1;32mtry\u001b[0m\u001b[1;33m:\u001b[0m\u001b[1;33m\u001b[0m\u001b[1;33m\u001b[0m\u001b[0m\n\u001b[1;32m---> 57\u001b[1;33m             \u001b[0mresult\u001b[0m \u001b[1;33m=\u001b[0m \u001b[0mself\u001b[0m\u001b[1;33m.\u001b[0m\u001b[0mfn\u001b[0m\u001b[1;33m(\u001b[0m\u001b[1;33m*\u001b[0m\u001b[0mself\u001b[0m\u001b[1;33m.\u001b[0m\u001b[0margs\u001b[0m\u001b[1;33m,\u001b[0m \u001b[1;33m**\u001b[0m\u001b[0mself\u001b[0m\u001b[1;33m.\u001b[0m\u001b[0mkwargs\u001b[0m\u001b[1;33m)\u001b[0m\u001b[1;33m\u001b[0m\u001b[1;33m\u001b[0m\u001b[0m\n\u001b[0m\u001b[0;32m     58\u001b[0m         \u001b[1;32mexcept\u001b[0m \u001b[0mBaseException\u001b[0m \u001b[1;32mas\u001b[0m \u001b[0mexc\u001b[0m\u001b[1;33m:\u001b[0m\u001b[1;33m\u001b[0m\u001b[1;33m\u001b[0m\u001b[0m\n\u001b[0;32m     59\u001b[0m             \u001b[0mself\u001b[0m\u001b[1;33m.\u001b[0m\u001b[0mfuture\u001b[0m\u001b[1;33m.\u001b[0m\u001b[0mset_exception\u001b[0m\u001b[1;33m(\u001b[0m\u001b[0mexc\u001b[0m\u001b[1;33m)\u001b[0m\u001b[1;33m\u001b[0m\u001b[1;33m\u001b[0m\u001b[0m\n",
      "\u001b[1;32m~\\Miniconda3\\envs\\earth-analytics-python\\lib\\site-packages\\sentinelhub\\download\\client.py\u001b[0m in \u001b[0;36m_single_download\u001b[1;34m(self, request, decode_data)\u001b[0m\n\u001b[0;32m     98\u001b[0m             \u001b[1;32mreturn\u001b[0m \u001b[1;32mNone\u001b[0m\u001b[1;33m\u001b[0m\u001b[1;33m\u001b[0m\u001b[0m\n\u001b[0;32m     99\u001b[0m \u001b[1;33m\u001b[0m\u001b[0m\n\u001b[1;32m--> 100\u001b[1;33m         \u001b[0mresponse_content\u001b[0m \u001b[1;33m=\u001b[0m \u001b[0mself\u001b[0m\u001b[1;33m.\u001b[0m\u001b[0m_execute_download\u001b[0m\u001b[1;33m(\u001b[0m\u001b[0mrequest\u001b[0m\u001b[1;33m)\u001b[0m\u001b[1;33m\u001b[0m\u001b[1;33m\u001b[0m\u001b[0m\n\u001b[0m\u001b[0;32m    101\u001b[0m \u001b[1;33m\u001b[0m\u001b[0m\n\u001b[0;32m    102\u001b[0m         \u001b[1;32mif\u001b[0m \u001b[0mrequest_path\u001b[0m \u001b[1;32mand\u001b[0m \u001b[0mrequest\u001b[0m\u001b[1;33m.\u001b[0m\u001b[0msave_response\u001b[0m \u001b[1;32mand\u001b[0m \u001b[1;33m(\u001b[0m\u001b[0mself\u001b[0m\u001b[1;33m.\u001b[0m\u001b[0mredownload\u001b[0m \u001b[1;32mor\u001b[0m \u001b[1;32mnot\u001b[0m \u001b[0mos\u001b[0m\u001b[1;33m.\u001b[0m\u001b[0mpath\u001b[0m\u001b[1;33m.\u001b[0m\u001b[0mexists\u001b[0m\u001b[1;33m(\u001b[0m\u001b[0mrequest_path\u001b[0m\u001b[1;33m)\u001b[0m\u001b[1;33m)\u001b[0m\u001b[1;33m:\u001b[0m\u001b[1;33m\u001b[0m\u001b[1;33m\u001b[0m\u001b[0m\n",
      "\u001b[1;32m~\\Miniconda3\\envs\\earth-analytics-python\\lib\\site-packages\\sentinelhub\\download\\handlers.py\u001b[0m in \u001b[0;36mnew_download_func\u001b[1;34m(self, request)\u001b[0m\n\u001b[0;32m     52\u001b[0m                 \u001b[1;32mif\u001b[0m \u001b[0mattempt_num\u001b[0m \u001b[1;33m==\u001b[0m \u001b[0mdownload_attempts\u001b[0m \u001b[1;33m-\u001b[0m \u001b[1;36m1\u001b[0m\u001b[1;33m:\u001b[0m\u001b[1;33m\u001b[0m\u001b[1;33m\u001b[0m\u001b[0m\n\u001b[0;32m     53\u001b[0m                     \u001b[1;32mraise\u001b[0m \u001b[0mDownloadFailedException\u001b[0m\u001b[1;33m(\u001b[0m\u001b[0m_create_download_failed_message\u001b[0m\u001b[1;33m(\u001b[0m\u001b[0mexception\u001b[0m\u001b[1;33m,\u001b[0m \u001b[0mrequest\u001b[0m\u001b[1;33m.\u001b[0m\u001b[0murl\u001b[0m\u001b[1;33m)\u001b[0m\u001b[1;33m)\u001b[0m\u001b[0;31m \u001b[0m\u001b[0;31m\\\u001b[0m\u001b[1;33m\u001b[0m\u001b[1;33m\u001b[0m\u001b[0m\n\u001b[1;32m---> 54\u001b[1;33m                         \u001b[1;32mfrom\u001b[0m \u001b[0mexception\u001b[0m\u001b[1;33m\u001b[0m\u001b[1;33m\u001b[0m\u001b[0m\n\u001b[0m\u001b[0;32m     55\u001b[0m \u001b[1;33m\u001b[0m\u001b[0m\n\u001b[0;32m     56\u001b[0m                 LOGGER.debug('Download attempt failed: %s\\n%d attempts left, will retry in %ds', exception,\n",
      "\u001b[1;31mDownloadFailedException\u001b[0m: Failed to download from:\nhttps://services-uswest2.sentinel-hub.com/ogc/fis/ac4f6b2b-dbd8-451e-81e2-5188b95bbe99\nwith HTTPError:\n500 Server Error: Internal Server Error for url: https://services-uswest2.sentinel-hub.com/ogc/fis/ac4f6b2b-dbd8-451e-81e2-5188b95bbe99\nServer response: \"Illegal request to https://usgs-landsat.s3.amazonaws.com/collection02/level-1/standard/oli-tirs/2020/035/035/LC08_L1TP_035035_20201130_20201211_02_T1/LC08_L1TP_035035_20201130_20201211_02_T1_B4.TIF. HTTP Status: 404\""
     ]
    }
   ],
   "source": [
    "# Create empty list to store results for all VMU's\n",
    "output_list = []\n",
    "\n",
    "# For testing only\n",
    "# i = 0\n",
    "\n",
    "# Loop over VMU's\n",
    "for index, row in vmu_polys_exploded.iterrows():\n",
    "\n",
    "    # For testing only\n",
    "#     i = i + 1\n",
    "#     if i > 1:\n",
    "#         continue\n",
    "\n",
    "    # Process specific VMU's\n",
    "    if (row.VMU == 1 or row.VMU == 3):\n",
    "\n",
    "        # Status message\n",
    "        print('Now processing VMU: ' + str(row.VMU))\n",
    "\n",
    "        # Setup parameters for FIS request\n",
    "        geometry_list = Geometry(row.geometry, CRS.WGS84)\n",
    "        time_interval = ('2017-01-01', date.today())\n",
    "        ndvi_script = 'return [[(B08 - B04) / (B08 + B04)], CLM, SNW]'\n",
    "\n",
    "        fis_request = FisRequest(\n",
    "            data_collection=DataCollection.SENTINEL2_L2A,\n",
    "            layer='BANDS-S2-L2A',\n",
    "            geometry_list=[geometry_list],\n",
    "            time=time_interval,\n",
    "            resolution='100m',\n",
    "            custom_url_params={CustomUrlParam.EVALSCRIPT: ndvi_script},\n",
    "            config=config\n",
    "        )\n",
    "\n",
    "        # Run the FIS request\n",
    "        fis_data = fis_request.get_data()\n",
    "\n",
    "        # Convert the FIS result to a dataframe\n",
    "        fis_df = fis_data_to_dataframe(fis_data)\n",
    "\n",
    "        # Add the VMU to the dataframe\n",
    "        fis_df['VMU'] = row.VMU\n",
    "\n",
    "        # Append the df to the temporary list\n",
    "        output_list.append(fis_df)\n",
    "\n",
    "    else:\n",
    "        # Status message\n",
    "        print('skipping this VMU')\n",
    "    \n",
    "    # Cloud mask using CLM: https://forum.sentinel-hub.com/t/clarification-regard-the-cloud-mask-for-fis/3204/2\n",
    "\n",
    "# Concatenate the VMU results into a single DF\n",
    "fis_df_all_raw = pd.concat(output_list, axis=0)\n",
    "# fis_df_all_raw"
   ]
  },
  {
   "cell_type": "code",
   "execution_count": null,
   "id": "dangerous-member",
   "metadata": {},
   "outputs": [],
   "source": [
    "fis_df_all_raw"
   ]
  },
  {
   "cell_type": "markdown",
   "id": "large-january",
   "metadata": {},
   "source": [
    "### Clean up the FIS results df"
   ]
  },
  {
   "cell_type": "code",
   "execution_count": null,
   "id": "bronze-trash",
   "metadata": {
    "code_folding": []
   },
   "outputs": [],
   "source": [
    "fis_df_all = fis_df_all_raw.copy(deep=True)\n",
    "\n",
    "# Convert stats values from objects to float\n",
    "fis_df_all['min'] = fis_df_all['min'].astype(float, errors = 'raise')\n",
    "fis_df_all['max'] = fis_df_all['max'].astype(float, errors = 'raise')\n",
    "fis_df_all['mean'] = fis_df_all['mean'].astype(float, errors = 'raise')\n",
    "fis_df_all['stDev'] = fis_df_all['stDev'].astype(float, errors = 'raise')\n",
    "fis_df_all['clm_mean'] = fis_df_all['clm_mean'].astype(float, errors = 'raise')\n",
    "fis_df_all['snw_mean'] = fis_df_all['snw_mean'].astype(float, errors = 'raise')\n",
    "\n",
    "# Drop rows with NaN\n",
    "fis_df_all.dropna(inplace=True)\n",
    "\n",
    "# Remove cloudy results\n",
    "fis_df_all.drop(fis_df_all[fis_df_all['clm_mean'] > 0].index, inplace = True)\n",
    "\n",
    "# Format the date field\n",
    "fis_df_all['date'] = pd.to_datetime(fis_df_all['date'])\n",
    "\n",
    "# Average over multipolygon VMU's\n",
    "fis_df_all = fis_df_all.groupby(['date', 'VMU']).mean()\n",
    "\n",
    "# Sort by date\n",
    "fis_df_all.sort_values(['VMU','date'], inplace=True)\n",
    "\n",
    "# Reset index\n",
    "fis_df_all.reset_index(inplace=True)\n",
    "fis_df_all.set_index('date', inplace=True)\n",
    "\n",
    "fis_df_all"
   ]
  },
  {
   "cell_type": "code",
   "execution_count": null,
   "id": "adolescent-pharmaceutical",
   "metadata": {},
   "outputs": [],
   "source": [
    "# Print number of records\n",
    "len(fis_df_all)"
   ]
  },
  {
   "cell_type": "markdown",
   "id": "experimental-tower",
   "metadata": {},
   "source": [
    "### Create plots"
   ]
  },
  {
   "cell_type": "code",
   "execution_count": null,
   "id": "infinite-charles",
   "metadata": {},
   "outputs": [],
   "source": [
    "# Setup plot\n",
    "fig, ax = plt.subplots(figsize=(15, 10))\n",
    "\n",
    "# Build list of unique sites for legend\n",
    "sites = fis_df_all.VMU.unique()\n",
    "\n",
    "fis_df_all.reset_index().groupby('VMU').plot(x='date', y='mean', ax=ax)\n",
    "\n",
    "# Legend and labels\n",
    "plt.legend(sites)\n",
    "\n",
    "plt.xlabel(\"Date\", fontsize=20)\n",
    "plt.ylabel(\"NDVI\", fontsize=20)\n",
    "\n",
    "ax.set_title(\n",
    "    \"Sentinel 2 NDVI time series for McKinley Mine Vegetation Management Units\", fontsize=20)\n",
    "\n",
    "plt.setp(ax.get_xticklabels(), rotation=90, horizontalalignment='right')\n",
    "\n",
    "plt.show()"
   ]
  },
  {
   "cell_type": "markdown",
   "id": "meaning-orleans",
   "metadata": {},
   "source": [
    "### Export the results"
   ]
  },
  {
   "cell_type": "code",
   "execution_count": null,
   "id": "brave-squad",
   "metadata": {},
   "outputs": [],
   "source": [
    "output_path = r\"E:\\McKinley\\sentinelhub_output.csv\"\n",
    "fis_df_all.to_csv(output_path, index=True, header=True)"
   ]
  },
  {
   "cell_type": "markdown",
   "id": "front-thanks",
   "metadata": {},
   "source": [
    "### Plot results"
   ]
  },
  {
   "cell_type": "code",
   "execution_count": null,
   "id": "scenic-steal",
   "metadata": {},
   "outputs": [],
   "source": [
    "# Remove 999\n",
    "output_vmu_all_dates = output_vmu_all_dates[output_vmu_all_dates.VMU != 999]\n",
    "\n",
    "# Setup plot\n",
    "fig, ax = plt.subplots(figsize=(15, 15))\n",
    "\n",
    "# Build list of unique sites for legend\n",
    "sites = output_vmu_all_dates.VMU.unique()\n",
    "\n",
    "# Convert the gdf to pd in order to plot properly\n",
    "output_vmu_all_dates = pd.DataFrame(output_vmu_all_dates)\n",
    "\n",
    "# Group the df by site for plotting purposes\n",
    "output_vmu_all_dates.reset_index().groupby('VMU').plot(x='date', y='bandmath_mean', ax=ax)\n",
    "\n",
    "# Legend and labels\n",
    "plt.legend(sites)\n",
    "ax.set(title=\"Band math results for McKinley VMU's\",\n",
    "       xlabel=\"Date\",\n",
    "       ylabel=bandmath_name)\n",
    "\n",
    "plt.show()"
   ]
  },
  {
   "cell_type": "code",
   "execution_count": null,
   "id": "progressive-speaking",
   "metadata": {},
   "outputs": [],
   "source": [
    "# Group the df by site for plotting purposes\n",
    "#fis_df_all.reset_index().groupby('VMU').plot(x='date', y='mean', ax=ax)\n",
    "# for name, group in fis_df_all.groupby('VMU'):\n",
    "#     print(group['date'], group['mean'], group['VMU'])\n",
    "#     plt.plot(group['date'], group['mean'], label=name)\n",
    "    \n",
    "\n",
    "# for site in sites:\n",
    "#     test = fis_df_all[fis_df_all['VMU'] == site].reset_index(drop=True)\n",
    "#     #print(test)\n",
    "#     plt.plot(fis_df_all['date'], fis_df_all['mean'], label=site)\n",
    "\n",
    "\n",
    "\n",
    "# f, ax1 = plt.subplots(figsize=(12, 6))\n",
    "# vmu_poly.plot(ax=ax1)\n",
    "# plt.show()\n",
    "\n",
    "# [[]] will return a geodataframe not a pandas series\n",
    "#vmu_poly = vmu_polys_exploded.loc[[index]]\n",
    "\n",
    "# Convert geometry to WKT\n",
    "#wkt = gpd.array.to_wkt(row)"
   ]
  }
 ],
 "metadata": {
  "kernelspec": {
   "display_name": "Python 3",
   "language": "python",
   "name": "python3"
  },
  "language_info": {
   "codemirror_mode": {
    "name": "ipython",
    "version": 3
   },
   "file_extension": ".py",
   "mimetype": "text/x-python",
   "name": "python",
   "nbconvert_exporter": "python",
   "pygments_lexer": "ipython3",
   "version": "3.7.6"
  }
 },
 "nbformat": 4,
 "nbformat_minor": 5
}

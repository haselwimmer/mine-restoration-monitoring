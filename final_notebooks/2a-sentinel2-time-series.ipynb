{
 "cells": [
  {
   "cell_type": "markdown",
   "id": "intelligent-clerk",
   "metadata": {},
   "source": [
    "# 2a - Create Sentinel 2 time series for McKinley Mine seeding units\n",
    "This notebook creates Sentinel 2 time series of NDVI or other band ratios for each seeding unit created by notebook 1."
   ]
  },
  {
   "cell_type": "code",
   "execution_count": null,
   "id": "subtle-cosmetic",
   "metadata": {},
   "outputs": [],
   "source": [
    "# Import libraries\n",
    "import os\n",
    "import datetime\n",
    "from datetime import date\n",
    "import configparser\n",
    "\n",
    "import pandas as pd\n",
    "import geopandas as gpd\n",
    "import matplotlib.pyplot as plt\n",
    "\n",
    "# Import custom module for this project\n",
    "from vegrestoretools import FisToDataframe, EvalScripts, FisClean\n",
    "\n",
    "from sentinelhub import SHConfig, FisRequest, BBox, Geometry, CRS, WcsRequest, CustomUrlParam, \\\n",
    "    DataCollection, HistogramType\n",
    "from sentinelhub.time_utils import iso_to_datetime, parse_time"
   ]
  },
  {
   "cell_type": "code",
   "execution_count": null,
   "id": "german-initial",
   "metadata": {},
   "outputs": [],
   "source": [
    "# Read SentinelHub configuration ID's from your local ini file\n",
    "config_ini = configparser.ConfigParser()\n",
    "config_ini.read('sentinel2_setup.ini')\n",
    "\n",
    "# Populate a SentinelHub configuration object with the ID's from the local ini file\n",
    "config = SHConfig()\n",
    "config.instance_id = config_ini['Config']['instance_id'] # Instance ID for the Configuration\n",
    "config.sh_client_id = config_ini['Config']['sh_client_id'] # Credentials from the OAuth client\n",
    "config.sh_client_secret = config_ini['Config']['sh_client_secret']\n",
    "config.save()"
   ]
  },
  {
   "cell_type": "code",
   "execution_count": null,
   "id": "third-product",
   "metadata": {},
   "outputs": [],
   "source": [
    "# Other parameters\n",
    "startDate = '2017-01-01'"
   ]
  },
  {
   "cell_type": "code",
   "execution_count": null,
   "id": "subject-tunnel",
   "metadata": {},
   "outputs": [],
   "source": [
    "# Set working directory\n",
    "os.chdir(os.path.join('D:/',\n",
    "                      'McKinley'))"
   ]
  },
  {
   "cell_type": "markdown",
   "id": "irish-experience",
   "metadata": {},
   "source": [
    "## Restore seeding unit geodataframe"
   ]
  },
  {
   "cell_type": "code",
   "execution_count": null,
   "id": "arctic-aviation",
   "metadata": {},
   "outputs": [],
   "source": [
    "%store -r mckinley_seeding_subset_PARlo\n",
    "mckinley_seeding_subset_PARlo"
   ]
  },
  {
   "cell_type": "markdown",
   "id": "parallel-maine",
   "metadata": {},
   "source": [
    "## Run SentinelHub Statistical Info Service (FIS) query"
   ]
  },
  {
   "cell_type": "code",
   "execution_count": null,
   "id": "excited-formula",
   "metadata": {
    "scrolled": true
   },
   "outputs": [],
   "source": [
    "seeding_aois = mckinley_seeding_subset_PARlo\n",
    "\n",
    "# Convert seeding polygons to WGS84\n",
    "seeding_aois = seeding_aois.to_crs(\"EPSG:4326\")\n",
    "\n",
    "# Explode multipolygons to polygons to query with FIS request\n",
    "seeding_aois_exploded = seeding_aois.explode()\n",
    "\n",
    "# Create empty list to store results for all polygons\n",
    "output_list = []\n",
    "\n",
    "# Loop over each polygon\n",
    "for index, row in seeding_aois_exploded.iterrows():\n",
    "\n",
    "    # TESTING - process specific seeding units\n",
    "    if (index[0] == 172 or index[0] == 2650):\n",
    "\n",
    "        # Status message\n",
    "        print('Now processing Seeding Unit Index: ' + str(index[0]))\n",
    "\n",
    "        # Setup parameters for FIS request\n",
    "        geometry_list = Geometry(row.geometry, CRS.WGS84)\n",
    "        time_interval = (startDate, date.today())\n",
    "\n",
    "        # Retrieve custom script to pass to SentinelHub from vegrestoretools module\n",
    "        evalscript = EvalScripts('Sentinel_2_NDVI')\n",
    "\n",
    "        # Build FIS request\n",
    "        fis_request = FisRequest(\n",
    "            data_collection=DataCollection.SENTINEL2_L2A,\n",
    "            layer='BANDS-S2-L2A',\n",
    "            geometry_list=[geometry_list],\n",
    "            time=time_interval,\n",
    "            resolution='100m',\n",
    "            custom_url_params={CustomUrlParam.EVALSCRIPT: evalscript},\n",
    "            config=config\n",
    "        )\n",
    "\n",
    "        # Run the FIS request\n",
    "        fis_data = fis_request.get_data()\n",
    "\n",
    "        # Convert the FIS result to a dataframe\n",
    "        fis_df = FisToDataframe(fis_data)\n",
    "\n",
    "        # Add the seeding unit ID to the dataframe\n",
    "        fis_df['ID'] = index[0]\n",
    "\n",
    "        # Append the df to the temporary list\n",
    "        output_list.append(fis_df)\n",
    "\n",
    "    else:\n",
    "        # Status message\n",
    "        print('skipping this Seeding Unit')\n",
    "\n",
    "# Concatenate the VMU results into a single DF\n",
    "fis_df_all_raw = pd.concat(output_list, axis=0)\n",
    "fis_df_all_raw"
   ]
  },
  {
   "cell_type": "markdown",
   "id": "electric-forum",
   "metadata": {},
   "source": [
    "## Clean up the FIS results"
   ]
  },
  {
   "cell_type": "code",
   "execution_count": null,
   "id": "willing-nature",
   "metadata": {
    "scrolled": false
   },
   "outputs": [],
   "source": [
    "fis_df_all = FisClean(fis_df_all_raw)\n",
    "fis_df_all"
   ]
  },
  {
   "cell_type": "markdown",
   "id": "latin-relevance",
   "metadata": {},
   "source": [
    "## Plot the results"
   ]
  },
  {
   "cell_type": "code",
   "execution_count": null,
   "id": "latter-senior",
   "metadata": {},
   "outputs": [],
   "source": [
    "# Setup plot\n",
    "fig, ax = plt.subplots(figsize=(15, 10))\n",
    "\n",
    "# Build list of unique sites for legend\n",
    "sites = fis_df_all.ID.unique()\n",
    "\n",
    "fis_df_all.reset_index().groupby('ID').plot(x='date', y='mean', ax=ax)\n",
    "\n",
    "# Legend and labels\n",
    "plt.legend(sites)\n",
    "\n",
    "plt.xlabel(\"Date\", fontsize=20)\n",
    "plt.ylabel(\"NDVI\", fontsize=20)\n",
    "\n",
    "ax.set_title(\n",
    "    \"Sentinel 2 NDVI time series for McKinley Mine Vegetation Management Units\", fontsize=20)\n",
    "\n",
    "plt.setp(ax.get_xticklabels(), rotation=90, horizontalalignment='right')\n",
    "\n",
    "plt.show()"
   ]
  }
 ],
 "metadata": {
  "kernelspec": {
   "display_name": "Python 3",
   "language": "python",
   "name": "python3"
  },
  "language_info": {
   "codemirror_mode": {
    "name": "ipython",
    "version": 3
   },
   "file_extension": ".py",
   "mimetype": "text/x-python",
   "name": "python",
   "nbconvert_exporter": "python",
   "pygments_lexer": "ipython3",
   "version": "3.7.6"
  }
 },
 "nbformat": 4,
 "nbformat_minor": 5
}

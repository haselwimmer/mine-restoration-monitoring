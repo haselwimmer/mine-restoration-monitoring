{
 "cells": [
  {
   "cell_type": "markdown",
   "id": "warming-application",
   "metadata": {},
   "source": [
    "# 2b - Create Landsat 8 time series for McKinley Mine seeding units\n",
    "This notebook creates a Landsat 8 time series of NDVI or other band ratios for each seeding unit created by notebook 1."
   ]
  },
  {
   "cell_type": "code",
   "execution_count": null,
   "id": "manual-forest",
   "metadata": {},
   "outputs": [],
   "source": [
    "# Import libraries\n",
    "import os\n",
    "import datetime as dt\n",
    "from datetime import date\n",
    "\n",
    "import numpy as np\n",
    "import pandas as pd\n",
    "import geopandas as gpd\n",
    "import rioxarray as rxr\n",
    "import rasterstats as rs\n",
    "import matplotlib.pyplot as plt\n",
    "import shutil\n",
    "import configparser\n",
    "\n",
    "# Import custom module for this project\n",
    "from vegrestoretools import FisToDataframe, EvalScripts, FisClean, GeoseriesBbox\n",
    "\n",
    "from sentinelhub import SHConfig, FisRequest, BBox, Geometry, CRS, WcsRequest, CustomUrlParam, \\\n",
    "    DataCollection, HistogramType, MimeType\n",
    "from sentinelhub.time_utils import iso_to_datetime, parse_time"
   ]
  },
  {
   "cell_type": "code",
   "execution_count": null,
   "id": "proper-antigua",
   "metadata": {},
   "outputs": [],
   "source": [
    "# Read SentinelHub configuration ID's from your local ini file\n",
    "config_ini = configparser.ConfigParser()\n",
    "config_ini.read('landsat_setup.ini')\n",
    "\n",
    "# Populate a SentinelHub configuration object with the ID's from the local ini file\n",
    "config = SHConfig()\n",
    "config.instance_id = config_ini['Config']['instance_id'] # Instance ID for the Configuration\n",
    "config.sh_client_id = config_ini['Config']['sh_client_id'] # Credentials from the OAuth client\n",
    "config.sh_client_secret = config_ini['Config']['sh_client_secret']\n",
    "config.save()"
   ]
  },
  {
   "cell_type": "code",
   "execution_count": null,
   "id": "indie-broadcast",
   "metadata": {},
   "outputs": [],
   "source": [
    "# Other parameters\n",
    "startDate = '2020-01-01'"
   ]
  },
  {
   "cell_type": "code",
   "execution_count": null,
   "id": "union-scotland",
   "metadata": {},
   "outputs": [],
   "source": [
    "# Set working directory\n",
    "os.chdir(os.path.join('D:/',\n",
    "                      'McKinley'))\n",
    "\n",
    "# Directory to store downloaded Landsat 8 data\n",
    "landsat_downloads_dir = os.path.join('landsat_downloads')\n",
    "\n",
    "# Check if directory exists\n",
    "if not os.path.exists(landsat_downloads_dir):\n",
    "    os.makedirs(landsat_downloads_dir)"
   ]
  },
  {
   "cell_type": "markdown",
   "id": "after-blanket",
   "metadata": {},
   "source": [
    "## Restore seeding unit geodataframe"
   ]
  },
  {
   "cell_type": "code",
   "execution_count": null,
   "id": "configured-words",
   "metadata": {},
   "outputs": [],
   "source": [
    "%store -r mckinley_seeding_subset_PARlo\n",
    "\n",
    "# Add the index as a separate column\n",
    "mckinley_seeding_subset_PARlo.reset_index(inplace=True)\n",
    "mckinley_seeding_subset_PARlo = mckinley_seeding_subset_PARlo.rename(columns = {'index':'SU_ID'})\n",
    "\n",
    "mckinley_seeding_subset_PARlo"
   ]
  },
  {
   "cell_type": "markdown",
   "id": "normal-eleven",
   "metadata": {},
   "source": [
    "## Query SentinelHub for available Landsat 8 data"
   ]
  },
  {
   "cell_type": "code",
   "execution_count": null,
   "id": "legislative-adrian",
   "metadata": {},
   "outputs": [],
   "source": [
    "# Configure SentinelHub DataCollection; Landsat8 is a bit fussy\n",
    "DataCollection.define_from(\n",
    "    DataCollection.LANDSAT8,\n",
    "    \"LOTL1\",\n",
    "    service_url=\"https://services-uswest2.sentinel-hub.com\",\n",
    "    wfs_id=\"DSS12\",  # https://www.sentinel-hub.com/develop/api/ogc/standard-parameters/wfs/\n",
    "    api_id=\"LOTL1\",\n",
    "    catalog_id=\"landsat-8-l1c\",\n",
    "    processing_level=\"L1\",\n",
    "    bands=(\"B01\", \"B02\", \"B03\", \"B04\", \"B05\", \"B06\", \"B07\", \"B10\"),\n",
    ")"
   ]
  },
  {
   "cell_type": "code",
   "execution_count": null,
   "id": "geographic-assessment",
   "metadata": {},
   "outputs": [],
   "source": [
    "# Convert seeding polygons to WGS84\n",
    "seeding_aois = mckinley_seeding_subset_PARlo\n",
    "seeding_aois = seeding_aois.to_crs(\"EPSG:4326\")\n",
    "\n",
    "# Save the seeding polygons to a shapefile for use in rasterstats\n",
    "seeding_aois_path = os.path.join(landsat_downloads_dir, 'seeding_aois.shp')\n",
    "seeding_aois.to_file(seeding_aois_path)\n",
    "\n",
    "# Get bbox for seeding units\n",
    "AOI_coords_ndarray = seeding_aois.total_bounds.round(decimals=2)\n",
    "AOI_coords = list(AOI_coords_ndarray)\n",
    "AOI_bbox = BBox(bbox=AOI_coords, crs=CRS.WGS84)"
   ]
  },
  {
   "cell_type": "code",
   "execution_count": null,
   "id": "individual-transparency",
   "metadata": {},
   "outputs": [],
   "source": [
    "# Build SentinelHub query to get all available Landsat 8 datasets for polygon\n",
    "landsat8_dates_query = WcsRequest(layer='ALL_BANDS',  # Name of layer from service endpoint\n",
    "                                  data_collection=DataCollection.LOTL1,\n",
    "                                  bbox=AOI_bbox,\n",
    "                                  time=(startDate, date.today()),\n",
    "                                  maxcc=0.05,\n",
    "                                  resx='20m', resy='20m',\n",
    "                                  config=config)\n",
    "\n",
    "# Get the available dates\n",
    "landsat8_dates = landsat8_dates_query.get_dates()\n",
    "landsat8_dates"
   ]
  },
  {
   "cell_type": "markdown",
   "id": "noted-spotlight",
   "metadata": {},
   "source": [
    "## Download Landsat 8 data and perform zonal stats"
   ]
  },
  {
   "cell_type": "code",
   "execution_count": null,
   "id": "mounted-religion",
   "metadata": {
    "scrolled": false
   },
   "outputs": [],
   "source": [
    "# Retrieve custom script to pass to SentinelHub from vegrestoretools module\n",
    "evalscript = EvalScripts('Landsat_8_NDVI')\n",
    "\n",
    "# Create list to store each date\n",
    "output_list = []\n",
    "\n",
    "# Loop over each unique date and download the data\n",
    "for date in landsat8_dates:\n",
    "\n",
    "    # Status message\n",
    "    print('Currently processing: ' + str(date))\n",
    "\n",
    "    # Try/except in case there are issues downloading specific datasets\n",
    "    try: \n",
    "        # Build the download WCS request\n",
    "        landsat8_wcs_download = WcsRequest(layer='ALL_BANDS',\n",
    "                                           data_collection=DataCollection.LOTL1,\n",
    "                                           bbox=AOI_bbox,\n",
    "                                           time=date.date(),\n",
    "                                           maxcc=0.05,\n",
    "                                           resx='50m', resy='50m',\n",
    "                                           data_folder=landsat_downloads_dir,\n",
    "                                           image_format=MimeType.TIFF,\n",
    "                                           config=config,\n",
    "                                           custom_url_params={\n",
    "                                               CustomUrlParam.EVALSCRIPT: evalscript},\n",
    "                                           time_difference=dt.timedelta(seconds=1))\n",
    "\n",
    "        # Run the download request\n",
    "        landsat8_wcs_download.save_data()\n",
    "\n",
    "        # Get download list\n",
    "        downloads = landsat8_wcs_download.get_filename_list()\n",
    "\n",
    "        # Open the dataset\n",
    "        landsat8_data_path = landsat8_wcs_download.get_filename_list()\n",
    "        landsat8_data = rxr.open_rasterio(os.path.join(\n",
    "            'landsat_downloads', landsat8_data_path[0])).squeeze()\n",
    "\n",
    "        # Run zonal stats\n",
    "        landsat8_ndvi_stats_raw = rs.zonal_stats(seeding_aois_path,\n",
    "                                                 landsat8_data.values,\n",
    "                                                 affine=landsat8_data.rio.transform(),\n",
    "                                                 geojson_out=True,  # Optional if you want to plot\n",
    "                                                 copy_properties=True,  # Optional if you want to plot\n",
    "                                                 nodata=0,  # Ignore values = 0 - Thought Question: Why are we doing that?\n",
    "                                                 stats=[\"mean\", \"max\"])\n",
    "\n",
    "        # Convert to a GDF\n",
    "        landsat8_ndvi_stats_df = gpd.GeoDataFrame.from_features(\n",
    "            landsat8_ndvi_stats_raw)\n",
    "\n",
    "        # Convert to DF\n",
    "        landsat8_ndvi_stats_df = pd.DataFrame(landsat8_ndvi_stats_df.drop(columns='geometry'))\n",
    "\n",
    "        # Rename columns\n",
    "        landsat8_ndvi_stats_df.rename(columns={\"max\": \"ndvi_max\",\n",
    "                                               \"mean\": \"ndvi_mean\"},\n",
    "                                      inplace=True)\n",
    "\n",
    "        # Add date field to df\n",
    "        landsat8_ndvi_stats_df['landsat8_date'] = date.date()\n",
    "\n",
    "        # Append the df to the temporary list\n",
    "        output_list.append(landsat8_ndvi_stats_df)\n",
    "    \n",
    "    except:\n",
    "        print('Error encountered downloading this scene')\n",
    "        continue\n",
    "    \n",
    "# Concatenate all the results into a single DF\n",
    "landsat8_ndvi_stats_all_df = pd.concat(output_list, axis=0)\n",
    "landsat8_ndvi_stats_all_df"
   ]
  },
  {
   "cell_type": "code",
   "execution_count": null,
   "id": "neural-geology",
   "metadata": {},
   "outputs": [],
   "source": [
    "# TESTING - delete downloads directory\n",
    "#shutil.rmtree(landsat_downloads_dir)"
   ]
  },
  {
   "cell_type": "markdown",
   "id": "practical-system",
   "metadata": {},
   "source": [
    "## Plot the results"
   ]
  },
  {
   "cell_type": "code",
   "execution_count": null,
   "id": "chemical-crest",
   "metadata": {},
   "outputs": [],
   "source": [
    "# Setup plot\n",
    "fig, ax = plt.subplots(figsize=(15, 10))\n",
    "\n",
    "# Build list of unique sites for legend\n",
    "sites = fis_df_all.ID.unique()\n",
    "\n",
    "fis_df_all.reset_index().groupby('ID').plot(x='date', y='mean', ax=ax)\n",
    "\n",
    "# Legend and labels\n",
    "plt.legend(sites)\n",
    "\n",
    "plt.xlabel(\"Date\", fontsize=20)\n",
    "plt.ylabel(\"NDVI\", fontsize=20)\n",
    "\n",
    "ax.set_title(\n",
    "    \"Sentinel 2 NDVI time series for McKinley Mine Vegetation Management Units\", fontsize=20)\n",
    "\n",
    "plt.setp(ax.get_xticklabels(), rotation=90, horizontalalignment='right')\n",
    "\n",
    "plt.show()"
   ]
  }
 ],
 "metadata": {
  "kernelspec": {
   "display_name": "Python 3",
   "language": "python",
   "name": "python3"
  },
  "language_info": {
   "codemirror_mode": {
    "name": "ipython",
    "version": 3
   },
   "file_extension": ".py",
   "mimetype": "text/x-python",
   "name": "python",
   "nbconvert_exporter": "python",
   "pygments_lexer": "ipython3",
   "version": "3.7.6"
  }
 },
 "nbformat": 4,
 "nbformat_minor": 5
}
